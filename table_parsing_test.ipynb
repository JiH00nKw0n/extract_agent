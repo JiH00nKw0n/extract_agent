{
 "cells": [
  {
   "cell_type": "markdown",
   "metadata": {},
   "source": [
    "## Table Parsing test code"
   ]
  },
  {
   "cell_type": "code",
   "execution_count": 13,
   "metadata": {},
   "outputs": [
    {
     "data": {
      "text/markdown": [
       "|     |  Three Months Ended December 31,  |     |  Year Ended December 31,  |     |\n",
       "|  ---  |  ---  |  ---  |  ---  |  ---  |\n",
       "|     |  2020  |  2019  |  2020  |  2019  |\n",
       "|  Net revenues:  |     |     |     |     |\n",
       "|  IoT & Mobile Solutions  |  $72,098  |  $37,325  |  $261,169  |  $160,873  |\n",
       "|  Enterprise SaaS Solutions  |  13,965  |  15,008  |  52,663  |  58,623  |\n",
       "|  Total net revenues  |  86,063  |  52,333  |  313,832  |  219,496  |\n",
       "|  Cost of net revenues:  |     |     |     |     |\n",
       "|  IoT & Mobile Solutions  |  54,007  |  31,373  |  202,421  |  132,980  |\n",
       "|  Enterprise SaaS Solutions  |  5,610  |  5,929  |  20,568  |  22,545  |\n",
       "|  Total cost of net revenues  |  59,617  |  37,302  |  222,989  |  155,525  |\n",
       "|  Gross profit  |  26,446  |  15,031  |  90,843  |  63,971  |\n",
       "|  Operating costs and expenses:  |     |     |     |     |\n",
       "|  Research and development  |  15,505  |  8,525  |  44,953  |  23,853  |\n",
       "|  Sales and marketing  |  9,901  |  8,145  |  35,750  |  28,914  |\n",
       "|  General and administrative  |  7,432  |  6,241  |  30,689  |  27,327  |\n",
       "|  Amortization of purchased intangible assets  |  817  |  846  |  3,175  |  3,421  |\n",
       "|  Impairment of capitalized software  |  1,410  |  —  |  1,410  |  —  |\n",
       "|  Total operating costs and expenses  |  35,065  |  23,757  |  115,977  |  83,515  |\n",
       "|  Operating loss  |  (8,619)  |  (8,726)  |  (25,134)  |  (19,544)  |\n",
       "|  Other income (expense):  |     |     |     |     |\n",
       "|  Loss on debt conversion and extinguishment, net  |  —  |  —  |  (76,354)  |  —  |\n",
       "|  Interest expense, net  |  (1,745)  |  (5,045)  |  (9,942)  |  (20,381)  |\n",
       "|  Other income (expense), net  |  (1,826)  |  417  |  992  |  351  |\n",
       "|  Loss before income taxes  |  (12,190)  |  (13,354)  |  (110,438)  |  (39,574)  |\n",
       "|  Income tax provision (benefit)  |  555  |  (257)  |  748  |  536  |\n",
       "|  Net loss  |  (12,745)  |  (13,097)  |  (111,186)  |  (40,110)  |\n",
       "|  Less: Net loss (income) attributable to noncontrolling interests  |  —  |  42  |  (29)  |  (15)  |\n",
       "|  Net loss attributable to Inseego Corp.  |  (12,745)  |  (13,055)  |  (111,215)  |  (40,125)  |\n",
       "|  Series E preferred stock dividends  |  (848)  |  (230)  |  (2,904)  |  (361)  |\n",
       "|  Net loss attributable to common shareholders  |  $(13,593)  |  $(13,285)  |  $(114,119)  |  $(40,486)  |\n",
       "|  Per share data:  |     |     |     |     |\n",
       "|  Net loss per common share:  |     |     |     |     |\n",
       "|  Basic and diluted  |  $(0.14)  |  $(0.17)  |  $(1.19)  |  $(0.52)  |\n",
       "|  Weighted-average shares used in computation of net loss per common share:  |     |     |     |     |\n",
       "|  Basic and diluted  |  99,014,857  |  80,447,679  |  96,111,547  |  78,322,496  |"
      ],
      "text/plain": [
       "<IPython.core.display.Markdown object>"
      ]
     },
     "metadata": {},
     "output_type": "display_data"
    }
   ],
   "source": [
    "markdown_table = \"|     |  Three Months Ended December 31,  |     |  Year Ended December 31,  |     |\\n|  ---  |  ---  |  ---  |  ---  |  ---  |\\n|     |  2020  |  2019  |  2020  |  2019  |\\n|  Net revenues:  |     |     |     |     |\\n|  IoT & Mobile Solutions  |  $72,098  |  $37,325  |  $261,169  |  $160,873  |\\n|  Enterprise SaaS Solutions  |  13,965  |  15,008  |  52,663  |  58,623  |\\n|  Total net revenues  |  86,063  |  52,333  |  313,832  |  219,496  |\\n|  Cost of net revenues:  |     |     |     |     |\\n|  IoT & Mobile Solutions  |  54,007  |  31,373  |  202,421  |  132,980  |\\n|  Enterprise SaaS Solutions  |  5,610  |  5,929  |  20,568  |  22,545  |\\n|  Total cost of net revenues  |  59,617  |  37,302  |  222,989  |  155,525  |\\n|  Gross profit  |  26,446  |  15,031  |  90,843  |  63,971  |\\n|  Operating costs and expenses:  |     |     |     |     |\\n|  Research and development  |  15,505  |  8,525  |  44,953  |  23,853  |\\n|  Sales and marketing  |  9,901  |  8,145  |  35,750  |  28,914  |\\n|  General and administrative  |  7,432  |  6,241  |  30,689  |  27,327  |\\n|  Amortization of purchased intangible assets  |  817  |  846  |  3,175  |  3,421  |\\n|  Impairment of capitalized software  |  1,410  |  —  |  1,410  |  —  |\\n|  Total operating costs and expenses  |  35,065  |  23,757  |  115,977  |  83,515  |\\n|  Operating loss  |  (8,619)  |  (8,726)  |  (25,134)  |  (19,544)  |\\n|  Other income (expense):  |     |     |     |     |\\n|  Loss on debt conversion and extinguishment, net  |  —  |  —  |  (76,354)  |  —  |\\n|  Interest expense, net  |  (1,745)  |  (5,045)  |  (9,942)  |  (20,381)  |\\n|  Other income (expense), net  |  (1,826)  |  417  |  992  |  351  |\\n|  Loss before income taxes  |  (12,190)  |  (13,354)  |  (110,438)  |  (39,574)  |\\n|  Income tax provision (benefit)  |  555  |  (257)  |  748  |  536  |\\n|  Net loss  |  (12,745)  |  (13,097)  |  (111,186)  |  (40,110)  |\\n|  Less: Net loss (income) attributable to noncontrolling interests  |  —  |  42  |  (29)  |  (15)  |\\n|  Net loss attributable to Inseego Corp.  |  (12,745)  |  (13,055)  |  (111,215)  |  (40,125)  |\\n|  Series E preferred stock dividends  |  (848)  |  (230)  |  (2,904)  |  (361)  |\\n|  Net loss attributable to common shareholders  |  $(13,593)  |  $(13,285)  |  $(114,119)  |  $(40,486)  |\\n|  Per share data:  |     |     |     |     |\\n|  Net loss per common share:  |     |     |     |     |\\n|  Basic and diluted  |  $(0.14)  |  $(0.17)  |  $(1.19)  |  $(0.52)  |\\n|  Weighted-average shares used in computation of net loss per common share:  |     |     |     |     |\\n|  Basic and diluted  |  99,014,857  |  80,447,679  |  96,111,547  |  78,322,496  |\"\n",
    "\n",
    "from IPython.display import display, Markdown\n",
    "\n",
    "def display_markdown_table(markdown_table):\n",
    "    \"\"\"\n",
    "    Render a markdown table as HTML for better visualization.\n",
    "    \n",
    "    Args:\n",
    "        markdown_table (str): A string containing a markdown table.\n",
    "    \"\"\"\n",
    "    # Display the HTML only in output\n",
    "    display(Markdown(markdown_table))\n",
    "\n",
    "# Display the markdown table\n",
    "display_markdown_table(markdown_table)"
   ]
  },
  {
   "cell_type": "code",
   "execution_count": 26,
   "metadata": {},
   "outputs": [
    {
     "data": {
      "text/markdown": [
       "|     |  Consolidated GAAP EPS to Operating (Non-GAAP) EPS* Reconciliation  |     |     |     |     |     |\n",
       "|  ---  |  ---  |  ---  |  ---  |  ---  |  ---  |  ---  |\n",
       "|     |     |  Second Quarter  |     |  First Half  |     |  2014 Estimates  |\n",
       "|     |     |  2014  |  2013  |  2014  |  2013  |  Full Year  |\n",
       "|  Basic EPS - GAAP  |     |  $0.16  |  $(0.39)  |  $0.65  |  $0.08  |  $1.93 - $2.15  |\n",
       "|  Excluding Special Items*:  |     |     |     |     |     |     |\n",
       "|     |  Mark-to-market adjustments  |  0.10  |  —  |  0.07  |  —  |  0.07  |\n",
       "|     |  Regulatory charges  |  0.02  |  0.02  |  0.03  |  0.07  |  0.05  |\n",
       "|     |  Trust securities impairment  |  —  |  0.05  |  0.01  |  0.06  |  0.01  |\n",
       "|     |  Non-core asset sales/impairments  |  0.01  |  —  |  (0.17)  |  0.01  |  (0.16)  |\n",
       "|     |  Plant deactivation costs  |  0.12  |  0.85  |  0.17  |  0.86  |  0.30 - 0.32  |\n",
       "|     |  Merger accounting - commodity contracts  |  0.01  |  0.02  |  0.03  |  0.05  |  0.06  |\n",
       "|     |  Loss on debt redemptions  |  —  |  0.04  |  0.01  |  0.22  |  0.01  |\n",
       "|     |  Retail repositioning charges  |  0.07  |  —  |  0.07  |  —  |  0.11  |\n",
       "|     |  Total Special Items*  |  0.33  |  0.98  |  0.22  |  1.27  |  0.45 - 0.47  |\n",
       "|  Basic EPS - Operating (Non-GAAP)  |     |  $0.49  |  $0.59  |  $0.87  |  $1.35  |  $2.40 - $2.60  |"
      ],
      "text/plain": [
       "<IPython.core.display.Markdown object>"
      ]
     },
     "metadata": {},
     "output_type": "display_data"
    }
   ],
   "source": [
    "import json\n",
    "\n",
    "with open(\"result/firstenergy_improved_results_classification.jsonl\", \"r\") as f:\n",
    "    data = f.readlines()\n",
    "    \n",
    "for row in data:\n",
    "    row = json.loads(row)\n",
    "    if row['title'] == 'table':\n",
    "        display_markdown_table(row['value'])\n"
   ]
  }
 ],
 "metadata": {
  "kernelspec": {
   "display_name": "extract_agent",
   "language": "python",
   "name": "python3"
  },
  "language_info": {
   "codemirror_mode": {
    "name": "ipython",
    "version": 3
   },
   "file_extension": ".py",
   "mimetype": "text/x-python",
   "name": "python",
   "nbconvert_exporter": "python",
   "pygments_lexer": "ipython3",
   "version": "3.11.11"
  }
 },
 "nbformat": 4,
 "nbformat_minor": 2
}

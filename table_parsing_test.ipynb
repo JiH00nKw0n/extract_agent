{
 "cells": [
  {
   "cell_type": "markdown",
   "metadata": {},
   "source": [
    "## Table Parsing test code"
   ]
  },
  {
   "cell_type": "code",
   "execution_count": 31,
   "metadata": {},
   "outputs": [
    {
     "data": {
      "text/markdown": [
       "|  ﻿  |  Three months ended December 31,  |     |     |     |     |     |     |     |\n",
       "|  ---  |  ---  |  ---  |  ---  |  ---  |  ---  |  ---  |  ---  |  ---  |\n",
       "|  ﻿  |  2023  |     |     |     |  2022  |     |     |     |\n",
       "|  Food and beverage revenue  |  $  |  2,499,567  |  99.3  |  %  |  $  |  2,163,907  |  99.2  |  %  |\n",
       "|  Delivery service revenue  |     |  16,753  |  0.7  |     |     |  16,692  |  0.8  |     |\n",
       "|  Total revenue  |     |  2,516,320  |  100.0  |     |     |  2,180,599  |  100.0  |     |\n",
       "|  Restaurant operating costs (exclusive of depreciation and amortization shown separately below):  |     |     |     |     |     |     |     |     |\n",
       "|  Food, beverage and packaging  |     |  747,155  |  29.7  |     |     |  638,851  |  29.3  |     |\n",
       "|  Labor  |     |  629,228  |  25.0  |     |     |  558,914  |  25.6  |     |\n",
       "|  Occupancy  |     |  131,167  |  5.2  |     |     |  118,648  |  5.4  |     |\n",
       "|  Other operating costs  |     |  370,466  |  14.7  |     |     |  341,644  |  15.7  |     |\n",
       "|  General and administrative expenses  |     |  169,247  |  6.7  |     |     |  135,073  |  6.2  |     |\n",
       "|  Depreciation and amortization  |     |  85,492  |  3.4  |     |     |  74,012  |  3.4  |     |\n",
       "|  Pre-opening costs  |     |  13,590  |  0.5  |     |     |  11,341  |  0.5  |     |\n",
       "|  Impairment, closure costs, and asset disposals  |     |  6,528  |  0.3  |     |     |  5,785  |  0.3  |     |\n",
       "|  Total operating expenses  |     |  2,152,873  |  85.6  |     |     |  1,884,268  |  86.4  |     |\n",
       "|  Income from operations  |     |  363,447  |  14.4  |     |     |  296,331  |  13.6  |     |\n",
       "|  Interest and other income, net  |     |  18,906  |  0.8  |     |     |  7,057  |  0.3  |     |\n",
       "|  Income before income taxes  |     |  382,353  |  15.2  |     |     |  303,388  |  13.9  |     |\n",
       "|  Provision for income taxes  |     |  (100,267)  |  (4.0)  |     |     |  (79,661)  |  (3.7)  |     |\n",
       "|  Net income  |  $  |  282,086  |  11.2  |  %  |  $  |  223,727  |  10.3  |  %  |\n",
       "|  Earnings per share:  |     |     |     |     |     |     |     |     |\n",
       "|  Basic  |  $  |  10.28  |     |     |  $  |  8.08  |     |     |\n",
       "|  Diluted  |  $  |  10.21  |     |     |  $  |  8.02  |     |     |\n",
       "|  Weighted-average common shares outstanding:  |     |     |     |     |     |     |     |     |\n",
       "|  Basic  |     |  27,440  |     |     |     |  27,684  |     |     |\n",
       "|  Diluted  |     |  27,621  |     |     |     |  27,899  |     |     |"
      ],
      "text/plain": [
       "<IPython.core.display.Markdown object>"
      ]
     },
     "metadata": {},
     "output_type": "display_data"
    }
   ],
   "source": [
    "# markdown_table = \"|  ﻿  |  For the three months ended  |     |     |     |     |     |     |     |     |     |\\n|  ---  |  ---  |  ---  |  ---  |  ---  |  ---  |  ---  |  ---  |  ---  |  ---  |  ---  |\\n|  ﻿  |  Dec. 31,  |     |  Sep. 30,  |     |  Jun. 30,  |     |  Mar. 31,  |     |  Dec. 31,  |     |\\n|  ﻿  |  2023  |     |  2023  |     |  2023  |     |  2023  |     |  2022  |     |\\n|  Number of restaurants opened  |     |  121  |     |  62  |     |  47  |     |  41  |     |  100  |\\n|  Chipotle permanent closures  |     |  (2)  |     |  (1)  |     |  -  |     |  -  |     |  -  |\\n|  Chipotle relocations  |     |  (3)  |     |  (2)  |     |  (3)  |     |  (4)  |     |  (3)  |\\n|  Non-Chipotle permanent closures  |     |  -  |     |  (6)  |     |  -  |     |  -  |     |  -  |\\n|  Number of restaurants at end of period  |     |  3,437  |     |  3,321  |     |  3,268  |     |  3,224  |     |  3,187  |\\n|  Average restaurant sales  |  $  |  3,018  |  $  |  2,972  |  $  |  2,941  |  $  |  2,892  |  $  |  2,824  |\\n|  Comparable restaurant sales increase  |     |  8.4%  |     |  5.0%  |     |  7.4%  |     |  10.9%  |     |  5.6%  |\"\n",
    "html_table = \"<table>\\n<tr>\\n<td></td>\\n<td></td>\\n<td></td>\\n<td></td>\\n<td></td>\\n<td></td>\\n<td></td>\\n<td></td>\\n<td></td>\\n<td></td>\\n<td></td>\\n<td></td>\\n</tr>\\n<tr>\\n<td>﻿</td>\\n<td colspan=\\\"11\\\">Three months ended December 31,</td>\\n</tr>\\n<tr>\\n<td>﻿</td>\\n<td colspan=\\\"5\\\">2023</td>\\n<td></td>\\n<td colspan=\\\"5\\\">2022</td>\\n</tr>\\n<tr>\\n<td>Food and beverage revenue</td>\\n<td>$</td>\\n<td>2,499,567</td>\\n<td></td>\\n<td>99.3</td>\\n<td>%</td>\\n<td></td>\\n<td>$</td>\\n<td>2,163,907</td>\\n<td></td>\\n<td>99.2</td>\\n<td>%</td>\\n</tr>\\n<tr>\\n<td>Delivery service revenue</td>\\n<td></td>\\n<td>16,753</td>\\n<td></td>\\n<td>0.7</td>\\n<td></td>\\n<td></td>\\n<td></td>\\n<td>16,692</td>\\n<td></td>\\n<td>0.8</td>\\n<td></td>\\n</tr>\\n<tr>\\n<td>Total revenue</td>\\n<td></td>\\n<td>2,516,320</td>\\n<td></td>\\n<td>100.0</td>\\n<td></td>\\n<td></td>\\n<td></td>\\n<td>2,180,599</td>\\n<td></td>\\n<td>100.0</td>\\n<td></td>\\n</tr>\\n<tr>\\n<td>Restaurant operating costs (exclusive of depreciation and amortization shown separately below):</td>\\n<td></td>\\n<td></td>\\n<td></td>\\n<td></td>\\n<td></td>\\n<td></td>\\n<td></td>\\n<td></td>\\n<td></td>\\n<td></td>\\n<td></td>\\n</tr>\\n<tr>\\n<td>Food, beverage and packaging</td>\\n<td></td>\\n<td>747,155</td>\\n<td></td>\\n<td>29.7</td>\\n<td></td>\\n<td></td>\\n<td></td>\\n<td>638,851</td>\\n<td></td>\\n<td>29.3</td>\\n<td></td>\\n</tr>\\n<tr>\\n<td>Labor</td>\\n<td></td>\\n<td>629,228</td>\\n<td></td>\\n<td>25.0</td>\\n<td></td>\\n<td></td>\\n<td></td>\\n<td>558,914</td>\\n<td></td>\\n<td>25.6</td>\\n<td></td>\\n</tr>\\n<tr>\\n<td>Occupancy</td>\\n<td></td>\\n<td>131,167</td>\\n<td></td>\\n<td>5.2</td>\\n<td></td>\\n<td></td>\\n<td></td>\\n<td>118,648</td>\\n<td></td>\\n<td>5.4</td>\\n<td></td>\\n</tr>\\n<tr>\\n<td>Other operating costs</td>\\n<td></td>\\n<td>370,466</td>\\n<td></td>\\n<td>14.7</td>\\n<td></td>\\n<td></td>\\n<td></td>\\n<td>341,644</td>\\n<td></td>\\n<td>15.7</td>\\n<td></td>\\n</tr>\\n<tr>\\n<td>General and administrative expenses</td>\\n<td></td>\\n<td>169,247</td>\\n<td></td>\\n<td>6.7</td>\\n<td></td>\\n<td></td>\\n<td></td>\\n<td>135,073</td>\\n<td></td>\\n<td>6.2</td>\\n<td></td>\\n</tr>\\n<tr>\\n<td>Depreciation and amortization</td>\\n<td></td>\\n<td>85,492</td>\\n<td></td>\\n<td>3.4</td>\\n<td></td>\\n<td></td>\\n<td></td>\\n<td>74,012</td>\\n<td></td>\\n<td>3.4</td>\\n<td></td>\\n</tr>\\n<tr>\\n<td>Pre-opening costs</td>\\n<td></td>\\n<td>13,590</td>\\n<td></td>\\n<td>0.5</td>\\n<td></td>\\n<td></td>\\n<td></td>\\n<td>11,341</td>\\n<td></td>\\n<td>0.5</td>\\n<td></td>\\n</tr>\\n<tr>\\n<td>Impairment, closure costs, and asset disposals</td>\\n<td></td>\\n<td>6,528</td>\\n<td></td>\\n<td>0.3</td>\\n<td></td>\\n<td></td>\\n<td></td>\\n<td>5,785</td>\\n<td></td>\\n<td>0.3</td>\\n<td></td>\\n</tr>\\n<tr>\\n<td>Total operating expenses</td>\\n<td></td>\\n<td>2,152,873</td>\\n<td></td>\\n<td>85.6</td>\\n<td></td>\\n<td></td>\\n<td></td>\\n<td>1,884,268</td>\\n<td></td>\\n<td>86.4</td>\\n<td></td>\\n</tr>\\n<tr>\\n<td>Income from operations</td>\\n<td></td>\\n<td>363,447</td>\\n<td></td>\\n<td>14.4</td>\\n<td></td>\\n<td></td>\\n<td></td>\\n<td>296,331</td>\\n<td></td>\\n<td>13.6</td>\\n<td></td>\\n</tr>\\n<tr>\\n<td>Interest and other income, net</td>\\n<td></td>\\n<td>18,906</td>\\n<td></td>\\n<td>0.8</td>\\n<td></td>\\n<td></td>\\n<td></td>\\n<td>7,057</td>\\n<td></td>\\n<td>0.3</td>\\n<td></td>\\n</tr>\\n<tr>\\n<td>Income before income taxes</td>\\n<td></td>\\n<td>382,353</td>\\n<td></td>\\n<td>15.2</td>\\n<td></td>\\n<td></td>\\n<td></td>\\n<td>303,388</td>\\n<td></td>\\n<td>13.9</td>\\n<td></td>\\n</tr>\\n<tr>\\n<td>Provision for income taxes</td>\\n<td></td>\\n<td>(100,267)</td>\\n<td></td>\\n<td>(4.0)</td>\\n<td></td>\\n<td></td>\\n<td></td>\\n<td>(79,661)</td>\\n<td></td>\\n<td>(3.7)</td>\\n<td></td>\\n</tr>\\n<tr>\\n<td>Net income</td>\\n<td>$</td>\\n<td>282,086</td>\\n<td></td>\\n<td>11.2</td>\\n<td>%</td>\\n<td></td>\\n<td>$</td>\\n<td>223,727</td>\\n<td></td>\\n<td>10.3</td>\\n<td>%</td>\\n</tr>\\n<tr>\\n<td>Earnings per share:</td>\\n<td></td>\\n<td></td>\\n<td></td>\\n<td></td>\\n<td></td>\\n<td></td>\\n<td></td>\\n<td></td>\\n<td></td>\\n<td></td>\\n<td></td>\\n</tr>\\n<tr>\\n<td>Basic</td>\\n<td>$</td>\\n<td>10.28</td>\\n<td></td>\\n<td></td>\\n<td></td>\\n<td></td>\\n<td>$</td>\\n<td>8.08</td>\\n<td></td>\\n<td></td>\\n<td></td>\\n</tr>\\n<tr>\\n<td>Diluted</td>\\n<td>$</td>\\n<td>10.21</td>\\n<td></td>\\n<td></td>\\n<td></td>\\n<td></td>\\n<td>$</td>\\n<td>8.02</td>\\n<td></td>\\n<td></td>\\n<td></td>\\n</tr>\\n<tr>\\n<td>Weighted-average common shares outstanding:</td>\\n<td></td>\\n<td></td>\\n<td></td>\\n<td></td>\\n<td></td>\\n<td></td>\\n<td></td>\\n<td></td>\\n<td></td>\\n<td></td>\\n<td></td>\\n</tr>\\n<tr>\\n<td>Basic</td>\\n<td></td>\\n<td>27,440</td>\\n<td></td>\\n<td></td>\\n<td></td>\\n<td></td>\\n<td></td>\\n<td>27,684</td>\\n<td></td>\\n<td></td>\\n<td></td>\\n</tr>\\n<tr>\\n<td>Diluted</td>\\n<td></td>\\n<td>27,621</td>\\n<td></td>\\n<td></td>\\n<td></td>\\n<td></td>\\n<td></td>\\n<td>27,899</td>\\n<td></td>\\n<td></td>\\n<td></td>\\n</tr>\\n</table>\"\n",
    "from utils import parse_html_table_to_csv\n",
    "\n",
    "def display_markdown_table(markdown_table):\n",
    "    \"\"\"\n",
    "    Render a markdown table as HTML for better visualization.\n",
    "    \n",
    "    Args:\n",
    "        markdown_table (str): A string containing a markdown table.\n",
    "    \"\"\"\n",
    "    # Display the HTML only in output\n",
    "    display(Markdown(markdown_table))\n",
    "\n",
    "# Display the markdown table\n",
    "display_markdown_table(parse_html_table_to_csv(html_table))\n",
    "# display_markdown_table(markdown_table)"
   ]
  },
  {
   "cell_type": "code",
   "execution_count": 34,
   "metadata": {},
   "outputs": [
    {
     "data": {
      "text/markdown": [
       "FY23 EPS Increases over 38% and comparable sales increase 7.9% as margins expand"
      ],
      "text/plain": [
       "<IPython.core.display.Markdown object>"
      ]
     },
     "metadata": {},
     "output_type": "display_data"
    },
    {
     "data": {
      "text/markdown": [
       "EPS growth\n",
       "38\n",
       "2023 Full Year"
      ],
      "text/plain": [
       "<IPython.core.display.Markdown object>"
      ]
     },
     "metadata": {},
     "output_type": "display_data"
    },
    {
     "data": {
      "text/markdown": [
       "Comparable sales growth\n",
       "7.9\n",
       "2023 Full Year"
      ],
      "text/plain": [
       "<IPython.core.display.Markdown object>"
      ]
     },
     "metadata": {},
     "output_type": "display_data"
    },
    {
     "data": {
      "text/markdown": [
       "·  Total revenue increased 15.4% to $2.5 billion"
      ],
      "text/plain": [
       "<IPython.core.display.Markdown object>"
      ]
     },
     "metadata": {},
     "output_type": "display_data"
    },
    {
     "data": {
      "text/markdown": [
       "Total revenue\n",
       "2.5 billion\n",
       "2023 Q4"
      ],
      "text/plain": [
       "<IPython.core.display.Markdown object>"
      ]
     },
     "metadata": {},
     "output_type": "display_data"
    },
    {
     "data": {
      "text/markdown": [
       "Total revenue growth rate\n",
       "15.4\n",
       "2023 Q4"
      ],
      "text/plain": [
       "<IPython.core.display.Markdown object>"
      ]
     },
     "metadata": {},
     "output_type": "display_data"
    },
    {
     "data": {
      "text/markdown": [
       "·  Comparable restaurant sales increased 8.4%"
      ],
      "text/plain": [
       "<IPython.core.display.Markdown object>"
      ]
     },
     "metadata": {},
     "output_type": "display_data"
    },
    {
     "data": {
      "text/markdown": [
       "Comparable restaurant sales growth\n",
       "8.4\n",
       "2023 Q4"
      ],
      "text/plain": [
       "<IPython.core.display.Markdown object>"
      ]
     },
     "metadata": {},
     "output_type": "display_data"
    },
    {
     "data": {
      "text/markdown": [
       "·  Operating margin was 14.4%, an increase from 13.6%"
      ],
      "text/plain": [
       "<IPython.core.display.Markdown object>"
      ]
     },
     "metadata": {},
     "output_type": "display_data"
    },
    {
     "data": {
      "text/markdown": [
       "Operating margin\n",
       "14.4\n",
       "2023 Q4"
      ],
      "text/plain": [
       "<IPython.core.display.Markdown object>"
      ]
     },
     "metadata": {},
     "output_type": "display_data"
    },
    {
     "data": {
      "text/markdown": [
       "·  Restaurant level operating margin was 25.4%1, an increase of 140 basis points"
      ],
      "text/plain": [
       "<IPython.core.display.Markdown object>"
      ]
     },
     "metadata": {},
     "output_type": "display_data"
    },
    {
     "data": {
      "text/markdown": [
       "Restaurant level operating margin\n",
       "25.4\n",
       "2023 Q4"
      ],
      "text/plain": [
       "<IPython.core.display.Markdown object>"
      ]
     },
     "metadata": {},
     "output_type": "display_data"
    },
    {
     "data": {
      "text/markdown": [
       "·  Diluted earnings per share was $10.21, a 27.3% increase from $8.02."
      ],
      "text/plain": [
       "<IPython.core.display.Markdown object>"
      ]
     },
     "metadata": {},
     "output_type": "display_data"
    },
    {
     "data": {
      "text/markdown": [
       "Diluted earnings per share\n",
       "10.21\n",
       "2023 Q4"
      ],
      "text/plain": [
       "<IPython.core.display.Markdown object>"
      ]
     },
     "metadata": {},
     "output_type": "display_data"
    },
    {
     "data": {
      "text/markdown": [
       "Adjusted diluted earnings per share, which excluded a $0.15 after-tax impact from expenses related to accelerated depreciation, partially offset by a reduction in contingencies related to certain legal proceedings, was $10.361, a 25.0% increase from $8.29.1"
      ],
      "text/plain": [
       "<IPython.core.display.Markdown object>"
      ]
     },
     "metadata": {},
     "output_type": "display_data"
    },
    {
     "data": {
      "text/markdown": [
       "Adjusted diluted earnings per share\n",
       "10.361\n",
       "2023 Q4"
      ],
      "text/plain": [
       "<IPython.core.display.Markdown object>"
      ]
     },
     "metadata": {},
     "output_type": "display_data"
    },
    {
     "data": {
      "text/markdown": [
       "Adjusted diluted earnings per share growth\n",
       "25.0\n",
       "2023 Q4"
      ],
      "text/plain": [
       "<IPython.core.display.Markdown object>"
      ]
     },
     "metadata": {},
     "output_type": "display_data"
    },
    {
     "data": {
      "text/markdown": [
       "·  Opened 121 new restaurants with 110 locations including a Chipotlane"
      ],
      "text/plain": [
       "<IPython.core.display.Markdown object>"
      ]
     },
     "metadata": {},
     "output_type": "display_data"
    },
    {
     "data": {
      "text/markdown": [
       "Number of new restaurants opened\n",
       "121\n",
       "2023 Q4"
      ],
      "text/plain": [
       "<IPython.core.display.Markdown object>"
      ]
     },
     "metadata": {},
     "output_type": "display_data"
    },
    {
     "data": {
      "text/markdown": [
       "Number of new locations with a Chipotlane\n",
       "110\n",
       "2023 Q4"
      ],
      "text/plain": [
       "<IPython.core.display.Markdown object>"
      ]
     },
     "metadata": {},
     "output_type": "display_data"
    },
    {
     "data": {
      "text/markdown": [
       "·  Total revenue increased 14.3% to $9.9 billion"
      ],
      "text/plain": [
       "<IPython.core.display.Markdown object>"
      ]
     },
     "metadata": {},
     "output_type": "display_data"
    },
    {
     "data": {
      "text/markdown": [
       "Total revenue\n",
       "9.9\n",
       "2023 Full Year"
      ],
      "text/plain": [
       "<IPython.core.display.Markdown object>"
      ]
     },
     "metadata": {},
     "output_type": "display_data"
    },
    {
     "data": {
      "text/markdown": [
       "Total revenue growth rate\n",
       "14.3\n",
       "2023 Full Year"
      ],
      "text/plain": [
       "<IPython.core.display.Markdown object>"
      ]
     },
     "metadata": {},
     "output_type": "display_data"
    },
    {
     "data": {
      "text/markdown": [
       "·  Comparable restaurant sales increased 7.9%"
      ],
      "text/plain": [
       "<IPython.core.display.Markdown object>"
      ]
     },
     "metadata": {},
     "output_type": "display_data"
    },
    {
     "data": {
      "text/markdown": [
       "Comparable restaurant sales\n",
       "7.9\n",
       "2023 Full Year"
      ],
      "text/plain": [
       "<IPython.core.display.Markdown object>"
      ]
     },
     "metadata": {},
     "output_type": "display_data"
    },
    {
     "data": {
      "text/markdown": [
       "·  Operating margin was 15.8%, an increase from 13.4%"
      ],
      "text/plain": [
       "<IPython.core.display.Markdown object>"
      ]
     },
     "metadata": {},
     "output_type": "display_data"
    },
    {
     "data": {
      "text/markdown": [
       "Operating margin\n",
       "15.8\n",
       "2023 Full Year"
      ],
      "text/plain": [
       "<IPython.core.display.Markdown object>"
      ]
     },
     "metadata": {},
     "output_type": "display_data"
    },
    {
     "data": {
      "text/markdown": [
       "·  Restaurant level operating margin was 26.2%1, an increase of 230 basis points"
      ],
      "text/plain": [
       "<IPython.core.display.Markdown object>"
      ]
     },
     "metadata": {},
     "output_type": "display_data"
    },
    {
     "data": {
      "text/markdown": [
       "Restaurant level operating margin\n",
       "26.2\n",
       "2023 Full Year"
      ],
      "text/plain": [
       "<IPython.core.display.Markdown object>"
      ]
     },
     "metadata": {},
     "output_type": "display_data"
    },
    {
     "data": {
      "text/markdown": [
       "·  Diluted earnings per share was $44.34, a 38.4% increase from $32.04."
      ],
      "text/plain": [
       "<IPython.core.display.Markdown object>"
      ]
     },
     "metadata": {},
     "output_type": "display_data"
    },
    {
     "data": {
      "text/markdown": [
       "Diluted earnings per share\n",
       "44.34\n",
       "2023 Full Year"
      ],
      "text/plain": [
       "<IPython.core.display.Markdown object>"
      ]
     },
     "metadata": {},
     "output_type": "display_data"
    },
    {
     "data": {
      "text/markdown": [
       "Diluted earnings per share growth\n",
       "38.4\n",
       "2023 Full Year"
      ],
      "text/plain": [
       "<IPython.core.display.Markdown object>"
      ]
     },
     "metadata": {},
     "output_type": "display_data"
    },
    {
     "data": {
      "text/markdown": [
       "Adjusted diluted earnings per share, which excluded a $0.52 after-tax impact from expenses related to restaurant and corporate level impairment and closure costs, accelerated depreciation and corporate restructuring, partially offset by a reduction in contingencies related to certain legal proceedings, was $44.861, a 36.9% increase from $32.78.1"
      ],
      "text/plain": [
       "<IPython.core.display.Markdown object>"
      ]
     },
     "metadata": {},
     "output_type": "display_data"
    },
    {
     "data": {
      "text/markdown": [
       "Adjusted diluted earnings per share\n",
       "44.861\n",
       "2023 Full Year"
      ],
      "text/plain": [
       "<IPython.core.display.Markdown object>"
      ]
     },
     "metadata": {},
     "output_type": "display_data"
    },
    {
     "data": {
      "text/markdown": [
       "Adjusted diluted earnings per share growth\n",
       "36.9\n",
       "2023 Full Year"
      ],
      "text/plain": [
       "<IPython.core.display.Markdown object>"
      ]
     },
     "metadata": {},
     "output_type": "display_data"
    },
    {
     "data": {
      "text/markdown": [
       "·  Opened 271 new restaurants with 238 locations including a Chipotlane"
      ],
      "text/plain": [
       "<IPython.core.display.Markdown object>"
      ]
     },
     "metadata": {},
     "output_type": "display_data"
    },
    {
     "data": {
      "text/markdown": [
       "Number of new restaurants opened\n",
       "271\n",
       "2023 Full Year"
      ],
      "text/plain": [
       "<IPython.core.display.Markdown object>"
      ]
     },
     "metadata": {},
     "output_type": "display_data"
    },
    {
     "data": {
      "text/markdown": [
       "Number of new restaurants with Chipotlane\n",
       "238\n",
       "2023 Full Year"
      ],
      "text/plain": [
       "<IPython.core.display.Markdown object>"
      ]
     },
     "metadata": {},
     "output_type": "display_data"
    },
    {
     "data": {
      "text/markdown": [
       "\"2023 was an outstanding year where we delivered strong transaction growth driven by throughput and menu innovation, opened a record number of new restaurants, surpassed $3 million in AUVs and formed our first international partnership,” said Brian Niccol, Chairman and CEO, Chipotle."
      ],
      "text/plain": [
       "<IPython.core.display.Markdown object>"
      ]
     },
     "metadata": {},
     "output_type": "display_data"
    },
    {
     "data": {
      "text/markdown": [
       "AUVs\n",
       "3 million\n",
       "2023 Full Year"
      ],
      "text/plain": [
       "<IPython.core.display.Markdown object>"
      ]
     },
     "metadata": {},
     "output_type": "display_data"
    },
    {
     "data": {
      "text/markdown": [
       "“I am more confident than ever that we have the right people and the right strategy to achieve our long-term growth goals of reaching 7,000 restaurants in North America, $4 million in AUVs, expanding our industry leading margins and returns and furthering our purpose of Cultivating a Better World globally.”"
      ],
      "text/plain": [
       "<IPython.core.display.Markdown object>"
      ]
     },
     "metadata": {},
     "output_type": "display_data"
    },
    {
     "data": {
      "text/markdown": [
       "Number of restaurants in North America\n",
       "7000\n",
       "None"
      ],
      "text/plain": [
       "<IPython.core.display.Markdown object>"
      ]
     },
     "metadata": {},
     "output_type": "display_data"
    },
    {
     "data": {
      "text/markdown": [
       "AUVs (Average Unit Volumes)\n",
       "4\n",
       "None"
      ],
      "text/plain": [
       "<IPython.core.display.Markdown object>"
      ]
     },
     "metadata": {},
     "output_type": "display_data"
    },
    {
     "data": {
      "text/markdown": [
       "Total revenue in the fourth quarter was $2.5 billion, an increase of 15.4% compared to the fourth quarter of 2022."
      ],
      "text/plain": [
       "<IPython.core.display.Markdown object>"
      ]
     },
     "metadata": {},
     "output_type": "display_data"
    },
    {
     "data": {
      "text/markdown": [
       "Total revenue\n",
       "2.5 billion\n",
       "2023 Q4"
      ],
      "text/plain": [
       "<IPython.core.display.Markdown object>"
      ]
     },
     "metadata": {},
     "output_type": "display_data"
    },
    {
     "data": {
      "text/markdown": [
       "Revenue growth rate\n",
       "15.4\n",
       "2023 Q4"
      ],
      "text/plain": [
       "<IPython.core.display.Markdown object>"
      ]
     },
     "metadata": {},
     "output_type": "display_data"
    },
    {
     "data": {
      "text/markdown": [
       "The increase in total revenue was driven by an 8.4% increase in comparable restaurant sales attributable to higher transactions of 7.4% and an increase in average check of 1.0%, and to a lesser extent, new restaurant openings."
      ],
      "text/plain": [
       "<IPython.core.display.Markdown object>"
      ]
     },
     "metadata": {},
     "output_type": "display_data"
    },
    {
     "data": {
      "text/markdown": [
       "Increase in comparable restaurant sales\n",
       "8.4\n",
       "2023 Q4"
      ],
      "text/plain": [
       "<IPython.core.display.Markdown object>"
      ]
     },
     "metadata": {},
     "output_type": "display_data"
    },
    {
     "data": {
      "text/markdown": [
       "Increase in transactions\n",
       "7.4\n",
       "2023 Q4"
      ],
      "text/plain": [
       "<IPython.core.display.Markdown object>"
      ]
     },
     "metadata": {},
     "output_type": "display_data"
    },
    {
     "data": {
      "text/markdown": [
       "Increase in average check\n",
       "1.0\n",
       "2023 Q4"
      ],
      "text/plain": [
       "<IPython.core.display.Markdown object>"
      ]
     },
     "metadata": {},
     "output_type": "display_data"
    },
    {
     "data": {
      "text/markdown": [
       "Digital sales represented 36.1% of total food and beverage revenue."
      ],
      "text/plain": [
       "<IPython.core.display.Markdown object>"
      ]
     },
     "metadata": {},
     "output_type": "display_data"
    },
    {
     "data": {
      "text/markdown": [
       "Digital sales as percentage of total food and beverage revenue\n",
       "36.1\n",
       "2023 Q4"
      ],
      "text/plain": [
       "<IPython.core.display.Markdown object>"
      ]
     },
     "metadata": {},
     "output_type": "display_data"
    },
    {
     "data": {
      "text/markdown": [
       "We opened 121 new restaurants during the fourth quarter with 110 locations including a Chipotlane."
      ],
      "text/plain": [
       "<IPython.core.display.Markdown object>"
      ]
     },
     "metadata": {},
     "output_type": "display_data"
    },
    {
     "data": {
      "text/markdown": [
       "New restaurants opened\n",
       "121\n",
       "2023 Q4"
      ],
      "text/plain": [
       "<IPython.core.display.Markdown object>"
      ]
     },
     "metadata": {},
     "output_type": "display_data"
    },
    {
     "data": {
      "text/markdown": [
       "Locations including a Chipotlane\n",
       "110\n",
       "2023 Q4"
      ],
      "text/plain": [
       "<IPython.core.display.Markdown object>"
      ]
     },
     "metadata": {},
     "output_type": "display_data"
    },
    {
     "data": {
      "text/markdown": [
       "Food, beverage and packaging costs in the fourth quarter were 29.7% of total revenue, an increase of 40 basis points compared to the fourth quarter of 2022."
      ],
      "text/plain": [
       "<IPython.core.display.Markdown object>"
      ]
     },
     "metadata": {},
     "output_type": "display_data"
    },
    {
     "data": {
      "text/markdown": [
       "Food, beverage and packaging costs as percentage of total revenue\n",
       "29.7\n",
       "2023 Q4"
      ],
      "text/plain": [
       "<IPython.core.display.Markdown object>"
      ]
     },
     "metadata": {},
     "output_type": "display_data"
    },
    {
     "data": {
      "text/markdown": [
       "Increase in food, beverage and packaging costs compared to Q4 2022\n",
       "40\n",
       "2023 Q4"
      ],
      "text/plain": [
       "<IPython.core.display.Markdown object>"
      ]
     },
     "metadata": {},
     "output_type": "display_data"
    },
    {
     "data": {
      "text/markdown": [
       "Restaurant level operating margin in the fourth quarter was 25.4% compared to 24.0% in the fourth quarter of 2022."
      ],
      "text/plain": [
       "<IPython.core.display.Markdown object>"
      ]
     },
     "metadata": {},
     "output_type": "display_data"
    },
    {
     "data": {
      "text/markdown": [
       "Restaurant level operating margin (Q4 2023)\n",
       "25.4\n",
       "2023 Q4"
      ],
      "text/plain": [
       "<IPython.core.display.Markdown object>"
      ]
     },
     "metadata": {},
     "output_type": "display_data"
    },
    {
     "data": {
      "text/markdown": [
       "Restaurant level operating margin (Q4 2022)\n",
       "24.0\n",
       "2022 Q4"
      ],
      "text/plain": [
       "<IPython.core.display.Markdown object>"
      ]
     },
     "metadata": {},
     "output_type": "display_data"
    },
    {
     "data": {
      "text/markdown": [
       "General and administrative expenses for the fourth quarter were $169.2 million on a GAAP basis, or $170.0 million1 on a non-GAAP basis, excluding a $0.8 million reduction in contingencies related to certain legal proceedings."
      ],
      "text/plain": [
       "<IPython.core.display.Markdown object>"
      ]
     },
     "metadata": {},
     "output_type": "display_data"
    },
    {
     "data": {
      "text/markdown": [
       "General and administrative expenses (GAAP)\n",
       "169.2\n",
       "2023 Q4"
      ],
      "text/plain": [
       "<IPython.core.display.Markdown object>"
      ]
     },
     "metadata": {},
     "output_type": "display_data"
    },
    {
     "data": {
      "text/markdown": [
       "General and administrative expenses (non-GAAP)\n",
       "170.0\n",
       "2023 Q4"
      ],
      "text/plain": [
       "<IPython.core.display.Markdown object>"
      ]
     },
     "metadata": {},
     "output_type": "display_data"
    },
    {
     "data": {
      "text/markdown": [
       "Reduction in contingencies related to certain legal proceedings\n",
       "0.8\n",
       "2023 Q4"
      ],
      "text/plain": [
       "<IPython.core.display.Markdown object>"
      ]
     },
     "metadata": {},
     "output_type": "display_data"
    },
    {
     "data": {
      "text/markdown": [
       "GAAP and non-GAAP general and administrative expenses for the fourth quarter also include $122.0 million of underlying general and administrative expenses, $35.7 million of non-cash stock compensation, $10.1 million of higher bonus accruals and payroll taxes on equity vesting and exercises and $2.2 million of other costs, primarily related to our upcoming All Managers Conference scheduled for the first quarter of 2024."
      ],
      "text/plain": [
       "<IPython.core.display.Markdown object>"
      ]
     },
     "metadata": {},
     "output_type": "display_data"
    },
    {
     "data": {
      "text/markdown": [
       "Underlying general and administrative expenses\n",
       "122.0\n",
       "2023 Q4"
      ],
      "text/plain": [
       "<IPython.core.display.Markdown object>"
      ]
     },
     "metadata": {},
     "output_type": "display_data"
    },
    {
     "data": {
      "text/markdown": [
       "Non-cash stock compensation\n",
       "35.7\n",
       "2023 Q4"
      ],
      "text/plain": [
       "<IPython.core.display.Markdown object>"
      ]
     },
     "metadata": {},
     "output_type": "display_data"
    },
    {
     "data": {
      "text/markdown": [
       "Higher bonus accruals and payroll taxes on equity vesting and exercises\n",
       "10.1\n",
       "2023 Q4"
      ],
      "text/plain": [
       "<IPython.core.display.Markdown object>"
      ]
     },
     "metadata": {},
     "output_type": "display_data"
    },
    {
     "data": {
      "text/markdown": [
       "Other costs\n",
       "2.2\n",
       "2023 Q4"
      ],
      "text/plain": [
       "<IPython.core.display.Markdown object>"
      ]
     },
     "metadata": {},
     "output_type": "display_data"
    },
    {
     "data": {
      "text/markdown": [
       "The effective income tax rate for the fourth quarter was 26.2% compared to 26.3% in the fourth quarter of 2022."
      ],
      "text/plain": [
       "<IPython.core.display.Markdown object>"
      ]
     },
     "metadata": {},
     "output_type": "display_data"
    },
    {
     "data": {
      "text/markdown": [
       "Effective income tax rate\n",
       "26.2\n",
       "2023 Q4"
      ],
      "text/plain": [
       "<IPython.core.display.Markdown object>"
      ]
     },
     "metadata": {},
     "output_type": "display_data"
    },
    {
     "data": {
      "text/markdown": [
       "Net income for the fourth quarter was $282.1 million, or $10.21 per diluted share, compared to $223.7 million, or $8.02 per diluted share, in the fourth quarter of 2022."
      ],
      "text/plain": [
       "<IPython.core.display.Markdown object>"
      ]
     },
     "metadata": {},
     "output_type": "display_data"
    },
    {
     "data": {
      "text/markdown": [
       "Net income\n",
       "282.1\n",
       "2023 Q4"
      ],
      "text/plain": [
       "<IPython.core.display.Markdown object>"
      ]
     },
     "metadata": {},
     "output_type": "display_data"
    },
    {
     "data": {
      "text/markdown": [
       "Earnings per diluted share\n",
       "10.21\n",
       "2023 Q4"
      ],
      "text/plain": [
       "<IPython.core.display.Markdown object>"
      ]
     },
     "metadata": {},
     "output_type": "display_data"
    },
    {
     "data": {
      "text/markdown": [
       "Excluding a $0.15 after-tax impact from expenses related to accelerated depreciation, partially offset by a reduction in contingencies related to certain legal proceedings, adjusted net income was $286.2 million1 and adjusted diluted earnings per share was $10.361."
      ],
      "text/plain": [
       "<IPython.core.display.Markdown object>"
      ]
     },
     "metadata": {},
     "output_type": "display_data"
    },
    {
     "data": {
      "text/markdown": [
       "Adjusted net income\n",
       "286.2\n",
       "2023 Q4"
      ],
      "text/plain": [
       "<IPython.core.display.Markdown object>"
      ]
     },
     "metadata": {},
     "output_type": "display_data"
    },
    {
     "data": {
      "text/markdown": [
       "Adjusted diluted earnings per share\n",
       "10.36\n",
       "2023 Q4"
      ],
      "text/plain": [
       "<IPython.core.display.Markdown object>"
      ]
     },
     "metadata": {},
     "output_type": "display_data"
    },
    {
     "data": {
      "text/markdown": [
       "During the fourth quarter, our Board of Directors approved the investment of up to an additional $200 million, exclusive of commissions, to repurchase shares of our common stock, subject to market conditions."
      ],
      "text/plain": [
       "<IPython.core.display.Markdown object>"
      ]
     },
     "metadata": {},
     "output_type": "display_data"
    },
    {
     "data": {
      "text/markdown": [
       "Share repurchase authorization\n",
       "200\n",
       "None"
      ],
      "text/plain": [
       "<IPython.core.display.Markdown object>"
      ]
     },
     "metadata": {},
     "output_type": "display_data"
    },
    {
     "data": {
      "text/markdown": [
       "Including this repurchase authorization, $424.1 million was available as of December 31, 2023."
      ],
      "text/plain": [
       "<IPython.core.display.Markdown object>"
      ]
     },
     "metadata": {},
     "output_type": "display_data"
    },
    {
     "data": {
      "text/markdown": [
       "Repurchase authorization available\n",
       "424.1\n",
       "2023 Q4"
      ],
      "text/plain": [
       "<IPython.core.display.Markdown object>"
      ]
     },
     "metadata": {},
     "output_type": "display_data"
    },
    {
     "data": {
      "text/markdown": [
       "We repurchased $144.3 million of stock at an average price per share of $1,935.80 during the fourth quarter."
      ],
      "text/plain": [
       "<IPython.core.display.Markdown object>"
      ]
     },
     "metadata": {},
     "output_type": "display_data"
    },
    {
     "data": {
      "text/markdown": [
       "Stock repurchased\n",
       "144.3\n",
       "2023 Q4"
      ],
      "text/plain": [
       "<IPython.core.display.Markdown object>"
      ]
     },
     "metadata": {},
     "output_type": "display_data"
    },
    {
     "data": {
      "text/markdown": [
       "Average price per share\n",
       "1935.80\n",
       "2023 Q4"
      ],
      "text/plain": [
       "<IPython.core.display.Markdown object>"
      ]
     },
     "metadata": {},
     "output_type": "display_data"
    },
    {
     "data": {
      "text/markdown": [
       "Total revenue for 2023 was $9.9 billion, an increase of 14.3% compared to 2022."
      ],
      "text/plain": [
       "<IPython.core.display.Markdown object>"
      ]
     },
     "metadata": {},
     "output_type": "display_data"
    },
    {
     "data": {
      "text/markdown": [
       "Total revenue\n",
       "9.9 billion\n",
       "2023 Full Year"
      ],
      "text/plain": [
       "<IPython.core.display.Markdown object>"
      ]
     },
     "metadata": {},
     "output_type": "display_data"
    },
    {
     "data": {
      "text/markdown": [
       "Revenue growth rate\n",
       "14.3\n",
       "2023 Full Year"
      ],
      "text/plain": [
       "<IPython.core.display.Markdown object>"
      ]
     },
     "metadata": {},
     "output_type": "display_data"
    },
    {
     "data": {
      "text/markdown": [
       "The increase in total revenue was driven by a 7.9% increase in comparable restaurant sales attributable to higher transactions of 5.0% and an increase in average check of 2.9% and, to a lesser extent, new restaurant openings."
      ],
      "text/plain": [
       "<IPython.core.display.Markdown object>"
      ]
     },
     "metadata": {},
     "output_type": "display_data"
    },
    {
     "data": {
      "text/markdown": [
       "comparable restaurant sales increase\n",
       "7.9\n",
       "2023 Full Year"
      ],
      "text/plain": [
       "<IPython.core.display.Markdown object>"
      ]
     },
     "metadata": {},
     "output_type": "display_data"
    },
    {
     "data": {
      "text/markdown": [
       "higher transactions\n",
       "5.0\n",
       "2023 Full Year"
      ],
      "text/plain": [
       "<IPython.core.display.Markdown object>"
      ]
     },
     "metadata": {},
     "output_type": "display_data"
    },
    {
     "data": {
      "text/markdown": [
       "increase in average check\n",
       "2.9\n",
       "2023 Full Year"
      ],
      "text/plain": [
       "<IPython.core.display.Markdown object>"
      ]
     },
     "metadata": {},
     "output_type": "display_data"
    },
    {
     "data": {
      "text/markdown": [
       "Digital sales represented 37.4% of total food and beverage revenue."
      ],
      "text/plain": [
       "<IPython.core.display.Markdown object>"
      ]
     },
     "metadata": {},
     "output_type": "display_data"
    },
    {
     "data": {
      "text/markdown": [
       "Digital sales as percentage of total food and beverage revenue\n",
       "37.4\n",
       "2023 Full Year"
      ],
      "text/plain": [
       "<IPython.core.display.Markdown object>"
      ]
     },
     "metadata": {},
     "output_type": "display_data"
    },
    {
     "data": {
      "text/markdown": [
       "We opened 271 new restaurants during 2023, bringing the total restaurant count at year-end to 3,437."
      ],
      "text/plain": [
       "<IPython.core.display.Markdown object>"
      ]
     },
     "metadata": {},
     "output_type": "display_data"
    },
    {
     "data": {
      "text/markdown": [
       "New restaurants opened in 2023\n",
       "271\n",
       "2023 Full Year"
      ],
      "text/plain": [
       "<IPython.core.display.Markdown object>"
      ]
     },
     "metadata": {},
     "output_type": "display_data"
    },
    {
     "data": {
      "text/markdown": [
       "Total restaurant count at year-end\n",
       "3,437\n",
       "2023 Full Year"
      ],
      "text/plain": [
       "<IPython.core.display.Markdown object>"
      ]
     },
     "metadata": {},
     "output_type": "display_data"
    },
    {
     "data": {
      "text/markdown": [
       "Of the 271 new restaurants opened during the year, 238 locations included a Chipotlane."
      ],
      "text/plain": [
       "<IPython.core.display.Markdown object>"
      ]
     },
     "metadata": {},
     "output_type": "display_data"
    },
    {
     "data": {
      "text/markdown": [
       "New restaurants opened during the year\n",
       "271\n",
       "2023 Full Year"
      ],
      "text/plain": [
       "<IPython.core.display.Markdown object>"
      ]
     },
     "metadata": {},
     "output_type": "display_data"
    },
    {
     "data": {
      "text/markdown": [
       "Locations with Chipotlane\n",
       "238\n",
       "2023 Full Year"
      ],
      "text/plain": [
       "<IPython.core.display.Markdown object>"
      ]
     },
     "metadata": {},
     "output_type": "display_data"
    },
    {
     "data": {
      "text/markdown": [
       "We had a total of 811 Chipotlanes as of year-end, which includes conversions of existing restaurants."
      ],
      "text/plain": [
       "<IPython.core.display.Markdown object>"
      ]
     },
     "metadata": {},
     "output_type": "display_data"
    },
    {
     "data": {
      "text/markdown": [
       "Total Chipotlanes\n",
       "811\n",
       "2023 Full Year"
      ],
      "text/plain": [
       "<IPython.core.display.Markdown object>"
      ]
     },
     "metadata": {},
     "output_type": "display_data"
    },
    {
     "data": {
      "text/markdown": [
       "Food, beverage and packaging costs for 2023 were 29.5% of total revenue, a decrease of 60 basis points compared to 2022."
      ],
      "text/plain": [
       "<IPython.core.display.Markdown object>"
      ]
     },
     "metadata": {},
     "output_type": "display_data"
    },
    {
     "data": {
      "text/markdown": [
       "Food, beverage and packaging costs as percentage of total revenue\n",
       "29.5\n",
       "2023 Full Year"
      ],
      "text/plain": [
       "<IPython.core.display.Markdown object>"
      ]
     },
     "metadata": {},
     "output_type": "display_data"
    },
    {
     "data": {
      "text/markdown": [
       "Decrease in food, beverage and packaging costs compared to 2022\n",
       "60\n",
       "2023 Full Year"
      ],
      "text/plain": [
       "<IPython.core.display.Markdown object>"
      ]
     },
     "metadata": {},
     "output_type": "display_data"
    },
    {
     "data": {
      "text/markdown": [
       "Restaurant level operating margin for 2023 was 26.2% compared to 23.9% in 2022."
      ],
      "text/plain": [
       "<IPython.core.display.Markdown object>"
      ]
     },
     "metadata": {},
     "output_type": "display_data"
    },
    {
     "data": {
      "text/markdown": [
       "Restaurant level operating margin (2023)\n",
       "26.2\n",
       "2023 Full Year"
      ],
      "text/plain": [
       "<IPython.core.display.Markdown object>"
      ]
     },
     "metadata": {},
     "output_type": "display_data"
    },
    {
     "data": {
      "text/markdown": [
       "Restaurant level operating margin (2022)\n",
       "23.9\n",
       "2022 Full Year"
      ],
      "text/plain": [
       "<IPython.core.display.Markdown object>"
      ]
     },
     "metadata": {},
     "output_type": "display_data"
    },
    {
     "data": {
      "text/markdown": [
       "Reconciliations to GAAP measures and further information are set forth in the table at the end of this press release.<hr /><hr />General and administrative expenses for 2023 were $633.6 million on a GAAP basis, or $629.6 million1 on a non-GAAP basis, excluding $4.8 million of corporate restructuring costs and a $0.8 million reduction in contingencies related to certain legal proceedings."
      ],
      "text/plain": [
       "<IPython.core.display.Markdown object>"
      ]
     },
     "metadata": {},
     "output_type": "display_data"
    },
    {
     "data": {
      "text/markdown": [
       "General and administrative expenses (GAAP basis)\n",
       "633.6\n",
       "2023 Full Year"
      ],
      "text/plain": [
       "<IPython.core.display.Markdown object>"
      ]
     },
     "metadata": {},
     "output_type": "display_data"
    },
    {
     "data": {
      "text/markdown": [
       "General and administrative expenses (non-GAAP basis)\n",
       "629.6\n",
       "2023 Full Year"
      ],
      "text/plain": [
       "<IPython.core.display.Markdown object>"
      ]
     },
     "metadata": {},
     "output_type": "display_data"
    },
    {
     "data": {
      "text/markdown": [
       "Corporate restructuring costs\n",
       "4.8\n",
       "2023 Full Year"
      ],
      "text/plain": [
       "<IPython.core.display.Markdown object>"
      ]
     },
     "metadata": {},
     "output_type": "display_data"
    },
    {
     "data": {
      "text/markdown": [
       "Reduction in contingencies related to certain legal proceedings\n",
       "0.8\n",
       "2023 Full Year"
      ],
      "text/plain": [
       "<IPython.core.display.Markdown object>"
      ]
     },
     "metadata": {},
     "output_type": "display_data"
    },
    {
     "data": {
      "text/markdown": [
       "GAAP and non-GAAP General and administrative expenses for full year 2023 also include $478.9 million of underlying general and administrative expenses, $118.5 million of non-cash stock compensation, $25.3 million of higher bonus accruals and payroll taxes on equity vesting and exercises and $6.9 million of other costs, primarily related to our upcoming All Managers Conference scheduled for the first quarter of 2024."
      ],
      "text/plain": [
       "<IPython.core.display.Markdown object>"
      ]
     },
     "metadata": {},
     "output_type": "display_data"
    },
    {
     "data": {
      "text/markdown": [
       "GAAP and non-GAAP General and administrative expenses (full year 2023)\n",
       "478.9\n",
       "2023 Full Year"
      ],
      "text/plain": [
       "<IPython.core.display.Markdown object>"
      ]
     },
     "metadata": {},
     "output_type": "display_data"
    },
    {
     "data": {
      "text/markdown": [
       "Non-cash stock compensation (full year 2023)\n",
       "118.5\n",
       "2023 Full Year"
      ],
      "text/plain": [
       "<IPython.core.display.Markdown object>"
      ]
     },
     "metadata": {},
     "output_type": "display_data"
    },
    {
     "data": {
      "text/markdown": [
       "Higher bonus accruals and payroll taxes on equity vesting and exercises (full year 2023)\n",
       "25.3\n",
       "2023 Full Year"
      ],
      "text/plain": [
       "<IPython.core.display.Markdown object>"
      ]
     },
     "metadata": {},
     "output_type": "display_data"
    },
    {
     "data": {
      "text/markdown": [
       "Other costs, primarily related to All Managers Conference (full year 2023)\n",
       "6.9\n",
       "2023 Full Year"
      ],
      "text/plain": [
       "<IPython.core.display.Markdown object>"
      ]
     },
     "metadata": {},
     "output_type": "display_data"
    },
    {
     "data": {
      "text/markdown": [
       "The effective income tax rate for 2023 was 24.2% compared to 23.9% in 2022."
      ],
      "text/plain": [
       "<IPython.core.display.Markdown object>"
      ]
     },
     "metadata": {},
     "output_type": "display_data"
    },
    {
     "data": {
      "text/markdown": [
       "Effective income tax rate\n",
       "24.2\n",
       "2023 Full Year"
      ],
      "text/plain": [
       "<IPython.core.display.Markdown object>"
      ]
     },
     "metadata": {},
     "output_type": "display_data"
    },
    {
     "data": {
      "text/markdown": [
       "Net income for 2023 was $1.23 billion, or $44.34 per diluted share, compared to net income of $899.1 million, or $32.04 per diluted share for 2022."
      ],
      "text/plain": [
       "<IPython.core.display.Markdown object>"
      ]
     },
     "metadata": {},
     "output_type": "display_data"
    },
    {
     "data": {
      "text/markdown": [
       "Net income\n",
       "1.23 billion\n",
       "2023 Full Year"
      ],
      "text/plain": [
       "<IPython.core.display.Markdown object>"
      ]
     },
     "metadata": {},
     "output_type": "display_data"
    },
    {
     "data": {
      "text/markdown": [
       "Earnings per diluted share\n",
       "44.34\n",
       "2023 Full Year"
      ],
      "text/plain": [
       "<IPython.core.display.Markdown object>"
      ]
     },
     "metadata": {},
     "output_type": "display_data"
    },
    {
     "data": {
      "text/markdown": [
       "Excluding a $0.52 after-tax impact from expenses related to restaurant and corporate level impairment and closure costs, accelerated depreciation, corporate restructuring, partially offset by a reduction in contingencies related to certain legal proceedings, adjusted net income for 2023 was $1.24 billion1 and adjusted diluted earnings per share was $44.861."
      ],
      "text/plain": [
       "<IPython.core.display.Markdown object>"
      ]
     },
     "metadata": {},
     "output_type": "display_data"
    },
    {
     "data": {
      "text/markdown": [
       "Adjusted net income\n",
       "1.24\n",
       "2023 Full Year"
      ],
      "text/plain": [
       "<IPython.core.display.Markdown object>"
      ]
     },
     "metadata": {},
     "output_type": "display_data"
    },
    {
     "data": {
      "text/markdown": [
       "Adjusted diluted earnings per share\n",
       "44.86\n",
       "2023 Full Year"
      ],
      "text/plain": [
       "<IPython.core.display.Markdown object>"
      ]
     },
     "metadata": {},
     "output_type": "display_data"
    },
    {
     "data": {
      "text/markdown": [
       "During 2023 we repurchased a total of $589.8 million of stock at an average price per share of $1,827.46."
      ],
      "text/plain": [
       "<IPython.core.display.Markdown object>"
      ]
     },
     "metadata": {},
     "output_type": "display_data"
    },
    {
     "data": {
      "text/markdown": [
       "Stock repurchased\n",
       "589.8\n",
       "2023 Full Year"
      ],
      "text/plain": [
       "<IPython.core.display.Markdown object>"
      ]
     },
     "metadata": {},
     "output_type": "display_data"
    },
    {
     "data": {
      "text/markdown": [
       "Average price per share\n",
       "1827.46\n",
       "2023 Full Year"
      ],
      "text/plain": [
       "<IPython.core.display.Markdown object>"
      ]
     },
     "metadata": {},
     "output_type": "display_data"
    },
    {
     "data": {
      "text/markdown": [
       "·  Full year comparable restaurant sales growth in the mid-single digit range"
      ],
      "text/plain": [
       "<IPython.core.display.Markdown object>"
      ]
     },
     "metadata": {},
     "output_type": "display_data"
    },
    {
     "data": {
      "text/markdown": [
       "Full year comparable restaurant sales growth\n",
       "mid-single digit\n",
       "(Expected) 2024 Full Year"
      ],
      "text/plain": [
       "<IPython.core.display.Markdown object>"
      ]
     },
     "metadata": {},
     "output_type": "display_data"
    },
    {
     "data": {
      "text/markdown": [
       "·  285 to 315 new restaurant openings, which assumes developer, permit, inspection, and utility delays do not worsen"
      ],
      "text/plain": [
       "<IPython.core.display.Markdown object>"
      ]
     },
     "metadata": {},
     "output_type": "display_data"
    },
    {
     "data": {
      "text/markdown": [
       "new restaurant openings\n",
       "285 to 315\n",
       "(Expected) 2024 Full Year"
      ],
      "text/plain": [
       "<IPython.core.display.Markdown object>"
      ]
     },
     "metadata": {},
     "output_type": "display_data"
    },
    {
     "data": {
      "text/markdown": [
       "·  An estimated underlying effective full year tax rate between 25% and 27% before discrete items"
      ],
      "text/plain": [
       "<IPython.core.display.Markdown object>"
      ]
     },
     "metadata": {},
     "output_type": "display_data"
    },
    {
     "data": {
      "text/markdown": [
       "underlying effective full year tax rate\n",
       "25\n",
       "(Expected) 2024 Full Year"
      ],
      "text/plain": [
       "<IPython.core.display.Markdown object>"
      ]
     },
     "metadata": {},
     "output_type": "display_data"
    },
    {
     "data": {
      "text/markdown": [
       "Chipotle had over 3,400 restaurants as of December 31, 2023, in the United States, Canada, the United Kingdom, France and Germany and is the only restaurant company of its size that owns and operates all its restaurants in North America and Europe."
      ],
      "text/plain": [
       "<IPython.core.display.Markdown object>"
      ]
     },
     "metadata": {},
     "output_type": "display_data"
    },
    {
     "data": {
      "text/markdown": [
       "Number of restaurants\n",
       "3400\n",
       "2023 Q4"
      ],
      "text/plain": [
       "<IPython.core.display.Markdown object>"
      ]
     },
     "metadata": {},
     "output_type": "display_data"
    },
    {
     "data": {
      "text/markdown": [
       "|  ﻿  |  Three months ended December 31,  |     |     |     |     |     |     |     |\n",
       "|  ---  |  ---  |  ---  |  ---  |  ---  |  ---  |  ---  |  ---  |  ---  |\n",
       "|  ﻿  |  2023  |     |     |     |  2022  |     |     |     |\n",
       "|  Food and beverage revenue  |  $  |  2,499,567  |  99.3  |  %  |  $  |  2,163,907  |  99.2  |  %  |\n",
       "|  Delivery service revenue  |     |  16,753  |  0.7  |     |     |  16,692  |  0.8  |     |\n",
       "|  Total revenue  |     |  2,516,320  |  100.0  |     |     |  2,180,599  |  100.0  |     |\n",
       "|  Food, beverage and packaging  |     |  747,155  |  29.7  |     |     |  638,851  |  29.3  |     |\n",
       "|  Labor  |     |  629,228  |  25.0  |     |     |  558,914  |  25.6  |     |\n",
       "|  Occupancy  |     |  131,167  |  5.2  |     |     |  118,648  |  5.4  |     |\n",
       "|  Other operating costs  |     |  370,466  |  14.7  |     |     |  341,644  |  15.7  |     |\n",
       "|  General and administrative expenses  |     |  169,247  |  6.7  |     |     |  135,073  |  6.2  |     |\n",
       "|  Depreciation and amortization  |     |  85,492  |  3.4  |     |     |  74,012  |  3.4  |     |\n",
       "|  Pre-opening costs  |     |  13,590  |  0.5  |     |     |  11,341  |  0.5  |     |\n",
       "|  Impairment, closure costs, and asset disposals  |     |  6,528  |  0.3  |     |     |  5,785  |  0.3  |     |\n",
       "|  Total operating expenses  |     |  2,152,873  |  85.6  |     |     |  1,884,268  |  86.4  |     |\n",
       "|  Income from operations  |     |  363,447  |  14.4  |     |     |  296,331  |  13.6  |     |\n",
       "|  Interest and other income, net  |     |  18,906  |  0.8  |     |     |  7,057  |  0.3  |     |\n",
       "|  Income before income taxes  |     |  382,353  |  15.2  |     |     |  303,388  |  13.9  |     |\n",
       "|  Provision for income taxes  |     |  (100,267)  |  (4.0)  |     |     |  (79,661)  |  (3.7)  |     |\n",
       "|  Net income  |  $  |  282,086  |  11.2  |  %  |  $  |  223,727  |  10.3  |  %  |\n",
       "|  Basic  |  $  |  10.28  |     |     |  $  |  8.08  |     |     |\n",
       "|  Diluted  |  $  |  10.21  |     |     |  $  |  8.02  |     |     |\n",
       "|  Basic  |     |  27,440  |     |     |     |  27,684  |     |     |\n",
       "|  Diluted  |     |  27,621  |     |     |     |  27,899  |     |     |"
      ],
      "text/plain": [
       "<IPython.core.display.Markdown object>"
      ]
     },
     "metadata": {},
     "output_type": "display_data"
    },
    {
     "data": {
      "text/markdown": [
       "Food and beverage revenue\n",
       "2499567\n",
       "2023 Q4"
      ],
      "text/plain": [
       "<IPython.core.display.Markdown object>"
      ]
     },
     "metadata": {},
     "output_type": "display_data"
    },
    {
     "data": {
      "text/markdown": [
       "Food and beverage revenue\n",
       "2163907\n",
       "2022 Q4"
      ],
      "text/plain": [
       "<IPython.core.display.Markdown object>"
      ]
     },
     "metadata": {},
     "output_type": "display_data"
    },
    {
     "data": {
      "text/markdown": [
       "Food and beverage revenue (percentage of total revenue)\n",
       "99.3\n",
       "2023 Q4"
      ],
      "text/plain": [
       "<IPython.core.display.Markdown object>"
      ]
     },
     "metadata": {},
     "output_type": "display_data"
    },
    {
     "data": {
      "text/markdown": [
       "Food and beverage revenue (percentage of total revenue)\n",
       "99.2\n",
       "2022 Q4"
      ],
      "text/plain": [
       "<IPython.core.display.Markdown object>"
      ]
     },
     "metadata": {},
     "output_type": "display_data"
    },
    {
     "data": {
      "text/markdown": [
       "Delivery service revenue\n",
       "16753\n",
       "2023 Q4"
      ],
      "text/plain": [
       "<IPython.core.display.Markdown object>"
      ]
     },
     "metadata": {},
     "output_type": "display_data"
    },
    {
     "data": {
      "text/markdown": [
       "Delivery service revenue\n",
       "16692\n",
       "2022 Q4"
      ],
      "text/plain": [
       "<IPython.core.display.Markdown object>"
      ]
     },
     "metadata": {},
     "output_type": "display_data"
    },
    {
     "data": {
      "text/markdown": [
       "Delivery service revenue (percentage of total revenue)\n",
       "0.7\n",
       "2023 Q4"
      ],
      "text/plain": [
       "<IPython.core.display.Markdown object>"
      ]
     },
     "metadata": {},
     "output_type": "display_data"
    },
    {
     "data": {
      "text/markdown": [
       "Delivery service revenue (percentage of total revenue)\n",
       "0.8\n",
       "2022 Q4"
      ],
      "text/plain": [
       "<IPython.core.display.Markdown object>"
      ]
     },
     "metadata": {},
     "output_type": "display_data"
    },
    {
     "data": {
      "text/markdown": [
       "Total revenue\n",
       "2,516,320\n",
       "2023 Q4"
      ],
      "text/plain": [
       "<IPython.core.display.Markdown object>"
      ]
     },
     "metadata": {},
     "output_type": "display_data"
    },
    {
     "data": {
      "text/markdown": [
       "Total revenue\n",
       "2,180,599\n",
       "2022 Q4"
      ],
      "text/plain": [
       "<IPython.core.display.Markdown object>"
      ]
     },
     "metadata": {},
     "output_type": "display_data"
    },
    {
     "data": {
      "text/markdown": [
       "Total revenue (percentage of total revenue)\n",
       "100.0\n",
       "2023 Q4"
      ],
      "text/plain": [
       "<IPython.core.display.Markdown object>"
      ]
     },
     "metadata": {},
     "output_type": "display_data"
    },
    {
     "data": {
      "text/markdown": [
       "Total revenue (percentage of total revenue)\n",
       "100.0\n",
       "2022 Q4"
      ],
      "text/plain": [
       "<IPython.core.display.Markdown object>"
      ]
     },
     "metadata": {},
     "output_type": "display_data"
    },
    {
     "data": {
      "text/markdown": [
       "Food, beverage and packaging\n",
       "747,155\n",
       "2023 Q4"
      ],
      "text/plain": [
       "<IPython.core.display.Markdown object>"
      ]
     },
     "metadata": {},
     "output_type": "display_data"
    },
    {
     "data": {
      "text/markdown": [
       "Food, beverage and packaging\n",
       "638,851\n",
       "2022 Q4"
      ],
      "text/plain": [
       "<IPython.core.display.Markdown object>"
      ]
     },
     "metadata": {},
     "output_type": "display_data"
    },
    {
     "data": {
      "text/markdown": [
       "Food, beverage and packaging (percentage of total revenue)\n",
       "29.7\n",
       "2023 Q4"
      ],
      "text/plain": [
       "<IPython.core.display.Markdown object>"
      ]
     },
     "metadata": {},
     "output_type": "display_data"
    },
    {
     "data": {
      "text/markdown": [
       "Food, beverage and packaging (percentage of total revenue)\n",
       "29.3\n",
       "2022 Q4"
      ],
      "text/plain": [
       "<IPython.core.display.Markdown object>"
      ]
     },
     "metadata": {},
     "output_type": "display_data"
    },
    {
     "data": {
      "text/markdown": [
       "Labor\n",
       "629228\n",
       "2023 Q4"
      ],
      "text/plain": [
       "<IPython.core.display.Markdown object>"
      ]
     },
     "metadata": {},
     "output_type": "display_data"
    },
    {
     "data": {
      "text/markdown": [
       "Labor\n",
       "558914\n",
       "2022 Q4"
      ],
      "text/plain": [
       "<IPython.core.display.Markdown object>"
      ]
     },
     "metadata": {},
     "output_type": "display_data"
    },
    {
     "data": {
      "text/markdown": [
       "Labor (percentage of total revenue)\n",
       "25.0\n",
       "2023 Q4"
      ],
      "text/plain": [
       "<IPython.core.display.Markdown object>"
      ]
     },
     "metadata": {},
     "output_type": "display_data"
    },
    {
     "data": {
      "text/markdown": [
       "Labor (percentage of total revenue)\n",
       "25.6\n",
       "2022 Q4"
      ],
      "text/plain": [
       "<IPython.core.display.Markdown object>"
      ]
     },
     "metadata": {},
     "output_type": "display_data"
    },
    {
     "data": {
      "text/markdown": [
       "Occupancy\n",
       "131,167\n",
       "2023 Q4"
      ],
      "text/plain": [
       "<IPython.core.display.Markdown object>"
      ]
     },
     "metadata": {},
     "output_type": "display_data"
    },
    {
     "data": {
      "text/markdown": [
       "Occupancy\n",
       "118,648\n",
       "2022 Q4"
      ],
      "text/plain": [
       "<IPython.core.display.Markdown object>"
      ]
     },
     "metadata": {},
     "output_type": "display_data"
    },
    {
     "data": {
      "text/markdown": [
       "Occupancy (percentage of total revenue)\n",
       "5.2\n",
       "2023 Q4"
      ],
      "text/plain": [
       "<IPython.core.display.Markdown object>"
      ]
     },
     "metadata": {},
     "output_type": "display_data"
    },
    {
     "data": {
      "text/markdown": [
       "Occupancy (percentage of total revenue)\n",
       "5.4\n",
       "2022 Q4"
      ],
      "text/plain": [
       "<IPython.core.display.Markdown object>"
      ]
     },
     "metadata": {},
     "output_type": "display_data"
    },
    {
     "data": {
      "text/markdown": [
       "Other operating costs\n",
       "370466\n",
       "2023 Q4"
      ],
      "text/plain": [
       "<IPython.core.display.Markdown object>"
      ]
     },
     "metadata": {},
     "output_type": "display_data"
    },
    {
     "data": {
      "text/markdown": [
       "Other operating costs\n",
       "341644\n",
       "2022 Q4"
      ],
      "text/plain": [
       "<IPython.core.display.Markdown object>"
      ]
     },
     "metadata": {},
     "output_type": "display_data"
    },
    {
     "data": {
      "text/markdown": [
       "Other operating costs (percentage of total revenue)\n",
       "14.7\n",
       "2023 Q4"
      ],
      "text/plain": [
       "<IPython.core.display.Markdown object>"
      ]
     },
     "metadata": {},
     "output_type": "display_data"
    },
    {
     "data": {
      "text/markdown": [
       "Other operating costs (percentage of total revenue)\n",
       "15.7\n",
       "2022 Q4"
      ],
      "text/plain": [
       "<IPython.core.display.Markdown object>"
      ]
     },
     "metadata": {},
     "output_type": "display_data"
    },
    {
     "data": {
      "text/markdown": [
       "General and administrative expenses\n",
       "169247\n",
       "2023 Q4"
      ],
      "text/plain": [
       "<IPython.core.display.Markdown object>"
      ]
     },
     "metadata": {},
     "output_type": "display_data"
    },
    {
     "data": {
      "text/markdown": [
       "General and administrative expenses\n",
       "135073\n",
       "2022 Q4"
      ],
      "text/plain": [
       "<IPython.core.display.Markdown object>"
      ]
     },
     "metadata": {},
     "output_type": "display_data"
    },
    {
     "data": {
      "text/markdown": [
       "General and administrative expenses (percentage of total revenue)\n",
       "6.7\n",
       "2023 Q4"
      ],
      "text/plain": [
       "<IPython.core.display.Markdown object>"
      ]
     },
     "metadata": {},
     "output_type": "display_data"
    },
    {
     "data": {
      "text/markdown": [
       "General and administrative expenses (percentage of total revenue)\n",
       "6.2\n",
       "2022 Q4"
      ],
      "text/plain": [
       "<IPython.core.display.Markdown object>"
      ]
     },
     "metadata": {},
     "output_type": "display_data"
    },
    {
     "data": {
      "text/markdown": [
       "Depreciation and amortization\n",
       "85,492\n",
       "2023 Q4"
      ],
      "text/plain": [
       "<IPython.core.display.Markdown object>"
      ]
     },
     "metadata": {},
     "output_type": "display_data"
    },
    {
     "data": {
      "text/markdown": [
       "Depreciation and amortization\n",
       "74,012\n",
       "2022 Q4"
      ],
      "text/plain": [
       "<IPython.core.display.Markdown object>"
      ]
     },
     "metadata": {},
     "output_type": "display_data"
    },
    {
     "data": {
      "text/markdown": [
       "Depreciation and amortization (percentage of total revenue)\n",
       "3.4\n",
       "2023 Q4"
      ],
      "text/plain": [
       "<IPython.core.display.Markdown object>"
      ]
     },
     "metadata": {},
     "output_type": "display_data"
    },
    {
     "data": {
      "text/markdown": [
       "Depreciation and amortization (percentage of total revenue)\n",
       "3.4\n",
       "2022 Q4"
      ],
      "text/plain": [
       "<IPython.core.display.Markdown object>"
      ]
     },
     "metadata": {},
     "output_type": "display_data"
    },
    {
     "data": {
      "text/markdown": [
       "Pre-opening costs\n",
       "13,590\n",
       "2023 Q4"
      ],
      "text/plain": [
       "<IPython.core.display.Markdown object>"
      ]
     },
     "metadata": {},
     "output_type": "display_data"
    },
    {
     "data": {
      "text/markdown": [
       "Pre-opening costs\n",
       "11,341\n",
       "2022 Q4"
      ],
      "text/plain": [
       "<IPython.core.display.Markdown object>"
      ]
     },
     "metadata": {},
     "output_type": "display_data"
    },
    {
     "data": {
      "text/markdown": [
       "Pre-opening costs (percentage of total revenue)\n",
       "0.5\n",
       "2023 Q4"
      ],
      "text/plain": [
       "<IPython.core.display.Markdown object>"
      ]
     },
     "metadata": {},
     "output_type": "display_data"
    },
    {
     "data": {
      "text/markdown": [
       "Pre-opening costs (percentage of total revenue)\n",
       "0.5\n",
       "2022 Q4"
      ],
      "text/plain": [
       "<IPython.core.display.Markdown object>"
      ]
     },
     "metadata": {},
     "output_type": "display_data"
    },
    {
     "data": {
      "text/markdown": [
       "Impairment, closure costs, and asset disposals\n",
       "6,528\n",
       "2023 Q4"
      ],
      "text/plain": [
       "<IPython.core.display.Markdown object>"
      ]
     },
     "metadata": {},
     "output_type": "display_data"
    },
    {
     "data": {
      "text/markdown": [
       "Impairment, closure costs, and asset disposals\n",
       "5,785\n",
       "2022 Q4"
      ],
      "text/plain": [
       "<IPython.core.display.Markdown object>"
      ]
     },
     "metadata": {},
     "output_type": "display_data"
    },
    {
     "data": {
      "text/markdown": [
       "Impairment, closure costs, and asset disposals (percentage of total revenue)\n",
       "0.3\n",
       "2023 Q4"
      ],
      "text/plain": [
       "<IPython.core.display.Markdown object>"
      ]
     },
     "metadata": {},
     "output_type": "display_data"
    },
    {
     "data": {
      "text/markdown": [
       "Impairment, closure costs, and asset disposals (percentage of total revenue)\n",
       "0.3\n",
       "2022 Q4"
      ],
      "text/plain": [
       "<IPython.core.display.Markdown object>"
      ]
     },
     "metadata": {},
     "output_type": "display_data"
    },
    {
     "data": {
      "text/markdown": [
       "Total operating expenses\n",
       "2,152,873\n",
       "2023 Q4"
      ],
      "text/plain": [
       "<IPython.core.display.Markdown object>"
      ]
     },
     "metadata": {},
     "output_type": "display_data"
    },
    {
     "data": {
      "text/markdown": [
       "Total operating expenses\n",
       "1,884,268\n",
       "2022 Q4"
      ],
      "text/plain": [
       "<IPython.core.display.Markdown object>"
      ]
     },
     "metadata": {},
     "output_type": "display_data"
    },
    {
     "data": {
      "text/markdown": [
       "Total operating expenses (percentage of total revenue)\n",
       "85.6\n",
       "2023 Q4"
      ],
      "text/plain": [
       "<IPython.core.display.Markdown object>"
      ]
     },
     "metadata": {},
     "output_type": "display_data"
    },
    {
     "data": {
      "text/markdown": [
       "Total operating expenses (percentage of total revenue)\n",
       "86.4\n",
       "2022 Q4"
      ],
      "text/plain": [
       "<IPython.core.display.Markdown object>"
      ]
     },
     "metadata": {},
     "output_type": "display_data"
    },
    {
     "data": {
      "text/markdown": [
       "Income from operations\n",
       "363,447\n",
       "2023 Q4"
      ],
      "text/plain": [
       "<IPython.core.display.Markdown object>"
      ]
     },
     "metadata": {},
     "output_type": "display_data"
    },
    {
     "data": {
      "text/markdown": [
       "Income from operations\n",
       "296,331\n",
       "2022 Q4"
      ],
      "text/plain": [
       "<IPython.core.display.Markdown object>"
      ]
     },
     "metadata": {},
     "output_type": "display_data"
    },
    {
     "data": {
      "text/markdown": [
       "Income from operations (percentage of total revenue)\n",
       "14.4\n",
       "2023 Q4"
      ],
      "text/plain": [
       "<IPython.core.display.Markdown object>"
      ]
     },
     "metadata": {},
     "output_type": "display_data"
    },
    {
     "data": {
      "text/markdown": [
       "Income from operations (percentage of total revenue)\n",
       "13.6\n",
       "2022 Q4"
      ],
      "text/plain": [
       "<IPython.core.display.Markdown object>"
      ]
     },
     "metadata": {},
     "output_type": "display_data"
    },
    {
     "data": {
      "text/markdown": [
       "Interest and other income, net\n",
       "18906\n",
       "2023 Q4"
      ],
      "text/plain": [
       "<IPython.core.display.Markdown object>"
      ]
     },
     "metadata": {},
     "output_type": "display_data"
    },
    {
     "data": {
      "text/markdown": [
       "Interest and other income, net\n",
       "7057\n",
       "2022 Q4"
      ],
      "text/plain": [
       "<IPython.core.display.Markdown object>"
      ]
     },
     "metadata": {},
     "output_type": "display_data"
    },
    {
     "data": {
      "text/markdown": [
       "Interest and other income, net (percentage of total revenue)\n",
       "0.8\n",
       "2023 Q4"
      ],
      "text/plain": [
       "<IPython.core.display.Markdown object>"
      ]
     },
     "metadata": {},
     "output_type": "display_data"
    },
    {
     "data": {
      "text/markdown": [
       "Interest and other income, net (percentage of total revenue)\n",
       "0.3\n",
       "2022 Q4"
      ],
      "text/plain": [
       "<IPython.core.display.Markdown object>"
      ]
     },
     "metadata": {},
     "output_type": "display_data"
    },
    {
     "data": {
      "text/markdown": [
       "Income before income taxes\n",
       "382,353\n",
       "2023 Q4"
      ],
      "text/plain": [
       "<IPython.core.display.Markdown object>"
      ]
     },
     "metadata": {},
     "output_type": "display_data"
    },
    {
     "data": {
      "text/markdown": [
       "Income before income taxes\n",
       "303,388\n",
       "2022 Q4"
      ],
      "text/plain": [
       "<IPython.core.display.Markdown object>"
      ]
     },
     "metadata": {},
     "output_type": "display_data"
    },
    {
     "data": {
      "text/markdown": [
       "Income before income taxes (percentage of total revenue)\n",
       "15.2\n",
       "2023 Q4"
      ],
      "text/plain": [
       "<IPython.core.display.Markdown object>"
      ]
     },
     "metadata": {},
     "output_type": "display_data"
    },
    {
     "data": {
      "text/markdown": [
       "Income before income taxes (percentage of total revenue)\n",
       "13.9\n",
       "2022 Q4"
      ],
      "text/plain": [
       "<IPython.core.display.Markdown object>"
      ]
     },
     "metadata": {},
     "output_type": "display_data"
    },
    {
     "data": {
      "text/markdown": [
       "Provision for income taxes\n",
       "-100267\n",
       "2023 Q4"
      ],
      "text/plain": [
       "<IPython.core.display.Markdown object>"
      ]
     },
     "metadata": {},
     "output_type": "display_data"
    },
    {
     "data": {
      "text/markdown": [
       "Provision for income taxes\n",
       "-79661\n",
       "2022 Q4"
      ],
      "text/plain": [
       "<IPython.core.display.Markdown object>"
      ]
     },
     "metadata": {},
     "output_type": "display_data"
    },
    {
     "data": {
      "text/markdown": [
       "Provision for income taxes (percentage of total revenue)\n",
       "-4.0\n",
       "2023 Q4"
      ],
      "text/plain": [
       "<IPython.core.display.Markdown object>"
      ]
     },
     "metadata": {},
     "output_type": "display_data"
    },
    {
     "data": {
      "text/markdown": [
       "Provision for income taxes (percentage of total revenue)\n",
       "-3.7\n",
       "2022 Q4"
      ],
      "text/plain": [
       "<IPython.core.display.Markdown object>"
      ]
     },
     "metadata": {},
     "output_type": "display_data"
    },
    {
     "data": {
      "text/markdown": [
       "Net income\n",
       "282,086\n",
       "2023 Q4"
      ],
      "text/plain": [
       "<IPython.core.display.Markdown object>"
      ]
     },
     "metadata": {},
     "output_type": "display_data"
    },
    {
     "data": {
      "text/markdown": [
       "Net income\n",
       "223,727\n",
       "2022 Q4"
      ],
      "text/plain": [
       "<IPython.core.display.Markdown object>"
      ]
     },
     "metadata": {},
     "output_type": "display_data"
    },
    {
     "data": {
      "text/markdown": [
       "Net income (percentage of total revenue)\n",
       "11.2\n",
       "2023 Q4"
      ],
      "text/plain": [
       "<IPython.core.display.Markdown object>"
      ]
     },
     "metadata": {},
     "output_type": "display_data"
    },
    {
     "data": {
      "text/markdown": [
       "Net income (percentage of total revenue)\n",
       "10.3\n",
       "2022 Q4"
      ],
      "text/plain": [
       "<IPython.core.display.Markdown object>"
      ]
     },
     "metadata": {},
     "output_type": "display_data"
    },
    {
     "data": {
      "text/markdown": [
       "Basic earnings per share\n",
       "10.28\n",
       "2023 Q4"
      ],
      "text/plain": [
       "<IPython.core.display.Markdown object>"
      ]
     },
     "metadata": {},
     "output_type": "display_data"
    },
    {
     "data": {
      "text/markdown": [
       "Basic earnings per share\n",
       "8.08\n",
       "2022 Q4"
      ],
      "text/plain": [
       "<IPython.core.display.Markdown object>"
      ]
     },
     "metadata": {},
     "output_type": "display_data"
    },
    {
     "data": {
      "text/markdown": [
       "Diluted earnings per share\n",
       "10.21\n",
       "2023 Q4"
      ],
      "text/plain": [
       "<IPython.core.display.Markdown object>"
      ]
     },
     "metadata": {},
     "output_type": "display_data"
    },
    {
     "data": {
      "text/markdown": [
       "Diluted earnings per share\n",
       "8.02\n",
       "2022 Q4"
      ],
      "text/plain": [
       "<IPython.core.display.Markdown object>"
      ]
     },
     "metadata": {},
     "output_type": "display_data"
    },
    {
     "data": {
      "text/markdown": [
       "Basic weighted average shares outstanding\n",
       "27,440\n",
       "2023 Q4"
      ],
      "text/plain": [
       "<IPython.core.display.Markdown object>"
      ]
     },
     "metadata": {},
     "output_type": "display_data"
    },
    {
     "data": {
      "text/markdown": [
       "Basic weighted average shares outstanding\n",
       "27,684\n",
       "2022 Q4"
      ],
      "text/plain": [
       "<IPython.core.display.Markdown object>"
      ]
     },
     "metadata": {},
     "output_type": "display_data"
    },
    {
     "data": {
      "text/markdown": [
       "Diluted weighted average shares outstanding\n",
       "27,621\n",
       "2023 Q4"
      ],
      "text/plain": [
       "<IPython.core.display.Markdown object>"
      ]
     },
     "metadata": {},
     "output_type": "display_data"
    },
    {
     "data": {
      "text/markdown": [
       "Diluted weighted average shares outstanding\n",
       "27,899\n",
       "2022 Q4"
      ],
      "text/plain": [
       "<IPython.core.display.Markdown object>"
      ]
     },
     "metadata": {},
     "output_type": "display_data"
    },
    {
     "data": {
      "text/markdown": [
       "|  ﻿  |  Year ended December 31,  |     |     |     |     |     |     |     |\n",
       "|  ---  |  ---  |  ---  |  ---  |  ---  |  ---  |  ---  |  ---  |  ---  |\n",
       "|  ﻿  |  2023  |     |     |     |  2022  |     |     |     |\n",
       "|  ﻿  |  (unaudited)  |     |     |     |     |     |     |     |\n",
       "|  Food and beverage revenue  |  $  |  9,804,124  |  99.3  |  %  |  $  |  8,558,001  |  99.1  |  %  |\n",
       "|  Delivery service revenue  |     |  67,525  |  0.7  |     |     |  76,651  |  0.9  |     |\n",
       "|  Total revenue  |     |  9,871,649  |  100.0  |     |     |  8,634,652  |  100.0  |     |\n",
       "|  Food, beverage and packaging  |     |  2,912,564  |  29.5  |     |     |  2,602,245  |  30.1  |     |\n",
       "|  Labor  |     |  2,440,982  |  24.7  |     |     |  2,197,958  |  25.5  |     |\n",
       "|  Occupancy  |     |  503,264  |  5.1  |     |     |  460,425  |  5.3  |     |\n",
       "|  Other operating costs  |     |  1,428,747  |  14.5  |     |     |  1,311,905  |  15.2  |     |\n",
       "|  General and administrative expenses  |     |  633,584  |  6.4  |     |     |  564,191  |  6.5  |     |\n",
       "|  Depreciation and amortization  |     |  319,394  |  3.2  |     |     |  286,826  |  3.3  |     |\n",
       "|  Pre-opening costs  |     |  36,931  |  0.4  |     |     |  29,560  |  0.3  |     |\n",
       "|  Impairment, closure costs, and asset disposals  |     |  38,370  |  0.4  |     |     |  21,139  |  0.2  |     |\n",
       "|  Total operating expenses  |     |  8,313,836  |  84.2  |     |     |  7,474,249  |  86.6  |     |\n",
       "|  Income from operations  |     |  1,557,813  |  15.8  |     |     |  1,160,403  |  13.4  |     |\n",
       "|  Interest and other income, net  |     |  62,693  |  0.6  |     |     |  21,128  |  0.2  |     |\n",
       "|  Income before income taxes  |     |  1,620,506  |  16.4  |     |     |  1,181,531  |  13.7  |     |\n",
       "|  Provision for income taxes  |     |  (391,769)  |  (4.0)  |     |     |  (282,430)  |  (3.3)  |     |\n",
       "|  Net income  |  $  |  1,228,737  |  12.4  |  %  |  $  |  899,101  |  10.4  |  %  |\n",
       "|  Basic  |  $  |  44.59  |     |     |  $  |  32.28  |     |     |\n",
       "|  Diluted  |  $  |  44.34  |     |     |  $  |  32.04  |     |     |\n",
       "|  Basic  |     |  27,555  |     |     |     |  27,851  |     |     |\n",
       "|  Diluted  |     |  27,710  |     |     |     |  28,062  |     |     |"
      ],
      "text/plain": [
       "<IPython.core.display.Markdown object>"
      ]
     },
     "metadata": {},
     "output_type": "display_data"
    },
    {
     "data": {
      "text/markdown": [
       "Food and beverage revenue\n",
       "9,804,124\n",
       "2023 Full Year"
      ],
      "text/plain": [
       "<IPython.core.display.Markdown object>"
      ]
     },
     "metadata": {},
     "output_type": "display_data"
    },
    {
     "data": {
      "text/markdown": [
       "Food and beverage revenue\n",
       "8,558,001\n",
       "2022 Full Year"
      ],
      "text/plain": [
       "<IPython.core.display.Markdown object>"
      ]
     },
     "metadata": {},
     "output_type": "display_data"
    },
    {
     "data": {
      "text/markdown": [
       "Food and beverage revenue (percentage of total revenue)\n",
       "99.3\n",
       "2023 Full Year"
      ],
      "text/plain": [
       "<IPython.core.display.Markdown object>"
      ]
     },
     "metadata": {},
     "output_type": "display_data"
    },
    {
     "data": {
      "text/markdown": [
       "Food and beverage revenue (percentage of total revenue)\n",
       "99.1\n",
       "2022 Full Year"
      ],
      "text/plain": [
       "<IPython.core.display.Markdown object>"
      ]
     },
     "metadata": {},
     "output_type": "display_data"
    },
    {
     "data": {
      "text/markdown": [
       "Delivery service revenue\n",
       "67,525\n",
       "2023 Full Year"
      ],
      "text/plain": [
       "<IPython.core.display.Markdown object>"
      ]
     },
     "metadata": {},
     "output_type": "display_data"
    },
    {
     "data": {
      "text/markdown": [
       "Delivery service revenue\n",
       "76,651\n",
       "2022 Full Year"
      ],
      "text/plain": [
       "<IPython.core.display.Markdown object>"
      ]
     },
     "metadata": {},
     "output_type": "display_data"
    },
    {
     "data": {
      "text/markdown": [
       "Delivery service revenue (percentage of total revenue)\n",
       "0.7\n",
       "2023 Full Year"
      ],
      "text/plain": [
       "<IPython.core.display.Markdown object>"
      ]
     },
     "metadata": {},
     "output_type": "display_data"
    },
    {
     "data": {
      "text/markdown": [
       "Delivery service revenue (percentage of total revenue)\n",
       "0.9\n",
       "2022 Full Year"
      ],
      "text/plain": [
       "<IPython.core.display.Markdown object>"
      ]
     },
     "metadata": {},
     "output_type": "display_data"
    },
    {
     "data": {
      "text/markdown": [
       "Total revenue\n",
       "9,871,649\n",
       "2023 Full Year"
      ],
      "text/plain": [
       "<IPython.core.display.Markdown object>"
      ]
     },
     "metadata": {},
     "output_type": "display_data"
    },
    {
     "data": {
      "text/markdown": [
       "Total revenue\n",
       "8,634,652\n",
       "2022 Full Year"
      ],
      "text/plain": [
       "<IPython.core.display.Markdown object>"
      ]
     },
     "metadata": {},
     "output_type": "display_data"
    },
    {
     "data": {
      "text/markdown": [
       "Total revenue (percentage of total revenue)\n",
       "100.0\n",
       "2023 Full Year"
      ],
      "text/plain": [
       "<IPython.core.display.Markdown object>"
      ]
     },
     "metadata": {},
     "output_type": "display_data"
    },
    {
     "data": {
      "text/markdown": [
       "Total revenue (percentage of total revenue)\n",
       "100.0\n",
       "2022 Full Year"
      ],
      "text/plain": [
       "<IPython.core.display.Markdown object>"
      ]
     },
     "metadata": {},
     "output_type": "display_data"
    },
    {
     "data": {
      "text/markdown": [
       "Food, beverage and packaging\n",
       "2,912,564\n",
       "2023 Full Year"
      ],
      "text/plain": [
       "<IPython.core.display.Markdown object>"
      ]
     },
     "metadata": {},
     "output_type": "display_data"
    },
    {
     "data": {
      "text/markdown": [
       "Food, beverage and packaging\n",
       "2,602,245\n",
       "2022 Full Year"
      ],
      "text/plain": [
       "<IPython.core.display.Markdown object>"
      ]
     },
     "metadata": {},
     "output_type": "display_data"
    },
    {
     "data": {
      "text/markdown": [
       "Food, beverage and packaging (percentage of total revenue)\n",
       "29.5\n",
       "2023 Full Year"
      ],
      "text/plain": [
       "<IPython.core.display.Markdown object>"
      ]
     },
     "metadata": {},
     "output_type": "display_data"
    },
    {
     "data": {
      "text/markdown": [
       "Food, beverage and packaging (percentage of total revenue)\n",
       "30.1\n",
       "2022 Full Year"
      ],
      "text/plain": [
       "<IPython.core.display.Markdown object>"
      ]
     },
     "metadata": {},
     "output_type": "display_data"
    },
    {
     "data": {
      "text/markdown": [
       "Labor\n",
       "2,440,982\n",
       "2023 Full Year"
      ],
      "text/plain": [
       "<IPython.core.display.Markdown object>"
      ]
     },
     "metadata": {},
     "output_type": "display_data"
    },
    {
     "data": {
      "text/markdown": [
       "Labor\n",
       "2,197,958\n",
       "2022 Full Year"
      ],
      "text/plain": [
       "<IPython.core.display.Markdown object>"
      ]
     },
     "metadata": {},
     "output_type": "display_data"
    },
    {
     "data": {
      "text/markdown": [
       "Labor (percentage of total revenue)\n",
       "24.7\n",
       "2023 Full Year"
      ],
      "text/plain": [
       "<IPython.core.display.Markdown object>"
      ]
     },
     "metadata": {},
     "output_type": "display_data"
    },
    {
     "data": {
      "text/markdown": [
       "Labor (percentage of total revenue)\n",
       "25.5\n",
       "2022 Full Year"
      ],
      "text/plain": [
       "<IPython.core.display.Markdown object>"
      ]
     },
     "metadata": {},
     "output_type": "display_data"
    },
    {
     "data": {
      "text/markdown": [
       "Occupancy\n",
       "503,264\n",
       "2023 Full Year"
      ],
      "text/plain": [
       "<IPython.core.display.Markdown object>"
      ]
     },
     "metadata": {},
     "output_type": "display_data"
    },
    {
     "data": {
      "text/markdown": [
       "Occupancy\n",
       "460,425\n",
       "2022 Full Year"
      ],
      "text/plain": [
       "<IPython.core.display.Markdown object>"
      ]
     },
     "metadata": {},
     "output_type": "display_data"
    },
    {
     "data": {
      "text/markdown": [
       "Occupancy (percentage of total revenue)\n",
       "5.1\n",
       "2023 Full Year"
      ],
      "text/plain": [
       "<IPython.core.display.Markdown object>"
      ]
     },
     "metadata": {},
     "output_type": "display_data"
    },
    {
     "data": {
      "text/markdown": [
       "Occupancy (percentage of total revenue)\n",
       "5.3\n",
       "2022 Full Year"
      ],
      "text/plain": [
       "<IPython.core.display.Markdown object>"
      ]
     },
     "metadata": {},
     "output_type": "display_data"
    },
    {
     "data": {
      "text/markdown": [
       "Other operating costs\n",
       "1,428,747\n",
       "2023 Full Year"
      ],
      "text/plain": [
       "<IPython.core.display.Markdown object>"
      ]
     },
     "metadata": {},
     "output_type": "display_data"
    },
    {
     "data": {
      "text/markdown": [
       "Other operating costs\n",
       "1,311,905\n",
       "2022 Full Year"
      ],
      "text/plain": [
       "<IPython.core.display.Markdown object>"
      ]
     },
     "metadata": {},
     "output_type": "display_data"
    },
    {
     "data": {
      "text/markdown": [
       "Other operating costs (percentage of total revenue)\n",
       "14.5\n",
       "2023 Full Year"
      ],
      "text/plain": [
       "<IPython.core.display.Markdown object>"
      ]
     },
     "metadata": {},
     "output_type": "display_data"
    },
    {
     "data": {
      "text/markdown": [
       "Other operating costs (percentage of total revenue)\n",
       "15.2\n",
       "2022 Full Year"
      ],
      "text/plain": [
       "<IPython.core.display.Markdown object>"
      ]
     },
     "metadata": {},
     "output_type": "display_data"
    },
    {
     "data": {
      "text/markdown": [
       "General and administrative expenses\n",
       "633584\n",
       "2023 Full Year"
      ],
      "text/plain": [
       "<IPython.core.display.Markdown object>"
      ]
     },
     "metadata": {},
     "output_type": "display_data"
    },
    {
     "data": {
      "text/markdown": [
       "General and administrative expenses\n",
       "564191\n",
       "2022 Full Year"
      ],
      "text/plain": [
       "<IPython.core.display.Markdown object>"
      ]
     },
     "metadata": {},
     "output_type": "display_data"
    },
    {
     "data": {
      "text/markdown": [
       "General and administrative expenses (percentage of total revenue)\n",
       "6.4\n",
       "2023 Full Year"
      ],
      "text/plain": [
       "<IPython.core.display.Markdown object>"
      ]
     },
     "metadata": {},
     "output_type": "display_data"
    },
    {
     "data": {
      "text/markdown": [
       "General and administrative expenses (percentage of total revenue)\n",
       "6.5\n",
       "2022 Full Year"
      ],
      "text/plain": [
       "<IPython.core.display.Markdown object>"
      ]
     },
     "metadata": {},
     "output_type": "display_data"
    },
    {
     "data": {
      "text/markdown": [
       "Depreciation and amortization\n",
       "319,394\n",
       "2023 Full Year"
      ],
      "text/plain": [
       "<IPython.core.display.Markdown object>"
      ]
     },
     "metadata": {},
     "output_type": "display_data"
    },
    {
     "data": {
      "text/markdown": [
       "Depreciation and amortization\n",
       "286,826\n",
       "2022 Full Year"
      ],
      "text/plain": [
       "<IPython.core.display.Markdown object>"
      ]
     },
     "metadata": {},
     "output_type": "display_data"
    },
    {
     "data": {
      "text/markdown": [
       "Depreciation and amortization (percentage of total revenue)\n",
       "3.2\n",
       "2023 Full Year"
      ],
      "text/plain": [
       "<IPython.core.display.Markdown object>"
      ]
     },
     "metadata": {},
     "output_type": "display_data"
    },
    {
     "data": {
      "text/markdown": [
       "Depreciation and amortization (percentage of total revenue)\n",
       "3.3\n",
       "2022 Full Year"
      ],
      "text/plain": [
       "<IPython.core.display.Markdown object>"
      ]
     },
     "metadata": {},
     "output_type": "display_data"
    },
    {
     "data": {
      "text/markdown": [
       "Pre-opening costs\n",
       "36,931\n",
       "2023 Full Year"
      ],
      "text/plain": [
       "<IPython.core.display.Markdown object>"
      ]
     },
     "metadata": {},
     "output_type": "display_data"
    },
    {
     "data": {
      "text/markdown": [
       "Pre-opening costs\n",
       "29,560\n",
       "2022 Full Year"
      ],
      "text/plain": [
       "<IPython.core.display.Markdown object>"
      ]
     },
     "metadata": {},
     "output_type": "display_data"
    },
    {
     "data": {
      "text/markdown": [
       "Pre-opening costs (percentage of total revenue)\n",
       "0.4\n",
       "2023 Full Year"
      ],
      "text/plain": [
       "<IPython.core.display.Markdown object>"
      ]
     },
     "metadata": {},
     "output_type": "display_data"
    },
    {
     "data": {
      "text/markdown": [
       "Pre-opening costs (percentage of total revenue)\n",
       "0.3\n",
       "2022 Full Year"
      ],
      "text/plain": [
       "<IPython.core.display.Markdown object>"
      ]
     },
     "metadata": {},
     "output_type": "display_data"
    },
    {
     "data": {
      "text/markdown": [
       "Impairment, closure costs, and asset disposals\n",
       "38,370\n",
       "2023 Full Year"
      ],
      "text/plain": [
       "<IPython.core.display.Markdown object>"
      ]
     },
     "metadata": {},
     "output_type": "display_data"
    },
    {
     "data": {
      "text/markdown": [
       "Impairment, closure costs, and asset disposals\n",
       "21,139\n",
       "2022 Full Year"
      ],
      "text/plain": [
       "<IPython.core.display.Markdown object>"
      ]
     },
     "metadata": {},
     "output_type": "display_data"
    },
    {
     "data": {
      "text/markdown": [
       "Impairment, closure costs, and asset disposals (percentage of total revenue)\n",
       "0.4\n",
       "2023 Full Year"
      ],
      "text/plain": [
       "<IPython.core.display.Markdown object>"
      ]
     },
     "metadata": {},
     "output_type": "display_data"
    },
    {
     "data": {
      "text/markdown": [
       "Impairment, closure costs, and asset disposals (percentage of total revenue)\n",
       "0.2\n",
       "2022 Full Year"
      ],
      "text/plain": [
       "<IPython.core.display.Markdown object>"
      ]
     },
     "metadata": {},
     "output_type": "display_data"
    },
    {
     "data": {
      "text/markdown": [
       "Total operating expenses\n",
       "8,313,836\n",
       "2023 Full Year"
      ],
      "text/plain": [
       "<IPython.core.display.Markdown object>"
      ]
     },
     "metadata": {},
     "output_type": "display_data"
    },
    {
     "data": {
      "text/markdown": [
       "Total operating expenses\n",
       "7,474,249\n",
       "2022 Full Year"
      ],
      "text/plain": [
       "<IPython.core.display.Markdown object>"
      ]
     },
     "metadata": {},
     "output_type": "display_data"
    },
    {
     "data": {
      "text/markdown": [
       "Total operating expenses (percentage of total revenue)\n",
       "84.2\n",
       "2023 Full Year"
      ],
      "text/plain": [
       "<IPython.core.display.Markdown object>"
      ]
     },
     "metadata": {},
     "output_type": "display_data"
    },
    {
     "data": {
      "text/markdown": [
       "Total operating expenses (percentage of total revenue)\n",
       "86.6\n",
       "2022 Full Year"
      ],
      "text/plain": [
       "<IPython.core.display.Markdown object>"
      ]
     },
     "metadata": {},
     "output_type": "display_data"
    },
    {
     "data": {
      "text/markdown": [
       "Income from operations\n",
       "1557813\n",
       "2023 Full Year"
      ],
      "text/plain": [
       "<IPython.core.display.Markdown object>"
      ]
     },
     "metadata": {},
     "output_type": "display_data"
    },
    {
     "data": {
      "text/markdown": [
       "Income from operations\n",
       "1160403\n",
       "2022 Full Year"
      ],
      "text/plain": [
       "<IPython.core.display.Markdown object>"
      ]
     },
     "metadata": {},
     "output_type": "display_data"
    },
    {
     "data": {
      "text/markdown": [
       "Income from operations (percentage of total revenue)\n",
       "15.8\n",
       "2023 Full Year"
      ],
      "text/plain": [
       "<IPython.core.display.Markdown object>"
      ]
     },
     "metadata": {},
     "output_type": "display_data"
    },
    {
     "data": {
      "text/markdown": [
       "Income from operations (percentage of total revenue)\n",
       "13.4\n",
       "2022 Full Year"
      ],
      "text/plain": [
       "<IPython.core.display.Markdown object>"
      ]
     },
     "metadata": {},
     "output_type": "display_data"
    },
    {
     "data": {
      "text/markdown": [
       "Interest and other income, net\n",
       "62,693\n",
       "2023 Full Year"
      ],
      "text/plain": [
       "<IPython.core.display.Markdown object>"
      ]
     },
     "metadata": {},
     "output_type": "display_data"
    },
    {
     "data": {
      "text/markdown": [
       "Interest and other income, net\n",
       "21,128\n",
       "2022 Full Year"
      ],
      "text/plain": [
       "<IPython.core.display.Markdown object>"
      ]
     },
     "metadata": {},
     "output_type": "display_data"
    },
    {
     "data": {
      "text/markdown": [
       "Interest and other income, net (percentage of total revenue)\n",
       "0.6\n",
       "2023 Full Year"
      ],
      "text/plain": [
       "<IPython.core.display.Markdown object>"
      ]
     },
     "metadata": {},
     "output_type": "display_data"
    },
    {
     "data": {
      "text/markdown": [
       "Interest and other income, net (percentage of total revenue)\n",
       "0.2\n",
       "2022 Full Year"
      ],
      "text/plain": [
       "<IPython.core.display.Markdown object>"
      ]
     },
     "metadata": {},
     "output_type": "display_data"
    },
    {
     "data": {
      "text/markdown": [
       "Income before income taxes\n",
       "1,620,506\n",
       "2023 Full Year"
      ],
      "text/plain": [
       "<IPython.core.display.Markdown object>"
      ]
     },
     "metadata": {},
     "output_type": "display_data"
    },
    {
     "data": {
      "text/markdown": [
       "Income before income taxes\n",
       "1,181,531\n",
       "2022 Full Year"
      ],
      "text/plain": [
       "<IPython.core.display.Markdown object>"
      ]
     },
     "metadata": {},
     "output_type": "display_data"
    },
    {
     "data": {
      "text/markdown": [
       "Income before income taxes (percentage of total revenue)\n",
       "16.4\n",
       "2023 Full Year"
      ],
      "text/plain": [
       "<IPython.core.display.Markdown object>"
      ]
     },
     "metadata": {},
     "output_type": "display_data"
    },
    {
     "data": {
      "text/markdown": [
       "Income before income taxes (percentage of total revenue)\n",
       "13.7\n",
       "2022 Full Year"
      ],
      "text/plain": [
       "<IPython.core.display.Markdown object>"
      ]
     },
     "metadata": {},
     "output_type": "display_data"
    },
    {
     "data": {
      "text/markdown": [
       "Provision for income taxes\n",
       "-391,769\n",
       "2023 Full Year"
      ],
      "text/plain": [
       "<IPython.core.display.Markdown object>"
      ]
     },
     "metadata": {},
     "output_type": "display_data"
    },
    {
     "data": {
      "text/markdown": [
       "Provision for income taxes\n",
       "-282,430\n",
       "2022 Full Year"
      ],
      "text/plain": [
       "<IPython.core.display.Markdown object>"
      ]
     },
     "metadata": {},
     "output_type": "display_data"
    },
    {
     "data": {
      "text/markdown": [
       "Provision for income taxes (percentage of total revenue)\n",
       "-4.0\n",
       "2023 Full Year"
      ],
      "text/plain": [
       "<IPython.core.display.Markdown object>"
      ]
     },
     "metadata": {},
     "output_type": "display_data"
    },
    {
     "data": {
      "text/markdown": [
       "Provision for income taxes (percentage of total revenue)\n",
       "-3.3\n",
       "2022 Full Year"
      ],
      "text/plain": [
       "<IPython.core.display.Markdown object>"
      ]
     },
     "metadata": {},
     "output_type": "display_data"
    },
    {
     "data": {
      "text/markdown": [
       "Net income\n",
       "1228737\n",
       "2023 Full Year"
      ],
      "text/plain": [
       "<IPython.core.display.Markdown object>"
      ]
     },
     "metadata": {},
     "output_type": "display_data"
    },
    {
     "data": {
      "text/markdown": [
       "Net income\n",
       "899101\n",
       "2022 Full Year"
      ],
      "text/plain": [
       "<IPython.core.display.Markdown object>"
      ]
     },
     "metadata": {},
     "output_type": "display_data"
    },
    {
     "data": {
      "text/markdown": [
       "Net income (percentage of total revenue)\n",
       "12.4\n",
       "2023 Full Year"
      ],
      "text/plain": [
       "<IPython.core.display.Markdown object>"
      ]
     },
     "metadata": {},
     "output_type": "display_data"
    },
    {
     "data": {
      "text/markdown": [
       "Net income (percentage of total revenue)\n",
       "10.4\n",
       "2022 Full Year"
      ],
      "text/plain": [
       "<IPython.core.display.Markdown object>"
      ]
     },
     "metadata": {},
     "output_type": "display_data"
    },
    {
     "data": {
      "text/markdown": [
       "Basic earnings per share\n",
       "44.59\n",
       "2023 Full Year"
      ],
      "text/plain": [
       "<IPython.core.display.Markdown object>"
      ]
     },
     "metadata": {},
     "output_type": "display_data"
    },
    {
     "data": {
      "text/markdown": [
       "Basic earnings per share\n",
       "32.28\n",
       "2022 Full Year"
      ],
      "text/plain": [
       "<IPython.core.display.Markdown object>"
      ]
     },
     "metadata": {},
     "output_type": "display_data"
    },
    {
     "data": {
      "text/markdown": [
       "Diluted earnings per share\n",
       "44.34\n",
       "2023 Full Year"
      ],
      "text/plain": [
       "<IPython.core.display.Markdown object>"
      ]
     },
     "metadata": {},
     "output_type": "display_data"
    },
    {
     "data": {
      "text/markdown": [
       "Diluted earnings per share\n",
       "32.04\n",
       "2022 Full Year"
      ],
      "text/plain": [
       "<IPython.core.display.Markdown object>"
      ]
     },
     "metadata": {},
     "output_type": "display_data"
    },
    {
     "data": {
      "text/markdown": [
       "Basic weighted average shares outstanding\n",
       "27,555\n",
       "2023 Full Year"
      ],
      "text/plain": [
       "<IPython.core.display.Markdown object>"
      ]
     },
     "metadata": {},
     "output_type": "display_data"
    },
    {
     "data": {
      "text/markdown": [
       "Basic weighted average shares outstanding\n",
       "27,851\n",
       "2022 Full Year"
      ],
      "text/plain": [
       "<IPython.core.display.Markdown object>"
      ]
     },
     "metadata": {},
     "output_type": "display_data"
    },
    {
     "data": {
      "text/markdown": [
       "Diluted weighted average shares outstanding\n",
       "27710\n",
       "2023 Full Year"
      ],
      "text/plain": [
       "<IPython.core.display.Markdown object>"
      ]
     },
     "metadata": {},
     "output_type": "display_data"
    },
    {
     "data": {
      "text/markdown": [
       "Diluted weighted average shares outstanding\n",
       "28062\n",
       "2022 Full Year"
      ],
      "text/plain": [
       "<IPython.core.display.Markdown object>"
      ]
     },
     "metadata": {},
     "output_type": "display_data"
    },
    {
     "data": {
      "text/markdown": [
       "|  ﻿  |  December 31,  |     |     |     |\n",
       "|  ---  |  ---  |  ---  |  ---  |  ---  |\n",
       "|  ﻿  |  2023  |     |  2022  |     |\n",
       "|  ﻿  |  (unaudited)  |     |     |     |\n",
       "|  Assets  |     |     |     |     |\n",
       "|  Cash and cash equivalents  |  $  |  560,609  |  $  |  384,000  |\n",
       "|  Accounts receivable, net  |     |  115,535  |     |  106,880  |\n",
       "|  Inventory  |     |  39,309  |     |  35,668  |\n",
       "|  Prepaid expenses and other current assets  |     |  117,462  |     |  86,412  |\n",
       "|  Income tax receivable  |     |  52,960  |     |  47,741  |\n",
       "|  Investments  |     |  734,838  |     |  515,136  |\n",
       "|  Total current assets  |     |  1,620,713  |     |  1,175,837  |\n",
       "|  Leasehold improvements, property and equipment, net  |     |  2,170,038  |     |  1,951,147  |\n",
       "|  Long-term investments  |     |  564,488  |     |  388,055  |\n",
       "|  Restricted cash  |     |  25,554  |     |  24,966  |\n",
       "|  Operating lease assets  |     |  3,578,548  |     |  3,302,402  |\n",
       "|  Other assets  |     |  63,082  |     |  63,158  |\n",
       "|  Goodwill  |     |  21,939  |     |  21,939  |\n",
       "|  Total assets  |  $  |  8,044,362  |  $  |  6,927,504  |\n",
       "|  Accounts payable  |  $  |  197,646  |  $  |  184,566  |\n",
       "|  Accrued payroll and benefits  |     |  227,537  |     |  170,456  |\n",
       "|  Accrued liabilities  |     |  147,688  |     |  147,539  |\n",
       "|  Unearned revenue  |     |  209,680  |     |  183,071  |\n",
       "|  Current operating lease liabilities  |     |  248,074  |     |  236,248  |\n",
       "|  Total current liabilities  |     |  1,030,625  |     |  921,880  |\n",
       "|  Long-term operating lease liabilities  |     |  3,803,551  |     |  3,495,162  |\n",
       "|  Deferred income tax liabilities  |     |  89,109  |     |  98,623  |\n",
       "|  Other liabilities  |     |  58,870  |     |  43,816  |\n",
       "|  Total liabilities  |     |  4,982,155  |     |  4,559,481  |\n",
       "|  Preferred stock, $0.01 par value, 600,000 shares authorized, no shares issued as of December 31, 2023 and December 31, 2022, respectively  |     |  -  |     |  -  |\n",
       "|  Common stock, $0.01 par value, 230,000 shares authorized, 37,483 and 37,320 shares issued as of December 31, 2023 and December 31, 2022, respectively  |     |  375  |     |  373  |\n",
       "|  Additional paid-in capital  |     |  1,956,160  |     |  1,829,304  |\n",
       "|  Treasury stock, at cost, 10,057 and 9,693 common shares as of December 31, 2023 and December 31, 2022, respectively  |     |  (4,944,656)  |     |  (4,282,014)  |\n",
       "|  Accumulated other comprehensive loss  |     |  (6,657)  |     |  (7,888)  |\n",
       "|  Retained earnings  |     |  6,056,985  |     |  4,828,248  |\n",
       "|  Total shareholders' equity  |     |  3,062,207  |     |  2,368,023  |\n",
       "|  Total liabilities and shareholders' equity  |  $  |  8,044,362  |  $  |  6,927,504  |"
      ],
      "text/plain": [
       "<IPython.core.display.Markdown object>"
      ]
     },
     "metadata": {},
     "output_type": "display_data"
    },
    {
     "data": {
      "text/markdown": [
       "Cash and cash equivalents\n",
       "560609\n",
       "2023 Q4"
      ],
      "text/plain": [
       "<IPython.core.display.Markdown object>"
      ]
     },
     "metadata": {},
     "output_type": "display_data"
    },
    {
     "data": {
      "text/markdown": [
       "Cash and cash equivalents\n",
       "384000\n",
       "2022 Q4"
      ],
      "text/plain": [
       "<IPython.core.display.Markdown object>"
      ]
     },
     "metadata": {},
     "output_type": "display_data"
    },
    {
     "data": {
      "text/markdown": [
       "Accounts receivable, net\n",
       "115535\n",
       "2023 Q4"
      ],
      "text/plain": [
       "<IPython.core.display.Markdown object>"
      ]
     },
     "metadata": {},
     "output_type": "display_data"
    },
    {
     "data": {
      "text/markdown": [
       "Accounts receivable, net\n",
       "106880\n",
       "2022 Q4"
      ],
      "text/plain": [
       "<IPython.core.display.Markdown object>"
      ]
     },
     "metadata": {},
     "output_type": "display_data"
    },
    {
     "data": {
      "text/markdown": [
       "Inventory\n",
       "39,309\n",
       "2023 Q4"
      ],
      "text/plain": [
       "<IPython.core.display.Markdown object>"
      ]
     },
     "metadata": {},
     "output_type": "display_data"
    },
    {
     "data": {
      "text/markdown": [
       "Inventory\n",
       "35,668\n",
       "2022 Q4"
      ],
      "text/plain": [
       "<IPython.core.display.Markdown object>"
      ]
     },
     "metadata": {},
     "output_type": "display_data"
    },
    {
     "data": {
      "text/markdown": [
       "Prepaid expenses and other current assets\n",
       "117,462\n",
       "2023 Full Year"
      ],
      "text/plain": [
       "<IPython.core.display.Markdown object>"
      ]
     },
     "metadata": {},
     "output_type": "display_data"
    },
    {
     "data": {
      "text/markdown": [
       "Prepaid expenses and other current assets\n",
       "86,412\n",
       "2022 Full Year"
      ],
      "text/plain": [
       "<IPython.core.display.Markdown object>"
      ]
     },
     "metadata": {},
     "output_type": "display_data"
    },
    {
     "data": {
      "text/markdown": [
       "Income tax receivable\n",
       "52960\n",
       "2023 Q4"
      ],
      "text/plain": [
       "<IPython.core.display.Markdown object>"
      ]
     },
     "metadata": {},
     "output_type": "display_data"
    },
    {
     "data": {
      "text/markdown": [
       "Income tax receivable\n",
       "47741\n",
       "2022 Q4"
      ],
      "text/plain": [
       "<IPython.core.display.Markdown object>"
      ]
     },
     "metadata": {},
     "output_type": "display_data"
    },
    {
     "data": {
      "text/markdown": [
       "Investments\n",
       "734,838\n",
       "2023 Q4"
      ],
      "text/plain": [
       "<IPython.core.display.Markdown object>"
      ]
     },
     "metadata": {},
     "output_type": "display_data"
    },
    {
     "data": {
      "text/markdown": [
       "Investments\n",
       "515,136\n",
       "2022 Q4"
      ],
      "text/plain": [
       "<IPython.core.display.Markdown object>"
      ]
     },
     "metadata": {},
     "output_type": "display_data"
    },
    {
     "data": {
      "text/markdown": [
       "Total current assets\n",
       "1,620,713\n",
       "2023 Q4"
      ],
      "text/plain": [
       "<IPython.core.display.Markdown object>"
      ]
     },
     "metadata": {},
     "output_type": "display_data"
    },
    {
     "data": {
      "text/markdown": [
       "Total current assets\n",
       "1,175,837\n",
       "2022 Q4"
      ],
      "text/plain": [
       "<IPython.core.display.Markdown object>"
      ]
     },
     "metadata": {},
     "output_type": "display_data"
    },
    {
     "data": {
      "text/markdown": [
       "Leasehold improvements, property and equipment, net\n",
       "2,170,038\n",
       "2023 Q4"
      ],
      "text/plain": [
       "<IPython.core.display.Markdown object>"
      ]
     },
     "metadata": {},
     "output_type": "display_data"
    },
    {
     "data": {
      "text/markdown": [
       "Leasehold improvements, property and equipment, net\n",
       "1,951,147\n",
       "2022 Q4"
      ],
      "text/plain": [
       "<IPython.core.display.Markdown object>"
      ]
     },
     "metadata": {},
     "output_type": "display_data"
    },
    {
     "data": {
      "text/markdown": [
       "Long-term investments\n",
       "564,488\n",
       "2023 Q4"
      ],
      "text/plain": [
       "<IPython.core.display.Markdown object>"
      ]
     },
     "metadata": {},
     "output_type": "display_data"
    },
    {
     "data": {
      "text/markdown": [
       "Long-term investments\n",
       "388,055\n",
       "2022 Q4"
      ],
      "text/plain": [
       "<IPython.core.display.Markdown object>"
      ]
     },
     "metadata": {},
     "output_type": "display_data"
    },
    {
     "data": {
      "text/markdown": [
       "Restricted cash\n",
       "25554\n",
       "2023 Full Year"
      ],
      "text/plain": [
       "<IPython.core.display.Markdown object>"
      ]
     },
     "metadata": {},
     "output_type": "display_data"
    },
    {
     "data": {
      "text/markdown": [
       "Restricted cash\n",
       "24966\n",
       "2022 Full Year"
      ],
      "text/plain": [
       "<IPython.core.display.Markdown object>"
      ]
     },
     "metadata": {},
     "output_type": "display_data"
    },
    {
     "data": {
      "text/markdown": [
       "Operating lease assets\n",
       "3,578,548\n",
       "2023 Q4"
      ],
      "text/plain": [
       "<IPython.core.display.Markdown object>"
      ]
     },
     "metadata": {},
     "output_type": "display_data"
    },
    {
     "data": {
      "text/markdown": [
       "Operating lease assets\n",
       "3,302,402\n",
       "2022 Q4"
      ],
      "text/plain": [
       "<IPython.core.display.Markdown object>"
      ]
     },
     "metadata": {},
     "output_type": "display_data"
    },
    {
     "data": {
      "text/markdown": [
       "Other assets\n",
       "63,082\n",
       "2023 Full Year"
      ],
      "text/plain": [
       "<IPython.core.display.Markdown object>"
      ]
     },
     "metadata": {},
     "output_type": "display_data"
    },
    {
     "data": {
      "text/markdown": [
       "Other assets\n",
       "63,158\n",
       "2022 Full Year"
      ],
      "text/plain": [
       "<IPython.core.display.Markdown object>"
      ]
     },
     "metadata": {},
     "output_type": "display_data"
    },
    {
     "data": {
      "text/markdown": [
       "Goodwill\n",
       "21,939\n",
       "2023 Q4"
      ],
      "text/plain": [
       "<IPython.core.display.Markdown object>"
      ]
     },
     "metadata": {},
     "output_type": "display_data"
    },
    {
     "data": {
      "text/markdown": [
       "Goodwill\n",
       "21,939\n",
       "2022 Q4"
      ],
      "text/plain": [
       "<IPython.core.display.Markdown object>"
      ]
     },
     "metadata": {},
     "output_type": "display_data"
    },
    {
     "data": {
      "text/markdown": [
       "Total assets\n",
       "8,044,362\n",
       "2023 Q4"
      ],
      "text/plain": [
       "<IPython.core.display.Markdown object>"
      ]
     },
     "metadata": {},
     "output_type": "display_data"
    },
    {
     "data": {
      "text/markdown": [
       "Total assets\n",
       "6,927,504\n",
       "2022 Q4"
      ],
      "text/plain": [
       "<IPython.core.display.Markdown object>"
      ]
     },
     "metadata": {},
     "output_type": "display_data"
    },
    {
     "data": {
      "text/markdown": [
       "Accounts payable\n",
       "197,646\n",
       "2023 Q4"
      ],
      "text/plain": [
       "<IPython.core.display.Markdown object>"
      ]
     },
     "metadata": {},
     "output_type": "display_data"
    },
    {
     "data": {
      "text/markdown": [
       "Accounts payable\n",
       "184,566\n",
       "2022 Q4"
      ],
      "text/plain": [
       "<IPython.core.display.Markdown object>"
      ]
     },
     "metadata": {},
     "output_type": "display_data"
    },
    {
     "data": {
      "text/markdown": [
       "Accrued payroll and benefits\n",
       "227,537\n",
       "2023 Q4"
      ],
      "text/plain": [
       "<IPython.core.display.Markdown object>"
      ]
     },
     "metadata": {},
     "output_type": "display_data"
    },
    {
     "data": {
      "text/markdown": [
       "Accrued payroll and benefits\n",
       "170,456\n",
       "2022 Q4"
      ],
      "text/plain": [
       "<IPython.core.display.Markdown object>"
      ]
     },
     "metadata": {},
     "output_type": "display_data"
    },
    {
     "data": {
      "text/markdown": [
       "Accrued liabilities\n",
       "147,688\n",
       "2023 Q4"
      ],
      "text/plain": [
       "<IPython.core.display.Markdown object>"
      ]
     },
     "metadata": {},
     "output_type": "display_data"
    },
    {
     "data": {
      "text/markdown": [
       "Accrued liabilities\n",
       "147,539\n",
       "2022 Q4"
      ],
      "text/plain": [
       "<IPython.core.display.Markdown object>"
      ]
     },
     "metadata": {},
     "output_type": "display_data"
    },
    {
     "data": {
      "text/markdown": [
       "Unearned revenue\n",
       "209,680\n",
       "2023 Full Year"
      ],
      "text/plain": [
       "<IPython.core.display.Markdown object>"
      ]
     },
     "metadata": {},
     "output_type": "display_data"
    },
    {
     "data": {
      "text/markdown": [
       "Unearned revenue\n",
       "183,071\n",
       "2022 Full Year"
      ],
      "text/plain": [
       "<IPython.core.display.Markdown object>"
      ]
     },
     "metadata": {},
     "output_type": "display_data"
    },
    {
     "data": {
      "text/markdown": [
       "Current operating lease liabilities\n",
       "248,074\n",
       "2023 Q4"
      ],
      "text/plain": [
       "<IPython.core.display.Markdown object>"
      ]
     },
     "metadata": {},
     "output_type": "display_data"
    },
    {
     "data": {
      "text/markdown": [
       "Current operating lease liabilities\n",
       "236,248\n",
       "2022 Q4"
      ],
      "text/plain": [
       "<IPython.core.display.Markdown object>"
      ]
     },
     "metadata": {},
     "output_type": "display_data"
    },
    {
     "data": {
      "text/markdown": [
       "Total current liabilities\n",
       "1,030,625\n",
       "2023 Q4"
      ],
      "text/plain": [
       "<IPython.core.display.Markdown object>"
      ]
     },
     "metadata": {},
     "output_type": "display_data"
    },
    {
     "data": {
      "text/markdown": [
       "Total current liabilities\n",
       "921,880\n",
       "2022 Q4"
      ],
      "text/plain": [
       "<IPython.core.display.Markdown object>"
      ]
     },
     "metadata": {},
     "output_type": "display_data"
    },
    {
     "data": {
      "text/markdown": [
       "Long-term operating lease liabilities\n",
       "3,803,551\n",
       "2023 Q4"
      ],
      "text/plain": [
       "<IPython.core.display.Markdown object>"
      ]
     },
     "metadata": {},
     "output_type": "display_data"
    },
    {
     "data": {
      "text/markdown": [
       "Long-term operating lease liabilities\n",
       "3,495,162\n",
       "2022 Q4"
      ],
      "text/plain": [
       "<IPython.core.display.Markdown object>"
      ]
     },
     "metadata": {},
     "output_type": "display_data"
    },
    {
     "data": {
      "text/markdown": [
       "Deferred income tax liabilities\n",
       "89,109\n",
       "2023 Q4"
      ],
      "text/plain": [
       "<IPython.core.display.Markdown object>"
      ]
     },
     "metadata": {},
     "output_type": "display_data"
    },
    {
     "data": {
      "text/markdown": [
       "Deferred income tax liabilities\n",
       "98,623\n",
       "2022 Q4"
      ],
      "text/plain": [
       "<IPython.core.display.Markdown object>"
      ]
     },
     "metadata": {},
     "output_type": "display_data"
    },
    {
     "data": {
      "text/markdown": [
       "Other liabilities\n",
       "58,870\n",
       "2023 Q4"
      ],
      "text/plain": [
       "<IPython.core.display.Markdown object>"
      ]
     },
     "metadata": {},
     "output_type": "display_data"
    },
    {
     "data": {
      "text/markdown": [
       "Other liabilities\n",
       "43,816\n",
       "2022 Q4"
      ],
      "text/plain": [
       "<IPython.core.display.Markdown object>"
      ]
     },
     "metadata": {},
     "output_type": "display_data"
    },
    {
     "data": {
      "text/markdown": [
       "Total liabilities\n",
       "4,982,155\n",
       "2023 Q4"
      ],
      "text/plain": [
       "<IPython.core.display.Markdown object>"
      ]
     },
     "metadata": {},
     "output_type": "display_data"
    },
    {
     "data": {
      "text/markdown": [
       "Total liabilities\n",
       "4,559,481\n",
       "2022 Q4"
      ],
      "text/plain": [
       "<IPython.core.display.Markdown object>"
      ]
     },
     "metadata": {},
     "output_type": "display_data"
    },
    {
     "data": {
      "text/markdown": [
       "Preferred stock (shares)\n",
       "0\n",
       "2023 Q4"
      ],
      "text/plain": [
       "<IPython.core.display.Markdown object>"
      ]
     },
     "metadata": {},
     "output_type": "display_data"
    },
    {
     "data": {
      "text/markdown": [
       "Preferred stock (shares)\n",
       "0\n",
       "2022 Q4"
      ],
      "text/plain": [
       "<IPython.core.display.Markdown object>"
      ]
     },
     "metadata": {},
     "output_type": "display_data"
    },
    {
     "data": {
      "text/markdown": [
       "Common stock (shares)\n",
       "375\n",
       "2023 Q4"
      ],
      "text/plain": [
       "<IPython.core.display.Markdown object>"
      ]
     },
     "metadata": {},
     "output_type": "display_data"
    },
    {
     "data": {
      "text/markdown": [
       "Common stock (shares)\n",
       "373\n",
       "2022 Q4"
      ],
      "text/plain": [
       "<IPython.core.display.Markdown object>"
      ]
     },
     "metadata": {},
     "output_type": "display_data"
    },
    {
     "data": {
      "text/markdown": [
       "Common stock\n",
       "375\n",
       "2023 Q4"
      ],
      "text/plain": [
       "<IPython.core.display.Markdown object>"
      ]
     },
     "metadata": {},
     "output_type": "display_data"
    },
    {
     "data": {
      "text/markdown": [
       "Common stock\n",
       "373\n",
       "2022 Q4"
      ],
      "text/plain": [
       "<IPython.core.display.Markdown object>"
      ]
     },
     "metadata": {},
     "output_type": "display_data"
    },
    {
     "data": {
      "text/markdown": [
       "Additional paid-in capital\n",
       "1,956,160\n",
       "2023 Full Year"
      ],
      "text/plain": [
       "<IPython.core.display.Markdown object>"
      ]
     },
     "metadata": {},
     "output_type": "display_data"
    },
    {
     "data": {
      "text/markdown": [
       "Additional paid-in capital\n",
       "1,829,304\n",
       "2022 Full Year"
      ],
      "text/plain": [
       "<IPython.core.display.Markdown object>"
      ]
     },
     "metadata": {},
     "output_type": "display_data"
    },
    {
     "data": {
      "text/markdown": [
       "Treasury stock, at cost\n",
       "-4,944,656\n",
       "2023 Q4"
      ],
      "text/plain": [
       "<IPython.core.display.Markdown object>"
      ]
     },
     "metadata": {},
     "output_type": "display_data"
    },
    {
     "data": {
      "text/markdown": [
       "Treasury stock, at cost\n",
       "-4,282,014\n",
       "2022 Q4"
      ],
      "text/plain": [
       "<IPython.core.display.Markdown object>"
      ]
     },
     "metadata": {},
     "output_type": "display_data"
    },
    {
     "data": {
      "text/markdown": [
       "Treasury stock (shares)\n",
       "10057\n",
       "2023 Q4"
      ],
      "text/plain": [
       "<IPython.core.display.Markdown object>"
      ]
     },
     "metadata": {},
     "output_type": "display_data"
    },
    {
     "data": {
      "text/markdown": [
       "Treasury stock (shares)\n",
       "9693\n",
       "2022 Q4"
      ],
      "text/plain": [
       "<IPython.core.display.Markdown object>"
      ]
     },
     "metadata": {},
     "output_type": "display_data"
    },
    {
     "data": {
      "text/markdown": [
       "Accumulated other comprehensive loss\n",
       "-6657\n",
       "2023 Q4"
      ],
      "text/plain": [
       "<IPython.core.display.Markdown object>"
      ]
     },
     "metadata": {},
     "output_type": "display_data"
    },
    {
     "data": {
      "text/markdown": [
       "Accumulated other comprehensive loss\n",
       "-7888\n",
       "2022 Q4"
      ],
      "text/plain": [
       "<IPython.core.display.Markdown object>"
      ]
     },
     "metadata": {},
     "output_type": "display_data"
    },
    {
     "data": {
      "text/markdown": [
       "Retained earnings\n",
       "6,056,985\n",
       "2023 Q4"
      ],
      "text/plain": [
       "<IPython.core.display.Markdown object>"
      ]
     },
     "metadata": {},
     "output_type": "display_data"
    },
    {
     "data": {
      "text/markdown": [
       "Retained earnings\n",
       "4,828,248\n",
       "2022 Q4"
      ],
      "text/plain": [
       "<IPython.core.display.Markdown object>"
      ]
     },
     "metadata": {},
     "output_type": "display_data"
    },
    {
     "data": {
      "text/markdown": [
       "Total shareholders' equity\n",
       "3,062,207\n",
       "2023 Q4"
      ],
      "text/plain": [
       "<IPython.core.display.Markdown object>"
      ]
     },
     "metadata": {},
     "output_type": "display_data"
    },
    {
     "data": {
      "text/markdown": [
       "Total shareholders' equity\n",
       "2,368,023\n",
       "2022 Q4"
      ],
      "text/plain": [
       "<IPython.core.display.Markdown object>"
      ]
     },
     "metadata": {},
     "output_type": "display_data"
    },
    {
     "data": {
      "text/markdown": [
       "Total liabilities and shareholders' equity\n",
       "8,044,362\n",
       "2023 Q4"
      ],
      "text/plain": [
       "<IPython.core.display.Markdown object>"
      ]
     },
     "metadata": {},
     "output_type": "display_data"
    },
    {
     "data": {
      "text/markdown": [
       "Total liabilities and shareholders' equity\n",
       "6,927,504\n",
       "2022 Q4"
      ],
      "text/plain": [
       "<IPython.core.display.Markdown object>"
      ]
     },
     "metadata": {},
     "output_type": "display_data"
    },
    {
     "data": {
      "text/markdown": [
       "|  ﻿  |  Year ended December 31,  |     |     |     |\n",
       "|  ---  |  ---  |  ---  |  ---  |  ---  |\n",
       "|  ﻿  |  2023  |     |  2022  |     |\n",
       "|  ﻿  |  (unaudited)  |     |     |     |\n",
       "|  Net income  |  $  |  1,228,737  |  $  |  899,101  |\n",
       "|  Depreciation and amortization  |     |  319,394  |     |  286,826  |\n",
       "|  Deferred income tax provision  |     |  (9,505)  |     |  (43,195)  |\n",
       "|  Impairment, closure costs, and asset disposals  |     |  37,025  |     |  20,738  |\n",
       "|  Provision for credit losses  |     |  1,570  |     |  (760)  |\n",
       "|  Stock-based compensation expense  |     |  124,016  |     |  98,030  |\n",
       "|  Other  |     |  (13,080)  |     |  (16,202)  |\n",
       "|  Accounts receivable  |     |  (11,216)  |     |  (14,026)  |\n",
       "|  Inventory  |     |  (3,649)  |     |  (3,011)  |\n",
       "|  Prepaid expenses and other current assets  |     |  (39,211)  |     |  (14,660)  |\n",
       "|  Operating lease assets  |     |  254,241  |     |  234,273  |\n",
       "|  Other assets  |     |  4,204  |     |  (346)  |\n",
       "|  Accounts payable  |     |  5,313  |     |  18,208  |\n",
       "|  Accrued payroll and benefits  |     |  57,048  |     |  9,864  |\n",
       "|  Accrued liabilities  |     |  3,188  |     |  (27,964)  |\n",
       "|  Unearned revenue  |     |  35,685  |     |  33,374  |\n",
       "|  Income tax payable/receivable  |     |  (5,237)  |     |  46,262  |\n",
       "|  Operating lease liabilities  |     |  (214,477)  |     |  (207,186)  |\n",
       "|  Other long-term liabilities  |     |  9,431  |     |  3,853  |\n",
       "|  Net cash provided by operating activities  |     |  1,783,477  |     |  1,323,179  |\n",
       "|  Purchases of leasehold improvements, property and equipment  |     |  (560,731)  |     |  (479,164)  |\n",
       "|  Purchases of investments  |     |  (1,115,131)  |     |  (614,416)  |\n",
       "|  Maturities of investments  |     |  729,853  |     |  263,548  |\n",
       "|  Net cash used in investing activities  |     |  (946,009)  |     |  (830,032)  |\n",
       "|  Acquisition of treasury stock  |     |  (592,349)  |     |  (830,140)  |\n",
       "|  Tax withholding on stock-based compensation awards  |     |  (69,146)  |     |  (98,970)  |\n",
       "|  Other financing activities  |     |  843  |     |  (294)  |\n",
       "|  Net cash used in financing activities  |     |  (660,652)  |     |  (929,404)  |\n",
       "|  Effect of exchange rate changes on cash, cash equivalents and restricted cash  |     |  381  |     |  (1,007)  |\n",
       "|  Net change in cash, cash equivalents, and restricted cash  |     |  177,197  |     |  (437,264)  |\n",
       "|  Cash, cash equivalents, and restricted cash at beginning of year  |     |  408,966  |     |  846,230  |\n",
       "|  Cash, cash equivalents, and restricted cash at end of year  |  $  |  586,163  |  $  |  408,966  |\n",
       "|  Income taxes paid  |  $  |  400,229  |  $  |  275,796  |\n",
       "|  Purchases of leasehold improvements, property and equipment accrued in accounts payable and accrued liabilities  |  $  |  76,415  |  $  |  72,021  |\n",
       "|  Acquisition of treasury stock accrued in accounts payable and accrued liabilities  |  $  |  5,643  |  $  |  4,497  |"
      ],
      "text/plain": [
       "<IPython.core.display.Markdown object>"
      ]
     },
     "metadata": {},
     "output_type": "display_data"
    },
    {
     "data": {
      "text/markdown": [
       "Net income\n",
       "1228737\n",
       "2023 Full Year"
      ],
      "text/plain": [
       "<IPython.core.display.Markdown object>"
      ]
     },
     "metadata": {},
     "output_type": "display_data"
    },
    {
     "data": {
      "text/markdown": [
       "Net income\n",
       "899101\n",
       "2022 Full Year"
      ],
      "text/plain": [
       "<IPython.core.display.Markdown object>"
      ]
     },
     "metadata": {},
     "output_type": "display_data"
    },
    {
     "data": {
      "text/markdown": [
       "Depreciation and amortization\n",
       "319394\n",
       "2023 Full Year"
      ],
      "text/plain": [
       "<IPython.core.display.Markdown object>"
      ]
     },
     "metadata": {},
     "output_type": "display_data"
    },
    {
     "data": {
      "text/markdown": [
       "Depreciation and amortization\n",
       "286826\n",
       "2022 Full Year"
      ],
      "text/plain": [
       "<IPython.core.display.Markdown object>"
      ]
     },
     "metadata": {},
     "output_type": "display_data"
    },
    {
     "data": {
      "text/markdown": [
       "Deferred income tax provision\n",
       "-9505\n",
       "2023 Full Year"
      ],
      "text/plain": [
       "<IPython.core.display.Markdown object>"
      ]
     },
     "metadata": {},
     "output_type": "display_data"
    },
    {
     "data": {
      "text/markdown": [
       "Deferred income tax provision\n",
       "-43195\n",
       "2022 Full Year"
      ],
      "text/plain": [
       "<IPython.core.display.Markdown object>"
      ]
     },
     "metadata": {},
     "output_type": "display_data"
    },
    {
     "data": {
      "text/markdown": [
       "Impairment, closure costs, and asset disposals\n",
       "37,025\n",
       "2023 Full Year"
      ],
      "text/plain": [
       "<IPython.core.display.Markdown object>"
      ]
     },
     "metadata": {},
     "output_type": "display_data"
    },
    {
     "data": {
      "text/markdown": [
       "Impairment, closure costs, and asset disposals\n",
       "20,738\n",
       "2022 Full Year"
      ],
      "text/plain": [
       "<IPython.core.display.Markdown object>"
      ]
     },
     "metadata": {},
     "output_type": "display_data"
    },
    {
     "data": {
      "text/markdown": [
       "Provision for credit losses\n",
       "1570\n",
       "2023 Full Year"
      ],
      "text/plain": [
       "<IPython.core.display.Markdown object>"
      ]
     },
     "metadata": {},
     "output_type": "display_data"
    },
    {
     "data": {
      "text/markdown": [
       "Provision for credit losses\n",
       "-760\n",
       "2022 Full Year"
      ],
      "text/plain": [
       "<IPython.core.display.Markdown object>"
      ]
     },
     "metadata": {},
     "output_type": "display_data"
    },
    {
     "data": {
      "text/markdown": [
       "Stock-based compensation expense\n",
       "124,016\n",
       "2023 Full Year"
      ],
      "text/plain": [
       "<IPython.core.display.Markdown object>"
      ]
     },
     "metadata": {},
     "output_type": "display_data"
    },
    {
     "data": {
      "text/markdown": [
       "Stock-based compensation expense\n",
       "98,030\n",
       "2022 Full Year"
      ],
      "text/plain": [
       "<IPython.core.display.Markdown object>"
      ]
     },
     "metadata": {},
     "output_type": "display_data"
    },
    {
     "data": {
      "text/markdown": [
       "Other\n",
       "-13,080\n",
       "2023 Full Year"
      ],
      "text/plain": [
       "<IPython.core.display.Markdown object>"
      ]
     },
     "metadata": {},
     "output_type": "display_data"
    },
    {
     "data": {
      "text/markdown": [
       "Other\n",
       "-16,202\n",
       "2022 Full Year"
      ],
      "text/plain": [
       "<IPython.core.display.Markdown object>"
      ]
     },
     "metadata": {},
     "output_type": "display_data"
    },
    {
     "data": {
      "text/markdown": [
       "Accounts receivable\n",
       "-11,216\n",
       "2023 Full Year"
      ],
      "text/plain": [
       "<IPython.core.display.Markdown object>"
      ]
     },
     "metadata": {},
     "output_type": "display_data"
    },
    {
     "data": {
      "text/markdown": [
       "Accounts receivable\n",
       "-14,026\n",
       "2022 Full Year"
      ],
      "text/plain": [
       "<IPython.core.display.Markdown object>"
      ]
     },
     "metadata": {},
     "output_type": "display_data"
    },
    {
     "data": {
      "text/markdown": [
       "Inventory\n",
       "-3,649\n",
       "2023 Full Year"
      ],
      "text/plain": [
       "<IPython.core.display.Markdown object>"
      ]
     },
     "metadata": {},
     "output_type": "display_data"
    },
    {
     "data": {
      "text/markdown": [
       "Inventory\n",
       "-3,011\n",
       "2022 Full Year"
      ],
      "text/plain": [
       "<IPython.core.display.Markdown object>"
      ]
     },
     "metadata": {},
     "output_type": "display_data"
    },
    {
     "data": {
      "text/markdown": [
       "Prepaid expenses and other current assets\n",
       "-39,211\n",
       "2023 Full Year"
      ],
      "text/plain": [
       "<IPython.core.display.Markdown object>"
      ]
     },
     "metadata": {},
     "output_type": "display_data"
    },
    {
     "data": {
      "text/markdown": [
       "Prepaid expenses and other current assets\n",
       "-14,660\n",
       "2022 Full Year"
      ],
      "text/plain": [
       "<IPython.core.display.Markdown object>"
      ]
     },
     "metadata": {},
     "output_type": "display_data"
    },
    {
     "data": {
      "text/markdown": [
       "Operating lease assets\n",
       "254,241\n",
       "2023 Full Year"
      ],
      "text/plain": [
       "<IPython.core.display.Markdown object>"
      ]
     },
     "metadata": {},
     "output_type": "display_data"
    },
    {
     "data": {
      "text/markdown": [
       "Operating lease assets\n",
       "234,273\n",
       "2022 Full Year"
      ],
      "text/plain": [
       "<IPython.core.display.Markdown object>"
      ]
     },
     "metadata": {},
     "output_type": "display_data"
    },
    {
     "data": {
      "text/markdown": [
       "Other assets\n",
       "4204\n",
       "2023 Full Year"
      ],
      "text/plain": [
       "<IPython.core.display.Markdown object>"
      ]
     },
     "metadata": {},
     "output_type": "display_data"
    },
    {
     "data": {
      "text/markdown": [
       "Other assets\n",
       "-346\n",
       "2022 Full Year"
      ],
      "text/plain": [
       "<IPython.core.display.Markdown object>"
      ]
     },
     "metadata": {},
     "output_type": "display_data"
    },
    {
     "data": {
      "text/markdown": [
       "Accounts payable\n",
       "5,313\n",
       "2023 Full Year"
      ],
      "text/plain": [
       "<IPython.core.display.Markdown object>"
      ]
     },
     "metadata": {},
     "output_type": "display_data"
    },
    {
     "data": {
      "text/markdown": [
       "Accounts payable\n",
       "18,208\n",
       "2022 Full Year"
      ],
      "text/plain": [
       "<IPython.core.display.Markdown object>"
      ]
     },
     "metadata": {},
     "output_type": "display_data"
    },
    {
     "data": {
      "text/markdown": [
       "Accrued payroll and benefits\n",
       "57048\n",
       "2023 Full Year"
      ],
      "text/plain": [
       "<IPython.core.display.Markdown object>"
      ]
     },
     "metadata": {},
     "output_type": "display_data"
    },
    {
     "data": {
      "text/markdown": [
       "Accrued payroll and benefits\n",
       "9864\n",
       "2022 Full Year"
      ],
      "text/plain": [
       "<IPython.core.display.Markdown object>"
      ]
     },
     "metadata": {},
     "output_type": "display_data"
    },
    {
     "data": {
      "text/markdown": [
       "Accrued liabilities\n",
       "3188\n",
       "2023 Full Year"
      ],
      "text/plain": [
       "<IPython.core.display.Markdown object>"
      ]
     },
     "metadata": {},
     "output_type": "display_data"
    },
    {
     "data": {
      "text/markdown": [
       "Accrued liabilities\n",
       "-27964\n",
       "2022 Full Year"
      ],
      "text/plain": [
       "<IPython.core.display.Markdown object>"
      ]
     },
     "metadata": {},
     "output_type": "display_data"
    },
    {
     "data": {
      "text/markdown": [
       "Unearned revenue\n",
       "35685\n",
       "2023 Full Year"
      ],
      "text/plain": [
       "<IPython.core.display.Markdown object>"
      ]
     },
     "metadata": {},
     "output_type": "display_data"
    },
    {
     "data": {
      "text/markdown": [
       "Unearned revenue\n",
       "33374\n",
       "2022 Full Year"
      ],
      "text/plain": [
       "<IPython.core.display.Markdown object>"
      ]
     },
     "metadata": {},
     "output_type": "display_data"
    },
    {
     "data": {
      "text/markdown": [
       "Income tax payable/receivable\n",
       "-5,237\n",
       "2023 Full Year"
      ],
      "text/plain": [
       "<IPython.core.display.Markdown object>"
      ]
     },
     "metadata": {},
     "output_type": "display_data"
    },
    {
     "data": {
      "text/markdown": [
       "Income tax payable/receivable\n",
       "46,262\n",
       "2022 Full Year"
      ],
      "text/plain": [
       "<IPython.core.display.Markdown object>"
      ]
     },
     "metadata": {},
     "output_type": "display_data"
    },
    {
     "data": {
      "text/markdown": [
       "Operating lease liabilities\n",
       "-214,477\n",
       "2023 Full Year"
      ],
      "text/plain": [
       "<IPython.core.display.Markdown object>"
      ]
     },
     "metadata": {},
     "output_type": "display_data"
    },
    {
     "data": {
      "text/markdown": [
       "Operating lease liabilities\n",
       "-207,186\n",
       "2022 Full Year"
      ],
      "text/plain": [
       "<IPython.core.display.Markdown object>"
      ]
     },
     "metadata": {},
     "output_type": "display_data"
    },
    {
     "data": {
      "text/markdown": [
       "Other long-term liabilities\n",
       "9431\n",
       "2023 Full Year"
      ],
      "text/plain": [
       "<IPython.core.display.Markdown object>"
      ]
     },
     "metadata": {},
     "output_type": "display_data"
    },
    {
     "data": {
      "text/markdown": [
       "Other long-term liabilities\n",
       "3853\n",
       "2022 Full Year"
      ],
      "text/plain": [
       "<IPython.core.display.Markdown object>"
      ]
     },
     "metadata": {},
     "output_type": "display_data"
    },
    {
     "data": {
      "text/markdown": [
       "Net cash provided by operating activities\n",
       "1783477\n",
       "2023 Full Year"
      ],
      "text/plain": [
       "<IPython.core.display.Markdown object>"
      ]
     },
     "metadata": {},
     "output_type": "display_data"
    },
    {
     "data": {
      "text/markdown": [
       "Net cash provided by operating activities\n",
       "1323179\n",
       "2022 Full Year"
      ],
      "text/plain": [
       "<IPython.core.display.Markdown object>"
      ]
     },
     "metadata": {},
     "output_type": "display_data"
    },
    {
     "data": {
      "text/markdown": [
       "Purchases of leasehold improvements, property and equipment\n",
       "-560,731\n",
       "2023 Full Year"
      ],
      "text/plain": [
       "<IPython.core.display.Markdown object>"
      ]
     },
     "metadata": {},
     "output_type": "display_data"
    },
    {
     "data": {
      "text/markdown": [
       "Purchases of leasehold improvements, property and equipment\n",
       "-479,164\n",
       "2022 Full Year"
      ],
      "text/plain": [
       "<IPython.core.display.Markdown object>"
      ]
     },
     "metadata": {},
     "output_type": "display_data"
    },
    {
     "data": {
      "text/markdown": [
       "Purchases of investments\n",
       "-1115131\n",
       "2023 Full Year"
      ],
      "text/plain": [
       "<IPython.core.display.Markdown object>"
      ]
     },
     "metadata": {},
     "output_type": "display_data"
    },
    {
     "data": {
      "text/markdown": [
       "Purchases of investments\n",
       "-614416\n",
       "2022 Full Year"
      ],
      "text/plain": [
       "<IPython.core.display.Markdown object>"
      ]
     },
     "metadata": {},
     "output_type": "display_data"
    },
    {
     "data": {
      "text/markdown": [
       "Maturities of investments\n",
       "729,853\n",
       "2023 Full Year"
      ],
      "text/plain": [
       "<IPython.core.display.Markdown object>"
      ]
     },
     "metadata": {},
     "output_type": "display_data"
    },
    {
     "data": {
      "text/markdown": [
       "Maturities of investments\n",
       "263,548\n",
       "2022 Full Year"
      ],
      "text/plain": [
       "<IPython.core.display.Markdown object>"
      ]
     },
     "metadata": {},
     "output_type": "display_data"
    },
    {
     "data": {
      "text/markdown": [
       "Net cash used in investing activities\n",
       "-946,009\n",
       "2023 Full Year"
      ],
      "text/plain": [
       "<IPython.core.display.Markdown object>"
      ]
     },
     "metadata": {},
     "output_type": "display_data"
    },
    {
     "data": {
      "text/markdown": [
       "Net cash used in investing activities\n",
       "-830,032\n",
       "2022 Full Year"
      ],
      "text/plain": [
       "<IPython.core.display.Markdown object>"
      ]
     },
     "metadata": {},
     "output_type": "display_data"
    },
    {
     "data": {
      "text/markdown": [
       "Acquisition of treasury stock\n",
       "-592,349\n",
       "2023 Full Year"
      ],
      "text/plain": [
       "<IPython.core.display.Markdown object>"
      ]
     },
     "metadata": {},
     "output_type": "display_data"
    },
    {
     "data": {
      "text/markdown": [
       "Acquisition of treasury stock\n",
       "-830,140\n",
       "2022 Full Year"
      ],
      "text/plain": [
       "<IPython.core.display.Markdown object>"
      ]
     },
     "metadata": {},
     "output_type": "display_data"
    },
    {
     "data": {
      "text/markdown": [
       "Acquisition of treasury stock\n",
       "5,643\n",
       "2023 Full Year"
      ],
      "text/plain": [
       "<IPython.core.display.Markdown object>"
      ]
     },
     "metadata": {},
     "output_type": "display_data"
    },
    {
     "data": {
      "text/markdown": [
       "Acquisition of treasury stock\n",
       "4,497\n",
       "2022 Full Year"
      ],
      "text/plain": [
       "<IPython.core.display.Markdown object>"
      ]
     },
     "metadata": {},
     "output_type": "display_data"
    },
    {
     "data": {
      "text/markdown": [
       "Tax withholding on stock-based compensation awards\n",
       "-69146\n",
       "2023 Full Year"
      ],
      "text/plain": [
       "<IPython.core.display.Markdown object>"
      ]
     },
     "metadata": {},
     "output_type": "display_data"
    },
    {
     "data": {
      "text/markdown": [
       "Tax withholding on stock-based compensation awards\n",
       "-98970\n",
       "2022 Full Year"
      ],
      "text/plain": [
       "<IPython.core.display.Markdown object>"
      ]
     },
     "metadata": {},
     "output_type": "display_data"
    },
    {
     "data": {
      "text/markdown": [
       "Other financing activities\n",
       "843\n",
       "2023 Full Year"
      ],
      "text/plain": [
       "<IPython.core.display.Markdown object>"
      ]
     },
     "metadata": {},
     "output_type": "display_data"
    },
    {
     "data": {
      "text/markdown": [
       "Other financing activities\n",
       "-294\n",
       "2022 Full Year"
      ],
      "text/plain": [
       "<IPython.core.display.Markdown object>"
      ]
     },
     "metadata": {},
     "output_type": "display_data"
    },
    {
     "data": {
      "text/markdown": [
       "Net cash used in financing activities\n",
       "-660,652\n",
       "2023 Full Year"
      ],
      "text/plain": [
       "<IPython.core.display.Markdown object>"
      ]
     },
     "metadata": {},
     "output_type": "display_data"
    },
    {
     "data": {
      "text/markdown": [
       "Net cash used in financing activities\n",
       "-929,404\n",
       "2022 Full Year"
      ],
      "text/plain": [
       "<IPython.core.display.Markdown object>"
      ]
     },
     "metadata": {},
     "output_type": "display_data"
    },
    {
     "data": {
      "text/markdown": [
       "Effect of exchange rate changes on cash, cash equivalents and restricted cash\n",
       "381\n",
       "2023 Full Year"
      ],
      "text/plain": [
       "<IPython.core.display.Markdown object>"
      ]
     },
     "metadata": {},
     "output_type": "display_data"
    },
    {
     "data": {
      "text/markdown": [
       "Effect of exchange rate changes on cash, cash equivalents and restricted cash\n",
       "-1007\n",
       "2022 Full Year"
      ],
      "text/plain": [
       "<IPython.core.display.Markdown object>"
      ]
     },
     "metadata": {},
     "output_type": "display_data"
    },
    {
     "data": {
      "text/markdown": [
       "Net change in cash, cash equivalents, and restricted cash\n",
       "177,197\n",
       "2023 Full Year"
      ],
      "text/plain": [
       "<IPython.core.display.Markdown object>"
      ]
     },
     "metadata": {},
     "output_type": "display_data"
    },
    {
     "data": {
      "text/markdown": [
       "Net change in cash, cash equivalents, and restricted cash\n",
       "-437,264\n",
       "2022 Full Year"
      ],
      "text/plain": [
       "<IPython.core.display.Markdown object>"
      ]
     },
     "metadata": {},
     "output_type": "display_data"
    },
    {
     "data": {
      "text/markdown": [
       "Cash, cash equivalents, and restricted cash at beginning of year\n",
       "408,966\n",
       "2023 Full Year"
      ],
      "text/plain": [
       "<IPython.core.display.Markdown object>"
      ]
     },
     "metadata": {},
     "output_type": "display_data"
    },
    {
     "data": {
      "text/markdown": [
       "Cash, cash equivalents, and restricted cash at beginning of year\n",
       "846,230\n",
       "2022 Full Year"
      ],
      "text/plain": [
       "<IPython.core.display.Markdown object>"
      ]
     },
     "metadata": {},
     "output_type": "display_data"
    },
    {
     "data": {
      "text/markdown": [
       "Cash, cash equivalents, and restricted cash at end of year\n",
       "586,163\n",
       "2023 Full Year"
      ],
      "text/plain": [
       "<IPython.core.display.Markdown object>"
      ]
     },
     "metadata": {},
     "output_type": "display_data"
    },
    {
     "data": {
      "text/markdown": [
       "Cash, cash equivalents, and restricted cash at end of year\n",
       "408,966\n",
       "2022 Full Year"
      ],
      "text/plain": [
       "<IPython.core.display.Markdown object>"
      ]
     },
     "metadata": {},
     "output_type": "display_data"
    },
    {
     "data": {
      "text/markdown": [
       "Income taxes paid\n",
       "400,229\n",
       "2023 Full Year"
      ],
      "text/plain": [
       "<IPython.core.display.Markdown object>"
      ]
     },
     "metadata": {},
     "output_type": "display_data"
    },
    {
     "data": {
      "text/markdown": [
       "Income taxes paid\n",
       "275,796\n",
       "2022 Full Year"
      ],
      "text/plain": [
       "<IPython.core.display.Markdown object>"
      ]
     },
     "metadata": {},
     "output_type": "display_data"
    },
    {
     "data": {
      "text/markdown": [
       "Purchases of leasehold improvements, property and equipment accrued in accounts payable and accrued liabilities\n",
       "76415\n",
       "2023 Full Year"
      ],
      "text/plain": [
       "<IPython.core.display.Markdown object>"
      ]
     },
     "metadata": {},
     "output_type": "display_data"
    },
    {
     "data": {
      "text/markdown": [
       "Purchases of leasehold improvements, property and equipment accrued in accounts payable and accrued liabilities\n",
       "72021\n",
       "2022 Full Year"
      ],
      "text/plain": [
       "<IPython.core.display.Markdown object>"
      ]
     },
     "metadata": {},
     "output_type": "display_data"
    },
    {
     "data": {
      "text/markdown": [
       "Acquisition of treasury stock accrued in accounts payable and accrued liabilities\n",
       "5643\n",
       "2023 Full Year"
      ],
      "text/plain": [
       "<IPython.core.display.Markdown object>"
      ]
     },
     "metadata": {},
     "output_type": "display_data"
    },
    {
     "data": {
      "text/markdown": [
       "Acquisition of treasury stock accrued in accounts payable and accrued liabilities\n",
       "4497\n",
       "2022 Full Year"
      ],
      "text/plain": [
       "<IPython.core.display.Markdown object>"
      ]
     },
     "metadata": {},
     "output_type": "display_data"
    },
    {
     "data": {
      "text/markdown": [
       "|  ﻿  |  For the three months ended  |     |     |     |     |     |     |     |     |     |\n",
       "|  ---  |  ---  |  ---  |  ---  |  ---  |  ---  |  ---  |  ---  |  ---  |  ---  |  ---  |\n",
       "|  ﻿  |  2023  |     |  2023  |     |  2023  |     |  2023  |     |  2022  |     |\n",
       "|  Number of restaurants opened  |     |  121  |     |  62  |     |  47  |     |  41  |     |  100  |\n",
       "|  Chipotle permanent closures  |     |  (2)  |     |  (1)  |     |  -  |     |  -  |     |  -  |\n",
       "|  Chipotle relocations  |     |  (3)  |     |  (2)  |     |  (3)  |     |  (4)  |     |  (3)  |\n",
       "|  Non-Chipotle permanent closures  |     |  -  |     |  (6)  |     |  -  |     |  -  |     |  -  |\n",
       "|  Number of restaurants at end of period  |     |  3,437  |     |  3,321  |     |  3,268  |     |  3,224  |     |  3,187  |\n",
       "|  Average restaurant sales  |  $  |  3,018  |  $  |  2,972  |  $  |  2,941  |  $  |  2,892  |  $  |  2,824  |\n",
       "|  Comparable restaurant sales increase  |     |  8.4%  |     |  5.0%  |     |  7.4%  |     |  10.9%  |     |  5.6%  |"
      ],
      "text/plain": [
       "<IPython.core.display.Markdown object>"
      ]
     },
     "metadata": {},
     "output_type": "display_data"
    },
    {
     "data": {
      "text/markdown": [
       "Number of restaurants opened\n",
       "121\n",
       "2023 Q4"
      ],
      "text/plain": [
       "<IPython.core.display.Markdown object>"
      ]
     },
     "metadata": {},
     "output_type": "display_data"
    },
    {
     "data": {
      "text/markdown": [
       "Number of restaurants opened\n",
       "62\n",
       "2023 Q3"
      ],
      "text/plain": [
       "<IPython.core.display.Markdown object>"
      ]
     },
     "metadata": {},
     "output_type": "display_data"
    },
    {
     "data": {
      "text/markdown": [
       "Number of restaurants opened\n",
       "47\n",
       "2023 Q2"
      ],
      "text/plain": [
       "<IPython.core.display.Markdown object>"
      ]
     },
     "metadata": {},
     "output_type": "display_data"
    },
    {
     "data": {
      "text/markdown": [
       "Number of restaurants opened\n",
       "41\n",
       "2023 Q1"
      ],
      "text/plain": [
       "<IPython.core.display.Markdown object>"
      ]
     },
     "metadata": {},
     "output_type": "display_data"
    },
    {
     "data": {
      "text/markdown": [
       "Number of restaurants opened\n",
       "100\n",
       "2022 Q4"
      ],
      "text/plain": [
       "<IPython.core.display.Markdown object>"
      ]
     },
     "metadata": {},
     "output_type": "display_data"
    },
    {
     "data": {
      "text/markdown": [
       "Chipotle permanent closures\n",
       "-2\n",
       "2023 Q4"
      ],
      "text/plain": [
       "<IPython.core.display.Markdown object>"
      ]
     },
     "metadata": {},
     "output_type": "display_data"
    },
    {
     "data": {
      "text/markdown": [
       "Chipotle permanent closures\n",
       "-1\n",
       "2023 Q3"
      ],
      "text/plain": [
       "<IPython.core.display.Markdown object>"
      ]
     },
     "metadata": {},
     "output_type": "display_data"
    },
    {
     "data": {
      "text/markdown": [
       "Chipotle relocations\n",
       "-3\n",
       "2023 Q4"
      ],
      "text/plain": [
       "<IPython.core.display.Markdown object>"
      ]
     },
     "metadata": {},
     "output_type": "display_data"
    },
    {
     "data": {
      "text/markdown": [
       "Chipotle relocations\n",
       "-2\n",
       "2023 Q3"
      ],
      "text/plain": [
       "<IPython.core.display.Markdown object>"
      ]
     },
     "metadata": {},
     "output_type": "display_data"
    },
    {
     "data": {
      "text/markdown": [
       "Chipotle relocations\n",
       "-3\n",
       "2023 Q2"
      ],
      "text/plain": [
       "<IPython.core.display.Markdown object>"
      ]
     },
     "metadata": {},
     "output_type": "display_data"
    },
    {
     "data": {
      "text/markdown": [
       "Chipotle relocations\n",
       "-4\n",
       "2023 Q1"
      ],
      "text/plain": [
       "<IPython.core.display.Markdown object>"
      ]
     },
     "metadata": {},
     "output_type": "display_data"
    },
    {
     "data": {
      "text/markdown": [
       "Chipotle relocations\n",
       "-3\n",
       "2022 Q4"
      ],
      "text/plain": [
       "<IPython.core.display.Markdown object>"
      ]
     },
     "metadata": {},
     "output_type": "display_data"
    },
    {
     "data": {
      "text/markdown": [
       "Non-Chipotle permanent closures\n",
       "-\n",
       "2023 Q4"
      ],
      "text/plain": [
       "<IPython.core.display.Markdown object>"
      ]
     },
     "metadata": {},
     "output_type": "display_data"
    },
    {
     "data": {
      "text/markdown": [
       "Non-Chipotle permanent closures\n",
       "-6\n",
       "2023 Q3"
      ],
      "text/plain": [
       "<IPython.core.display.Markdown object>"
      ]
     },
     "metadata": {},
     "output_type": "display_data"
    },
    {
     "data": {
      "text/markdown": [
       "Non-Chipotle permanent closures\n",
       "-\n",
       "2023 Q2"
      ],
      "text/plain": [
       "<IPython.core.display.Markdown object>"
      ]
     },
     "metadata": {},
     "output_type": "display_data"
    },
    {
     "data": {
      "text/markdown": [
       "Non-Chipotle permanent closures\n",
       "-\n",
       "2023 Q1"
      ],
      "text/plain": [
       "<IPython.core.display.Markdown object>"
      ]
     },
     "metadata": {},
     "output_type": "display_data"
    },
    {
     "data": {
      "text/markdown": [
       "Non-Chipotle permanent closures\n",
       "-\n",
       "2022 Q4"
      ],
      "text/plain": [
       "<IPython.core.display.Markdown object>"
      ]
     },
     "metadata": {},
     "output_type": "display_data"
    },
    {
     "data": {
      "text/markdown": [
       "Number of restaurants at end of period\n",
       "3,437\n",
       "2023 Q4"
      ],
      "text/plain": [
       "<IPython.core.display.Markdown object>"
      ]
     },
     "metadata": {},
     "output_type": "display_data"
    },
    {
     "data": {
      "text/markdown": [
       "Number of restaurants at end of period\n",
       "3,321\n",
       "2023 Q3"
      ],
      "text/plain": [
       "<IPython.core.display.Markdown object>"
      ]
     },
     "metadata": {},
     "output_type": "display_data"
    },
    {
     "data": {
      "text/markdown": [
       "Number of restaurants at end of period\n",
       "3,268\n",
       "2023 Q2"
      ],
      "text/plain": [
       "<IPython.core.display.Markdown object>"
      ]
     },
     "metadata": {},
     "output_type": "display_data"
    },
    {
     "data": {
      "text/markdown": [
       "Number of restaurants at end of period\n",
       "3,224\n",
       "2023 Q1"
      ],
      "text/plain": [
       "<IPython.core.display.Markdown object>"
      ]
     },
     "metadata": {},
     "output_type": "display_data"
    },
    {
     "data": {
      "text/markdown": [
       "Number of restaurants at end of period\n",
       "3,187\n",
       "2022 Q4"
      ],
      "text/plain": [
       "<IPython.core.display.Markdown object>"
      ]
     },
     "metadata": {},
     "output_type": "display_data"
    },
    {
     "data": {
      "text/markdown": [
       "Average restaurant sales\n",
       "3018\n",
       "2023 Q4"
      ],
      "text/plain": [
       "<IPython.core.display.Markdown object>"
      ]
     },
     "metadata": {},
     "output_type": "display_data"
    },
    {
     "data": {
      "text/markdown": [
       "Average restaurant sales\n",
       "2972\n",
       "2023 Q3"
      ],
      "text/plain": [
       "<IPython.core.display.Markdown object>"
      ]
     },
     "metadata": {},
     "output_type": "display_data"
    },
    {
     "data": {
      "text/markdown": [
       "Average restaurant sales\n",
       "2941\n",
       "2023 Q2"
      ],
      "text/plain": [
       "<IPython.core.display.Markdown object>"
      ]
     },
     "metadata": {},
     "output_type": "display_data"
    },
    {
     "data": {
      "text/markdown": [
       "Average restaurant sales\n",
       "2892\n",
       "2023 Q1"
      ],
      "text/plain": [
       "<IPython.core.display.Markdown object>"
      ]
     },
     "metadata": {},
     "output_type": "display_data"
    },
    {
     "data": {
      "text/markdown": [
       "Average restaurant sales\n",
       "2824\n",
       "2022 Q4"
      ],
      "text/plain": [
       "<IPython.core.display.Markdown object>"
      ]
     },
     "metadata": {},
     "output_type": "display_data"
    },
    {
     "data": {
      "text/markdown": [
       "Comparable restaurant sales increase\n",
       "8.4\n",
       "2023 Q4"
      ],
      "text/plain": [
       "<IPython.core.display.Markdown object>"
      ]
     },
     "metadata": {},
     "output_type": "display_data"
    },
    {
     "data": {
      "text/markdown": [
       "Comparable restaurant sales increase\n",
       "5.0\n",
       "2023 Q3"
      ],
      "text/plain": [
       "<IPython.core.display.Markdown object>"
      ]
     },
     "metadata": {},
     "output_type": "display_data"
    },
    {
     "data": {
      "text/markdown": [
       "Comparable restaurant sales increase\n",
       "7.4\n",
       "2023 Q2"
      ],
      "text/plain": [
       "<IPython.core.display.Markdown object>"
      ]
     },
     "metadata": {},
     "output_type": "display_data"
    },
    {
     "data": {
      "text/markdown": [
       "Comparable restaurant sales increase\n",
       "10.9\n",
       "2023 Q1"
      ],
      "text/plain": [
       "<IPython.core.display.Markdown object>"
      ]
     },
     "metadata": {},
     "output_type": "display_data"
    },
    {
     "data": {
      "text/markdown": [
       "Comparable restaurant sales increase\n",
       "5.6\n",
       "2022 Q4"
      ],
      "text/plain": [
       "<IPython.core.display.Markdown object>"
      ]
     },
     "metadata": {},
     "output_type": "display_data"
    },
    {
     "data": {
      "text/markdown": [
       "|  ﻿  |  Three months ended  |     |     |     |  Year ended  |     |     |     |\n",
       "|  ---  |  ---  |  ---  |  ---  |  ---  |  ---  |  ---  |  ---  |  ---  |\n",
       "|  ﻿  |  2023  |     |  2022  |     |  2023  |     |  2022  |     |\n",
       "|  Net income  |  $  |  282,086  |  $  |  223,727  |  $  |  1,228,737  |  $  |  899,101  |\n",
       "|  Restaurant asset impairment and other restaurant exit costs(1)  |     |  -  |     |  -  |     |  4,765  |     |  1,738  |\n",
       "|  Corporate asset impairment(2)  |     |  -  |     |  -  |     |  3,735  |     |  961  |\n",
       "|  Duplicate rent expense(3)  |     |  -  |     |  881  |     |  -  |     |  3,937  |\n",
       "|  Employee related and other restructuring costs(4)  |     |  -  |     |  -  |     |  4,829  |     |  -  |\n",
       "|  Legal proceedings(5)  |     |  (797)  |     |  3,718  |     |  (797)  |     |  9,516  |\n",
       "|  Stock-based compensation modification expense(6)  |     |  -  |     |  1,117  |     |  -  |     |  7,411  |\n",
       "|  Unrealized gain on equity investments(7)  |     |  -  |     |  -  |     |  -  |     |  (10,410)  |\n",
       "|  Separation costs(8)  |     |  -  |     |  -  |     |  -  |     |  3,538  |\n",
       "|  Accelerated depreciation(9)  |     |  6,388  |     |  -  |     |  6,388  |     |  -  |\n",
       "|  Total non-GAAP adjustments  |  $  |  5,591  |  $  |  5,716  |  $  |  18,920  |  $  |  16,691  |\n",
       "|  Tax effect of non-GAAP adjustments above(10)  |     |  (1,495)  |     |  1,951  |     |  (4,607)  |     |  4,003  |\n",
       "|  After tax impact of non-GAAP adjustments  |  $  |  4,096  |  $  |  7,667  |  $  |  14,313  |  $  |  20,694  |\n",
       "|  Adjusted net income  |  $  |  286,182  |  $  |  231,394  |  $  |  1,243,050  |  $  |  919,795  |\n",
       "|  Diluted weighted-average number of common shares outstanding  |     |  27,621  |     |  27,899  |     |  27,710  |     |  28,062  |\n",
       "|  Diluted earnings per share  |  $  |  10.21  |  $  |  8.02  |  $  |  44.34  |  $  |  32.04  |\n",
       "|  Adjusted diluted earnings per share  |  $  |  10.36  |  $  |  8.29  |  $  |  44.86  |  $  |  32.78  |"
      ],
      "text/plain": [
       "<IPython.core.display.Markdown object>"
      ]
     },
     "metadata": {},
     "output_type": "display_data"
    },
    {
     "data": {
      "text/markdown": [
       "Net income\n",
       "282086\n",
       "2023 Q4"
      ],
      "text/plain": [
       "<IPython.core.display.Markdown object>"
      ]
     },
     "metadata": {},
     "output_type": "display_data"
    },
    {
     "data": {
      "text/markdown": [
       "Net income\n",
       "223727\n",
       "2022 Q4"
      ],
      "text/plain": [
       "<IPython.core.display.Markdown object>"
      ]
     },
     "metadata": {},
     "output_type": "display_data"
    },
    {
     "data": {
      "text/markdown": [
       "Net income\n",
       "1228737\n",
       "2023 Full Year"
      ],
      "text/plain": [
       "<IPython.core.display.Markdown object>"
      ]
     },
     "metadata": {},
     "output_type": "display_data"
    },
    {
     "data": {
      "text/markdown": [
       "Net income\n",
       "899101\n",
       "2022 Full Year"
      ],
      "text/plain": [
       "<IPython.core.display.Markdown object>"
      ]
     },
     "metadata": {},
     "output_type": "display_data"
    },
    {
     "data": {
      "text/markdown": [
       "Restaurant asset impairment and other restaurant exit costs\n",
       "-\n",
       "2023 Q4"
      ],
      "text/plain": [
       "<IPython.core.display.Markdown object>"
      ]
     },
     "metadata": {},
     "output_type": "display_data"
    },
    {
     "data": {
      "text/markdown": [
       "Restaurant asset impairment and other restaurant exit costs\n",
       "-\n",
       "2022 Q4"
      ],
      "text/plain": [
       "<IPython.core.display.Markdown object>"
      ]
     },
     "metadata": {},
     "output_type": "display_data"
    },
    {
     "data": {
      "text/markdown": [
       "Restaurant asset impairment and other restaurant exit costs\n",
       "4,765\n",
       "2023 Full Year"
      ],
      "text/plain": [
       "<IPython.core.display.Markdown object>"
      ]
     },
     "metadata": {},
     "output_type": "display_data"
    },
    {
     "data": {
      "text/markdown": [
       "Restaurant asset impairment and other restaurant exit costs\n",
       "1,738\n",
       "2022 Full Year"
      ],
      "text/plain": [
       "<IPython.core.display.Markdown object>"
      ]
     },
     "metadata": {},
     "output_type": "display_data"
    },
    {
     "data": {
      "text/markdown": [
       "Corporate asset impairment\n",
       "-\n",
       "2023 Q4"
      ],
      "text/plain": [
       "<IPython.core.display.Markdown object>"
      ]
     },
     "metadata": {},
     "output_type": "display_data"
    },
    {
     "data": {
      "text/markdown": [
       "Corporate asset impairment\n",
       "-\n",
       "2022 Q4"
      ],
      "text/plain": [
       "<IPython.core.display.Markdown object>"
      ]
     },
     "metadata": {},
     "output_type": "display_data"
    },
    {
     "data": {
      "text/markdown": [
       "Corporate asset impairment\n",
       "3,735\n",
       "2023 Full Year"
      ],
      "text/plain": [
       "<IPython.core.display.Markdown object>"
      ]
     },
     "metadata": {},
     "output_type": "display_data"
    },
    {
     "data": {
      "text/markdown": [
       "Corporate asset impairment\n",
       "961\n",
       "2022 Full Year"
      ],
      "text/plain": [
       "<IPython.core.display.Markdown object>"
      ]
     },
     "metadata": {},
     "output_type": "display_data"
    },
    {
     "data": {
      "text/markdown": [
       "Duplicate rent expense\n",
       "-\n",
       "2023 Q4"
      ],
      "text/plain": [
       "<IPython.core.display.Markdown object>"
      ]
     },
     "metadata": {},
     "output_type": "display_data"
    },
    {
     "data": {
      "text/markdown": [
       "Duplicate rent expense\n",
       "881\n",
       "2022 Q4"
      ],
      "text/plain": [
       "<IPython.core.display.Markdown object>"
      ]
     },
     "metadata": {},
     "output_type": "display_data"
    },
    {
     "data": {
      "text/markdown": [
       "Duplicate rent expense\n",
       "-\n",
       "2023 Full Year"
      ],
      "text/plain": [
       "<IPython.core.display.Markdown object>"
      ]
     },
     "metadata": {},
     "output_type": "display_data"
    },
    {
     "data": {
      "text/markdown": [
       "Duplicate rent expense\n",
       "3,937\n",
       "2022 Full Year"
      ],
      "text/plain": [
       "<IPython.core.display.Markdown object>"
      ]
     },
     "metadata": {},
     "output_type": "display_data"
    },
    {
     "data": {
      "text/markdown": [
       "Employee related and other restructuring costs\n",
       "-\n",
       "2023 Q4"
      ],
      "text/plain": [
       "<IPython.core.display.Markdown object>"
      ]
     },
     "metadata": {},
     "output_type": "display_data"
    },
    {
     "data": {
      "text/markdown": [
       "Employee related and other restructuring costs\n",
       "-\n",
       "2022 Q4"
      ],
      "text/plain": [
       "<IPython.core.display.Markdown object>"
      ]
     },
     "metadata": {},
     "output_type": "display_data"
    },
    {
     "data": {
      "text/markdown": [
       "Employee related and other restructuring costs\n",
       "4,829\n",
       "2023 Full Year"
      ],
      "text/plain": [
       "<IPython.core.display.Markdown object>"
      ]
     },
     "metadata": {},
     "output_type": "display_data"
    },
    {
     "data": {
      "text/markdown": [
       "Employee related and other restructuring costs\n",
       "-\n",
       "2022 Full Year"
      ],
      "text/plain": [
       "<IPython.core.display.Markdown object>"
      ]
     },
     "metadata": {},
     "output_type": "display_data"
    },
    {
     "data": {
      "text/markdown": [
       "Legal proceedings\n",
       "-797\n",
       "2023 Q4"
      ],
      "text/plain": [
       "<IPython.core.display.Markdown object>"
      ]
     },
     "metadata": {},
     "output_type": "display_data"
    },
    {
     "data": {
      "text/markdown": [
       "Legal proceedings\n",
       "3718\n",
       "2022 Q4"
      ],
      "text/plain": [
       "<IPython.core.display.Markdown object>"
      ]
     },
     "metadata": {},
     "output_type": "display_data"
    },
    {
     "data": {
      "text/markdown": [
       "Legal proceedings\n",
       "-797\n",
       "2023 Full Year"
      ],
      "text/plain": [
       "<IPython.core.display.Markdown object>"
      ]
     },
     "metadata": {},
     "output_type": "display_data"
    },
    {
     "data": {
      "text/markdown": [
       "Legal proceedings\n",
       "9516\n",
       "2022 Full Year"
      ],
      "text/plain": [
       "<IPython.core.display.Markdown object>"
      ]
     },
     "metadata": {},
     "output_type": "display_data"
    },
    {
     "data": {
      "text/markdown": [
       "Stock-based compensation modification expense\n",
       "-\n",
       "2023 Q4"
      ],
      "text/plain": [
       "<IPython.core.display.Markdown object>"
      ]
     },
     "metadata": {},
     "output_type": "display_data"
    },
    {
     "data": {
      "text/markdown": [
       "Stock-based compensation modification expense\n",
       "1,117\n",
       "2022 Q4"
      ],
      "text/plain": [
       "<IPython.core.display.Markdown object>"
      ]
     },
     "metadata": {},
     "output_type": "display_data"
    },
    {
     "data": {
      "text/markdown": [
       "Stock-based compensation modification expense\n",
       "-\n",
       "2023 Full Year"
      ],
      "text/plain": [
       "<IPython.core.display.Markdown object>"
      ]
     },
     "metadata": {},
     "output_type": "display_data"
    },
    {
     "data": {
      "text/markdown": [
       "Stock-based compensation modification expense\n",
       "7,411\n",
       "2022 Full Year"
      ],
      "text/plain": [
       "<IPython.core.display.Markdown object>"
      ]
     },
     "metadata": {},
     "output_type": "display_data"
    },
    {
     "data": {
      "text/markdown": [
       "Unrealized gain on equity investments\n",
       "-\n",
       "2023 Q4"
      ],
      "text/plain": [
       "<IPython.core.display.Markdown object>"
      ]
     },
     "metadata": {},
     "output_type": "display_data"
    },
    {
     "data": {
      "text/markdown": [
       "Unrealized gain on equity investments\n",
       "-\n",
       "2022 Q4"
      ],
      "text/plain": [
       "<IPython.core.display.Markdown object>"
      ]
     },
     "metadata": {},
     "output_type": "display_data"
    },
    {
     "data": {
      "text/markdown": [
       "Unrealized gain on equity investments\n",
       "-\n",
       "2023 Full Year"
      ],
      "text/plain": [
       "<IPython.core.display.Markdown object>"
      ]
     },
     "metadata": {},
     "output_type": "display_data"
    },
    {
     "data": {
      "text/markdown": [
       "Unrealized gain on equity investments\n",
       "-10410\n",
       "2022 Full Year"
      ],
      "text/plain": [
       "<IPython.core.display.Markdown object>"
      ]
     },
     "metadata": {},
     "output_type": "display_data"
    },
    {
     "data": {
      "text/markdown": [
       "Separation costs\n",
       "-\n",
       "2023 Q4"
      ],
      "text/plain": [
       "<IPython.core.display.Markdown object>"
      ]
     },
     "metadata": {},
     "output_type": "display_data"
    },
    {
     "data": {
      "text/markdown": [
       "Separation costs\n",
       "-\n",
       "2022 Q4"
      ],
      "text/plain": [
       "<IPython.core.display.Markdown object>"
      ]
     },
     "metadata": {},
     "output_type": "display_data"
    },
    {
     "data": {
      "text/markdown": [
       "Separation costs\n",
       "-\n",
       "2023 Full Year"
      ],
      "text/plain": [
       "<IPython.core.display.Markdown object>"
      ]
     },
     "metadata": {},
     "output_type": "display_data"
    },
    {
     "data": {
      "text/markdown": [
       "Separation costs\n",
       "3,538\n",
       "2022 Full Year"
      ],
      "text/plain": [
       "<IPython.core.display.Markdown object>"
      ]
     },
     "metadata": {},
     "output_type": "display_data"
    },
    {
     "data": {
      "text/markdown": [
       "Accelerated depreciation\n",
       "6,388\n",
       "2023 Q4"
      ],
      "text/plain": [
       "<IPython.core.display.Markdown object>"
      ]
     },
     "metadata": {},
     "output_type": "display_data"
    },
    {
     "data": {
      "text/markdown": [
       "Accelerated depreciation\n",
       "-\n",
       "2022 Q4"
      ],
      "text/plain": [
       "<IPython.core.display.Markdown object>"
      ]
     },
     "metadata": {},
     "output_type": "display_data"
    },
    {
     "data": {
      "text/markdown": [
       "Accelerated depreciation\n",
       "6,388\n",
       "2023 Full Year"
      ],
      "text/plain": [
       "<IPython.core.display.Markdown object>"
      ]
     },
     "metadata": {},
     "output_type": "display_data"
    },
    {
     "data": {
      "text/markdown": [
       "Accelerated depreciation\n",
       "-\n",
       "2022 Full Year"
      ],
      "text/plain": [
       "<IPython.core.display.Markdown object>"
      ]
     },
     "metadata": {},
     "output_type": "display_data"
    },
    {
     "data": {
      "text/markdown": [
       "Total non-GAAP adjustments\n",
       "5,591\n",
       "2023 Q4"
      ],
      "text/plain": [
       "<IPython.core.display.Markdown object>"
      ]
     },
     "metadata": {},
     "output_type": "display_data"
    },
    {
     "data": {
      "text/markdown": [
       "Total non-GAAP adjustments\n",
       "5,716\n",
       "2022 Q4"
      ],
      "text/plain": [
       "<IPython.core.display.Markdown object>"
      ]
     },
     "metadata": {},
     "output_type": "display_data"
    },
    {
     "data": {
      "text/markdown": [
       "Total non-GAAP adjustments\n",
       "18,920\n",
       "2023 Full Year"
      ],
      "text/plain": [
       "<IPython.core.display.Markdown object>"
      ]
     },
     "metadata": {},
     "output_type": "display_data"
    },
    {
     "data": {
      "text/markdown": [
       "Total non-GAAP adjustments\n",
       "16,691\n",
       "2022 Full Year"
      ],
      "text/plain": [
       "<IPython.core.display.Markdown object>"
      ]
     },
     "metadata": {},
     "output_type": "display_data"
    },
    {
     "data": {
      "text/markdown": [
       "Tax effect of non-GAAP adjustments above\n",
       "-1,495\n",
       "2023 Q4"
      ],
      "text/plain": [
       "<IPython.core.display.Markdown object>"
      ]
     },
     "metadata": {},
     "output_type": "display_data"
    },
    {
     "data": {
      "text/markdown": [
       "Tax effect of non-GAAP adjustments above\n",
       "1,951\n",
       "2022 Q4"
      ],
      "text/plain": [
       "<IPython.core.display.Markdown object>"
      ]
     },
     "metadata": {},
     "output_type": "display_data"
    },
    {
     "data": {
      "text/markdown": [
       "Tax effect of non-GAAP adjustments above\n",
       "-4,607\n",
       "2023 Full Year"
      ],
      "text/plain": [
       "<IPython.core.display.Markdown object>"
      ]
     },
     "metadata": {},
     "output_type": "display_data"
    },
    {
     "data": {
      "text/markdown": [
       "Tax effect of non-GAAP adjustments above\n",
       "4,003\n",
       "2022 Full Year"
      ],
      "text/plain": [
       "<IPython.core.display.Markdown object>"
      ]
     },
     "metadata": {},
     "output_type": "display_data"
    },
    {
     "data": {
      "text/markdown": [
       "After tax impact of non-GAAP adjustments\n",
       "4,096\n",
       "2023 Q4"
      ],
      "text/plain": [
       "<IPython.core.display.Markdown object>"
      ]
     },
     "metadata": {},
     "output_type": "display_data"
    },
    {
     "data": {
      "text/markdown": [
       "After tax impact of non-GAAP adjustments\n",
       "7,667\n",
       "2022 Q4"
      ],
      "text/plain": [
       "<IPython.core.display.Markdown object>"
      ]
     },
     "metadata": {},
     "output_type": "display_data"
    },
    {
     "data": {
      "text/markdown": [
       "After tax impact of non-GAAP adjustments\n",
       "14,313\n",
       "2023 Full Year"
      ],
      "text/plain": [
       "<IPython.core.display.Markdown object>"
      ]
     },
     "metadata": {},
     "output_type": "display_data"
    },
    {
     "data": {
      "text/markdown": [
       "After tax impact of non-GAAP adjustments\n",
       "20,694\n",
       "2022 Full Year"
      ],
      "text/plain": [
       "<IPython.core.display.Markdown object>"
      ]
     },
     "metadata": {},
     "output_type": "display_data"
    },
    {
     "data": {
      "text/markdown": [
       "Adjusted net income\n",
       "286,182\n",
       "2023 Q4"
      ],
      "text/plain": [
       "<IPython.core.display.Markdown object>"
      ]
     },
     "metadata": {},
     "output_type": "display_data"
    },
    {
     "data": {
      "text/markdown": [
       "Adjusted net income\n",
       "231,394\n",
       "2022 Q4"
      ],
      "text/plain": [
       "<IPython.core.display.Markdown object>"
      ]
     },
     "metadata": {},
     "output_type": "display_data"
    },
    {
     "data": {
      "text/markdown": [
       "Adjusted net income\n",
       "1,243,050\n",
       "2023 Full Year"
      ],
      "text/plain": [
       "<IPython.core.display.Markdown object>"
      ]
     },
     "metadata": {},
     "output_type": "display_data"
    },
    {
     "data": {
      "text/markdown": [
       "Adjusted net income\n",
       "919,795\n",
       "2022 Full Year"
      ],
      "text/plain": [
       "<IPython.core.display.Markdown object>"
      ]
     },
     "metadata": {},
     "output_type": "display_data"
    },
    {
     "data": {
      "text/markdown": [
       "Diluted weighted-average number of common shares outstanding\n",
       "27,621\n",
       "2023 Q4"
      ],
      "text/plain": [
       "<IPython.core.display.Markdown object>"
      ]
     },
     "metadata": {},
     "output_type": "display_data"
    },
    {
     "data": {
      "text/markdown": [
       "Diluted weighted-average number of common shares outstanding\n",
       "27,899\n",
       "2022 Q4"
      ],
      "text/plain": [
       "<IPython.core.display.Markdown object>"
      ]
     },
     "metadata": {},
     "output_type": "display_data"
    },
    {
     "data": {
      "text/markdown": [
       "Diluted weighted-average number of common shares outstanding\n",
       "27,710\n",
       "2023 Full Year"
      ],
      "text/plain": [
       "<IPython.core.display.Markdown object>"
      ]
     },
     "metadata": {},
     "output_type": "display_data"
    },
    {
     "data": {
      "text/markdown": [
       "Diluted weighted-average number of common shares outstanding\n",
       "28,062\n",
       "2022 Full Year"
      ],
      "text/plain": [
       "<IPython.core.display.Markdown object>"
      ]
     },
     "metadata": {},
     "output_type": "display_data"
    },
    {
     "data": {
      "text/markdown": [
       "Diluted earnings per share\n",
       "10.21\n",
       "2023 Q4"
      ],
      "text/plain": [
       "<IPython.core.display.Markdown object>"
      ]
     },
     "metadata": {},
     "output_type": "display_data"
    },
    {
     "data": {
      "text/markdown": [
       "Diluted earnings per share\n",
       "8.02\n",
       "2022 Q4"
      ],
      "text/plain": [
       "<IPython.core.display.Markdown object>"
      ]
     },
     "metadata": {},
     "output_type": "display_data"
    },
    {
     "data": {
      "text/markdown": [
       "Diluted earnings per share\n",
       "44.34\n",
       "2023 Full Year"
      ],
      "text/plain": [
       "<IPython.core.display.Markdown object>"
      ]
     },
     "metadata": {},
     "output_type": "display_data"
    },
    {
     "data": {
      "text/markdown": [
       "Diluted earnings per share\n",
       "32.04\n",
       "2022 Full Year"
      ],
      "text/plain": [
       "<IPython.core.display.Markdown object>"
      ]
     },
     "metadata": {},
     "output_type": "display_data"
    },
    {
     "data": {
      "text/markdown": [
       "Adjusted diluted earnings per share\n",
       "10.36\n",
       "2023 Q4"
      ],
      "text/plain": [
       "<IPython.core.display.Markdown object>"
      ]
     },
     "metadata": {},
     "output_type": "display_data"
    },
    {
     "data": {
      "text/markdown": [
       "Adjusted diluted earnings per share\n",
       "8.29\n",
       "2022 Q4"
      ],
      "text/plain": [
       "<IPython.core.display.Markdown object>"
      ]
     },
     "metadata": {},
     "output_type": "display_data"
    },
    {
     "data": {
      "text/markdown": [
       "Adjusted diluted earnings per share\n",
       "44.86\n",
       "2023 Full Year"
      ],
      "text/plain": [
       "<IPython.core.display.Markdown object>"
      ]
     },
     "metadata": {},
     "output_type": "display_data"
    },
    {
     "data": {
      "text/markdown": [
       "Adjusted diluted earnings per share\n",
       "32.78\n",
       "2022 Full Year"
      ],
      "text/plain": [
       "<IPython.core.display.Markdown object>"
      ]
     },
     "metadata": {},
     "output_type": "display_data"
    },
    {
     "data": {
      "text/markdown": [
       "|     |  Three months ended  |     |     |     |  Year ended  |     |     |     |\n",
       "|  ---  |  ---  |  ---  |  ---  |  ---  |  ---  |  ---  |  ---  |  ---  |\n",
       "|  ﻿  |  2023  |     |  2022  |     |  2023  |     |  2022  |     |\n",
       "|  General and administrative expenses  |  $  |  169,247  |  $  |  135,073  |  $  |  633,584  |  $  |  564,191  |\n",
       "|  Restructuring expense(1)  |     |  -  |     |  (881)  |     |  (4,829)  |     |  (3,937)  |\n",
       "|  Legal proceedings(2)  |     |  797  |     |  (3,718)  |     |  797  |     |  (9,516)  |\n",
       "|  Stock-based compensation modification expense(3)  |     |  -  |     |  (1,117)  |     |  -  |     |  (7,411)  |\n",
       "|  Separation costs(4)  |     |  -  |     |  -  |     |  -  |     |  (3,538)  |\n",
       "|  Total non-GAAP adjustments  |  $  |  797  |  $  |  (5,716)  |  $  |  (4,032)  |  $  |  (24,402)  |\n",
       "|  Adjusted general and administrative expenses  |  $  |  170,044  |  $  |  129,357  |  $  |  629,552  |  $  |  539,789  |"
      ],
      "text/plain": [
       "<IPython.core.display.Markdown object>"
      ]
     },
     "metadata": {},
     "output_type": "display_data"
    },
    {
     "data": {
      "text/markdown": [
       "General and administrative expenses\n",
       "169,247\n",
       "2023 Q4"
      ],
      "text/plain": [
       "<IPython.core.display.Markdown object>"
      ]
     },
     "metadata": {},
     "output_type": "display_data"
    },
    {
     "data": {
      "text/markdown": [
       "General and administrative expenses\n",
       "135,073\n",
       "2022 Q4"
      ],
      "text/plain": [
       "<IPython.core.display.Markdown object>"
      ]
     },
     "metadata": {},
     "output_type": "display_data"
    },
    {
     "data": {
      "text/markdown": [
       "General and administrative expenses\n",
       "633,584\n",
       "2023 Full Year"
      ],
      "text/plain": [
       "<IPython.core.display.Markdown object>"
      ]
     },
     "metadata": {},
     "output_type": "display_data"
    },
    {
     "data": {
      "text/markdown": [
       "General and administrative expenses\n",
       "564,191\n",
       "2022 Full Year"
      ],
      "text/plain": [
       "<IPython.core.display.Markdown object>"
      ]
     },
     "metadata": {},
     "output_type": "display_data"
    },
    {
     "data": {
      "text/markdown": [
       "Restructuring expense\n",
       "-\n",
       "2023 Q4"
      ],
      "text/plain": [
       "<IPython.core.display.Markdown object>"
      ]
     },
     "metadata": {},
     "output_type": "display_data"
    },
    {
     "data": {
      "text/markdown": [
       "Restructuring expense\n",
       "-881\n",
       "2022 Q4"
      ],
      "text/plain": [
       "<IPython.core.display.Markdown object>"
      ]
     },
     "metadata": {},
     "output_type": "display_data"
    },
    {
     "data": {
      "text/markdown": [
       "Restructuring expense\n",
       "-4,829\n",
       "2023 Full Year"
      ],
      "text/plain": [
       "<IPython.core.display.Markdown object>"
      ]
     },
     "metadata": {},
     "output_type": "display_data"
    },
    {
     "data": {
      "text/markdown": [
       "Restructuring expense\n",
       "-3,937\n",
       "2022 Full Year"
      ],
      "text/plain": [
       "<IPython.core.display.Markdown object>"
      ]
     },
     "metadata": {},
     "output_type": "display_data"
    },
    {
     "data": {
      "text/markdown": [
       "Legal proceedings\n",
       "797\n",
       "2023 Q4"
      ],
      "text/plain": [
       "<IPython.core.display.Markdown object>"
      ]
     },
     "metadata": {},
     "output_type": "display_data"
    },
    {
     "data": {
      "text/markdown": [
       "Legal proceedings\n",
       "-3718\n",
       "2022 Q4"
      ],
      "text/plain": [
       "<IPython.core.display.Markdown object>"
      ]
     },
     "metadata": {},
     "output_type": "display_data"
    },
    {
     "data": {
      "text/markdown": [
       "Legal proceedings\n",
       "797\n",
       "2023 Full Year"
      ],
      "text/plain": [
       "<IPython.core.display.Markdown object>"
      ]
     },
     "metadata": {},
     "output_type": "display_data"
    },
    {
     "data": {
      "text/markdown": [
       "Legal proceedings\n",
       "-9516\n",
       "2022 Full Year"
      ],
      "text/plain": [
       "<IPython.core.display.Markdown object>"
      ]
     },
     "metadata": {},
     "output_type": "display_data"
    },
    {
     "data": {
      "text/markdown": [
       "Stock-based compensation modification expense\n",
       "-1117\n",
       "2022 Q4"
      ],
      "text/plain": [
       "<IPython.core.display.Markdown object>"
      ]
     },
     "metadata": {},
     "output_type": "display_data"
    },
    {
     "data": {
      "text/markdown": [
       "Stock-based compensation modification expense\n",
       "-7411\n",
       "2022 Full Year"
      ],
      "text/plain": [
       "<IPython.core.display.Markdown object>"
      ]
     },
     "metadata": {},
     "output_type": "display_data"
    },
    {
     "data": {
      "text/markdown": [
       "Separation costs\n",
       "-\n",
       "2023 Q4"
      ],
      "text/plain": [
       "<IPython.core.display.Markdown object>"
      ]
     },
     "metadata": {},
     "output_type": "display_data"
    },
    {
     "data": {
      "text/markdown": [
       "Separation costs\n",
       "-\n",
       "2022 Q4"
      ],
      "text/plain": [
       "<IPython.core.display.Markdown object>"
      ]
     },
     "metadata": {},
     "output_type": "display_data"
    },
    {
     "data": {
      "text/markdown": [
       "Separation costs\n",
       "-\n",
       "2023 Full Year"
      ],
      "text/plain": [
       "<IPython.core.display.Markdown object>"
      ]
     },
     "metadata": {},
     "output_type": "display_data"
    },
    {
     "data": {
      "text/markdown": [
       "Separation costs\n",
       "-3538\n",
       "2022 Full Year"
      ],
      "text/plain": [
       "<IPython.core.display.Markdown object>"
      ]
     },
     "metadata": {},
     "output_type": "display_data"
    },
    {
     "data": {
      "text/markdown": [
       "Total non-GAAP adjustments\n",
       "797\n",
       "2023 Q4"
      ],
      "text/plain": [
       "<IPython.core.display.Markdown object>"
      ]
     },
     "metadata": {},
     "output_type": "display_data"
    },
    {
     "data": {
      "text/markdown": [
       "Total non-GAAP adjustments\n",
       "-5716\n",
       "2022 Q4"
      ],
      "text/plain": [
       "<IPython.core.display.Markdown object>"
      ]
     },
     "metadata": {},
     "output_type": "display_data"
    },
    {
     "data": {
      "text/markdown": [
       "Total non-GAAP adjustments\n",
       "-4032\n",
       "2023 Full Year"
      ],
      "text/plain": [
       "<IPython.core.display.Markdown object>"
      ]
     },
     "metadata": {},
     "output_type": "display_data"
    },
    {
     "data": {
      "text/markdown": [
       "Total non-GAAP adjustments\n",
       "-24402\n",
       "2022 Full Year"
      ],
      "text/plain": [
       "<IPython.core.display.Markdown object>"
      ]
     },
     "metadata": {},
     "output_type": "display_data"
    },
    {
     "data": {
      "text/markdown": [
       "Adjusted general and administrative expenses\n",
       "170044\n",
       "2023 Q4"
      ],
      "text/plain": [
       "<IPython.core.display.Markdown object>"
      ]
     },
     "metadata": {},
     "output_type": "display_data"
    },
    {
     "data": {
      "text/markdown": [
       "Adjusted general and administrative expenses\n",
       "129357\n",
       "2022 Q4"
      ],
      "text/plain": [
       "<IPython.core.display.Markdown object>"
      ]
     },
     "metadata": {},
     "output_type": "display_data"
    },
    {
     "data": {
      "text/markdown": [
       "Adjusted general and administrative expenses\n",
       "629552\n",
       "2023 Full Year"
      ],
      "text/plain": [
       "<IPython.core.display.Markdown object>"
      ]
     },
     "metadata": {},
     "output_type": "display_data"
    },
    {
     "data": {
      "text/markdown": [
       "Adjusted general and administrative expenses\n",
       "539789\n",
       "2022 Full Year"
      ],
      "text/plain": [
       "<IPython.core.display.Markdown object>"
      ]
     },
     "metadata": {},
     "output_type": "display_data"
    },
    {
     "data": {
      "text/markdown": [
       "|  ﻿  |  Three months ended  |     |     |     |  Year ended  |     |     |     |\n",
       "|  ---  |  ---  |  ---  |  ---  |  ---  |  ---  |  ---  |  ---  |  ---  |\n",
       "|  ﻿  |  2023  |     |  2022  |     |  2023  |     |  2022  |     |\n",
       "|  Depreciation and amortization  |  $  |  85,492  |  $  |  74,012  |  $  |  319,394  |  $  |  286,826  |\n",
       "|  Accelerated depreciation(1)  |     |  (6,388)  |     |  -  |     |  (6,388)  |     |  -  |\n",
       "|  Total non-GAAP adjustments  |  $  |  (6,388)  |  $  |  -  |  $  |  (6,388)  |  $  |  -  |\n",
       "|  Adjusted depreciation and amortization  |  $  |  79,104  |  $  |  74,012  |  $  |  313,006  |  $  |  286,826  |\n",
       "|  Adjusted depreciation and amortization as a percent of total revenue  |     |  3.1%  |     |  3.4%  |     |  3.2%  |     |  3.3%  |"
      ],
      "text/plain": [
       "<IPython.core.display.Markdown object>"
      ]
     },
     "metadata": {},
     "output_type": "display_data"
    },
    {
     "data": {
      "text/markdown": [
       "Depreciation and amortization\n",
       "85,492\n",
       "2023 Q4"
      ],
      "text/plain": [
       "<IPython.core.display.Markdown object>"
      ]
     },
     "metadata": {},
     "output_type": "display_data"
    },
    {
     "data": {
      "text/markdown": [
       "Depreciation and amortization\n",
       "74,012\n",
       "2022 Q4"
      ],
      "text/plain": [
       "<IPython.core.display.Markdown object>"
      ]
     },
     "metadata": {},
     "output_type": "display_data"
    },
    {
     "data": {
      "text/markdown": [
       "Depreciation and amortization\n",
       "319,394\n",
       "2023 Full Year"
      ],
      "text/plain": [
       "<IPython.core.display.Markdown object>"
      ]
     },
     "metadata": {},
     "output_type": "display_data"
    },
    {
     "data": {
      "text/markdown": [
       "Depreciation and amortization\n",
       "286,826\n",
       "2022 Full Year"
      ],
      "text/plain": [
       "<IPython.core.display.Markdown object>"
      ]
     },
     "metadata": {},
     "output_type": "display_data"
    },
    {
     "data": {
      "text/markdown": [
       "Accelerated depreciation\n",
       "-6,388\n",
       "2023 Q4"
      ],
      "text/plain": [
       "<IPython.core.display.Markdown object>"
      ]
     },
     "metadata": {},
     "output_type": "display_data"
    },
    {
     "data": {
      "text/markdown": [
       "Accelerated depreciation\n",
       "-6,388\n",
       "2023 Full Year"
      ],
      "text/plain": [
       "<IPython.core.display.Markdown object>"
      ]
     },
     "metadata": {},
     "output_type": "display_data"
    },
    {
     "data": {
      "text/markdown": [
       "Total non-GAAP adjustments\n",
       "-6,388\n",
       "2023 Q4"
      ],
      "text/plain": [
       "<IPython.core.display.Markdown object>"
      ]
     },
     "metadata": {},
     "output_type": "display_data"
    },
    {
     "data": {
      "text/markdown": [
       "Total non-GAAP adjustments\n",
       "-6,388\n",
       "2023 Full Year"
      ],
      "text/plain": [
       "<IPython.core.display.Markdown object>"
      ]
     },
     "metadata": {},
     "output_type": "display_data"
    },
    {
     "data": {
      "text/markdown": [
       "Adjusted depreciation and amortization\n",
       "79,104\n",
       "2023 Q4"
      ],
      "text/plain": [
       "<IPython.core.display.Markdown object>"
      ]
     },
     "metadata": {},
     "output_type": "display_data"
    },
    {
     "data": {
      "text/markdown": [
       "Adjusted depreciation and amortization\n",
       "74,012\n",
       "2022 Q4"
      ],
      "text/plain": [
       "<IPython.core.display.Markdown object>"
      ]
     },
     "metadata": {},
     "output_type": "display_data"
    },
    {
     "data": {
      "text/markdown": [
       "Adjusted depreciation and amortization\n",
       "313,006\n",
       "2023 Full Year"
      ],
      "text/plain": [
       "<IPython.core.display.Markdown object>"
      ]
     },
     "metadata": {},
     "output_type": "display_data"
    },
    {
     "data": {
      "text/markdown": [
       "Adjusted depreciation and amortization\n",
       "286,826\n",
       "2022 Full Year"
      ],
      "text/plain": [
       "<IPython.core.display.Markdown object>"
      ]
     },
     "metadata": {},
     "output_type": "display_data"
    },
    {
     "data": {
      "text/markdown": [
       "Adjusted depreciation and amortization as a percent of total revenue\n",
       "3.1\n",
       "2023 Q4"
      ],
      "text/plain": [
       "<IPython.core.display.Markdown object>"
      ]
     },
     "metadata": {},
     "output_type": "display_data"
    },
    {
     "data": {
      "text/markdown": [
       "Adjusted depreciation and amortization as a percent of total revenue\n",
       "3.4\n",
       "2022 Q4"
      ],
      "text/plain": [
       "<IPython.core.display.Markdown object>"
      ]
     },
     "metadata": {},
     "output_type": "display_data"
    },
    {
     "data": {
      "text/markdown": [
       "Adjusted depreciation and amortization as a percent of total revenue\n",
       "3.2\n",
       "2023 Full Year"
      ],
      "text/plain": [
       "<IPython.core.display.Markdown object>"
      ]
     },
     "metadata": {},
     "output_type": "display_data"
    },
    {
     "data": {
      "text/markdown": [
       "Adjusted depreciation and amortization as a percent of total revenue\n",
       "3.3\n",
       "2022 Full Year"
      ],
      "text/plain": [
       "<IPython.core.display.Markdown object>"
      ]
     },
     "metadata": {},
     "output_type": "display_data"
    },
    {
     "data": {
      "text/markdown": [
       "|  ﻿  |  Three months ended  |     |     |     |  Year ended  |     |     |     |\n",
       "|  ---  |  ---  |  ---  |  ---  |  ---  |  ---  |  ---  |  ---  |  ---  |\n",
       "|  ﻿  |  2023  |     |  2022  |     |  2023  |     |  2022  |     |\n",
       "|  Effective income tax rate  |  26.2  |  %  |  26.3  |  %  |  24.2  |  %  |  23.9  |  %  |\n",
       "|  Tax impact of non-GAAP adjustments(1)  |  -  |     |  (1.2)  |     |  -  |     |  (0.7)  |     |\n",
       "|  Adjusted effective income tax rate  |  26.2  |  %  |  25.1  |  %  |  24.2  |  %  |  23.2  |  %  |"
      ],
      "text/plain": [
       "<IPython.core.display.Markdown object>"
      ]
     },
     "metadata": {},
     "output_type": "display_data"
    },
    {
     "data": {
      "text/markdown": [
       "Effective income tax rate (Three months ended 2023)\n",
       "26.2\n",
       "2023 Q4"
      ],
      "text/plain": [
       "<IPython.core.display.Markdown object>"
      ]
     },
     "metadata": {},
     "output_type": "display_data"
    },
    {
     "data": {
      "text/markdown": [
       "Effective income tax rate (Three months ended 2022)\n",
       "26.3\n",
       "2022 Q4"
      ],
      "text/plain": [
       "<IPython.core.display.Markdown object>"
      ]
     },
     "metadata": {},
     "output_type": "display_data"
    },
    {
     "data": {
      "text/markdown": [
       "Effective income tax rate (Year ended 2023)\n",
       "24.2\n",
       "2023 Full Year"
      ],
      "text/plain": [
       "<IPython.core.display.Markdown object>"
      ]
     },
     "metadata": {},
     "output_type": "display_data"
    },
    {
     "data": {
      "text/markdown": [
       "Effective income tax rate (Year ended 2022)\n",
       "23.9\n",
       "2022 Full Year"
      ],
      "text/plain": [
       "<IPython.core.display.Markdown object>"
      ]
     },
     "metadata": {},
     "output_type": "display_data"
    },
    {
     "data": {
      "text/markdown": [
       "Tax impact of non-GAAP adjustments (Three months ended 2023)\n",
       "-1.2\n",
       "2022 Q4"
      ],
      "text/plain": [
       "<IPython.core.display.Markdown object>"
      ]
     },
     "metadata": {},
     "output_type": "display_data"
    },
    {
     "data": {
      "text/markdown": [
       "Tax impact of non-GAAP adjustments (Three months ended 2022)\n",
       "-1.2\n",
       "2022 Q4"
      ],
      "text/plain": [
       "<IPython.core.display.Markdown object>"
      ]
     },
     "metadata": {},
     "output_type": "display_data"
    },
    {
     "data": {
      "text/markdown": [
       "Tax impact of non-GAAP adjustments (Year ended 2023)\n",
       "-\n",
       "2023 Full Year"
      ],
      "text/plain": [
       "<IPython.core.display.Markdown object>"
      ]
     },
     "metadata": {},
     "output_type": "display_data"
    },
    {
     "data": {
      "text/markdown": [
       "Tax impact of non-GAAP adjustments (Year ended 2023)\n",
       "-0.7\n",
       "2022 Full Year"
      ],
      "text/plain": [
       "<IPython.core.display.Markdown object>"
      ]
     },
     "metadata": {},
     "output_type": "display_data"
    },
    {
     "data": {
      "text/markdown": [
       "Tax impact of non-GAAP adjustments (Year ended 2022)\n",
       "-0.7\n",
       "2022 Full Year"
      ],
      "text/plain": [
       "<IPython.core.display.Markdown object>"
      ]
     },
     "metadata": {},
     "output_type": "display_data"
    },
    {
     "data": {
      "text/markdown": [
       "Adjusted effective income tax rate (Three months ended 2023)\n",
       "26.2\n",
       "2023 Q4"
      ],
      "text/plain": [
       "<IPython.core.display.Markdown object>"
      ]
     },
     "metadata": {},
     "output_type": "display_data"
    },
    {
     "data": {
      "text/markdown": [
       "Adjusted effective income tax rate (Three months ended 2022)\n",
       "25.1\n",
       "2022 Q4"
      ],
      "text/plain": [
       "<IPython.core.display.Markdown object>"
      ]
     },
     "metadata": {},
     "output_type": "display_data"
    },
    {
     "data": {
      "text/markdown": [
       "Adjusted effective income tax rate (Year ended 2023)\n",
       "24.2\n",
       "2023 Full Year"
      ],
      "text/plain": [
       "<IPython.core.display.Markdown object>"
      ]
     },
     "metadata": {},
     "output_type": "display_data"
    },
    {
     "data": {
      "text/markdown": [
       "Adjusted effective income tax rate (Year ended 2023)\n",
       "23.2\n",
       "2022 Full Year"
      ],
      "text/plain": [
       "<IPython.core.display.Markdown object>"
      ]
     },
     "metadata": {},
     "output_type": "display_data"
    },
    {
     "data": {
      "text/markdown": [
       "Adjusted effective income tax rate (Year ended 2022)\n",
       "23.2\n",
       "2022 Full Year"
      ],
      "text/plain": [
       "<IPython.core.display.Markdown object>"
      ]
     },
     "metadata": {},
     "output_type": "display_data"
    },
    {
     "data": {
      "text/markdown": [
       "|  ﻿  |  Three months ended December 31,  |     |     |     |     |     |     |     |\n",
       "|  ---  |  ---  |  ---  |  ---  |  ---  |  ---  |  ---  |  ---  |  ---  |\n",
       "|  ﻿  |  2023  |     |  Percent of total revenue  |     |  2022  |     |  Percent of total revenue  |     |\n",
       "|  Income from operations  |  $  |  363,447  |  14.4  |  %  |  $  |  296,331  |  13.6  |  %  |\n",
       "|  General and administrative expenses  |     |  169,247  |  6.7  |     |     |  135,073  |  6.2  |     |\n",
       "|  Depreciation and amortization  |     |  85,492  |  3.4  |     |     |  74,012  |  3.4  |     |\n",
       "|  Pre-opening costs  |     |  13,590  |  0.5  |     |     |  11,341  |  0.5  |     |\n",
       "|  Impairment, closure costs, and asset disposals  |     |  6,528  |  0.3  |     |     |  5,785  |  0.3  |     |\n",
       "|  Total non-GAAP Adjustments  |  $  |  274,857  |  10.9  |  %  |  $  |  226,211  |  10.4  |  %  |\n",
       "|  Restaurant level operating margin  |  $  |  638,304  |  25.4  |  %  |  $  |  522,542  |  24.0  |  %  |"
      ],
      "text/plain": [
       "<IPython.core.display.Markdown object>"
      ]
     },
     "metadata": {},
     "output_type": "display_data"
    },
    {
     "data": {
      "text/markdown": [
       "Income from operations\n",
       "363,447\n",
       "2023 Q4"
      ],
      "text/plain": [
       "<IPython.core.display.Markdown object>"
      ]
     },
     "metadata": {},
     "output_type": "display_data"
    },
    {
     "data": {
      "text/markdown": [
       "Income from operations\n",
       "296,331\n",
       "2022 Q4"
      ],
      "text/plain": [
       "<IPython.core.display.Markdown object>"
      ]
     },
     "metadata": {},
     "output_type": "display_data"
    },
    {
     "data": {
      "text/markdown": [
       "Income from operations (percent of total revenue)\n",
       "14.4\n",
       "2023 Q4"
      ],
      "text/plain": [
       "<IPython.core.display.Markdown object>"
      ]
     },
     "metadata": {},
     "output_type": "display_data"
    },
    {
     "data": {
      "text/markdown": [
       "Income from operations (percent of total revenue)\n",
       "13.6\n",
       "2022 Q4"
      ],
      "text/plain": [
       "<IPython.core.display.Markdown object>"
      ]
     },
     "metadata": {},
     "output_type": "display_data"
    },
    {
     "data": {
      "text/markdown": [
       "General and administrative expenses\n",
       "169247\n",
       "2023 Q4"
      ],
      "text/plain": [
       "<IPython.core.display.Markdown object>"
      ]
     },
     "metadata": {},
     "output_type": "display_data"
    },
    {
     "data": {
      "text/markdown": [
       "General and administrative expenses\n",
       "135073\n",
       "2022 Q4"
      ],
      "text/plain": [
       "<IPython.core.display.Markdown object>"
      ]
     },
     "metadata": {},
     "output_type": "display_data"
    },
    {
     "data": {
      "text/markdown": [
       "General and administrative expenses (percent of total revenue)\n",
       "6.7\n",
       "2023 Q4"
      ],
      "text/plain": [
       "<IPython.core.display.Markdown object>"
      ]
     },
     "metadata": {},
     "output_type": "display_data"
    },
    {
     "data": {
      "text/markdown": [
       "General and administrative expenses (percent of total revenue)\n",
       "6.2\n",
       "2022 Q4"
      ],
      "text/plain": [
       "<IPython.core.display.Markdown object>"
      ]
     },
     "metadata": {},
     "output_type": "display_data"
    },
    {
     "data": {
      "text/markdown": [
       "Depreciation and amortization\n",
       "85,492\n",
       "2023 Q4"
      ],
      "text/plain": [
       "<IPython.core.display.Markdown object>"
      ]
     },
     "metadata": {},
     "output_type": "display_data"
    },
    {
     "data": {
      "text/markdown": [
       "Depreciation and amortization\n",
       "74,012\n",
       "2022 Q4"
      ],
      "text/plain": [
       "<IPython.core.display.Markdown object>"
      ]
     },
     "metadata": {},
     "output_type": "display_data"
    },
    {
     "data": {
      "text/markdown": [
       "Depreciation and amortization (percent of total revenue)\n",
       "3.4\n",
       "2023 Q4"
      ],
      "text/plain": [
       "<IPython.core.display.Markdown object>"
      ]
     },
     "metadata": {},
     "output_type": "display_data"
    },
    {
     "data": {
      "text/markdown": [
       "Depreciation and amortization (percent of total revenue)\n",
       "3.4\n",
       "2022 Q4"
      ],
      "text/plain": [
       "<IPython.core.display.Markdown object>"
      ]
     },
     "metadata": {},
     "output_type": "display_data"
    },
    {
     "data": {
      "text/markdown": [
       "Pre-opening costs\n",
       "13590\n",
       "2023 Q4"
      ],
      "text/plain": [
       "<IPython.core.display.Markdown object>"
      ]
     },
     "metadata": {},
     "output_type": "display_data"
    },
    {
     "data": {
      "text/markdown": [
       "Pre-opening costs\n",
       "11341\n",
       "2022 Q4"
      ],
      "text/plain": [
       "<IPython.core.display.Markdown object>"
      ]
     },
     "metadata": {},
     "output_type": "display_data"
    },
    {
     "data": {
      "text/markdown": [
       "Pre-opening costs (percent of total revenue)\n",
       "0.5\n",
       "2023 Q4"
      ],
      "text/plain": [
       "<IPython.core.display.Markdown object>"
      ]
     },
     "metadata": {},
     "output_type": "display_data"
    },
    {
     "data": {
      "text/markdown": [
       "Pre-opening costs (percent of total revenue)\n",
       "0.5\n",
       "2022 Q4"
      ],
      "text/plain": [
       "<IPython.core.display.Markdown object>"
      ]
     },
     "metadata": {},
     "output_type": "display_data"
    },
    {
     "data": {
      "text/markdown": [
       "Impairment, closure costs, and asset disposals\n",
       "6,528\n",
       "2023 Q4"
      ],
      "text/plain": [
       "<IPython.core.display.Markdown object>"
      ]
     },
     "metadata": {},
     "output_type": "display_data"
    },
    {
     "data": {
      "text/markdown": [
       "Impairment, closure costs, and asset disposals\n",
       "5,785\n",
       "2022 Q4"
      ],
      "text/plain": [
       "<IPython.core.display.Markdown object>"
      ]
     },
     "metadata": {},
     "output_type": "display_data"
    },
    {
     "data": {
      "text/markdown": [
       "Impairment, closure costs, and asset disposals (percent of total revenue)\n",
       "0.3\n",
       "2023 Q4"
      ],
      "text/plain": [
       "<IPython.core.display.Markdown object>"
      ]
     },
     "metadata": {},
     "output_type": "display_data"
    },
    {
     "data": {
      "text/markdown": [
       "Impairment, closure costs, and asset disposals (percent of total revenue)\n",
       "0.3\n",
       "2022 Q4"
      ],
      "text/plain": [
       "<IPython.core.display.Markdown object>"
      ]
     },
     "metadata": {},
     "output_type": "display_data"
    },
    {
     "data": {
      "text/markdown": [
       "Total non-GAAP Adjustments\n",
       "274,857\n",
       "2023 Q4"
      ],
      "text/plain": [
       "<IPython.core.display.Markdown object>"
      ]
     },
     "metadata": {},
     "output_type": "display_data"
    },
    {
     "data": {
      "text/markdown": [
       "Total non-GAAP Adjustments\n",
       "226,211\n",
       "2022 Q4"
      ],
      "text/plain": [
       "<IPython.core.display.Markdown object>"
      ]
     },
     "metadata": {},
     "output_type": "display_data"
    },
    {
     "data": {
      "text/markdown": [
       "Total non-GAAP Adjustments (percent of total revenue)\n",
       "10.9\n",
       "2023 Q4"
      ],
      "text/plain": [
       "<IPython.core.display.Markdown object>"
      ]
     },
     "metadata": {},
     "output_type": "display_data"
    },
    {
     "data": {
      "text/markdown": [
       "Total non-GAAP Adjustments (percent of total revenue)\n",
       "10.4\n",
       "2022 Q4"
      ],
      "text/plain": [
       "<IPython.core.display.Markdown object>"
      ]
     },
     "metadata": {},
     "output_type": "display_data"
    },
    {
     "data": {
      "text/markdown": [
       "Restaurant level operating margin\n",
       "638,304\n",
       "2023 Q4"
      ],
      "text/plain": [
       "<IPython.core.display.Markdown object>"
      ]
     },
     "metadata": {},
     "output_type": "display_data"
    },
    {
     "data": {
      "text/markdown": [
       "Restaurant level operating margin\n",
       "522,542\n",
       "2022 Q4"
      ],
      "text/plain": [
       "<IPython.core.display.Markdown object>"
      ]
     },
     "metadata": {},
     "output_type": "display_data"
    },
    {
     "data": {
      "text/markdown": [
       "Restaurant level operating margin (percent of total revenue)\n",
       "25.4\n",
       "2023 Q4"
      ],
      "text/plain": [
       "<IPython.core.display.Markdown object>"
      ]
     },
     "metadata": {},
     "output_type": "display_data"
    },
    {
     "data": {
      "text/markdown": [
       "Restaurant level operating margin (percent of total revenue)\n",
       "24.0\n",
       "2022 Q4"
      ],
      "text/plain": [
       "<IPython.core.display.Markdown object>"
      ]
     },
     "metadata": {},
     "output_type": "display_data"
    },
    {
     "data": {
      "text/markdown": [
       "|  ﻿  |  Year ended December 31,  |     |     |     |     |     |     |     |\n",
       "|  ---  |  ---  |  ---  |  ---  |  ---  |  ---  |  ---  |  ---  |  ---  |\n",
       "|  ﻿  |  2023  |     |  Percent of total revenue  |     |  2022  |     |  Percent of total revenue  |     |\n",
       "|  Income from operations  |  $  |  1,557,813  |  15.8  |  %  |  $  |  1,160,403  |  13.4  |  %  |\n",
       "|  General and administrative expenses  |     |  633,584  |  6.4  |     |     |  564,191  |  6.5  |     |\n",
       "|  Depreciation and amortization  |     |  319,394  |  3.2  |     |     |  286,826  |  3.3  |     |\n",
       "|  Pre-opening costs  |     |  36,931  |  0.4  |     |     |  29,560  |  0.3  |     |\n",
       "|  Impairment, closure costs, and asset disposals  |     |  38,370  |  0.4  |     |     |  21,139  |  0.2  |     |\n",
       "|  Total non-GAAP Adjustments  |  $  |  1,028,279  |  10.4  |  %  |  $  |  901,716  |  10.4  |  %  |\n",
       "|  Restaurant level operating margin  |  $  |  2,586,092  |  26.2  |  %  |  $  |  2,062,119  |  23.9  |  %  |"
      ],
      "text/plain": [
       "<IPython.core.display.Markdown object>"
      ]
     },
     "metadata": {},
     "output_type": "display_data"
    },
    {
     "data": {
      "text/markdown": [
       "Income from operations\n",
       "1557813\n",
       "2023 Full Year"
      ],
      "text/plain": [
       "<IPython.core.display.Markdown object>"
      ]
     },
     "metadata": {},
     "output_type": "display_data"
    },
    {
     "data": {
      "text/markdown": [
       "Income from operations\n",
       "1160403\n",
       "2022 Full Year"
      ],
      "text/plain": [
       "<IPython.core.display.Markdown object>"
      ]
     },
     "metadata": {},
     "output_type": "display_data"
    },
    {
     "data": {
      "text/markdown": [
       "Income from operations (percent of total revenue)\n",
       "15.8\n",
       "2023 Full Year"
      ],
      "text/plain": [
       "<IPython.core.display.Markdown object>"
      ]
     },
     "metadata": {},
     "output_type": "display_data"
    },
    {
     "data": {
      "text/markdown": [
       "Income from operations (percent of total revenue)\n",
       "13.4\n",
       "2022 Full Year"
      ],
      "text/plain": [
       "<IPython.core.display.Markdown object>"
      ]
     },
     "metadata": {},
     "output_type": "display_data"
    },
    {
     "data": {
      "text/markdown": [
       "General and administrative expenses\n",
       "633584\n",
       "2023 Full Year"
      ],
      "text/plain": [
       "<IPython.core.display.Markdown object>"
      ]
     },
     "metadata": {},
     "output_type": "display_data"
    },
    {
     "data": {
      "text/markdown": [
       "General and administrative expenses\n",
       "564191\n",
       "2022 Full Year"
      ],
      "text/plain": [
       "<IPython.core.display.Markdown object>"
      ]
     },
     "metadata": {},
     "output_type": "display_data"
    },
    {
     "data": {
      "text/markdown": [
       "General and administrative expenses (percent of total revenue)\n",
       "6.4\n",
       "2023 Full Year"
      ],
      "text/plain": [
       "<IPython.core.display.Markdown object>"
      ]
     },
     "metadata": {},
     "output_type": "display_data"
    },
    {
     "data": {
      "text/markdown": [
       "General and administrative expenses (percent of total revenue)\n",
       "6.5\n",
       "2022 Full Year"
      ],
      "text/plain": [
       "<IPython.core.display.Markdown object>"
      ]
     },
     "metadata": {},
     "output_type": "display_data"
    },
    {
     "data": {
      "text/markdown": [
       "Depreciation and amortization\n",
       "319,394\n",
       "2023 Full Year"
      ],
      "text/plain": [
       "<IPython.core.display.Markdown object>"
      ]
     },
     "metadata": {},
     "output_type": "display_data"
    },
    {
     "data": {
      "text/markdown": [
       "Depreciation and amortization\n",
       "286,826\n",
       "2022 Full Year"
      ],
      "text/plain": [
       "<IPython.core.display.Markdown object>"
      ]
     },
     "metadata": {},
     "output_type": "display_data"
    },
    {
     "data": {
      "text/markdown": [
       "Depreciation and amortization (percent of total revenue)\n",
       "3.2\n",
       "2023 Full Year"
      ],
      "text/plain": [
       "<IPython.core.display.Markdown object>"
      ]
     },
     "metadata": {},
     "output_type": "display_data"
    },
    {
     "data": {
      "text/markdown": [
       "Depreciation and amortization (percent of total revenue)\n",
       "3.3\n",
       "2022 Full Year"
      ],
      "text/plain": [
       "<IPython.core.display.Markdown object>"
      ]
     },
     "metadata": {},
     "output_type": "display_data"
    },
    {
     "data": {
      "text/markdown": [
       "Pre-opening costs\n",
       "36931\n",
       "2023 Full Year"
      ],
      "text/plain": [
       "<IPython.core.display.Markdown object>"
      ]
     },
     "metadata": {},
     "output_type": "display_data"
    },
    {
     "data": {
      "text/markdown": [
       "Pre-opening costs\n",
       "29560\n",
       "2022 Full Year"
      ],
      "text/plain": [
       "<IPython.core.display.Markdown object>"
      ]
     },
     "metadata": {},
     "output_type": "display_data"
    },
    {
     "data": {
      "text/markdown": [
       "Pre-opening costs (percent of total revenue)\n",
       "0.4\n",
       "2023 Full Year"
      ],
      "text/plain": [
       "<IPython.core.display.Markdown object>"
      ]
     },
     "metadata": {},
     "output_type": "display_data"
    },
    {
     "data": {
      "text/markdown": [
       "Pre-opening costs (percent of total revenue)\n",
       "0.3\n",
       "2022 Full Year"
      ],
      "text/plain": [
       "<IPython.core.display.Markdown object>"
      ]
     },
     "metadata": {},
     "output_type": "display_data"
    },
    {
     "data": {
      "text/markdown": [
       "Impairment, closure costs, and asset disposals\n",
       "38,370\n",
       "2023 Full Year"
      ],
      "text/plain": [
       "<IPython.core.display.Markdown object>"
      ]
     },
     "metadata": {},
     "output_type": "display_data"
    },
    {
     "data": {
      "text/markdown": [
       "Impairment, closure costs, and asset disposals\n",
       "21,139\n",
       "2022 Full Year"
      ],
      "text/plain": [
       "<IPython.core.display.Markdown object>"
      ]
     },
     "metadata": {},
     "output_type": "display_data"
    },
    {
     "data": {
      "text/markdown": [
       "Impairment, closure costs, and asset disposals (percent of total revenue)\n",
       "0.4\n",
       "2023 Full Year"
      ],
      "text/plain": [
       "<IPython.core.display.Markdown object>"
      ]
     },
     "metadata": {},
     "output_type": "display_data"
    },
    {
     "data": {
      "text/markdown": [
       "Impairment, closure costs, and asset disposals (percent of total revenue)\n",
       "0.2\n",
       "2022 Full Year"
      ],
      "text/plain": [
       "<IPython.core.display.Markdown object>"
      ]
     },
     "metadata": {},
     "output_type": "display_data"
    },
    {
     "data": {
      "text/markdown": [
       "Total non-GAAP Adjustments\n",
       "1,028,279\n",
       "2023 Full Year"
      ],
      "text/plain": [
       "<IPython.core.display.Markdown object>"
      ]
     },
     "metadata": {},
     "output_type": "display_data"
    },
    {
     "data": {
      "text/markdown": [
       "Total non-GAAP Adjustments\n",
       "901,716\n",
       "2022 Full Year"
      ],
      "text/plain": [
       "<IPython.core.display.Markdown object>"
      ]
     },
     "metadata": {},
     "output_type": "display_data"
    },
    {
     "data": {
      "text/markdown": [
       "Total non-GAAP Adjustments (percent of total revenue)\n",
       "10.4\n",
       "2023 Full Year"
      ],
      "text/plain": [
       "<IPython.core.display.Markdown object>"
      ]
     },
     "metadata": {},
     "output_type": "display_data"
    },
    {
     "data": {
      "text/markdown": [
       "Total non-GAAP Adjustments (percent of total revenue)\n",
       "10.4\n",
       "2022 Full Year"
      ],
      "text/plain": [
       "<IPython.core.display.Markdown object>"
      ]
     },
     "metadata": {},
     "output_type": "display_data"
    },
    {
     "data": {
      "text/markdown": [
       "Restaurant level operating margin\n",
       "2,586,092\n",
       "2023 Full Year"
      ],
      "text/plain": [
       "<IPython.core.display.Markdown object>"
      ]
     },
     "metadata": {},
     "output_type": "display_data"
    },
    {
     "data": {
      "text/markdown": [
       "Restaurant level operating margin\n",
       "2,062,119\n",
       "2022 Full Year"
      ],
      "text/plain": [
       "<IPython.core.display.Markdown object>"
      ]
     },
     "metadata": {},
     "output_type": "display_data"
    },
    {
     "data": {
      "text/markdown": [
       "Restaurant level operating margin (percent of total revenue)\n",
       "26.2\n",
       "2023 Full Year"
      ],
      "text/plain": [
       "<IPython.core.display.Markdown object>"
      ]
     },
     "metadata": {},
     "output_type": "display_data"
    },
    {
     "data": {
      "text/markdown": [
       "Restaurant level operating margin (percent of total revenue)\n",
       "23.9\n",
       "2022 Full Year"
      ],
      "text/plain": [
       "<IPython.core.display.Markdown object>"
      ]
     },
     "metadata": {},
     "output_type": "display_data"
    }
   ],
   "source": [
    "import json\n",
    "\n",
    "with open(\"result/chipole_improved_results_classification.jsonl\", \"r\") as f:\n",
    "    data = f.readlines()\n",
    "\n",
    "prev_data = None\n",
    "for row in data:\n",
    "    row = json.loads(row)\n",
    "    if row['reference'] != prev_data:\n",
    "        prev_data = row['reference']\n",
    "        display_markdown_table(prev_data)\n",
    "        display_markdown_table(row['title'] + \"\\n\" + row['value'] + \"\\n\" + row['period'])\n",
    "    else:\n",
    "        display_markdown_table(row['title'] + \"\\n\" + row['value'] + \"\\n\" + row['period'])"
   ]
  }
 ],
 "metadata": {
  "kernelspec": {
   "display_name": "extract_agent",
   "language": "python",
   "name": "python3"
  },
  "language_info": {
   "codemirror_mode": {
    "name": "ipython",
    "version": 3
   },
   "file_extension": ".py",
   "mimetype": "text/x-python",
   "name": "python",
   "nbconvert_exporter": "python",
   "pygments_lexer": "ipython3",
   "version": "3.11.11"
  }
 },
 "nbformat": 4,
 "nbformat_minor": 2
}

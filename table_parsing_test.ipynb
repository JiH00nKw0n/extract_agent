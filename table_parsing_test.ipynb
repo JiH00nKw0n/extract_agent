{
 "cells": [
  {
   "cell_type": "markdown",
   "metadata": {},
   "source": [
    "## Table Parsing test code"
   ]
  },
  {
   "cell_type": "code",
   "execution_count": 1,
   "metadata": {},
   "outputs": [
    {
     "data": {
      "text/markdown": [
       "|  &nbsp;  |  Three months ended December 31  |     |     |     |     |     |     |     |     |     |\n",
       "|  ---  |  ---  |  ---  |  ---  |  ---  |  ---  |  ---  |  ---  |  ---  |  ---  |  ---  |\n",
       "|  &nbsp;  |  2014  |     |     |     |     |  2013  |     |     |     |     |\n",
       "|  &nbsp;Revenue  |  $  |  1,069,811  |     |  100.0  |  %  |  $  |  844,147  |     |  100.0  |  %  |\n",
       "|  &nbsp;Restaurant operating costs  |     |     |     |     |     |     |     |     |     |     |\n",
       "|  &nbsp;(Exclusive of depreciation and amortization shown separately below):  |     |     |     |     |     |     |     |     |     |     |\n",
       "|  &nbsp;Food, beverage and packaging  |     |  373,991  |     |  35.0  |     |     |  285,912  |     |  33.9  |     |\n",
       "|  &nbsp;Labor  |     |  237,310  |     |  22.2  |     |     |  193,818  |     |  23.0  |     |\n",
       "|  &nbsp;Occupancy  |     |  60,930  |     |  5.7  |     |     |  52,795  |     |  6.3  |     |\n",
       "|  &nbsp;Other operating costs  |     |  112,732  |     |  10.5  |     |     |  95,389  |     |  11.3  |     |\n",
       "|  &nbsp;General and administrative expenses  |     |  60,929  |     |  5.7  |     |     |  55,844  |     |  6.6  |     |\n",
       "|  &nbsp;Depreciation and amortization  |     |  29,750  |     |  2.8  |     |     |  24,903  |     |  3.0  |     |\n",
       "|  &nbsp;Pre-opening costs  |     |  4,088  |     |  0.4  |     |     |  4,775  |     |  0.6  |     |\n",
       "|  &nbsp;Loss on disposal of assets  |     |  2,209  |     |  0.2  |     |     |  1,607  |     |  0.2  |     |\n",
       "|  &nbsp;Total operating expenses  |     |  881,939  |     |  82.4  |     |     |  715,043  |     |  84.7  |     |\n",
       "|  &nbsp;Income from operations  |     |  187,872  |     |  17.6  |     |     |  129,104  |     |  15.3  |     |\n",
       "|  &nbsp;Interest and other income (expense), net  |     |  885  |     |  0.1  |     |     |  390  |     |    |     |\n",
       "|  &nbsp;Income before income taxes  |     |  188,757  |     |  17.6  |     |     |  129,494  |     |  15.3  |     |\n",
       "|  &nbsp;Provision for income taxes  |     |  (67,523  |  )  |  (6.3  |  )  |     |  (49,872  |  )  |  (5.9  |  )  |\n",
       "|  &nbsp;Net income  |  $  |  121,234  |     |  11.3  |  %  |  $  |  79,622  |     |  9.4  |  %  |\n",
       "|  &nbsp;Other comprehensive income:  |     |     |     |     |     |     |     |     |     |     |\n",
       "|  &nbsp;Foreign currency translation adjustments  |     |  (1,008  |  )  |     |     |     |  222  |     |     |     |\n",
       "|  &nbsp;Comprehensive income  |  $  |  120,226  |     |     |     |  $  |  79,844  |     |     |     |\n",
       "|  &nbsp;Earnings per share:  |     |     |     |     |     |     |     |     |     |     |\n",
       "|  &nbsp;Basic  |  $  |  3.91  |     |     |     |  $  |  2.57  |     |     |     |\n",
       "|  &nbsp;Diluted  |  $  |  3.84  |     |     |     |  $  |  2.53  |     |     |     |\n",
       "|  &nbsp;Weighted average common shares outstanding:  |     |     |     |     |     |     |     |     |     |     |\n",
       "|  &nbsp;Basic  |     |  31,024  |     |     |     |     |  31,019  |     |     |     |\n",
       "|  &nbsp;Diluted  |     |  31,542  |     |     |     |     |  31,425  |     |     |     |"
      ],
      "text/plain": [
       "<IPython.core.display.Markdown object>"
      ]
     },
     "metadata": {},
     "output_type": "display_data"
    }
   ],
   "source": [
    "# markdown_table = \"|  ﻿  |  For the three months ended  |     |     |     |     |     |     |     |     |     |\\n|  ---  |  ---  |  ---  |  ---  |  ---  |  ---  |  ---  |  ---  |  ---  |  ---  |  ---  |\\n|  ﻿  |  Dec. 31,  |     |  Sep. 30,  |     |  Jun. 30,  |     |  Mar. 31,  |     |  Dec. 31,  |     |\\n|  ﻿  |  2023  |     |  2023  |     |  2023  |     |  2023  |     |  2022  |     |\\n|  Number of restaurants opened  |     |  121  |     |  62  |     |  47  |     |  41  |     |  100  |\\n|  Chipotle permanent closures  |     |  (2)  |     |  (1)  |     |  -  |     |  -  |     |  -  |\\n|  Chipotle relocations  |     |  (3)  |     |  (2)  |     |  (3)  |     |  (4)  |     |  (3)  |\\n|  Non-Chipotle permanent closures  |     |  -  |     |  (6)  |     |  -  |     |  -  |     |  -  |\\n|  Number of restaurants at end of period  |     |  3,437  |     |  3,321  |     |  3,268  |     |  3,224  |     |  3,187  |\\n|  Average restaurant sales  |  $  |  3,018  |  $  |  2,972  |  $  |  2,941  |  $  |  2,892  |  $  |  2,824  |\\n|  Comparable restaurant sales increase  |     |  8.4%  |     |  5.0%  |     |  7.4%  |     |  10.9%  |     |  5.6%  |\"\n",
    "# html_table = \"<table>\\n<tr>\\n<td></td>\\n<td></td>\\n<td></td>\\n<td></td>\\n<td></td>\\n<td></td>\\n<td></td>\\n<td></td>\\n<td></td>\\n<td></td>\\n<td></td>\\n<td></td>\\n</tr>\\n<tr>\\n<td>﻿</td>\\n<td colspan=\\\"11\\\">Three months ended December 31,</td>\\n</tr>\\n<tr>\\n<td>﻿</td>\\n<td colspan=\\\"5\\\">2023</td>\\n<td></td>\\n<td colspan=\\\"5\\\">2022</td>\\n</tr>\\n<tr>\\n<td>Food and beverage revenue</td>\\n<td>$</td>\\n<td>2,499,567</td>\\n<td></td>\\n<td>99.3</td>\\n<td>%</td>\\n<td></td>\\n<td>$</td>\\n<td>2,163,907</td>\\n<td></td>\\n<td>99.2</td>\\n<td>%</td>\\n</tr>\\n<tr>\\n<td>Delivery service revenue</td>\\n<td></td>\\n<td>16,753</td>\\n<td></td>\\n<td>0.7</td>\\n<td></td>\\n<td></td>\\n<td></td>\\n<td>16,692</td>\\n<td></td>\\n<td>0.8</td>\\n<td></td>\\n</tr>\\n<tr>\\n<td>Total revenue</td>\\n<td></td>\\n<td>2,516,320</td>\\n<td></td>\\n<td>100.0</td>\\n<td></td>\\n<td></td>\\n<td></td>\\n<td>2,180,599</td>\\n<td></td>\\n<td>100.0</td>\\n<td></td>\\n</tr>\\n<tr>\\n<td>Restaurant operating costs (exclusive of depreciation and amortization shown separately below):</td>\\n<td></td>\\n<td></td>\\n<td></td>\\n<td></td>\\n<td></td>\\n<td></td>\\n<td></td>\\n<td></td>\\n<td></td>\\n<td></td>\\n<td></td>\\n</tr>\\n<tr>\\n<td>Food, beverage and packaging</td>\\n<td></td>\\n<td>747,155</td>\\n<td></td>\\n<td>29.7</td>\\n<td></td>\\n<td></td>\\n<td></td>\\n<td>638,851</td>\\n<td></td>\\n<td>29.3</td>\\n<td></td>\\n</tr>\\n<tr>\\n<td>Labor</td>\\n<td></td>\\n<td>629,228</td>\\n<td></td>\\n<td>25.0</td>\\n<td></td>\\n<td></td>\\n<td></td>\\n<td>558,914</td>\\n<td></td>\\n<td>25.6</td>\\n<td></td>\\n</tr>\\n<tr>\\n<td>Occupancy</td>\\n<td></td>\\n<td>131,167</td>\\n<td></td>\\n<td>5.2</td>\\n<td></td>\\n<td></td>\\n<td></td>\\n<td>118,648</td>\\n<td></td>\\n<td>5.4</td>\\n<td></td>\\n</tr>\\n<tr>\\n<td>Other operating costs</td>\\n<td></td>\\n<td>370,466</td>\\n<td></td>\\n<td>14.7</td>\\n<td></td>\\n<td></td>\\n<td></td>\\n<td>341,644</td>\\n<td></td>\\n<td>15.7</td>\\n<td></td>\\n</tr>\\n<tr>\\n<td>General and administrative expenses</td>\\n<td></td>\\n<td>169,247</td>\\n<td></td>\\n<td>6.7</td>\\n<td></td>\\n<td></td>\\n<td></td>\\n<td>135,073</td>\\n<td></td>\\n<td>6.2</td>\\n<td></td>\\n</tr>\\n<tr>\\n<td>Depreciation and amortization</td>\\n<td></td>\\n<td>85,492</td>\\n<td></td>\\n<td>3.4</td>\\n<td></td>\\n<td></td>\\n<td></td>\\n<td>74,012</td>\\n<td></td>\\n<td>3.4</td>\\n<td></td>\\n</tr>\\n<tr>\\n<td>Pre-opening costs</td>\\n<td></td>\\n<td>13,590</td>\\n<td></td>\\n<td>0.5</td>\\n<td></td>\\n<td></td>\\n<td></td>\\n<td>11,341</td>\\n<td></td>\\n<td>0.5</td>\\n<td></td>\\n</tr>\\n<tr>\\n<td>Impairment, closure costs, and asset disposals</td>\\n<td></td>\\n<td>6,528</td>\\n<td></td>\\n<td>0.3</td>\\n<td></td>\\n<td></td>\\n<td></td>\\n<td>5,785</td>\\n<td></td>\\n<td>0.3</td>\\n<td></td>\\n</tr>\\n<tr>\\n<td>Total operating expenses</td>\\n<td></td>\\n<td>2,152,873</td>\\n<td></td>\\n<td>85.6</td>\\n<td></td>\\n<td></td>\\n<td></td>\\n<td>1,884,268</td>\\n<td></td>\\n<td>86.4</td>\\n<td></td>\\n</tr>\\n<tr>\\n<td>Income from operations</td>\\n<td></td>\\n<td>363,447</td>\\n<td></td>\\n<td>14.4</td>\\n<td></td>\\n<td></td>\\n<td></td>\\n<td>296,331</td>\\n<td></td>\\n<td>13.6</td>\\n<td></td>\\n</tr>\\n<tr>\\n<td>Interest and other income, net</td>\\n<td></td>\\n<td>18,906</td>\\n<td></td>\\n<td>0.8</td>\\n<td></td>\\n<td></td>\\n<td></td>\\n<td>7,057</td>\\n<td></td>\\n<td>0.3</td>\\n<td></td>\\n</tr>\\n<tr>\\n<td>Income before income taxes</td>\\n<td></td>\\n<td>382,353</td>\\n<td></td>\\n<td>15.2</td>\\n<td></td>\\n<td></td>\\n<td></td>\\n<td>303,388</td>\\n<td></td>\\n<td>13.9</td>\\n<td></td>\\n</tr>\\n<tr>\\n<td>Provision for income taxes</td>\\n<td></td>\\n<td>(100,267)</td>\\n<td></td>\\n<td>(4.0)</td>\\n<td></td>\\n<td></td>\\n<td></td>\\n<td>(79,661)</td>\\n<td></td>\\n<td>(3.7)</td>\\n<td></td>\\n</tr>\\n<tr>\\n<td>Net income</td>\\n<td>$</td>\\n<td>282,086</td>\\n<td></td>\\n<td>11.2</td>\\n<td>%</td>\\n<td></td>\\n<td>$</td>\\n<td>223,727</td>\\n<td></td>\\n<td>10.3</td>\\n<td>%</td>\\n</tr>\\n<tr>\\n<td>Earnings per share:</td>\\n<td></td>\\n<td></td>\\n<td></td>\\n<td></td>\\n<td></td>\\n<td></td>\\n<td></td>\\n<td></td>\\n<td></td>\\n<td></td>\\n<td></td>\\n</tr>\\n<tr>\\n<td>Basic</td>\\n<td>$</td>\\n<td>10.28</td>\\n<td></td>\\n<td></td>\\n<td></td>\\n<td></td>\\n<td>$</td>\\n<td>8.08</td>\\n<td></td>\\n<td></td>\\n<td></td>\\n</tr>\\n<tr>\\n<td>Diluted</td>\\n<td>$</td>\\n<td>10.21</td>\\n<td></td>\\n<td></td>\\n<td></td>\\n<td></td>\\n<td>$</td>\\n<td>8.02</td>\\n<td></td>\\n<td></td>\\n<td></td>\\n</tr>\\n<tr>\\n<td>Weighted-average common shares outstanding:</td>\\n<td></td>\\n<td></td>\\n<td></td>\\n<td></td>\\n<td></td>\\n<td></td>\\n<td></td>\\n<td></td>\\n<td></td>\\n<td></td>\\n<td></td>\\n</tr>\\n<tr>\\n<td>Basic</td>\\n<td></td>\\n<td>27,440</td>\\n<td></td>\\n<td></td>\\n<td></td>\\n<td></td>\\n<td></td>\\n<td>27,684</td>\\n<td></td>\\n<td></td>\\n<td></td>\\n</tr>\\n<tr>\\n<td>Diluted</td>\\n<td></td>\\n<td>27,621</td>\\n<td></td>\\n<td></td>\\n<td></td>\\n<td></td>\\n<td></td>\\n<td>27,899</td>\\n<td></td>\\n<td></td>\\n<td></td>\\n</tr>\\n</table>\"\n",
    "from utils import parse_html_table_to_csv\n",
    "from IPython.display import Markdown, display\n",
    "\n",
    "def display_markdown_table(markdown_table):\n",
    "    \"\"\"\n",
    "    Render a markdown table as HTML for better visualization.\n",
    "    \n",
    "    Args:\n",
    "        markdown_table (str): A string containing a markdown table.\n",
    "    \"\"\"\n",
    "    # Display the HTML only in output\n",
    "    display(Markdown(markdown_table))\n",
    "\n",
    "# Display the markdown table\n",
    "with open(\"8-k_sample/table.html\", \"r\") as f:\n",
    "    html_table = f.read()\n",
    "display_markdown_table(parse_html_table_to_csv(html_table))\n",
    "# display_markdown_table(markdown_table)"
   ]
  },
  {
   "cell_type": "code",
   "execution_count": 2,
   "metadata": {},
   "outputs": [
    {
     "data": {
      "text/markdown": [
       "  Revenue increased 26.7% to $1.07 billion"
      ],
      "text/plain": [
       "<IPython.core.display.Markdown object>"
      ]
     },
     "metadata": {},
     "output_type": "display_data"
    },
    {
     "data": {
      "text/markdown": [
       "Revenue increase\n",
       "26.7\n",
       "2014 4Q"
      ],
      "text/plain": [
       "<IPython.core.display.Markdown object>"
      ]
     },
     "metadata": {},
     "output_type": "display_data"
    },
    {
     "data": {
      "text/markdown": [
       "  Comparable restaurant sales increased 16.1%"
      ],
      "text/plain": [
       "<IPython.core.display.Markdown object>"
      ]
     },
     "metadata": {},
     "output_type": "display_data"
    },
    {
     "data": {
      "text/markdown": [
       "Comparable restaurant sales increase\n",
       "16.1\n",
       "2014 4Q"
      ],
      "text/plain": [
       "<IPython.core.display.Markdown object>"
      ]
     },
     "metadata": {},
     "output_type": "display_data"
    },
    {
     "data": {
      "text/markdown": [
       "  Restaurant level operating margin was 26.6%, an increase of 100 basis points"
      ],
      "text/plain": [
       "<IPython.core.display.Markdown object>"
      ]
     },
     "metadata": {},
     "output_type": "display_data"
    },
    {
     "data": {
      "text/markdown": [
       "Restaurant level operating margin\n",
       "26.6\n",
       "2014 Q4"
      ],
      "text/plain": [
       "<IPython.core.display.Markdown object>"
      ]
     },
     "metadata": {},
     "output_type": "display_data"
    },
    {
     "data": {
      "text/markdown": [
       "Increase in operating margin\n",
       "100\n",
       "2014 4Q"
      ],
      "text/plain": [
       "<IPython.core.display.Markdown object>"
      ]
     },
     "metadata": {},
     "output_type": "display_data"
    },
    {
     "data": {
      "text/markdown": [
       "  Net income was $121.2 million, an increase of 52.3%"
      ],
      "text/plain": [
       "<IPython.core.display.Markdown object>"
      ]
     },
     "metadata": {},
     "output_type": "display_data"
    },
    {
     "data": {
      "text/markdown": [
       "Net income\n",
       "121.2\n",
       "2014 4Q"
      ],
      "text/plain": [
       "<IPython.core.display.Markdown object>"
      ]
     },
     "metadata": {},
     "output_type": "display_data"
    },
    {
     "data": {
      "text/markdown": [
       "Increase in net income\n",
       "52.3\n",
       "2014 Q4"
      ],
      "text/plain": [
       "<IPython.core.display.Markdown object>"
      ]
     },
     "metadata": {},
     "output_type": "display_data"
    },
    {
     "data": {
      "text/markdown": [
       "  Diluted earnings per share was $3.84, an increase of 51.8%"
      ],
      "text/plain": [
       "<IPython.core.display.Markdown object>"
      ]
     },
     "metadata": {},
     "output_type": "display_data"
    },
    {
     "data": {
      "text/markdown": [
       "Diluted earnings per share\n",
       "3.84\n",
       "2014 4Q"
      ],
      "text/plain": [
       "<IPython.core.display.Markdown object>"
      ]
     },
     "metadata": {},
     "output_type": "display_data"
    },
    {
     "data": {
      "text/markdown": [
       "Increase in diluted earnings per share\n",
       "51.8\n",
       "2014 4Q"
      ],
      "text/plain": [
       "<IPython.core.display.Markdown object>"
      ]
     },
     "metadata": {},
     "output_type": "display_data"
    },
    {
     "data": {
      "text/markdown": [
       "  Opened 60 new restaurants"
      ],
      "text/plain": [
       "<IPython.core.display.Markdown object>"
      ]
     },
     "metadata": {},
     "output_type": "display_data"
    },
    {
     "data": {
      "text/markdown": [
       "Number of new restaurants opened\n",
       "60\n",
       "2014 4Q"
      ],
      "text/plain": [
       "<IPython.core.display.Markdown object>"
      ]
     },
     "metadata": {},
     "output_type": "display_data"
    },
    {
     "data": {
      "text/markdown": [
       "  Revenue increased 27.8% to $4.11 billion"
      ],
      "text/plain": [
       "<IPython.core.display.Markdown object>"
      ]
     },
     "metadata": {},
     "output_type": "display_data"
    },
    {
     "data": {
      "text/markdown": [
       "Revenue increase\n",
       "27.8\n",
       "2014 Full Year"
      ],
      "text/plain": [
       "<IPython.core.display.Markdown object>"
      ]
     },
     "metadata": {},
     "output_type": "display_data"
    },
    {
     "data": {
      "text/markdown": [
       "Revenue\n",
       "4.11\n",
       "2014 Full Year"
      ],
      "text/plain": [
       "<IPython.core.display.Markdown object>"
      ]
     },
     "metadata": {},
     "output_type": "display_data"
    },
    {
     "data": {
      "text/markdown": [
       "  Comparable restaurant sales increased 16.8%"
      ],
      "text/plain": [
       "<IPython.core.display.Markdown object>"
      ]
     },
     "metadata": {},
     "output_type": "display_data"
    },
    {
     "data": {
      "text/markdown": [
       "Comparable restaurant sales increase\n",
       "16.8\n",
       "2014 Full Year"
      ],
      "text/plain": [
       "<IPython.core.display.Markdown object>"
      ]
     },
     "metadata": {},
     "output_type": "display_data"
    },
    {
     "data": {
      "text/markdown": [
       "  Restaurant level operating margin was 27.2%, an increase of 60 basis points"
      ],
      "text/plain": [
       "<IPython.core.display.Markdown object>"
      ]
     },
     "metadata": {},
     "output_type": "display_data"
    },
    {
     "data": {
      "text/markdown": [
       "Restaurant level operating margin\n",
       "27.2\n",
       "2014 Full Year"
      ],
      "text/plain": [
       "<IPython.core.display.Markdown object>"
      ]
     },
     "metadata": {},
     "output_type": "display_data"
    },
    {
     "data": {
      "text/markdown": [
       "Increase in operating margin\n",
       "60\n",
       "2014 Full Year"
      ],
      "text/plain": [
       "<IPython.core.display.Markdown object>"
      ]
     },
     "metadata": {},
     "output_type": "display_data"
    },
    {
     "data": {
      "text/markdown": [
       "  Net income was $445.4 million, an increase of 36.0%"
      ],
      "text/plain": [
       "<IPython.core.display.Markdown object>"
      ]
     },
     "metadata": {},
     "output_type": "display_data"
    },
    {
     "data": {
      "text/markdown": [
       "Net income\n",
       "445.4\n",
       "2014 Full Year"
      ],
      "text/plain": [
       "<IPython.core.display.Markdown object>"
      ]
     },
     "metadata": {},
     "output_type": "display_data"
    },
    {
     "data": {
      "text/markdown": [
       "Increase in net income\n",
       "36.0\n",
       "2014 Full Year"
      ],
      "text/plain": [
       "<IPython.core.display.Markdown object>"
      ]
     },
     "metadata": {},
     "output_type": "display_data"
    },
    {
     "data": {
      "text/markdown": [
       "  Diluted earnings per share was $14.13, an increase of 35.0%"
      ],
      "text/plain": [
       "<IPython.core.display.Markdown object>"
      ]
     },
     "metadata": {},
     "output_type": "display_data"
    },
    {
     "data": {
      "text/markdown": [
       "Diluted earnings per share\n",
       "14.13\n",
       "2014 Full Year"
      ],
      "text/plain": [
       "<IPython.core.display.Markdown object>"
      ]
     },
     "metadata": {},
     "output_type": "display_data"
    },
    {
     "data": {
      "text/markdown": [
       "Increase in diluted earnings per share\n",
       "35.0\n",
       "2014 Full Year"
      ],
      "text/plain": [
       "<IPython.core.display.Markdown object>"
      ]
     },
     "metadata": {},
     "output_type": "display_data"
    },
    {
     "data": {
      "text/markdown": [
       "  Opened 192 new restaurants"
      ],
      "text/plain": [
       "<IPython.core.display.Markdown object>"
      ]
     },
     "metadata": {},
     "output_type": "display_data"
    },
    {
     "data": {
      "text/markdown": [
       "Number of new restaurants opened\n",
       "192\n",
       "2014 Full Year"
      ],
      "text/plain": [
       "<IPython.core.display.Markdown object>"
      ]
     },
     "metadata": {},
     "output_type": "display_data"
    },
    {
     "data": {
      "text/markdown": [
       "Revenue for the quarter was $1.07 billion, up 26.7% from the prior year period."
      ],
      "text/plain": [
       "<IPython.core.display.Markdown object>"
      ]
     },
     "metadata": {},
     "output_type": "display_data"
    },
    {
     "data": {
      "text/markdown": [
       "Revenue\n",
       "1.07\n",
       "2014 Q4"
      ],
      "text/plain": [
       "<IPython.core.display.Markdown object>"
      ]
     },
     "metadata": {},
     "output_type": "display_data"
    },
    {
     "data": {
      "text/markdown": [
       "Revenue growth rate\n",
       "26.7\n",
       "2014 4Q"
      ],
      "text/plain": [
       "<IPython.core.display.Markdown object>"
      ]
     },
     "metadata": {},
     "output_type": "display_data"
    },
    {
     "data": {
      "text/markdown": [
       "The growth in revenue was the result of a 16.1% increase in comparable restaurant sales and new restaurant openings."
      ],
      "text/plain": [
       "<IPython.core.display.Markdown object>"
      ]
     },
     "metadata": {},
     "output_type": "display_data"
    },
    {
     "data": {
      "text/markdown": [
       "Increase in comparable restaurant sales\n",
       "16.1\n",
       "2014 4Q"
      ],
      "text/plain": [
       "<IPython.core.display.Markdown object>"
      ]
     },
     "metadata": {},
     "output_type": "display_data"
    },
    {
     "data": {
      "text/markdown": [
       "During the quarter we opened 60 new restaurants, bringing the total restaurant count to 1,783."
      ],
      "text/plain": [
       "<IPython.core.display.Markdown object>"
      ]
     },
     "metadata": {},
     "output_type": "display_data"
    },
    {
     "data": {
      "text/markdown": [
       "Number of new restaurants opened\n",
       "60\n",
       "2014 Q4"
      ],
      "text/plain": [
       "<IPython.core.display.Markdown object>"
      ]
     },
     "metadata": {},
     "output_type": "display_data"
    },
    {
     "data": {
      "text/markdown": [
       "Total restaurant count\n",
       "1783\n",
       "2014 4Q"
      ],
      "text/plain": [
       "<IPython.core.display.Markdown object>"
      ]
     },
     "metadata": {},
     "output_type": "display_data"
    },
    {
     "data": {
      "text/markdown": [
       "Food costs were 35.0% of revenue, an increase of 110 basis points due primarily to higher dairy and beef costs, partially offset by the benefit from the menu price increase."
      ],
      "text/plain": [
       "<IPython.core.display.Markdown object>"
      ]
     },
     "metadata": {},
     "output_type": "display_data"
    },
    {
     "data": {
      "text/markdown": [
       "Food costs as a percentage of revenue\n",
       "35.0\n",
       "2014 4Q"
      ],
      "text/plain": [
       "<IPython.core.display.Markdown object>"
      ]
     },
     "metadata": {},
     "output_type": "display_data"
    },
    {
     "data": {
      "text/markdown": [
       "Increase in food costs\n",
       "110\n",
       "2014 4Q"
      ],
      "text/plain": [
       "<IPython.core.display.Markdown object>"
      ]
     },
     "metadata": {},
     "output_type": "display_data"
    },
    {
     "data": {
      "text/markdown": [
       "Restaurant level operating margin was 26.6% in the quarter, an increase of 100 basis points from the prior year period."
      ],
      "text/plain": [
       "<IPython.core.display.Markdown object>"
      ]
     },
     "metadata": {},
     "output_type": "display_data"
    },
    {
     "data": {
      "text/markdown": [
       "Restaurant level operating margin\n",
       "26.6\n",
       "2014 4Q"
      ],
      "text/plain": [
       "<IPython.core.display.Markdown object>"
      ]
     },
     "metadata": {},
     "output_type": "display_data"
    },
    {
     "data": {
      "text/markdown": [
       "Increase in restaurant level operating margin\n",
       "100\n",
       "2014 4Q"
      ],
      "text/plain": [
       "<IPython.core.display.Markdown object>"
      ]
     },
     "metadata": {},
     "output_type": "display_data"
    },
    {
     "data": {
      "text/markdown": [
       "General and administrative expenses were 5.7% of revenue, down 90 basis points from the prior year primarily due to the timing of our accrual for annual bonus and increased acceleration of stock compensation expense into the first three quarters of the year as another officer achieved retiree status during 2014.<hr /><hr />Net income for the fourth quarter of 2014 was $121.2 million, or $3.84 per diluted share, compared to $79.6 million, or $2.53 per diluted share, in the fourth quarter of 2013."
      ],
      "text/plain": [
       "<IPython.core.display.Markdown object>"
      ]
     },
     "metadata": {},
     "output_type": "display_data"
    },
    {
     "data": {
      "text/markdown": [
       "General and administrative expenses as a percentage of revenue\n",
       "5.7\n",
       "2014 Q4"
      ],
      "text/plain": [
       "<IPython.core.display.Markdown object>"
      ]
     },
     "metadata": {},
     "output_type": "display_data"
    },
    {
     "data": {
      "text/markdown": [
       "Decrease in general and administrative expenses\n",
       "90\n",
       "2014 4Q"
      ],
      "text/plain": [
       "<IPython.core.display.Markdown object>"
      ]
     },
     "metadata": {},
     "output_type": "display_data"
    },
    {
     "data": {
      "text/markdown": [
       "Net income for the fourth quarter of 2014\n",
       "121.2\n",
       "2014 Q4"
      ],
      "text/plain": [
       "<IPython.core.display.Markdown object>"
      ]
     },
     "metadata": {},
     "output_type": "display_data"
    },
    {
     "data": {
      "text/markdown": [
       "Diluted earnings per share for the fourth quarter of 2014\n",
       "3.84\n",
       "2014 Q4"
      ],
      "text/plain": [
       "<IPython.core.display.Markdown object>"
      ]
     },
     "metadata": {},
     "output_type": "display_data"
    },
    {
     "data": {
      "text/markdown": [
       "Net income for the fourth quarter of 2013\n",
       "79.6\n",
       "2013 4Q"
      ],
      "text/plain": [
       "<IPython.core.display.Markdown object>"
      ]
     },
     "metadata": {},
     "output_type": "display_data"
    },
    {
     "data": {
      "text/markdown": [
       "Diluted earnings per share for the fourth quarter of 2013\n",
       "2.53\n",
       "2013 4Q"
      ],
      "text/plain": [
       "<IPython.core.display.Markdown object>"
      ]
     },
     "metadata": {},
     "output_type": "display_data"
    },
    {
     "data": {
      "text/markdown": [
       "Revenue for the full year of 2014 was $4.11 billion, up 27.8% from the prior year."
      ],
      "text/plain": [
       "<IPython.core.display.Markdown object>"
      ]
     },
     "metadata": {},
     "output_type": "display_data"
    },
    {
     "data": {
      "text/markdown": [
       "Revenue\n",
       "4.11\n",
       "2014 Full Year"
      ],
      "text/plain": [
       "<IPython.core.display.Markdown object>"
      ]
     },
     "metadata": {},
     "output_type": "display_data"
    },
    {
     "data": {
      "text/markdown": [
       "Revenue growth rate\n",
       "27.8\n",
       "2014 Full Year"
      ],
      "text/plain": [
       "<IPython.core.display.Markdown object>"
      ]
     },
     "metadata": {},
     "output_type": "display_data"
    },
    {
     "data": {
      "text/markdown": [
       "The growth in revenue was the result of a 16.8% increase in comparable restaurant sales and new restaurant openings."
      ],
      "text/plain": [
       "<IPython.core.display.Markdown object>"
      ]
     },
     "metadata": {},
     "output_type": "display_data"
    },
    {
     "data": {
      "text/markdown": [
       "Increase in comparable restaurant sales\n",
       "16.8\n",
       "2014 Full Year"
      ],
      "text/plain": [
       "<IPython.core.display.Markdown object>"
      ]
     },
     "metadata": {},
     "output_type": "display_data"
    },
    {
     "data": {
      "text/markdown": [
       "During the full year, we opened 192 new restaurants."
      ],
      "text/plain": [
       "<IPython.core.display.Markdown object>"
      ]
     },
     "metadata": {},
     "output_type": "display_data"
    },
    {
     "data": {
      "text/markdown": [
       "Number of new restaurants opened\n",
       "192\n",
       "2014 Full Year"
      ],
      "text/plain": [
       "<IPython.core.display.Markdown object>"
      ]
     },
     "metadata": {},
     "output_type": "display_data"
    },
    {
     "data": {
      "text/markdown": [
       "Food costs were 34.6% of revenue, an increase of 120 basis points basis points due primarily to higher beef, avocado and dairy costs, partially offset by the menu price increase."
      ],
      "text/plain": [
       "<IPython.core.display.Markdown object>"
      ]
     },
     "metadata": {},
     "output_type": "display_data"
    },
    {
     "data": {
      "text/markdown": [
       "Food costs as a percentage of revenue\n",
       "34.6\n",
       "2014 Full Year"
      ],
      "text/plain": [
       "<IPython.core.display.Markdown object>"
      ]
     },
     "metadata": {},
     "output_type": "display_data"
    },
    {
     "data": {
      "text/markdown": [
       "Increase in food costs\n",
       "120\n",
       "2014 Full Year"
      ],
      "text/plain": [
       "<IPython.core.display.Markdown object>"
      ]
     },
     "metadata": {},
     "output_type": "display_data"
    },
    {
     "data": {
      "text/markdown": [
       "Restaurant level operating margin was 27.2% for the full year 2014, an increase of 60 basis points from the prior year."
      ],
      "text/plain": [
       "<IPython.core.display.Markdown object>"
      ]
     },
     "metadata": {},
     "output_type": "display_data"
    },
    {
     "data": {
      "text/markdown": [
       "Restaurant level operating margin\n",
       "27.2\n",
       "2014 Full Year"
      ],
      "text/plain": [
       "<IPython.core.display.Markdown object>"
      ]
     },
     "metadata": {},
     "output_type": "display_data"
    },
    {
     "data": {
      "text/markdown": [
       "Increase in restaurant level operating margin\n",
       "60\n",
       "2014 Full Year"
      ],
      "text/plain": [
       "<IPython.core.display.Markdown object>"
      ]
     },
     "metadata": {},
     "output_type": "display_data"
    },
    {
     "data": {
      "text/markdown": [
       "General and administrative expenses for the full year 2014 were 6.7% of revenue, 40 basis points higher than the prior year."
      ],
      "text/plain": [
       "<IPython.core.display.Markdown object>"
      ]
     },
     "metadata": {},
     "output_type": "display_data"
    },
    {
     "data": {
      "text/markdown": [
       "General and administrative expenses as a percentage of revenue\n",
       "6.7\n",
       "2014 Full Year"
      ],
      "text/plain": [
       "<IPython.core.display.Markdown object>"
      ]
     },
     "metadata": {},
     "output_type": "display_data"
    },
    {
     "data": {
      "text/markdown": [
       "Increase in general and administrative expenses\n",
       "40\n",
       "2014 Full Year"
      ],
      "text/plain": [
       "<IPython.core.display.Markdown object>"
      ]
     },
     "metadata": {},
     "output_type": "display_data"
    },
    {
     "data": {
      "text/markdown": [
       "Net income for the full year 2014 was $445.4 million, or $14.13 per diluted share, compared to $327.4 million, or $10.47 per diluted share for 2013."
      ],
      "text/plain": [
       "<IPython.core.display.Markdown object>"
      ]
     },
     "metadata": {},
     "output_type": "display_data"
    },
    {
     "data": {
      "text/markdown": [
       "Net income for the full year 2014\n",
       "445.4\n",
       "2014 Full Year"
      ],
      "text/plain": [
       "<IPython.core.display.Markdown object>"
      ]
     },
     "metadata": {},
     "output_type": "display_data"
    },
    {
     "data": {
      "text/markdown": [
       "Diluted earnings per share for the full year 2014\n",
       "14.13\n",
       "2014 Full Year"
      ],
      "text/plain": [
       "<IPython.core.display.Markdown object>"
      ]
     },
     "metadata": {},
     "output_type": "display_data"
    },
    {
     "data": {
      "text/markdown": [
       "Net income for the full year 2013\n",
       "327.4\n",
       "2013 Full Year"
      ],
      "text/plain": [
       "<IPython.core.display.Markdown object>"
      ]
     },
     "metadata": {},
     "output_type": "display_data"
    },
    {
     "data": {
      "text/markdown": [
       "Diluted earnings per share for the full year 2013\n",
       "10.47\n",
       "2013 Full Year"
      ],
      "text/plain": [
       "<IPython.core.display.Markdown object>"
      ]
     },
     "metadata": {},
     "output_type": "display_data"
    },
    {
     "data": {
      "text/markdown": [
       "  190  205 new restaurant openings"
      ],
      "text/plain": [
       "<IPython.core.display.Markdown object>"
      ]
     },
     "metadata": {},
     "output_type": "display_data"
    },
    {
     "data": {
      "text/markdown": [
       "New restaurant openings\n",
       "190-205\n",
       "(Expected) 2015 Full Year"
      ],
      "text/plain": [
       "<IPython.core.display.Markdown object>"
      ]
     },
     "metadata": {},
     "output_type": "display_data"
    },
    {
     "data": {
      "text/markdown": [
       "  Low to mid-single digit comparable restaurant sales increases"
      ],
      "text/plain": [
       "<IPython.core.display.Markdown object>"
      ]
     },
     "metadata": {},
     "output_type": "display_data"
    },
    {
     "data": {
      "text/markdown": [
       "Comparable restaurant sales increase\n",
       "low to mid-single digit\n",
       "(Expected) 2015 Full Year"
      ],
      "text/plain": [
       "<IPython.core.display.Markdown object>"
      ]
     },
     "metadata": {},
     "output_type": "display_data"
    },
    {
     "data": {
      "text/markdown": [
       "  An estimated effective tax rate of 39.0%, which excludes federal work opportunity and R&D credits, which have not been renewed for 2015."
      ],
      "text/plain": [
       "<IPython.core.display.Markdown object>"
      ]
     },
     "metadata": {},
     "output_type": "display_data"
    },
    {
     "data": {
      "text/markdown": [
       "Estimated effective tax rate\n",
       "39.0\n",
       "(Expected) 2015 Full Year"
      ],
      "text/plain": [
       "<IPython.core.display.Markdown object>"
      ]
     },
     "metadata": {},
     "output_type": "display_data"
    },
    {
     "data": {
      "text/markdown": [
       "|  &nbsp;  |    |  Revenue increased 26.7% to $1.07 billion  |\n",
       "|  ---  |  ---  |  ---  |"
      ],
      "text/plain": [
       "<IPython.core.display.Markdown object>"
      ]
     },
     "metadata": {},
     "output_type": "display_data"
    },
    {
     "data": {
      "text/markdown": [
       "Revenue\n",
       "1.07 billion\n",
       "None"
      ],
      "text/plain": [
       "<IPython.core.display.Markdown object>"
      ]
     },
     "metadata": {},
     "output_type": "display_data"
    },
    {
     "data": {
      "text/markdown": [
       "|  &nbsp;  |    |  Comparable restaurant sales increased 16.1%  |\n",
       "|  ---  |  ---  |  ---  |"
      ],
      "text/plain": [
       "<IPython.core.display.Markdown object>"
      ]
     },
     "metadata": {},
     "output_type": "display_data"
    },
    {
     "data": {
      "text/markdown": [
       "Comparable restaurant sales increase\n",
       "16.1\n",
       "None"
      ],
      "text/plain": [
       "<IPython.core.display.Markdown object>"
      ]
     },
     "metadata": {},
     "output_type": "display_data"
    },
    {
     "data": {
      "text/markdown": [
       "|  &nbsp;  |    |  Restaurant level operating margin was 26.6%, an increase of 100 basis points  |\n",
       "|  ---  |  ---  |  ---  |"
      ],
      "text/plain": [
       "<IPython.core.display.Markdown object>"
      ]
     },
     "metadata": {},
     "output_type": "display_data"
    },
    {
     "data": {
      "text/markdown": [
       "Restaurant level operating margin\n",
       "2660\n",
       "None"
      ],
      "text/plain": [
       "<IPython.core.display.Markdown object>"
      ]
     },
     "metadata": {},
     "output_type": "display_data"
    },
    {
     "data": {
      "text/markdown": [
       "|  &nbsp;  |    |  Net income was $121.2 million, an increase of 52.3%  |\n",
       "|  ---  |  ---  |  ---  |"
      ],
      "text/plain": [
       "<IPython.core.display.Markdown object>"
      ]
     },
     "metadata": {},
     "output_type": "display_data"
    },
    {
     "data": {
      "text/markdown": [
       "Net income\n",
       "121.2\n",
       "None"
      ],
      "text/plain": [
       "<IPython.core.display.Markdown object>"
      ]
     },
     "metadata": {},
     "output_type": "display_data"
    },
    {
     "data": {
      "text/markdown": [
       "|  &nbsp;  |    |  Diluted earnings per share was $3.84, an increase of 51.8%  |\n",
       "|  ---  |  ---  |  ---  |"
      ],
      "text/plain": [
       "<IPython.core.display.Markdown object>"
      ]
     },
     "metadata": {},
     "output_type": "display_data"
    },
    {
     "data": {
      "text/markdown": [
       "Diluted earnings per share\n",
       "3.84\n",
       "None"
      ],
      "text/plain": [
       "<IPython.core.display.Markdown object>"
      ]
     },
     "metadata": {},
     "output_type": "display_data"
    },
    {
     "data": {
      "text/markdown": [
       "|  &nbsp;  |    |  Revenue increased 27.8% to $4.11 billion  |\n",
       "|  ---  |  ---  |  ---  |"
      ],
      "text/plain": [
       "<IPython.core.display.Markdown object>"
      ]
     },
     "metadata": {},
     "output_type": "display_data"
    },
    {
     "data": {
      "text/markdown": [
       "Revenue\n",
       "4.11\n",
       "None"
      ],
      "text/plain": [
       "<IPython.core.display.Markdown object>"
      ]
     },
     "metadata": {},
     "output_type": "display_data"
    },
    {
     "data": {
      "text/markdown": [
       "|  &nbsp;  |    |  Comparable restaurant sales increased 16.8%  |\n",
       "|  ---  |  ---  |  ---  |"
      ],
      "text/plain": [
       "<IPython.core.display.Markdown object>"
      ]
     },
     "metadata": {},
     "output_type": "display_data"
    },
    {
     "data": {
      "text/markdown": [
       "Comparable restaurant sales increase\n",
       "16.8\n",
       "None"
      ],
      "text/plain": [
       "<IPython.core.display.Markdown object>"
      ]
     },
     "metadata": {},
     "output_type": "display_data"
    },
    {
     "data": {
      "text/markdown": [
       "|  &nbsp;  |    |  Restaurant level operating margin was 27.2%, an increase of 60 basis points  |\n",
       "|  ---  |  ---  |  ---  |"
      ],
      "text/plain": [
       "<IPython.core.display.Markdown object>"
      ]
     },
     "metadata": {},
     "output_type": "display_data"
    },
    {
     "data": {
      "text/markdown": [
       "Restaurant level operating margin\n",
       "2720\n",
       "None"
      ],
      "text/plain": [
       "<IPython.core.display.Markdown object>"
      ]
     },
     "metadata": {},
     "output_type": "display_data"
    },
    {
     "data": {
      "text/markdown": [
       "|  &nbsp;  |    |  Net income was $445.4 million, an increase of 36.0%  |\n",
       "|  ---  |  ---  |  ---  |"
      ],
      "text/plain": [
       "<IPython.core.display.Markdown object>"
      ]
     },
     "metadata": {},
     "output_type": "display_data"
    },
    {
     "data": {
      "text/markdown": [
       "Net income\n",
       "445.4\n",
       "None"
      ],
      "text/plain": [
       "<IPython.core.display.Markdown object>"
      ]
     },
     "metadata": {},
     "output_type": "display_data"
    },
    {
     "data": {
      "text/markdown": [
       "|  &nbsp;  |    |  Diluted earnings per share was $14.13, an increase of 35.0%  |\n",
       "|  ---  |  ---  |  ---  |"
      ],
      "text/plain": [
       "<IPython.core.display.Markdown object>"
      ]
     },
     "metadata": {},
     "output_type": "display_data"
    },
    {
     "data": {
      "text/markdown": [
       "Diluted earnings per share\n",
       "14.13\n",
       "None"
      ],
      "text/plain": [
       "<IPython.core.display.Markdown object>"
      ]
     },
     "metadata": {},
     "output_type": "display_data"
    },
    {
     "data": {
      "text/markdown": [
       "|  &nbsp;  |    |  Opened 192 new restaurants  |\n",
       "|  ---  |  ---  |  ---  |"
      ],
      "text/plain": [
       "<IPython.core.display.Markdown object>"
      ]
     },
     "metadata": {},
     "output_type": "display_data"
    },
    {
     "data": {
      "text/markdown": [
       "Number of new restaurants opened\n",
       "192\n",
       "None"
      ],
      "text/plain": [
       "<IPython.core.display.Markdown object>"
      ]
     },
     "metadata": {},
     "output_type": "display_data"
    },
    {
     "data": {
      "text/markdown": [
       "|  &nbsp;  |    |  190  205 new restaurant openings  |\n",
       "|  ---  |  ---  |  ---  |"
      ],
      "text/plain": [
       "<IPython.core.display.Markdown object>"
      ]
     },
     "metadata": {},
     "output_type": "display_data"
    },
    {
     "data": {
      "text/markdown": [
       "New restaurant openings\n",
       "190-205\n",
       "(Expected) 2014 Full Year"
      ],
      "text/plain": [
       "<IPython.core.display.Markdown object>"
      ]
     },
     "metadata": {},
     "output_type": "display_data"
    },
    {
     "data": {
      "text/markdown": [
       "|  &nbsp;  |    |  An estimated effective tax rate of 39.0%, which excludes federal work opportunity and R&D credits, which have not been renewed for 2015.  |\n",
       "|  ---  |  ---  |  ---  |"
      ],
      "text/plain": [
       "<IPython.core.display.Markdown object>"
      ]
     },
     "metadata": {},
     "output_type": "display_data"
    },
    {
     "data": {
      "text/markdown": [
       "Estimated Effective Tax Rate\n",
       "39.0\n",
       "(Expected) 2015 Full Year"
      ],
      "text/plain": [
       "<IPython.core.display.Markdown object>"
      ]
     },
     "metadata": {},
     "output_type": "display_data"
    },
    {
     "data": {
      "text/markdown": [
       "|  &nbsp;  |  Three months ended December 31  |     |     |     |     |     |     |     |     |     |\n",
       "|  ---  |  ---  |  ---  |  ---  |  ---  |  ---  |  ---  |  ---  |  ---  |  ---  |  ---  |\n",
       "|  &nbsp;  |  2014  |     |     |     |     |  2013  |     |     |     |     |\n",
       "|  &nbsp;&nbsp;Revenue  |  $  |  1,069,811  |     |  100.0  |  %  |  $  |  844,147  |     |  100.0  |  %  |\n",
       "|  &nbsp;&nbsp;Restaurant operating costs  |     |     |     |     |     |     |     |     |     |     |\n",
       "|  &nbsp;&nbsp;(Exclusive of depreciation and amortization shown separately below):  |     |     |     |     |     |     |     |     |     |     |\n",
       "|  &nbsp;&nbsp;&nbsp;&nbsp;&nbsp;&nbsp;&nbsp;&nbsp;&nbsp;&nbsp;Food, beverage and packaging  |     |  373,991  |     |  35.0  |     |     |  285,912  |     |  33.9  |     |\n",
       "|  &nbsp;&nbsp;&nbsp;&nbsp;&nbsp;&nbsp;&nbsp;&nbsp;&nbsp;&nbsp;Labor  |     |  237,310  |     |  22.2  |     |     |  193,818  |     |  23.0  |     |\n",
       "|  &nbsp;&nbsp;&nbsp;&nbsp;&nbsp;&nbsp;&nbsp;&nbsp;&nbsp;&nbsp;Occupancy  |     |  60,930  |     |  5.7  |     |     |  52,795  |     |  6.3  |     |\n",
       "|  &nbsp;&nbsp;&nbsp;&nbsp;&nbsp;&nbsp;&nbsp;&nbsp;&nbsp;&nbsp;Other operating costs  |     |  112,732  |     |  10.5  |     |     |  95,389  |     |  11.3  |     |\n",
       "|  &nbsp;&nbsp;General and administrative expenses  |     |  60,929  |     |  5.7  |     |     |  55,844  |     |  6.6  |     |\n",
       "|  &nbsp;&nbsp;Depreciation and amortization  |     |  29,750  |     |  2.8  |     |     |  24,903  |     |  3.0  |     |\n",
       "|  &nbsp;&nbsp;Pre-opening costs  |     |  4,088  |     |  0.4  |     |     |  4,775  |     |  0.6  |     |\n",
       "|  &nbsp;&nbsp;Loss on disposal of assets  |     |  2,209  |     |  0.2  |     |     |  1,607  |     |  0.2  |     |\n",
       "|  &nbsp;&nbsp;&nbsp;&nbsp;&nbsp;&nbsp;Total operating expenses  |     |  881,939  |     |  82.4  |     |     |  715,043  |     |  84.7  |     |\n",
       "|  &nbsp;&nbsp;Income from operations  |     |  187,872  |     |  17.6  |     |     |  129,104  |     |  15.3  |     |\n",
       "|  &nbsp;&nbsp;Interest and other income (expense), net  |     |  885  |     |  0.1  |     |     |  390  |     |    |     |\n",
       "|  &nbsp;&nbsp;Income before income taxes  |     |  188,757  |     |  17.6  |     |     |  129,494  |     |  15.3  |     |\n",
       "|  &nbsp;&nbsp;Provision for income taxes  |     |  (67,523  |  )  |  (6.3  |  )  |     |  (49,872  |  )  |  (5.9  |  )  |\n",
       "|  &nbsp;&nbsp;Net income  |  $  |  121,234  |     |  11.3  |  %  |  $  |  79,622  |     |  9.4  |  %  |\n",
       "|  &nbsp;&nbsp;Other comprehensive income:  |     |     |     |     |     |     |     |     |     |     |\n",
       "|  &nbsp;&nbsp;Foreign currency translation adjustments  |     |  (1,008  |  )  |     |     |     |  222  |     |     |     |\n",
       "|  &nbsp;&nbsp;Comprehensive income  |  $  |  120,226  |     |     |     |  $  |  79,844  |     |     |     |\n",
       "|  &nbsp;&nbsp;Earnings per share:  |     |     |     |     |     |     |     |     |     |     |\n",
       "|  &nbsp;&nbsp;Basic  |  $  |  3.91  |     |     |     |  $  |  2.57  |     |     |     |\n",
       "|  &nbsp;&nbsp;Diluted  |  $  |  3.84  |     |     |     |  $  |  2.53  |     |     |     |\n",
       "|  &nbsp;&nbsp;Weighted average common shares outstanding:  |     |     |     |     |     |     |     |     |     |     |\n",
       "|  &nbsp;&nbsp;Basic  |     |  31,024  |     |     |     |     |  31,019  |     |     |     |\n",
       "|  &nbsp;&nbsp;Diluted  |     |  31,542  |     |     |     |     |  31,425  |     |     |     |"
      ],
      "text/plain": [
       "<IPython.core.display.Markdown object>"
      ]
     },
     "metadata": {},
     "output_type": "display_data"
    },
    {
     "data": {
      "text/markdown": [
       "Revenue\n",
       "1069811\n",
       "2014 Q4"
      ],
      "text/plain": [
       "<IPython.core.display.Markdown object>"
      ]
     },
     "metadata": {},
     "output_type": "display_data"
    },
    {
     "data": {
      "text/markdown": [
       "Revenue\n",
       "844147\n",
       "2013 Q4"
      ],
      "text/plain": [
       "<IPython.core.display.Markdown object>"
      ]
     },
     "metadata": {},
     "output_type": "display_data"
    },
    {
     "data": {
      "text/markdown": [
       "Revenue (percentage)\n",
       "100.0\n",
       "2014 Q4"
      ],
      "text/plain": [
       "<IPython.core.display.Markdown object>"
      ]
     },
     "metadata": {},
     "output_type": "display_data"
    },
    {
     "data": {
      "text/markdown": [
       "Revenue (percentage)\n",
       "100.0\n",
       "2013 Q4"
      ],
      "text/plain": [
       "<IPython.core.display.Markdown object>"
      ]
     },
     "metadata": {},
     "output_type": "display_data"
    },
    {
     "data": {
      "text/markdown": [
       "Food, beverage and packaging Restaurant operating costs\n",
       "373,991\n",
       "2014 Q4"
      ],
      "text/plain": [
       "<IPython.core.display.Markdown object>"
      ]
     },
     "metadata": {},
     "output_type": "display_data"
    },
    {
     "data": {
      "text/markdown": [
       "Food, beverage and packaging Restaurant operating costs\n",
       "285,912\n",
       "2013 Q4"
      ],
      "text/plain": [
       "<IPython.core.display.Markdown object>"
      ]
     },
     "metadata": {},
     "output_type": "display_data"
    },
    {
     "data": {
      "text/markdown": [
       "Food, beverage and packaging Restaurant operating costs (percentage)\n",
       "35.0\n",
       "2014 Q4"
      ],
      "text/plain": [
       "<IPython.core.display.Markdown object>"
      ]
     },
     "metadata": {},
     "output_type": "display_data"
    },
    {
     "data": {
      "text/markdown": [
       "Food, beverage and packaging Restaurant operating costs (percentage)\n",
       "33.9\n",
       "2013 Q4"
      ],
      "text/plain": [
       "<IPython.core.display.Markdown object>"
      ]
     },
     "metadata": {},
     "output_type": "display_data"
    },
    {
     "data": {
      "text/markdown": [
       "Labor Restaurant operating costs\n",
       "237,310\n",
       "2014 Q4"
      ],
      "text/plain": [
       "<IPython.core.display.Markdown object>"
      ]
     },
     "metadata": {},
     "output_type": "display_data"
    },
    {
     "data": {
      "text/markdown": [
       "Labor Restaurant operating costs\n",
       "193,818\n",
       "2013 Q4"
      ],
      "text/plain": [
       "<IPython.core.display.Markdown object>"
      ]
     },
     "metadata": {},
     "output_type": "display_data"
    },
    {
     "data": {
      "text/markdown": [
       "Labor Restaurant operating costs (percentage)\n",
       "22.2\n",
       "2014 Q4"
      ],
      "text/plain": [
       "<IPython.core.display.Markdown object>"
      ]
     },
     "metadata": {},
     "output_type": "display_data"
    },
    {
     "data": {
      "text/markdown": [
       "Labor Restaurant operating costs (percentage)\n",
       "23.0\n",
       "2013 Q4"
      ],
      "text/plain": [
       "<IPython.core.display.Markdown object>"
      ]
     },
     "metadata": {},
     "output_type": "display_data"
    },
    {
     "data": {
      "text/markdown": [
       "Occupancy Restaurant operating costs\n",
       "60930\n",
       "2014 Q4"
      ],
      "text/plain": [
       "<IPython.core.display.Markdown object>"
      ]
     },
     "metadata": {},
     "output_type": "display_data"
    },
    {
     "data": {
      "text/markdown": [
       "Occupancy Restaurant operating costs\n",
       "52795\n",
       "2013 Q4"
      ],
      "text/plain": [
       "<IPython.core.display.Markdown object>"
      ]
     },
     "metadata": {},
     "output_type": "display_data"
    },
    {
     "data": {
      "text/markdown": [
       "Occupancy Restaurant operating costs (percentage)\n",
       "5.7\n",
       "2014 Q4"
      ],
      "text/plain": [
       "<IPython.core.display.Markdown object>"
      ]
     },
     "metadata": {},
     "output_type": "display_data"
    },
    {
     "data": {
      "text/markdown": [
       "Occupancy Restaurant operating costs (percentage)\n",
       "6.3\n",
       "2013 Q4"
      ],
      "text/plain": [
       "<IPython.core.display.Markdown object>"
      ]
     },
     "metadata": {},
     "output_type": "display_data"
    },
    {
     "data": {
      "text/markdown": [
       "Other operating costs Restaurant operating costs\n",
       "112732\n",
       "2014 Q4"
      ],
      "text/plain": [
       "<IPython.core.display.Markdown object>"
      ]
     },
     "metadata": {},
     "output_type": "display_data"
    },
    {
     "data": {
      "text/markdown": [
       "Other operating costs Restaurant operating costs\n",
       "95389\n",
       "2013 Q4"
      ],
      "text/plain": [
       "<IPython.core.display.Markdown object>"
      ]
     },
     "metadata": {},
     "output_type": "display_data"
    },
    {
     "data": {
      "text/markdown": [
       "Other operating costs Restaurant operating costs (percentage)\n",
       "10.5\n",
       "2014 Q4"
      ],
      "text/plain": [
       "<IPython.core.display.Markdown object>"
      ]
     },
     "metadata": {},
     "output_type": "display_data"
    },
    {
     "data": {
      "text/markdown": [
       "Other operating costs Restaurant operating costs (percentage)\n",
       "11.3\n",
       "2013 Q4"
      ],
      "text/plain": [
       "<IPython.core.display.Markdown object>"
      ]
     },
     "metadata": {},
     "output_type": "display_data"
    },
    {
     "data": {
      "text/markdown": [
       "General and administrative expenses\n",
       "60929\n",
       "2014 Q4"
      ],
      "text/plain": [
       "<IPython.core.display.Markdown object>"
      ]
     },
     "metadata": {},
     "output_type": "display_data"
    },
    {
     "data": {
      "text/markdown": [
       "General and administrative expenses\n",
       "55844\n",
       "2013 Q4"
      ],
      "text/plain": [
       "<IPython.core.display.Markdown object>"
      ]
     },
     "metadata": {},
     "output_type": "display_data"
    },
    {
     "data": {
      "text/markdown": [
       "General and administrative expenses (percentage)\n",
       "5.7\n",
       "2014 Q4"
      ],
      "text/plain": [
       "<IPython.core.display.Markdown object>"
      ]
     },
     "metadata": {},
     "output_type": "display_data"
    },
    {
     "data": {
      "text/markdown": [
       "General and administrative expenses (percentage)\n",
       "6.6\n",
       "2013 Q4"
      ],
      "text/plain": [
       "<IPython.core.display.Markdown object>"
      ]
     },
     "metadata": {},
     "output_type": "display_data"
    },
    {
     "data": {
      "text/markdown": [
       "Depreciation and amortization\n",
       "29750\n",
       "2014 Q4"
      ],
      "text/plain": [
       "<IPython.core.display.Markdown object>"
      ]
     },
     "metadata": {},
     "output_type": "display_data"
    },
    {
     "data": {
      "text/markdown": [
       "Depreciation and amortization\n",
       "24903\n",
       "2013 Q4"
      ],
      "text/plain": [
       "<IPython.core.display.Markdown object>"
      ]
     },
     "metadata": {},
     "output_type": "display_data"
    },
    {
     "data": {
      "text/markdown": [
       "Depreciation and amortization (percentage)\n",
       "2.8\n",
       "2014 Q4"
      ],
      "text/plain": [
       "<IPython.core.display.Markdown object>"
      ]
     },
     "metadata": {},
     "output_type": "display_data"
    },
    {
     "data": {
      "text/markdown": [
       "Depreciation and amortization (percentage)\n",
       "3.0\n",
       "2013 Q4"
      ],
      "text/plain": [
       "<IPython.core.display.Markdown object>"
      ]
     },
     "metadata": {},
     "output_type": "display_data"
    },
    {
     "data": {
      "text/markdown": [
       "Pre-opening costs\n",
       "4088\n",
       "2014 Q4"
      ],
      "text/plain": [
       "<IPython.core.display.Markdown object>"
      ]
     },
     "metadata": {},
     "output_type": "display_data"
    },
    {
     "data": {
      "text/markdown": [
       "Pre-opening costs\n",
       "4775\n",
       "2013 Q4"
      ],
      "text/plain": [
       "<IPython.core.display.Markdown object>"
      ]
     },
     "metadata": {},
     "output_type": "display_data"
    },
    {
     "data": {
      "text/markdown": [
       "Pre-opening costs (percentage)\n",
       "0.4\n",
       "2014 Q4"
      ],
      "text/plain": [
       "<IPython.core.display.Markdown object>"
      ]
     },
     "metadata": {},
     "output_type": "display_data"
    },
    {
     "data": {
      "text/markdown": [
       "Pre-opening costs (percentage)\n",
       "0.6\n",
       "2013 Q4"
      ],
      "text/plain": [
       "<IPython.core.display.Markdown object>"
      ]
     },
     "metadata": {},
     "output_type": "display_data"
    },
    {
     "data": {
      "text/markdown": [
       "Loss on disposal of assets\n",
       "2209\n",
       "2014 Q4"
      ],
      "text/plain": [
       "<IPython.core.display.Markdown object>"
      ]
     },
     "metadata": {},
     "output_type": "display_data"
    },
    {
     "data": {
      "text/markdown": [
       "Loss on disposal of assets\n",
       "1607\n",
       "2013 Q4"
      ],
      "text/plain": [
       "<IPython.core.display.Markdown object>"
      ]
     },
     "metadata": {},
     "output_type": "display_data"
    },
    {
     "data": {
      "text/markdown": [
       "Loss on disposal of assets (percentage)\n",
       "0.2\n",
       "2014 Q4"
      ],
      "text/plain": [
       "<IPython.core.display.Markdown object>"
      ]
     },
     "metadata": {},
     "output_type": "display_data"
    },
    {
     "data": {
      "text/markdown": [
       "Loss on disposal of assets (percentage)\n",
       "0.2\n",
       "2013 Q4"
      ],
      "text/plain": [
       "<IPython.core.display.Markdown object>"
      ]
     },
     "metadata": {},
     "output_type": "display_data"
    },
    {
     "data": {
      "text/markdown": [
       "Total operating expenses\n",
       "881,939\n",
       "2014 Q4"
      ],
      "text/plain": [
       "<IPython.core.display.Markdown object>"
      ]
     },
     "metadata": {},
     "output_type": "display_data"
    },
    {
     "data": {
      "text/markdown": [
       "Total operating expenses\n",
       "715,043\n",
       "2013 Q4"
      ],
      "text/plain": [
       "<IPython.core.display.Markdown object>"
      ]
     },
     "metadata": {},
     "output_type": "display_data"
    },
    {
     "data": {
      "text/markdown": [
       "Total operating expenses (percentage)\n",
       "82.4\n",
       "2014 Q4"
      ],
      "text/plain": [
       "<IPython.core.display.Markdown object>"
      ]
     },
     "metadata": {},
     "output_type": "display_data"
    },
    {
     "data": {
      "text/markdown": [
       "Total operating expenses (percentage)\n",
       "84.7\n",
       "2013 Q4"
      ],
      "text/plain": [
       "<IPython.core.display.Markdown object>"
      ]
     },
     "metadata": {},
     "output_type": "display_data"
    },
    {
     "data": {
      "text/markdown": [
       "Income from operations\n",
       "187,872\n",
       "2014 Q4"
      ],
      "text/plain": [
       "<IPython.core.display.Markdown object>"
      ]
     },
     "metadata": {},
     "output_type": "display_data"
    },
    {
     "data": {
      "text/markdown": [
       "Income from operations\n",
       "129,104\n",
       "2013 Q4"
      ],
      "text/plain": [
       "<IPython.core.display.Markdown object>"
      ]
     },
     "metadata": {},
     "output_type": "display_data"
    },
    {
     "data": {
      "text/markdown": [
       "Income from operations (percentage)\n",
       "17.6\n",
       "2014 Q4"
      ],
      "text/plain": [
       "<IPython.core.display.Markdown object>"
      ]
     },
     "metadata": {},
     "output_type": "display_data"
    },
    {
     "data": {
      "text/markdown": [
       "Income from operations (percentage)\n",
       "15.3\n",
       "2013 Q4"
      ],
      "text/plain": [
       "<IPython.core.display.Markdown object>"
      ]
     },
     "metadata": {},
     "output_type": "display_data"
    },
    {
     "data": {
      "text/markdown": [
       "Interest and other income (expense), net\n",
       "885\n",
       "2014 Q4"
      ],
      "text/plain": [
       "<IPython.core.display.Markdown object>"
      ]
     },
     "metadata": {},
     "output_type": "display_data"
    },
    {
     "data": {
      "text/markdown": [
       "Interest and other income (expense), net\n",
       "390\n",
       "2013 Q4"
      ],
      "text/plain": [
       "<IPython.core.display.Markdown object>"
      ]
     },
     "metadata": {},
     "output_type": "display_data"
    },
    {
     "data": {
      "text/markdown": [
       "Interest and other income (expense), net (percentage)\n",
       "0.1\n",
       "2014 Q4"
      ],
      "text/plain": [
       "<IPython.core.display.Markdown object>"
      ]
     },
     "metadata": {},
     "output_type": "display_data"
    },
    {
     "data": {
      "text/markdown": [
       "Interest and other income (expense), net (percentage)\n",
       "0.1\n",
       "2013 Q4"
      ],
      "text/plain": [
       "<IPython.core.display.Markdown object>"
      ]
     },
     "metadata": {},
     "output_type": "display_data"
    },
    {
     "data": {
      "text/markdown": [
       "Income before income taxes\n",
       "188757\n",
       "2014 Q4"
      ],
      "text/plain": [
       "<IPython.core.display.Markdown object>"
      ]
     },
     "metadata": {},
     "output_type": "display_data"
    },
    {
     "data": {
      "text/markdown": [
       "Income before income taxes\n",
       "129494\n",
       "2013 Q4"
      ],
      "text/plain": [
       "<IPython.core.display.Markdown object>"
      ]
     },
     "metadata": {},
     "output_type": "display_data"
    },
    {
     "data": {
      "text/markdown": [
       "Income before income taxes (percentage)\n",
       "17.6\n",
       "2014 Q4"
      ],
      "text/plain": [
       "<IPython.core.display.Markdown object>"
      ]
     },
     "metadata": {},
     "output_type": "display_data"
    },
    {
     "data": {
      "text/markdown": [
       "Income before income taxes (percentage)\n",
       "15.3\n",
       "2013 Q4"
      ],
      "text/plain": [
       "<IPython.core.display.Markdown object>"
      ]
     },
     "metadata": {},
     "output_type": "display_data"
    },
    {
     "data": {
      "text/markdown": [
       "Provision for income taxes\n",
       "-67523\n",
       "2014 Q4"
      ],
      "text/plain": [
       "<IPython.core.display.Markdown object>"
      ]
     },
     "metadata": {},
     "output_type": "display_data"
    },
    {
     "data": {
      "text/markdown": [
       "Provision for income taxes\n",
       "-49872\n",
       "2013 Q4"
      ],
      "text/plain": [
       "<IPython.core.display.Markdown object>"
      ]
     },
     "metadata": {},
     "output_type": "display_data"
    },
    {
     "data": {
      "text/markdown": [
       "Provision for income taxes (percentage)\n",
       "-6.3\n",
       "2014 Q4"
      ],
      "text/plain": [
       "<IPython.core.display.Markdown object>"
      ]
     },
     "metadata": {},
     "output_type": "display_data"
    },
    {
     "data": {
      "text/markdown": [
       "Provision for income taxes (percentage)\n",
       "-5.9\n",
       "2013 Q4"
      ],
      "text/plain": [
       "<IPython.core.display.Markdown object>"
      ]
     },
     "metadata": {},
     "output_type": "display_data"
    },
    {
     "data": {
      "text/markdown": [
       "Net income\n",
       "121234\n",
       "2014 Q4"
      ],
      "text/plain": [
       "<IPython.core.display.Markdown object>"
      ]
     },
     "metadata": {},
     "output_type": "display_data"
    },
    {
     "data": {
      "text/markdown": [
       "Net income\n",
       "79622\n",
       "2013 Q4"
      ],
      "text/plain": [
       "<IPython.core.display.Markdown object>"
      ]
     },
     "metadata": {},
     "output_type": "display_data"
    },
    {
     "data": {
      "text/markdown": [
       "Net income (percentage)\n",
       "11.3\n",
       "2014 Q4"
      ],
      "text/plain": [
       "<IPython.core.display.Markdown object>"
      ]
     },
     "metadata": {},
     "output_type": "display_data"
    },
    {
     "data": {
      "text/markdown": [
       "Net income (percentage)\n",
       "9.4\n",
       "2013 Q4"
      ],
      "text/plain": [
       "<IPython.core.display.Markdown object>"
      ]
     },
     "metadata": {},
     "output_type": "display_data"
    },
    {
     "data": {
      "text/markdown": [
       "Foreign currency translation adjustments\n",
       "-1008\n",
       "2014 Q4"
      ],
      "text/plain": [
       "<IPython.core.display.Markdown object>"
      ]
     },
     "metadata": {},
     "output_type": "display_data"
    },
    {
     "data": {
      "text/markdown": [
       "Foreign currency translation adjustments\n",
       "222\n",
       "2013 Q4"
      ],
      "text/plain": [
       "<IPython.core.display.Markdown object>"
      ]
     },
     "metadata": {},
     "output_type": "display_data"
    },
    {
     "data": {
      "text/markdown": [
       "Comprehensive income\n",
       "120,226\n",
       "2014 Q4"
      ],
      "text/plain": [
       "<IPython.core.display.Markdown object>"
      ]
     },
     "metadata": {},
     "output_type": "display_data"
    },
    {
     "data": {
      "text/markdown": [
       "Comprehensive income\n",
       "79,844\n",
       "2013 Q4"
      ],
      "text/plain": [
       "<IPython.core.display.Markdown object>"
      ]
     },
     "metadata": {},
     "output_type": "display_data"
    },
    {
     "data": {
      "text/markdown": [
       "Earnings per share Basic\n",
       "3.91\n",
       "2014 Q4"
      ],
      "text/plain": [
       "<IPython.core.display.Markdown object>"
      ]
     },
     "metadata": {},
     "output_type": "display_data"
    },
    {
     "data": {
      "text/markdown": [
       "Earnings per share Basic\n",
       "2.57\n",
       "2013 Q4"
      ],
      "text/plain": [
       "<IPython.core.display.Markdown object>"
      ]
     },
     "metadata": {},
     "output_type": "display_data"
    },
    {
     "data": {
      "text/markdown": [
       "Earnings per share Diluted\n",
       "3.84\n",
       "2014 Q4"
      ],
      "text/plain": [
       "<IPython.core.display.Markdown object>"
      ]
     },
     "metadata": {},
     "output_type": "display_data"
    },
    {
     "data": {
      "text/markdown": [
       "Earnings per share Diluted\n",
       "2.53\n",
       "2013 Q4"
      ],
      "text/plain": [
       "<IPython.core.display.Markdown object>"
      ]
     },
     "metadata": {},
     "output_type": "display_data"
    },
    {
     "data": {
      "text/markdown": [
       "Weighted average common shares outstanding Basic\n",
       "31024\n",
       "2014 Q4"
      ],
      "text/plain": [
       "<IPython.core.display.Markdown object>"
      ]
     },
     "metadata": {},
     "output_type": "display_data"
    },
    {
     "data": {
      "text/markdown": [
       "Weighted average common shares outstanding Basic\n",
       "31019\n",
       "2013 Q4"
      ],
      "text/plain": [
       "<IPython.core.display.Markdown object>"
      ]
     },
     "metadata": {},
     "output_type": "display_data"
    },
    {
     "data": {
      "text/markdown": [
       "Weighted average common shares outstanding Diluted\n",
       "31542\n",
       "2014 Q4"
      ],
      "text/plain": [
       "<IPython.core.display.Markdown object>"
      ]
     },
     "metadata": {},
     "output_type": "display_data"
    },
    {
     "data": {
      "text/markdown": [
       "Weighted average common shares outstanding Diluted\n",
       "31425\n",
       "2013 Q4"
      ],
      "text/plain": [
       "<IPython.core.display.Markdown object>"
      ]
     },
     "metadata": {},
     "output_type": "display_data"
    },
    {
     "data": {
      "text/markdown": [
       "|  &nbsp;  |  Years ended December 31  |     |     |     |     |     |     |     |     |     |\n",
       "|  ---  |  ---  |  ---  |  ---  |  ---  |  ---  |  ---  |  ---  |  ---  |  ---  |  ---  |\n",
       "|  &nbsp;  |  2014  |     |     |     |     |  2013  |     |     |     |     |\n",
       "|  &nbsp;&nbsp;Revenue  |  $  |  4,108,269  |     |  100.0  |  %  |  $  |  3,214,591  |     |  100.0  |  %  |\n",
       "|  &nbsp;&nbsp;Restaurant operating costs  |     |     |     |     |     |     |     |     |     |     |\n",
       "|  &nbsp;&nbsp;(Exclusive of depreciation and amortization shown separately below):  |     |     |     |     |     |     |     |     |     |     |\n",
       "|  &nbsp;&nbsp;&nbsp;&nbsp;&nbsp;&nbsp;&nbsp;&nbsp;&nbsp;&nbsp;Food, beverage and packaging  |     |  1,420,994  |     |  34.6  |     |     |  1,073,514  |     |  33.4  |     |\n",
       "|  &nbsp;&nbsp;&nbsp;&nbsp;&nbsp;&nbsp;&nbsp;&nbsp;&nbsp;&nbsp;Labor  |     |  904,407  |     |  22.0  |     |     |  739,800  |     |  23.0  |     |\n",
       "|  &nbsp;&nbsp;&nbsp;&nbsp;&nbsp;&nbsp;&nbsp;&nbsp;&nbsp;&nbsp;Occupancy  |     |  230,868  |     |  5.6  |     |     |  199,107  |     |  6.2  |     |\n",
       "|  &nbsp;&nbsp;&nbsp;&nbsp;&nbsp;&nbsp;&nbsp;&nbsp;&nbsp;&nbsp;Other operating costs  |     |  434,244  |     |  10.6  |     |     |  347,401  |     |  10.8  |     |\n",
       "|  &nbsp;&nbsp;General and administrative expenses  |     |  273,897  |     |  6.7  |     |     |  203,733  |     |  6.3  |     |\n",
       "|  &nbsp;&nbsp;Depreciation and amortization  |     |  110,474  |     |  2.7  |     |     |  96,054  |     |  3.0  |     |\n",
       "|  &nbsp;&nbsp;Pre-opening costs  |     |  15,609  |     |  0.4  |     |     |  15,511  |     |  0.5  |     |\n",
       "|  &nbsp;&nbsp;Loss on disposal of assets  |     |  6,976  |     |  0.2  |     |     |  6,751  |     |  0.2  |     |\n",
       "|  &nbsp;&nbsp;&nbsp;&nbsp;&nbsp;&nbsp;Total operating expenses  |     |  3,397,469  |     |  82.7  |     |     |  2,681,871  |     |  83.4  |     |\n",
       "|  &nbsp;&nbsp;Income from operations  |     |  710,800  |     |  17.3  |     |     |  532,720  |     |  16.6  |     |\n",
       "|  &nbsp;&nbsp;Interest and other income (expense), net  |     |  3,503  |     |  0.1  |     |     |  1,751  |     |  0.1  |     |\n",
       "|  &nbsp;&nbsp;Income before income taxes  |     |  714,303  |     |  17.4  |     |     |  534,471  |     |  16.6  |     |\n",
       "|  &nbsp;&nbsp;Provision for income taxes  |     |  (268,929  |  )  |  (6.5  |  )  |     |  (207,033  |  )  |  (6.4  |  )  |\n",
       "|  &nbsp;&nbsp;Net income  |  $  |  445,374  |     |  10.8  |  %  |  $  |  327,438  |     |  10.2  |  %  |\n",
       "|  &nbsp;&nbsp;Other comprehensive income:  |     |     |     |     |     |     |     |     |     |     |\n",
       "|  &nbsp;&nbsp;Foreign currency translation adjustments  |     |  (2,049  |  )  |     |     |     |  596  |     |     |     |\n",
       "|  &nbsp;&nbsp;Comprehensive income  |  $  |  443,325  |     |     |     |  $  |  328,034  |     |     |     |\n",
       "|  &nbsp;&nbsp;Earnings per share:  |     |     |     |     |     |     |     |     |     |     |\n",
       "|  &nbsp;&nbsp;Basic  |  $  |  14.35  |     |     |     |  $  |  10.58  |     |     |     |\n",
       "|  &nbsp;&nbsp;Diluted  |  $  |  14.13  |     |     |     |  $  |  10.47  |     |     |     |\n",
       "|  &nbsp;&nbsp;Weighted average common shares outstanding:  |     |     |     |     |     |     |     |     |     |     |\n",
       "|  &nbsp;&nbsp;Basic  |     |  31,038  |     |     |     |     |  30,957  |     |     |     |\n",
       "|  &nbsp;&nbsp;Diluted  |     |  31,512  |     |     |     |     |  31,281  |     |     |     |"
      ],
      "text/plain": [
       "<IPython.core.display.Markdown object>"
      ]
     },
     "metadata": {},
     "output_type": "display_data"
    },
    {
     "data": {
      "text/markdown": [
       "Revenue\n",
       "4108269\n",
       "2014 Full Year"
      ],
      "text/plain": [
       "<IPython.core.display.Markdown object>"
      ]
     },
     "metadata": {},
     "output_type": "display_data"
    },
    {
     "data": {
      "text/markdown": [
       "Revenue\n",
       "3214591\n",
       "2013 Full Year"
      ],
      "text/plain": [
       "<IPython.core.display.Markdown object>"
      ]
     },
     "metadata": {},
     "output_type": "display_data"
    },
    {
     "data": {
      "text/markdown": [
       "Revenue (percentage)\n",
       "100.0\n",
       "2014 Full Year"
      ],
      "text/plain": [
       "<IPython.core.display.Markdown object>"
      ]
     },
     "metadata": {},
     "output_type": "display_data"
    },
    {
     "data": {
      "text/markdown": [
       "Revenue (percentage)\n",
       "100.0\n",
       "2013 Full Year"
      ],
      "text/plain": [
       "<IPython.core.display.Markdown object>"
      ]
     },
     "metadata": {},
     "output_type": "display_data"
    },
    {
     "data": {
      "text/markdown": [
       "Food, beverage and packaging Restaurant operating costs\n",
       "1420994\n",
       "2014 Full Year"
      ],
      "text/plain": [
       "<IPython.core.display.Markdown object>"
      ]
     },
     "metadata": {},
     "output_type": "display_data"
    },
    {
     "data": {
      "text/markdown": [
       "Food, beverage and packaging Restaurant operating costs\n",
       "1073514\n",
       "2013 Full Year"
      ],
      "text/plain": [
       "<IPython.core.display.Markdown object>"
      ]
     },
     "metadata": {},
     "output_type": "display_data"
    },
    {
     "data": {
      "text/markdown": [
       "Food, beverage and packaging Restaurant operating costs (percentage)\n",
       "34.6\n",
       "2014 Full Year"
      ],
      "text/plain": [
       "<IPython.core.display.Markdown object>"
      ]
     },
     "metadata": {},
     "output_type": "display_data"
    },
    {
     "data": {
      "text/markdown": [
       "Food, beverage and packaging Restaurant operating costs (percentage)\n",
       "33.4\n",
       "2013 Full Year"
      ],
      "text/plain": [
       "<IPython.core.display.Markdown object>"
      ]
     },
     "metadata": {},
     "output_type": "display_data"
    },
    {
     "data": {
      "text/markdown": [
       "Labor Restaurant operating costs\n",
       "904,407\n",
       "2014 Full Year"
      ],
      "text/plain": [
       "<IPython.core.display.Markdown object>"
      ]
     },
     "metadata": {},
     "output_type": "display_data"
    },
    {
     "data": {
      "text/markdown": [
       "Labor Restaurant operating costs\n",
       "739,800\n",
       "2013 Full Year"
      ],
      "text/plain": [
       "<IPython.core.display.Markdown object>"
      ]
     },
     "metadata": {},
     "output_type": "display_data"
    },
    {
     "data": {
      "text/markdown": [
       "Labor Restaurant operating costs (percentage)\n",
       "22.0\n",
       "2014 Full Year"
      ],
      "text/plain": [
       "<IPython.core.display.Markdown object>"
      ]
     },
     "metadata": {},
     "output_type": "display_data"
    },
    {
     "data": {
      "text/markdown": [
       "Labor Restaurant operating costs (percentage)\n",
       "23.0\n",
       "2013 Full Year"
      ],
      "text/plain": [
       "<IPython.core.display.Markdown object>"
      ]
     },
     "metadata": {},
     "output_type": "display_data"
    },
    {
     "data": {
      "text/markdown": [
       "Occupancy Restaurant operating costs\n",
       "230868\n",
       "2014 Full Year"
      ],
      "text/plain": [
       "<IPython.core.display.Markdown object>"
      ]
     },
     "metadata": {},
     "output_type": "display_data"
    },
    {
     "data": {
      "text/markdown": [
       "Occupancy Restaurant operating costs\n",
       "199107\n",
       "2013 Full Year"
      ],
      "text/plain": [
       "<IPython.core.display.Markdown object>"
      ]
     },
     "metadata": {},
     "output_type": "display_data"
    },
    {
     "data": {
      "text/markdown": [
       "Occupancy Restaurant operating costs (percentage)\n",
       "5.6\n",
       "2014 Full Year"
      ],
      "text/plain": [
       "<IPython.core.display.Markdown object>"
      ]
     },
     "metadata": {},
     "output_type": "display_data"
    },
    {
     "data": {
      "text/markdown": [
       "Occupancy Restaurant operating costs (percentage)\n",
       "6.2\n",
       "2013 Full Year"
      ],
      "text/plain": [
       "<IPython.core.display.Markdown object>"
      ]
     },
     "metadata": {},
     "output_type": "display_data"
    },
    {
     "data": {
      "text/markdown": [
       "Other operating costs Restaurant operating costs\n",
       "434,244\n",
       "2014 Full Year"
      ],
      "text/plain": [
       "<IPython.core.display.Markdown object>"
      ]
     },
     "metadata": {},
     "output_type": "display_data"
    },
    {
     "data": {
      "text/markdown": [
       "Other operating costs Restaurant operating costs\n",
       "347,401\n",
       "2013 Full Year"
      ],
      "text/plain": [
       "<IPython.core.display.Markdown object>"
      ]
     },
     "metadata": {},
     "output_type": "display_data"
    },
    {
     "data": {
      "text/markdown": [
       "Other operating costs Restaurant operating costs (percentage)\n",
       "10.6\n",
       "2014 Full Year"
      ],
      "text/plain": [
       "<IPython.core.display.Markdown object>"
      ]
     },
     "metadata": {},
     "output_type": "display_data"
    },
    {
     "data": {
      "text/markdown": [
       "Other operating costs Restaurant operating costs (percentage)\n",
       "10.8\n",
       "2013 Full Year"
      ],
      "text/plain": [
       "<IPython.core.display.Markdown object>"
      ]
     },
     "metadata": {},
     "output_type": "display_data"
    },
    {
     "data": {
      "text/markdown": [
       "General and administrative expenses\n",
       "273,897\n",
       "2014 Full Year"
      ],
      "text/plain": [
       "<IPython.core.display.Markdown object>"
      ]
     },
     "metadata": {},
     "output_type": "display_data"
    },
    {
     "data": {
      "text/markdown": [
       "General and administrative expenses\n",
       "203,733\n",
       "2013 Full Year"
      ],
      "text/plain": [
       "<IPython.core.display.Markdown object>"
      ]
     },
     "metadata": {},
     "output_type": "display_data"
    },
    {
     "data": {
      "text/markdown": [
       "General and administrative expenses (percentage)\n",
       "6.7\n",
       "2014 Full Year"
      ],
      "text/plain": [
       "<IPython.core.display.Markdown object>"
      ]
     },
     "metadata": {},
     "output_type": "display_data"
    },
    {
     "data": {
      "text/markdown": [
       "General and administrative expenses (percentage)\n",
       "6.3\n",
       "2013 Full Year"
      ],
      "text/plain": [
       "<IPython.core.display.Markdown object>"
      ]
     },
     "metadata": {},
     "output_type": "display_data"
    },
    {
     "data": {
      "text/markdown": [
       "Depreciation and amortization\n",
       "110,474\n",
       "2014 Full Year"
      ],
      "text/plain": [
       "<IPython.core.display.Markdown object>"
      ]
     },
     "metadata": {},
     "output_type": "display_data"
    },
    {
     "data": {
      "text/markdown": [
       "Depreciation and amortization\n",
       "96,054\n",
       "2013 Full Year"
      ],
      "text/plain": [
       "<IPython.core.display.Markdown object>"
      ]
     },
     "metadata": {},
     "output_type": "display_data"
    },
    {
     "data": {
      "text/markdown": [
       "Depreciation and amortization (percentage)\n",
       "2.7\n",
       "2014 Full Year"
      ],
      "text/plain": [
       "<IPython.core.display.Markdown object>"
      ]
     },
     "metadata": {},
     "output_type": "display_data"
    },
    {
     "data": {
      "text/markdown": [
       "Depreciation and amortization (percentage)\n",
       "3.0\n",
       "2013 Full Year"
      ],
      "text/plain": [
       "<IPython.core.display.Markdown object>"
      ]
     },
     "metadata": {},
     "output_type": "display_data"
    },
    {
     "data": {
      "text/markdown": [
       "Pre-opening costs\n",
       "15609\n",
       "2014 Full Year"
      ],
      "text/plain": [
       "<IPython.core.display.Markdown object>"
      ]
     },
     "metadata": {},
     "output_type": "display_data"
    },
    {
     "data": {
      "text/markdown": [
       "Pre-opening costs\n",
       "15511\n",
       "2013 Full Year"
      ],
      "text/plain": [
       "<IPython.core.display.Markdown object>"
      ]
     },
     "metadata": {},
     "output_type": "display_data"
    },
    {
     "data": {
      "text/markdown": [
       "Pre-opening costs (percentage)\n",
       "0.4\n",
       "2014 Full Year"
      ],
      "text/plain": [
       "<IPython.core.display.Markdown object>"
      ]
     },
     "metadata": {},
     "output_type": "display_data"
    },
    {
     "data": {
      "text/markdown": [
       "Pre-opening costs (percentage)\n",
       "0.5\n",
       "2013 Full Year"
      ],
      "text/plain": [
       "<IPython.core.display.Markdown object>"
      ]
     },
     "metadata": {},
     "output_type": "display_data"
    },
    {
     "data": {
      "text/markdown": [
       "Loss on disposal of assets\n",
       "6976\n",
       "2014 Full Year"
      ],
      "text/plain": [
       "<IPython.core.display.Markdown object>"
      ]
     },
     "metadata": {},
     "output_type": "display_data"
    },
    {
     "data": {
      "text/markdown": [
       "Loss on disposal of assets\n",
       "6751\n",
       "2013 Full Year"
      ],
      "text/plain": [
       "<IPython.core.display.Markdown object>"
      ]
     },
     "metadata": {},
     "output_type": "display_data"
    },
    {
     "data": {
      "text/markdown": [
       "Loss on disposal of assets (percentage)\n",
       "0.2\n",
       "2014 Full Year"
      ],
      "text/plain": [
       "<IPython.core.display.Markdown object>"
      ]
     },
     "metadata": {},
     "output_type": "display_data"
    },
    {
     "data": {
      "text/markdown": [
       "Loss on disposal of assets (percentage)\n",
       "0.2\n",
       "2013 Full Year"
      ],
      "text/plain": [
       "<IPython.core.display.Markdown object>"
      ]
     },
     "metadata": {},
     "output_type": "display_data"
    },
    {
     "data": {
      "text/markdown": [
       "Total operating expenses\n",
       "3397469\n",
       "2014 Full Year"
      ],
      "text/plain": [
       "<IPython.core.display.Markdown object>"
      ]
     },
     "metadata": {},
     "output_type": "display_data"
    },
    {
     "data": {
      "text/markdown": [
       "Total operating expenses\n",
       "2681871\n",
       "2013 Full Year"
      ],
      "text/plain": [
       "<IPython.core.display.Markdown object>"
      ]
     },
     "metadata": {},
     "output_type": "display_data"
    },
    {
     "data": {
      "text/markdown": [
       "Total operating expenses (percentage)\n",
       "82.7\n",
       "2014 Full Year"
      ],
      "text/plain": [
       "<IPython.core.display.Markdown object>"
      ]
     },
     "metadata": {},
     "output_type": "display_data"
    },
    {
     "data": {
      "text/markdown": [
       "Total operating expenses (percentage)\n",
       "83.4\n",
       "2013 Full Year"
      ],
      "text/plain": [
       "<IPython.core.display.Markdown object>"
      ]
     },
     "metadata": {},
     "output_type": "display_data"
    },
    {
     "data": {
      "text/markdown": [
       "Income from operations\n",
       "710,800\n",
       "2014 Full Year"
      ],
      "text/plain": [
       "<IPython.core.display.Markdown object>"
      ]
     },
     "metadata": {},
     "output_type": "display_data"
    },
    {
     "data": {
      "text/markdown": [
       "Income from operations\n",
       "532,720\n",
       "2013 Full Year"
      ],
      "text/plain": [
       "<IPython.core.display.Markdown object>"
      ]
     },
     "metadata": {},
     "output_type": "display_data"
    },
    {
     "data": {
      "text/markdown": [
       "Income from operations (percentage)\n",
       "17.3\n",
       "2014 Full Year"
      ],
      "text/plain": [
       "<IPython.core.display.Markdown object>"
      ]
     },
     "metadata": {},
     "output_type": "display_data"
    },
    {
     "data": {
      "text/markdown": [
       "Income from operations (percentage)\n",
       "16.6\n",
       "2013 Full Year"
      ],
      "text/plain": [
       "<IPython.core.display.Markdown object>"
      ]
     },
     "metadata": {},
     "output_type": "display_data"
    },
    {
     "data": {
      "text/markdown": [
       "Interest and other income (expense), net\n",
       "3503\n",
       "2014 Full Year"
      ],
      "text/plain": [
       "<IPython.core.display.Markdown object>"
      ]
     },
     "metadata": {},
     "output_type": "display_data"
    },
    {
     "data": {
      "text/markdown": [
       "Interest and other income (expense), net\n",
       "1751\n",
       "2013 Full Year"
      ],
      "text/plain": [
       "<IPython.core.display.Markdown object>"
      ]
     },
     "metadata": {},
     "output_type": "display_data"
    },
    {
     "data": {
      "text/markdown": [
       "Interest and other income (expense), net (percentage)\n",
       "0.1\n",
       "2014 Full Year"
      ],
      "text/plain": [
       "<IPython.core.display.Markdown object>"
      ]
     },
     "metadata": {},
     "output_type": "display_data"
    },
    {
     "data": {
      "text/markdown": [
       "Interest and other income (expense), net (percentage)\n",
       "0.1\n",
       "2013 Full Year"
      ],
      "text/plain": [
       "<IPython.core.display.Markdown object>"
      ]
     },
     "metadata": {},
     "output_type": "display_data"
    },
    {
     "data": {
      "text/markdown": [
       "Income before income taxes\n",
       "714303\n",
       "2014 Full Year"
      ],
      "text/plain": [
       "<IPython.core.display.Markdown object>"
      ]
     },
     "metadata": {},
     "output_type": "display_data"
    },
    {
     "data": {
      "text/markdown": [
       "Income before income taxes\n",
       "534471\n",
       "2013 Full Year"
      ],
      "text/plain": [
       "<IPython.core.display.Markdown object>"
      ]
     },
     "metadata": {},
     "output_type": "display_data"
    },
    {
     "data": {
      "text/markdown": [
       "Income before income taxes (percentage)\n",
       "17.4\n",
       "2014 Full Year"
      ],
      "text/plain": [
       "<IPython.core.display.Markdown object>"
      ]
     },
     "metadata": {},
     "output_type": "display_data"
    },
    {
     "data": {
      "text/markdown": [
       "Income before income taxes (percentage)\n",
       "16.6\n",
       "2013 Full Year"
      ],
      "text/plain": [
       "<IPython.core.display.Markdown object>"
      ]
     },
     "metadata": {},
     "output_type": "display_data"
    },
    {
     "data": {
      "text/markdown": [
       "Provision for income taxes\n",
       "-268929\n",
       "2014 Full Year"
      ],
      "text/plain": [
       "<IPython.core.display.Markdown object>"
      ]
     },
     "metadata": {},
     "output_type": "display_data"
    },
    {
     "data": {
      "text/markdown": [
       "Provision for income taxes\n",
       "-207033\n",
       "2013 Full Year"
      ],
      "text/plain": [
       "<IPython.core.display.Markdown object>"
      ]
     },
     "metadata": {},
     "output_type": "display_data"
    },
    {
     "data": {
      "text/markdown": [
       "Provision for income taxes (percentage)\n",
       "-6.5\n",
       "2014 Full Year"
      ],
      "text/plain": [
       "<IPython.core.display.Markdown object>"
      ]
     },
     "metadata": {},
     "output_type": "display_data"
    },
    {
     "data": {
      "text/markdown": [
       "Provision for income taxes (percentage)\n",
       "-6.4\n",
       "2013 Full Year"
      ],
      "text/plain": [
       "<IPython.core.display.Markdown object>"
      ]
     },
     "metadata": {},
     "output_type": "display_data"
    },
    {
     "data": {
      "text/markdown": [
       "Net income\n",
       "445,374\n",
       "2014 Full Year"
      ],
      "text/plain": [
       "<IPython.core.display.Markdown object>"
      ]
     },
     "metadata": {},
     "output_type": "display_data"
    },
    {
     "data": {
      "text/markdown": [
       "Net income\n",
       "327,438\n",
       "2013 Full Year"
      ],
      "text/plain": [
       "<IPython.core.display.Markdown object>"
      ]
     },
     "metadata": {},
     "output_type": "display_data"
    },
    {
     "data": {
      "text/markdown": [
       "Net income (percentage)\n",
       "10.8\n",
       "2014 Full Year"
      ],
      "text/plain": [
       "<IPython.core.display.Markdown object>"
      ]
     },
     "metadata": {},
     "output_type": "display_data"
    },
    {
     "data": {
      "text/markdown": [
       "Net income (percentage)\n",
       "10.2\n",
       "2013 Full Year"
      ],
      "text/plain": [
       "<IPython.core.display.Markdown object>"
      ]
     },
     "metadata": {},
     "output_type": "display_data"
    },
    {
     "data": {
      "text/markdown": [
       "Foreign currency translation adjustments\n",
       "-2049\n",
       "2014 Full Year"
      ],
      "text/plain": [
       "<IPython.core.display.Markdown object>"
      ]
     },
     "metadata": {},
     "output_type": "display_data"
    },
    {
     "data": {
      "text/markdown": [
       "Foreign currency translation adjustments\n",
       "596\n",
       "2013 Full Year"
      ],
      "text/plain": [
       "<IPython.core.display.Markdown object>"
      ]
     },
     "metadata": {},
     "output_type": "display_data"
    },
    {
     "data": {
      "text/markdown": [
       "Comprehensive income\n",
       "443,325\n",
       "2014 Full Year"
      ],
      "text/plain": [
       "<IPython.core.display.Markdown object>"
      ]
     },
     "metadata": {},
     "output_type": "display_data"
    },
    {
     "data": {
      "text/markdown": [
       "Comprehensive income\n",
       "328,034\n",
       "2013 Full Year"
      ],
      "text/plain": [
       "<IPython.core.display.Markdown object>"
      ]
     },
     "metadata": {},
     "output_type": "display_data"
    },
    {
     "data": {
      "text/markdown": [
       "Basic earnings per share\n",
       "14.35\n",
       "2014 Full Year"
      ],
      "text/plain": [
       "<IPython.core.display.Markdown object>"
      ]
     },
     "metadata": {},
     "output_type": "display_data"
    },
    {
     "data": {
      "text/markdown": [
       "Basic earnings per share\n",
       "10.58\n",
       "2013 Full Year"
      ],
      "text/plain": [
       "<IPython.core.display.Markdown object>"
      ]
     },
     "metadata": {},
     "output_type": "display_data"
    },
    {
     "data": {
      "text/markdown": [
       "Diluted earnings per share\n",
       "14.13\n",
       "2014 Full Year"
      ],
      "text/plain": [
       "<IPython.core.display.Markdown object>"
      ]
     },
     "metadata": {},
     "output_type": "display_data"
    },
    {
     "data": {
      "text/markdown": [
       "Diluted earnings per share\n",
       "10.47\n",
       "2013 Full Year"
      ],
      "text/plain": [
       "<IPython.core.display.Markdown object>"
      ]
     },
     "metadata": {},
     "output_type": "display_data"
    },
    {
     "data": {
      "text/markdown": [
       "Basic weighted average common shares outstanding\n",
       "31038\n",
       "2014 Full Year"
      ],
      "text/plain": [
       "<IPython.core.display.Markdown object>"
      ]
     },
     "metadata": {},
     "output_type": "display_data"
    },
    {
     "data": {
      "text/markdown": [
       "Basic weighted average common shares outstanding\n",
       "30957\n",
       "2013 Full Year"
      ],
      "text/plain": [
       "<IPython.core.display.Markdown object>"
      ]
     },
     "metadata": {},
     "output_type": "display_data"
    },
    {
     "data": {
      "text/markdown": [
       "Diluted weighted average common shares outstanding\n",
       "31512\n",
       "2014 Full Year"
      ],
      "text/plain": [
       "<IPython.core.display.Markdown object>"
      ]
     },
     "metadata": {},
     "output_type": "display_data"
    },
    {
     "data": {
      "text/markdown": [
       "Diluted weighted average common shares outstanding\n",
       "31281\n",
       "2013 Full Year"
      ],
      "text/plain": [
       "<IPython.core.display.Markdown object>"
      ]
     },
     "metadata": {},
     "output_type": "display_data"
    },
    {
     "data": {
      "text/markdown": [
       "|  &nbsp;  |  December 31  |     |     |     |     |     |\n",
       "|  ---  |  ---  |  ---  |  ---  |  ---  |  ---  |  ---  |\n",
       "|  &nbsp;  |  2014  |     |     |  2013  |     |     |\n",
       "|  &nbsp;&nbsp;Assets  |     |     |     |     |     |     |\n",
       "|  &nbsp;&nbsp;Current assets:  |     |     |     |     |     |     |\n",
       "|  &nbsp;&nbsp;&nbsp;&nbsp;&nbsp;&nbsp;Cash and cash equivalents  |  $  |  419,465  |     |  $  |  323,203  |     |\n",
       "|  &nbsp;&nbsp;&nbsp;&nbsp;&nbsp;&nbsp;Accounts receivable, net of allowance for doubtful accounts of $1,199 and $1,190 as of December 31, 2014 and December 31,\n",
       "2013, respectively  |     |  34,839  |     |     |  24,016  |     |\n",
       "|  &nbsp;&nbsp;&nbsp;&nbsp;&nbsp;&nbsp;Inventory  |     |  15,332  |     |     |  13,044  |     |\n",
       "|  &nbsp;&nbsp;&nbsp;&nbsp;&nbsp;&nbsp;Current deferred tax asset  |     |  18,968  |     |     |  13,212  |     |\n",
       "|  &nbsp;&nbsp;&nbsp;&nbsp;&nbsp;&nbsp;Prepaid expenses and other current assets  |     |  34,795  |     |     |  34,204  |     |\n",
       "|  &nbsp;&nbsp;&nbsp;&nbsp;&nbsp;&nbsp;Income tax receivable  |     |  16,488  |     |     |  3,657  |     |\n",
       "|  &nbsp;&nbsp;&nbsp;&nbsp;&nbsp;&nbsp;Investments  |     |  338,592  |     |     |  254,971  |     |\n",
       "|  &nbsp;&nbsp;Total current assets  |     |  878,479  |     |     |  666,307  |     |\n",
       "|  &nbsp;&nbsp;Leasehold improvements, property and equipment, net  |     |  1,106,984  |     |     |  963,238  |     |\n",
       "|  &nbsp;&nbsp;Long term investments  |     |  496,106  |     |     |  313,863  |     |\n",
       "|  &nbsp;&nbsp;Other assets  |     |  42,777  |     |     |  43,933  |     |\n",
       "|  &nbsp;&nbsp;Goodwill  |     |  21,939  |     |     |  21,939  |     |\n",
       "|  &nbsp;&nbsp;Total assets  |  $  |  2,546,285  |     |  $  |  2,009,280  |     |\n",
       "|  &nbsp;&nbsp;Liabilities and shareholders equity  |     |     |     |     |     |     |\n",
       "|  &nbsp;&nbsp;Current liabilities:  |     |     |     |     |     |     |\n",
       "|  &nbsp;&nbsp;&nbsp;&nbsp;&nbsp;&nbsp;Accounts payable  |  $  |  69,613  |     |  $  |  59,022  |     |\n",
       "|  &nbsp;&nbsp;&nbsp;&nbsp;&nbsp;&nbsp;Accrued payroll and benefits  |     |  73,894  |     |     |  67,195  |     |\n",
       "|  &nbsp;&nbsp;&nbsp;&nbsp;&nbsp;&nbsp;Accrued liabilities  |     |  102,203  |     |     |  73,011  |     |\n",
       "|  &nbsp;&nbsp;Total current liabilities  |     |  245,710  |     |     |  199,228  |     |\n",
       "|  &nbsp;&nbsp;Deferred rent  |     |  219,414  |     |     |  192,739  |     |\n",
       "|  &nbsp;&nbsp;Deferred income tax liability  |     |  40,529  |     |     |  55,434  |     |\n",
       "|  &nbsp;&nbsp;Other liabilities  |     |  28,263  |     |     |  23,591  |     |\n",
       "|  &nbsp;&nbsp;Total liabilities  |     |  533,916  |     |     |  470,992  |     |\n",
       "|  &nbsp;&nbsp;Shareholders equity:  |     |     |     |     |     |     |\n",
       "|  &nbsp;&nbsp;&nbsp;&nbsp;&nbsp;&nbsp;Preferred stock, $0.01 par value, 600,000 shares authorized, no shares issued as of December 31, 2014 and December 31, 2013,\n",
       "respectively  |     |    |     |     |    |     |\n",
       "|  &nbsp;&nbsp;&nbsp;&nbsp;&nbsp;&nbsp;Common stock $0.01 par value, 230,000 shares authorized, and 35,394 and 35,245 shares issued as of December 31, 2014 and\n",
       "December 31, 2013, respectively  |     |  354  |     |     |  352  |     |\n",
       "|  &nbsp;&nbsp;&nbsp;&nbsp;&nbsp;&nbsp;Additional paid-in capital  |     |  1,038,932  |     |     |  919,840  |     |\n",
       "|  &nbsp;&nbsp;&nbsp;&nbsp;&nbsp;&nbsp;Treasury stock, at cost, 4,367 and 4,212 common shares at December 31, 2014 and December 31, 2013, respectively  |     |  (748,759  |  )  |     |  (660,421  |  )  |\n",
       "|  &nbsp;&nbsp;&nbsp;&nbsp;&nbsp;&nbsp;Accumulated other comprehensive income  |     |  (429  |  )  |     |  1,620  |     |\n",
       "|  &nbsp;&nbsp;&nbsp;&nbsp;&nbsp;&nbsp;Retained earnings  |     |  1,722,271  |     |     |  1,276,897  |     |\n",
       "|  &nbsp;&nbsp;Total shareholders equity  |     |  2,012,369  |     |     |  1,538,288  |     |\n",
       "|  &nbsp;&nbsp;Total liabilities and shareholders equity  |  $  |  2,546,285  |     |  $  |  2,009,280  |     |"
      ],
      "text/plain": [
       "<IPython.core.display.Markdown object>"
      ]
     },
     "metadata": {},
     "output_type": "display_data"
    },
    {
     "data": {
      "text/markdown": [
       "Cash and cash equivalents\n",
       "419465\n",
       "2014 Q4"
      ],
      "text/plain": [
       "<IPython.core.display.Markdown object>"
      ]
     },
     "metadata": {},
     "output_type": "display_data"
    },
    {
     "data": {
      "text/markdown": [
       "Cash and cash equivalents\n",
       "323203\n",
       "2013 Q4"
      ],
      "text/plain": [
       "<IPython.core.display.Markdown object>"
      ]
     },
     "metadata": {},
     "output_type": "display_data"
    },
    {
     "data": {
      "text/markdown": [
       "Accounts receivable, net\n",
       "34839\n",
       "2014 Q4"
      ],
      "text/plain": [
       "<IPython.core.display.Markdown object>"
      ]
     },
     "metadata": {},
     "output_type": "display_data"
    },
    {
     "data": {
      "text/markdown": [
       "Accounts receivable, net\n",
       "24016\n",
       "2013 Q4"
      ],
      "text/plain": [
       "<IPython.core.display.Markdown object>"
      ]
     },
     "metadata": {},
     "output_type": "display_data"
    },
    {
     "data": {
      "text/markdown": [
       "Inventory\n",
       "15332\n",
       "2014 Q4"
      ],
      "text/plain": [
       "<IPython.core.display.Markdown object>"
      ]
     },
     "metadata": {},
     "output_type": "display_data"
    },
    {
     "data": {
      "text/markdown": [
       "Inventory\n",
       "13044\n",
       "2013 Q4"
      ],
      "text/plain": [
       "<IPython.core.display.Markdown object>"
      ]
     },
     "metadata": {},
     "output_type": "display_data"
    },
    {
     "data": {
      "text/markdown": [
       "Current deferred tax asset\n",
       "18968\n",
       "2014 Q4"
      ],
      "text/plain": [
       "<IPython.core.display.Markdown object>"
      ]
     },
     "metadata": {},
     "output_type": "display_data"
    },
    {
     "data": {
      "text/markdown": [
       "Current deferred tax asset\n",
       "13212\n",
       "2013 Q4"
      ],
      "text/plain": [
       "<IPython.core.display.Markdown object>"
      ]
     },
     "metadata": {},
     "output_type": "display_data"
    },
    {
     "data": {
      "text/markdown": [
       "Prepaid expenses and other current assets\n",
       "34795\n",
       "2014 Q4"
      ],
      "text/plain": [
       "<IPython.core.display.Markdown object>"
      ]
     },
     "metadata": {},
     "output_type": "display_data"
    },
    {
     "data": {
      "text/markdown": [
       "Prepaid expenses and other current assets\n",
       "34204\n",
       "2013 Q4"
      ],
      "text/plain": [
       "<IPython.core.display.Markdown object>"
      ]
     },
     "metadata": {},
     "output_type": "display_data"
    },
    {
     "data": {
      "text/markdown": [
       "Income tax receivable\n",
       "16488\n",
       "2014 Q4"
      ],
      "text/plain": [
       "<IPython.core.display.Markdown object>"
      ]
     },
     "metadata": {},
     "output_type": "display_data"
    },
    {
     "data": {
      "text/markdown": [
       "Income tax receivable\n",
       "3657\n",
       "2013 Q4"
      ],
      "text/plain": [
       "<IPython.core.display.Markdown object>"
      ]
     },
     "metadata": {},
     "output_type": "display_data"
    },
    {
     "data": {
      "text/markdown": [
       "Investments\n",
       "338592\n",
       "2014 Full Year"
      ],
      "text/plain": [
       "<IPython.core.display.Markdown object>"
      ]
     },
     "metadata": {},
     "output_type": "display_data"
    },
    {
     "data": {
      "text/markdown": [
       "Investments\n",
       "254971\n",
       "2013 Full Year"
      ],
      "text/plain": [
       "<IPython.core.display.Markdown object>"
      ]
     },
     "metadata": {},
     "output_type": "display_data"
    },
    {
     "data": {
      "text/markdown": [
       "Total current assets\n",
       "878,479\n",
       "2014 Q4"
      ],
      "text/plain": [
       "<IPython.core.display.Markdown object>"
      ]
     },
     "metadata": {},
     "output_type": "display_data"
    },
    {
     "data": {
      "text/markdown": [
       "Total current assets\n",
       "666,307\n",
       "2013 Q4"
      ],
      "text/plain": [
       "<IPython.core.display.Markdown object>"
      ]
     },
     "metadata": {},
     "output_type": "display_data"
    },
    {
     "data": {
      "text/markdown": [
       "Leasehold improvements, property and equipment, net\n",
       "1106984\n",
       "2014 Full Year"
      ],
      "text/plain": [
       "<IPython.core.display.Markdown object>"
      ]
     },
     "metadata": {},
     "output_type": "display_data"
    },
    {
     "data": {
      "text/markdown": [
       "Leasehold improvements, property and equipment, net\n",
       "963238\n",
       "2013 Full Year"
      ],
      "text/plain": [
       "<IPython.core.display.Markdown object>"
      ]
     },
     "metadata": {},
     "output_type": "display_data"
    },
    {
     "data": {
      "text/markdown": [
       "Long term investments\n",
       "496106\n",
       "2014 Q4"
      ],
      "text/plain": [
       "<IPython.core.display.Markdown object>"
      ]
     },
     "metadata": {},
     "output_type": "display_data"
    },
    {
     "data": {
      "text/markdown": [
       "Long term investments\n",
       "313863\n",
       "2013 Q4"
      ],
      "text/plain": [
       "<IPython.core.display.Markdown object>"
      ]
     },
     "metadata": {},
     "output_type": "display_data"
    },
    {
     "data": {
      "text/markdown": [
       "Other assets\n",
       "42777\n",
       "2014 Q4"
      ],
      "text/plain": [
       "<IPython.core.display.Markdown object>"
      ]
     },
     "metadata": {},
     "output_type": "display_data"
    },
    {
     "data": {
      "text/markdown": [
       "Other assets\n",
       "43933\n",
       "2013 Q4"
      ],
      "text/plain": [
       "<IPython.core.display.Markdown object>"
      ]
     },
     "metadata": {},
     "output_type": "display_data"
    },
    {
     "data": {
      "text/markdown": [
       "Goodwill\n",
       "21939\n",
       "2014 Q4"
      ],
      "text/plain": [
       "<IPython.core.display.Markdown object>"
      ]
     },
     "metadata": {},
     "output_type": "display_data"
    },
    {
     "data": {
      "text/markdown": [
       "Goodwill\n",
       "21939\n",
       "2013 Q4"
      ],
      "text/plain": [
       "<IPython.core.display.Markdown object>"
      ]
     },
     "metadata": {},
     "output_type": "display_data"
    },
    {
     "data": {
      "text/markdown": [
       "Total assets\n",
       "2546285\n",
       "2014 Q4"
      ],
      "text/plain": [
       "<IPython.core.display.Markdown object>"
      ]
     },
     "metadata": {},
     "output_type": "display_data"
    },
    {
     "data": {
      "text/markdown": [
       "Total assets\n",
       "2009280\n",
       "2013 Q4"
      ],
      "text/plain": [
       "<IPython.core.display.Markdown object>"
      ]
     },
     "metadata": {},
     "output_type": "display_data"
    },
    {
     "data": {
      "text/markdown": [
       "Accounts payable\n",
       "69613\n",
       "2014 Q4"
      ],
      "text/plain": [
       "<IPython.core.display.Markdown object>"
      ]
     },
     "metadata": {},
     "output_type": "display_data"
    },
    {
     "data": {
      "text/markdown": [
       "Accounts payable\n",
       "59022\n",
       "2013 Q4"
      ],
      "text/plain": [
       "<IPython.core.display.Markdown object>"
      ]
     },
     "metadata": {},
     "output_type": "display_data"
    },
    {
     "data": {
      "text/markdown": [
       "Accrued payroll and benefits\n",
       "73894\n",
       "2014 Q4"
      ],
      "text/plain": [
       "<IPython.core.display.Markdown object>"
      ]
     },
     "metadata": {},
     "output_type": "display_data"
    },
    {
     "data": {
      "text/markdown": [
       "Accrued payroll and benefits\n",
       "67195\n",
       "2013 Q4"
      ],
      "text/plain": [
       "<IPython.core.display.Markdown object>"
      ]
     },
     "metadata": {},
     "output_type": "display_data"
    },
    {
     "data": {
      "text/markdown": [
       "Accrued liabilities\n",
       "102,203\n",
       "2014 Q4"
      ],
      "text/plain": [
       "<IPython.core.display.Markdown object>"
      ]
     },
     "metadata": {},
     "output_type": "display_data"
    },
    {
     "data": {
      "text/markdown": [
       "Accrued liabilities\n",
       "73,011\n",
       "2013 Q4"
      ],
      "text/plain": [
       "<IPython.core.display.Markdown object>"
      ]
     },
     "metadata": {},
     "output_type": "display_data"
    },
    {
     "data": {
      "text/markdown": [
       "Total current liabilities\n",
       "245,710\n",
       "2014 Q4"
      ],
      "text/plain": [
       "<IPython.core.display.Markdown object>"
      ]
     },
     "metadata": {},
     "output_type": "display_data"
    },
    {
     "data": {
      "text/markdown": [
       "Total current liabilities\n",
       "199,228\n",
       "2013 Q4"
      ],
      "text/plain": [
       "<IPython.core.display.Markdown object>"
      ]
     },
     "metadata": {},
     "output_type": "display_data"
    },
    {
     "data": {
      "text/markdown": [
       "Deferred rent\n",
       "219414\n",
       "2014 Q4"
      ],
      "text/plain": [
       "<IPython.core.display.Markdown object>"
      ]
     },
     "metadata": {},
     "output_type": "display_data"
    },
    {
     "data": {
      "text/markdown": [
       "Deferred rent\n",
       "192739\n",
       "2013 Q4"
      ],
      "text/plain": [
       "<IPython.core.display.Markdown object>"
      ]
     },
     "metadata": {},
     "output_type": "display_data"
    },
    {
     "data": {
      "text/markdown": [
       "Deferred income tax liability\n",
       "40529\n",
       "2014 Q4"
      ],
      "text/plain": [
       "<IPython.core.display.Markdown object>"
      ]
     },
     "metadata": {},
     "output_type": "display_data"
    },
    {
     "data": {
      "text/markdown": [
       "Deferred income tax liability\n",
       "55434\n",
       "2013 Q4"
      ],
      "text/plain": [
       "<IPython.core.display.Markdown object>"
      ]
     },
     "metadata": {},
     "output_type": "display_data"
    },
    {
     "data": {
      "text/markdown": [
       "Other liabilities\n",
       "28263\n",
       "2014 Q4"
      ],
      "text/plain": [
       "<IPython.core.display.Markdown object>"
      ]
     },
     "metadata": {},
     "output_type": "display_data"
    },
    {
     "data": {
      "text/markdown": [
       "Other liabilities\n",
       "23591\n",
       "2013 Q4"
      ],
      "text/plain": [
       "<IPython.core.display.Markdown object>"
      ]
     },
     "metadata": {},
     "output_type": "display_data"
    },
    {
     "data": {
      "text/markdown": [
       "Total liabilities\n",
       "533916\n",
       "2014 Q4"
      ],
      "text/plain": [
       "<IPython.core.display.Markdown object>"
      ]
     },
     "metadata": {},
     "output_type": "display_data"
    },
    {
     "data": {
      "text/markdown": [
       "Total liabilities\n",
       "470992\n",
       "2013 Q4"
      ],
      "text/plain": [
       "<IPython.core.display.Markdown object>"
      ]
     },
     "metadata": {},
     "output_type": "display_data"
    },
    {
     "data": {
      "text/markdown": [
       "Preferred stock\n",
       "0\n",
       "2014 Full Year"
      ],
      "text/plain": [
       "<IPython.core.display.Markdown object>"
      ]
     },
     "metadata": {},
     "output_type": "display_data"
    },
    {
     "data": {
      "text/markdown": [
       "Preferred stock\n",
       "0\n",
       "2013 Full Year"
      ],
      "text/plain": [
       "<IPython.core.display.Markdown object>"
      ]
     },
     "metadata": {},
     "output_type": "display_data"
    },
    {
     "data": {
      "text/markdown": [
       "Common stock\n",
       "354\n",
       "2014 Q4"
      ],
      "text/plain": [
       "<IPython.core.display.Markdown object>"
      ]
     },
     "metadata": {},
     "output_type": "display_data"
    },
    {
     "data": {
      "text/markdown": [
       "Common stock\n",
       "352\n",
       "2013 Q4"
      ],
      "text/plain": [
       "<IPython.core.display.Markdown object>"
      ]
     },
     "metadata": {},
     "output_type": "display_data"
    },
    {
     "data": {
      "text/markdown": [
       "Additional paid-in capital\n",
       "1038932\n",
       "2014 Q4"
      ],
      "text/plain": [
       "<IPython.core.display.Markdown object>"
      ]
     },
     "metadata": {},
     "output_type": "display_data"
    },
    {
     "data": {
      "text/markdown": [
       "Additional paid-in capital\n",
       "919840\n",
       "2013 Q4"
      ],
      "text/plain": [
       "<IPython.core.display.Markdown object>"
      ]
     },
     "metadata": {},
     "output_type": "display_data"
    },
    {
     "data": {
      "text/markdown": [
       "Treasury stock, at cost\n",
       "-748759\n",
       "2014 Q4"
      ],
      "text/plain": [
       "<IPython.core.display.Markdown object>"
      ]
     },
     "metadata": {},
     "output_type": "display_data"
    },
    {
     "data": {
      "text/markdown": [
       "Treasury stock, at cost\n",
       "-660421\n",
       "2013 Q4"
      ],
      "text/plain": [
       "<IPython.core.display.Markdown object>"
      ]
     },
     "metadata": {},
     "output_type": "display_data"
    },
    {
     "data": {
      "text/markdown": [
       "Accumulated other comprehensive income\n",
       "-429\n",
       "2014 Q4"
      ],
      "text/plain": [
       "<IPython.core.display.Markdown object>"
      ]
     },
     "metadata": {},
     "output_type": "display_data"
    },
    {
     "data": {
      "text/markdown": [
       "Accumulated other comprehensive income\n",
       "1620\n",
       "2013 Q4"
      ],
      "text/plain": [
       "<IPython.core.display.Markdown object>"
      ]
     },
     "metadata": {},
     "output_type": "display_data"
    },
    {
     "data": {
      "text/markdown": [
       "Retained earnings\n",
       "1722271\n",
       "2014 Q4"
      ],
      "text/plain": [
       "<IPython.core.display.Markdown object>"
      ]
     },
     "metadata": {},
     "output_type": "display_data"
    },
    {
     "data": {
      "text/markdown": [
       "Retained earnings\n",
       "1276897\n",
       "2013 Q4"
      ],
      "text/plain": [
       "<IPython.core.display.Markdown object>"
      ]
     },
     "metadata": {},
     "output_type": "display_data"
    },
    {
     "data": {
      "text/markdown": [
       "Total shareholders’ equity\n",
       "2012369\n",
       "2014 Q4"
      ],
      "text/plain": [
       "<IPython.core.display.Markdown object>"
      ]
     },
     "metadata": {},
     "output_type": "display_data"
    },
    {
     "data": {
      "text/markdown": [
       "Total shareholders’ equity\n",
       "1538288\n",
       "2013 Q4"
      ],
      "text/plain": [
       "<IPython.core.display.Markdown object>"
      ]
     },
     "metadata": {},
     "output_type": "display_data"
    },
    {
     "data": {
      "text/markdown": [
       "Total liabilities and shareholders’ equity\n",
       "2546285\n",
       "2014 Q4"
      ],
      "text/plain": [
       "<IPython.core.display.Markdown object>"
      ]
     },
     "metadata": {},
     "output_type": "display_data"
    },
    {
     "data": {
      "text/markdown": [
       "Total liabilities and shareholders’ equity\n",
       "2009280\n",
       "2013 Q4"
      ],
      "text/plain": [
       "<IPython.core.display.Markdown object>"
      ]
     },
     "metadata": {},
     "output_type": "display_data"
    },
    {
     "data": {
      "text/markdown": [
       "|  &nbsp;  |  Years ended December 31  |     |     |     |     |     |\n",
       "|  ---  |  ---  |  ---  |  ---  |  ---  |  ---  |  ---  |\n",
       "|  &nbsp;  |  2014  |     |     |  2013  |     |     |\n",
       "|  &nbsp;&nbsp;Operating activities  |     |     |     |     |     |     |\n",
       "|  &nbsp;&nbsp;Net income  |  $  |  445,374  |     |  $  |  327,438  |     |\n",
       "|  &nbsp;&nbsp;Adjustments to reconcile net income to net cash provided by operating activities:  |     |     |     |     |     |     |\n",
       "|  &nbsp;&nbsp;&nbsp;&nbsp;&nbsp;&nbsp;Depreciation and amortization  |     |  110,474  |     |     |  96,054  |     |\n",
       "|  &nbsp;&nbsp;&nbsp;&nbsp;&nbsp;&nbsp;Deferred income tax (benefit) provision  |     |  (20,671  |  )  |     |  2,103  |     |\n",
       "|  &nbsp;&nbsp;&nbsp;&nbsp;&nbsp;&nbsp;Loss on disposal of assets  |     |  6,976  |     |     |  6,751  |     |\n",
       "|  &nbsp;&nbsp;&nbsp;&nbsp;&nbsp;&nbsp;Bad debt allowance  |     |  9  |     |     |  19  |     |\n",
       "|  &nbsp;&nbsp;&nbsp;&nbsp;&nbsp;&nbsp;Stock-based compensation expense  |     |  96,440  |     |     |  63,657  |     |\n",
       "|  &nbsp;&nbsp;&nbsp;&nbsp;&nbsp;&nbsp;Excess tax benefit on stock-based compensation  |     |  (21,667  |  )  |     |  (38,379  |  )  |\n",
       "|  &nbsp;&nbsp;&nbsp;&nbsp;&nbsp;&nbsp;Other  |     |  104  |     |     |  507  |     |\n",
       "|  &nbsp;&nbsp;Changes in operating assets and liabilities:  |     |     |     |     |     |     |\n",
       "|  &nbsp;&nbsp;&nbsp;&nbsp;&nbsp;&nbsp;Accounts receivable  |     |  (10,966  |  )  |     |  (7,238  |  )  |\n",
       "|  &nbsp;&nbsp;&nbsp;&nbsp;&nbsp;&nbsp;Inventory  |     |  (2,307  |  )  |     |  (1,950  |  )  |\n",
       "|  &nbsp;&nbsp;&nbsp;&nbsp;&nbsp;&nbsp;Prepaid expenses and other current assets  |     |  (658  |  )  |     |  (6,806  |  )  |\n",
       "|  &nbsp;&nbsp;&nbsp;&nbsp;&nbsp;&nbsp;Other assets  |     |  1,071  |     |     |  (1,354  |  )  |\n",
       "|  &nbsp;&nbsp;&nbsp;&nbsp;&nbsp;&nbsp;Accounts payable  |     |  2,168  |     |     |  2,052  |     |\n",
       "|  &nbsp;&nbsp;&nbsp;&nbsp;&nbsp;&nbsp;Accrued liabilities  |     |  35,019  |     |     |  12,020  |     |\n",
       "|  &nbsp;&nbsp;&nbsp;&nbsp;&nbsp;&nbsp;Income tax payable/receivable  |     |  8,831  |     |     |  44,334  |     |\n",
       "|  &nbsp;&nbsp;&nbsp;&nbsp;&nbsp;&nbsp;Deferred rent  |     |  27,025  |     |     |  25,715  |     |\n",
       "|  &nbsp;&nbsp;&nbsp;&nbsp;&nbsp;&nbsp;Other long-term liabilities  |     |  4,845  |     |     |  3,857  |     |\n",
       "|  &nbsp;&nbsp;Net cash provided by operating activities  |     |  682,067  |     |     |  528,780  |     |\n",
       "|  &nbsp;&nbsp;Investing activities  |     |     |     |     |     |     |\n",
       "|  &nbsp;&nbsp;Purchases of leasehold improvements, property and equipment  |     |  (252,590  |  )  |     |  (199,926  |  )  |\n",
       "|  &nbsp;&nbsp;Purchases of investments  |     |  (521,004  |  )  |     |  (387,639  |  )  |\n",
       "|  &nbsp;&nbsp;Maturities of investments  |     |  254,750  |     |     |  159,250  |     |\n",
       "|  &nbsp;&nbsp;Net cash used in investing activities  |     |  (518,844  |  )  |     |  (428,315  |  )  |\n",
       "|  &nbsp;&nbsp;Financing activities  |     |     |     |     |     |     |\n",
       "|  &nbsp;&nbsp;Acquisition of treasury stock  |     |  (88,338  |  )  |     |  (138,903  |  )  |\n",
       "|  &nbsp;&nbsp;Excess tax benefit on stock-based compensation  |     |  21,667  |     |     |  38,379  |     |\n",
       "|  &nbsp;&nbsp;Stock plan transactions and other financing activities  |     |  (66  |  )  |     |  173  |     |\n",
       "|  &nbsp;&nbsp;Net cash used in financing activities  |     |  (66,737  |  )  |     |  (100,351  |  )  |\n",
       "|  &nbsp;&nbsp;Effect of exchange rate changes on cash and cash equivalents  |     |  (224  |  )  |     |  536  |     |\n",
       "|  &nbsp;&nbsp;Net change in cash and cash equivalents  |     |  96,262  |     |     |  650  |     |\n",
       "|  &nbsp;&nbsp;Cash and cash equivalents at beginning of year  |     |  323,203  |     |     |  322,553  |     |\n",
       "|  &nbsp;&nbsp;Cash and cash equivalents at end of year  |  $  |  419,465  |     |  $  |  323,203  |     |\n",
       "|  &nbsp;&nbsp;Supplemental disclosures of cash flow information  |     |     |     |     |     |     |\n",
       "|  &nbsp;&nbsp;Income taxes paid  |  $  |  280,687  |     |  $  |  160,973  |     |\n",
       "|  &nbsp;&nbsp;Increase in purchases of leasehold improvements, property and equipment accrued in accounts payable and accrued liabilities  |  $  |  9,424  |     |  $  |  (1,736  |  )  |"
      ],
      "text/plain": [
       "<IPython.core.display.Markdown object>"
      ]
     },
     "metadata": {},
     "output_type": "display_data"
    },
    {
     "data": {
      "text/markdown": [
       "Net income\n",
       "445374\n",
       "2014 Full Year"
      ],
      "text/plain": [
       "<IPython.core.display.Markdown object>"
      ]
     },
     "metadata": {},
     "output_type": "display_data"
    },
    {
     "data": {
      "text/markdown": [
       "Net income\n",
       "327438\n",
       "2013 Full Year"
      ],
      "text/plain": [
       "<IPython.core.display.Markdown object>"
      ]
     },
     "metadata": {},
     "output_type": "display_data"
    },
    {
     "data": {
      "text/markdown": [
       "Depreciation and amortization\n",
       "110,474\n",
       "2014 Full Year"
      ],
      "text/plain": [
       "<IPython.core.display.Markdown object>"
      ]
     },
     "metadata": {},
     "output_type": "display_data"
    },
    {
     "data": {
      "text/markdown": [
       "Depreciation and amortization\n",
       "96,054\n",
       "2013 Full Year"
      ],
      "text/plain": [
       "<IPython.core.display.Markdown object>"
      ]
     },
     "metadata": {},
     "output_type": "display_data"
    },
    {
     "data": {
      "text/markdown": [
       "Deferred income tax (benefit) provision\n",
       "-20671\n",
       "2014 Full Year"
      ],
      "text/plain": [
       "<IPython.core.display.Markdown object>"
      ]
     },
     "metadata": {},
     "output_type": "display_data"
    },
    {
     "data": {
      "text/markdown": [
       "Deferred income tax (benefit) provision\n",
       "2103\n",
       "2013 Full Year"
      ],
      "text/plain": [
       "<IPython.core.display.Markdown object>"
      ]
     },
     "metadata": {},
     "output_type": "display_data"
    },
    {
     "data": {
      "text/markdown": [
       "Loss on disposal of assets\n",
       "6,976\n",
       "2014 Full Year"
      ],
      "text/plain": [
       "<IPython.core.display.Markdown object>"
      ]
     },
     "metadata": {},
     "output_type": "display_data"
    },
    {
     "data": {
      "text/markdown": [
       "Loss on disposal of assets\n",
       "6,751\n",
       "2013 Full Year"
      ],
      "text/plain": [
       "<IPython.core.display.Markdown object>"
      ]
     },
     "metadata": {},
     "output_type": "display_data"
    },
    {
     "data": {
      "text/markdown": [
       "Bad debt allowance\n",
       "9\n",
       "2014 Full Year"
      ],
      "text/plain": [
       "<IPython.core.display.Markdown object>"
      ]
     },
     "metadata": {},
     "output_type": "display_data"
    },
    {
     "data": {
      "text/markdown": [
       "Bad debt allowance\n",
       "19\n",
       "2013 Full Year"
      ],
      "text/plain": [
       "<IPython.core.display.Markdown object>"
      ]
     },
     "metadata": {},
     "output_type": "display_data"
    },
    {
     "data": {
      "text/markdown": [
       "Stock-based compensation expense\n",
       "96440\n",
       "2014 Full Year"
      ],
      "text/plain": [
       "<IPython.core.display.Markdown object>"
      ]
     },
     "metadata": {},
     "output_type": "display_data"
    },
    {
     "data": {
      "text/markdown": [
       "Stock-based compensation expense\n",
       "63657\n",
       "2013 Full Year"
      ],
      "text/plain": [
       "<IPython.core.display.Markdown object>"
      ]
     },
     "metadata": {},
     "output_type": "display_data"
    },
    {
     "data": {
      "text/markdown": [
       "Excess tax benefit on stock-based compensation\n",
       "-21667\n",
       "2014 Full Year"
      ],
      "text/plain": [
       "<IPython.core.display.Markdown object>"
      ]
     },
     "metadata": {},
     "output_type": "display_data"
    },
    {
     "data": {
      "text/markdown": [
       "Excess tax benefit on stock-based compensation\n",
       "-38379\n",
       "2013 Full Year"
      ],
      "text/plain": [
       "<IPython.core.display.Markdown object>"
      ]
     },
     "metadata": {},
     "output_type": "display_data"
    },
    {
     "data": {
      "text/markdown": [
       "Excess tax benefit on stock-based compensation\n",
       "21667\n",
       "2014 Full Year"
      ],
      "text/plain": [
       "<IPython.core.display.Markdown object>"
      ]
     },
     "metadata": {},
     "output_type": "display_data"
    },
    {
     "data": {
      "text/markdown": [
       "Excess tax benefit on stock-based compensation\n",
       "38379\n",
       "2013 Full Year"
      ],
      "text/plain": [
       "<IPython.core.display.Markdown object>"
      ]
     },
     "metadata": {},
     "output_type": "display_data"
    },
    {
     "data": {
      "text/markdown": [
       "Other adjustments\n",
       "104\n",
       "2014 Full Year"
      ],
      "text/plain": [
       "<IPython.core.display.Markdown object>"
      ]
     },
     "metadata": {},
     "output_type": "display_data"
    },
    {
     "data": {
      "text/markdown": [
       "Other adjustments\n",
       "507\n",
       "2013 Full Year"
      ],
      "text/plain": [
       "<IPython.core.display.Markdown object>"
      ]
     },
     "metadata": {},
     "output_type": "display_data"
    },
    {
     "data": {
      "text/markdown": [
       "Accounts receivable change\n",
       "-10966\n",
       "2014 Full Year"
      ],
      "text/plain": [
       "<IPython.core.display.Markdown object>"
      ]
     },
     "metadata": {},
     "output_type": "display_data"
    },
    {
     "data": {
      "text/markdown": [
       "Accounts receivable change\n",
       "-7238\n",
       "2013 Full Year"
      ],
      "text/plain": [
       "<IPython.core.display.Markdown object>"
      ]
     },
     "metadata": {},
     "output_type": "display_data"
    },
    {
     "data": {
      "text/markdown": [
       "Inventory change\n",
       "-2307\n",
       "2014 Full Year"
      ],
      "text/plain": [
       "<IPython.core.display.Markdown object>"
      ]
     },
     "metadata": {},
     "output_type": "display_data"
    },
    {
     "data": {
      "text/markdown": [
       "Inventory change\n",
       "-1950\n",
       "2013 Full Year"
      ],
      "text/plain": [
       "<IPython.core.display.Markdown object>"
      ]
     },
     "metadata": {},
     "output_type": "display_data"
    },
    {
     "data": {
      "text/markdown": [
       "Prepaid expenses and other current assets change\n",
       "-658\n",
       "2014 Full Year"
      ],
      "text/plain": [
       "<IPython.core.display.Markdown object>"
      ]
     },
     "metadata": {},
     "output_type": "display_data"
    },
    {
     "data": {
      "text/markdown": [
       "Prepaid expenses and other current assets change\n",
       "-6806\n",
       "2013 Full Year"
      ],
      "text/plain": [
       "<IPython.core.display.Markdown object>"
      ]
     },
     "metadata": {},
     "output_type": "display_data"
    },
    {
     "data": {
      "text/markdown": [
       "Other assets change\n",
       "1071\n",
       "2014 Q4"
      ],
      "text/plain": [
       "<IPython.core.display.Markdown object>"
      ]
     },
     "metadata": {},
     "output_type": "display_data"
    },
    {
     "data": {
      "text/markdown": [
       "Other assets change\n",
       "-1354\n",
       "2013 Q4"
      ],
      "text/plain": [
       "<IPython.core.display.Markdown object>"
      ]
     },
     "metadata": {},
     "output_type": "display_data"
    },
    {
     "data": {
      "text/markdown": [
       "Accounts payable change\n",
       "2168\n",
       "2014 Full Year"
      ],
      "text/plain": [
       "<IPython.core.display.Markdown object>"
      ]
     },
     "metadata": {},
     "output_type": "display_data"
    },
    {
     "data": {
      "text/markdown": [
       "Accounts payable change\n",
       "2052\n",
       "2013 Full Year"
      ],
      "text/plain": [
       "<IPython.core.display.Markdown object>"
      ]
     },
     "metadata": {},
     "output_type": "display_data"
    },
    {
     "data": {
      "text/markdown": [
       "Accrued liabilities change\n",
       "35019\n",
       "2014 Full Year"
      ],
      "text/plain": [
       "<IPython.core.display.Markdown object>"
      ]
     },
     "metadata": {},
     "output_type": "display_data"
    },
    {
     "data": {
      "text/markdown": [
       "Accrued liabilities change\n",
       "12020\n",
       "2013 Full Year"
      ],
      "text/plain": [
       "<IPython.core.display.Markdown object>"
      ]
     },
     "metadata": {},
     "output_type": "display_data"
    },
    {
     "data": {
      "text/markdown": [
       "Income tax payable/receivable change\n",
       "8831\n",
       "2014 Full Year"
      ],
      "text/plain": [
       "<IPython.core.display.Markdown object>"
      ]
     },
     "metadata": {},
     "output_type": "display_data"
    },
    {
     "data": {
      "text/markdown": [
       "Income tax payable/receivable change\n",
       "44334\n",
       "2013 Full Year"
      ],
      "text/plain": [
       "<IPython.core.display.Markdown object>"
      ]
     },
     "metadata": {},
     "output_type": "display_data"
    },
    {
     "data": {
      "text/markdown": [
       "Deferred rent change\n",
       "27025\n",
       "2014 Full Year"
      ],
      "text/plain": [
       "<IPython.core.display.Markdown object>"
      ]
     },
     "metadata": {},
     "output_type": "display_data"
    },
    {
     "data": {
      "text/markdown": [
       "Deferred rent change\n",
       "25715\n",
       "2013 Full Year"
      ],
      "text/plain": [
       "<IPython.core.display.Markdown object>"
      ]
     },
     "metadata": {},
     "output_type": "display_data"
    },
    {
     "data": {
      "text/markdown": [
       "Other long-term liabilities change\n",
       "4845\n",
       "2014 Full Year"
      ],
      "text/plain": [
       "<IPython.core.display.Markdown object>"
      ]
     },
     "metadata": {},
     "output_type": "display_data"
    },
    {
     "data": {
      "text/markdown": [
       "Other long-term liabilities change\n",
       "3857\n",
       "2013 Full Year"
      ],
      "text/plain": [
       "<IPython.core.display.Markdown object>"
      ]
     },
     "metadata": {},
     "output_type": "display_data"
    },
    {
     "data": {
      "text/markdown": [
       "Net cash provided by operating activities\n",
       "682,067\n",
       "2014 Full Year"
      ],
      "text/plain": [
       "<IPython.core.display.Markdown object>"
      ]
     },
     "metadata": {},
     "output_type": "display_data"
    },
    {
     "data": {
      "text/markdown": [
       "Net cash provided by operating activities\n",
       "528,780\n",
       "2013 Full Year"
      ],
      "text/plain": [
       "<IPython.core.display.Markdown object>"
      ]
     },
     "metadata": {},
     "output_type": "display_data"
    },
    {
     "data": {
      "text/markdown": [
       "Purchases of leasehold improvements, property and equipment\n",
       "-252,590\n",
       "2014 Full Year"
      ],
      "text/plain": [
       "<IPython.core.display.Markdown object>"
      ]
     },
     "metadata": {},
     "output_type": "display_data"
    },
    {
     "data": {
      "text/markdown": [
       "Purchases of leasehold improvements, property and equipment\n",
       "-199,926\n",
       "2013 Full Year"
      ],
      "text/plain": [
       "<IPython.core.display.Markdown object>"
      ]
     },
     "metadata": {},
     "output_type": "display_data"
    },
    {
     "data": {
      "text/markdown": [
       "Purchases of investments\n",
       "-521004\n",
       "2014 Full Year"
      ],
      "text/plain": [
       "<IPython.core.display.Markdown object>"
      ]
     },
     "metadata": {},
     "output_type": "display_data"
    },
    {
     "data": {
      "text/markdown": [
       "Purchases of investments\n",
       "-387639\n",
       "2013 Full Year"
      ],
      "text/plain": [
       "<IPython.core.display.Markdown object>"
      ]
     },
     "metadata": {},
     "output_type": "display_data"
    },
    {
     "data": {
      "text/markdown": [
       "Maturities of investments\n",
       "254,750\n",
       "2014 Full Year"
      ],
      "text/plain": [
       "<IPython.core.display.Markdown object>"
      ]
     },
     "metadata": {},
     "output_type": "display_data"
    },
    {
     "data": {
      "text/markdown": [
       "Maturities of investments\n",
       "159,250\n",
       "2013 Full Year"
      ],
      "text/plain": [
       "<IPython.core.display.Markdown object>"
      ]
     },
     "metadata": {},
     "output_type": "display_data"
    },
    {
     "data": {
      "text/markdown": [
       "Net cash used in investing activities\n",
       "-518,844\n",
       "2014 Full Year"
      ],
      "text/plain": [
       "<IPython.core.display.Markdown object>"
      ]
     },
     "metadata": {},
     "output_type": "display_data"
    },
    {
     "data": {
      "text/markdown": [
       "Net cash used in investing activities\n",
       "-428,315\n",
       "2013 Full Year"
      ],
      "text/plain": [
       "<IPython.core.display.Markdown object>"
      ]
     },
     "metadata": {},
     "output_type": "display_data"
    },
    {
     "data": {
      "text/markdown": [
       "Acquisition of treasury stock\n",
       "-88338\n",
       "2014 Full Year"
      ],
      "text/plain": [
       "<IPython.core.display.Markdown object>"
      ]
     },
     "metadata": {},
     "output_type": "display_data"
    },
    {
     "data": {
      "text/markdown": [
       "Acquisition of treasury stock\n",
       "-138903\n",
       "2013 Full Year"
      ],
      "text/plain": [
       "<IPython.core.display.Markdown object>"
      ]
     },
     "metadata": {},
     "output_type": "display_data"
    },
    {
     "data": {
      "text/markdown": [
       "Excess tax benefit on stock-based compensation (financing activities)\n",
       "21667\n",
       "2014 Full Year"
      ],
      "text/plain": [
       "<IPython.core.display.Markdown object>"
      ]
     },
     "metadata": {},
     "output_type": "display_data"
    },
    {
     "data": {
      "text/markdown": [
       "Excess tax benefit on stock-based compensation (financing activities)\n",
       "38379\n",
       "2013 Full Year"
      ],
      "text/plain": [
       "<IPython.core.display.Markdown object>"
      ]
     },
     "metadata": {},
     "output_type": "display_data"
    },
    {
     "data": {
      "text/markdown": [
       "Stock plan transactions and other financing activities\n",
       "-66\n",
       "2014 Full Year"
      ],
      "text/plain": [
       "<IPython.core.display.Markdown object>"
      ]
     },
     "metadata": {},
     "output_type": "display_data"
    },
    {
     "data": {
      "text/markdown": [
       "Stock plan transactions and other financing activities\n",
       "173\n",
       "2013 Full Year"
      ],
      "text/plain": [
       "<IPython.core.display.Markdown object>"
      ]
     },
     "metadata": {},
     "output_type": "display_data"
    },
    {
     "data": {
      "text/markdown": [
       "Net cash used in financing activities\n",
       "-66737\n",
       "2014 Full Year"
      ],
      "text/plain": [
       "<IPython.core.display.Markdown object>"
      ]
     },
     "metadata": {},
     "output_type": "display_data"
    },
    {
     "data": {
      "text/markdown": [
       "Net cash used in financing activities\n",
       "-100351\n",
       "2013 Full Year"
      ],
      "text/plain": [
       "<IPython.core.display.Markdown object>"
      ]
     },
     "metadata": {},
     "output_type": "display_data"
    },
    {
     "data": {
      "text/markdown": [
       "Effect of exchange rate changes on cash and cash equivalents\n",
       "-224\n",
       "2014 Full Year"
      ],
      "text/plain": [
       "<IPython.core.display.Markdown object>"
      ]
     },
     "metadata": {},
     "output_type": "display_data"
    },
    {
     "data": {
      "text/markdown": [
       "Effect of exchange rate changes on cash and cash equivalents\n",
       "536\n",
       "2013 Full Year"
      ],
      "text/plain": [
       "<IPython.core.display.Markdown object>"
      ]
     },
     "metadata": {},
     "output_type": "display_data"
    },
    {
     "data": {
      "text/markdown": [
       "Net change in cash and cash equivalents\n",
       "96262\n",
       "2014 Full Year"
      ],
      "text/plain": [
       "<IPython.core.display.Markdown object>"
      ]
     },
     "metadata": {},
     "output_type": "display_data"
    },
    {
     "data": {
      "text/markdown": [
       "Net change in cash and cash equivalents\n",
       "650\n",
       "2013 Full Year"
      ],
      "text/plain": [
       "<IPython.core.display.Markdown object>"
      ]
     },
     "metadata": {},
     "output_type": "display_data"
    },
    {
     "data": {
      "text/markdown": [
       "Cash and cash equivalents at beginning of year\n",
       "323,203\n",
       "2014 Full Year"
      ],
      "text/plain": [
       "<IPython.core.display.Markdown object>"
      ]
     },
     "metadata": {},
     "output_type": "display_data"
    },
    {
     "data": {
      "text/markdown": [
       "Cash and cash equivalents at beginning of year\n",
       "322,553\n",
       "2013 Full Year"
      ],
      "text/plain": [
       "<IPython.core.display.Markdown object>"
      ]
     },
     "metadata": {},
     "output_type": "display_data"
    },
    {
     "data": {
      "text/markdown": [
       "Cash and cash equivalents at end of year\n",
       "419,465\n",
       "2014 Full Year"
      ],
      "text/plain": [
       "<IPython.core.display.Markdown object>"
      ]
     },
     "metadata": {},
     "output_type": "display_data"
    },
    {
     "data": {
      "text/markdown": [
       "Cash and cash equivalents at end of year\n",
       "323,203\n",
       "2013 Full Year"
      ],
      "text/plain": [
       "<IPython.core.display.Markdown object>"
      ]
     },
     "metadata": {},
     "output_type": "display_data"
    },
    {
     "data": {
      "text/markdown": [
       "Income taxes paid\n",
       "280687\n",
       "2014 Full Year"
      ],
      "text/plain": [
       "<IPython.core.display.Markdown object>"
      ]
     },
     "metadata": {},
     "output_type": "display_data"
    },
    {
     "data": {
      "text/markdown": [
       "Income taxes paid\n",
       "160973\n",
       "2013 Full Year"
      ],
      "text/plain": [
       "<IPython.core.display.Markdown object>"
      ]
     },
     "metadata": {},
     "output_type": "display_data"
    },
    {
     "data": {
      "text/markdown": [
       "Increase in purchases of leasehold improvements, property and equipment accrued in accounts payable and accrued liabilities\n",
       "9424\n",
       "2014 Full Year"
      ],
      "text/plain": [
       "<IPython.core.display.Markdown object>"
      ]
     },
     "metadata": {},
     "output_type": "display_data"
    },
    {
     "data": {
      "text/markdown": [
       "Increase in purchases of leasehold improvements, property and equipment accrued in accounts payable and accrued liabilities\n",
       "-1736\n",
       "2013 Full Year"
      ],
      "text/plain": [
       "<IPython.core.display.Markdown object>"
      ]
     },
     "metadata": {},
     "output_type": "display_data"
    },
    {
     "data": {
      "text/markdown": [
       "|  &nbsp;  |  For the three months ended  |     |     |     |     |     |     |     |     |     |     |     |     |     |     |\n",
       "|  ---  |  ---  |  ---  |  ---  |  ---  |  ---  |  ---  |  ---  |  ---  |  ---  |  ---  |  ---  |  ---  |  ---  |  ---  |  ---  |\n",
       "|  &nbsp;  |  Dec. 31,2014  |     |     |  Sep. 30,2014  |     |     |  Jun. 30,2014  |     |     |  Mar.31,2014  |     |     |  Dec.31,2013  |     |     |\n",
       "|  &nbsp;&nbsp;Number of restaurants opened  |     |  60  |     |     |  43  |     |     |  45  |     |     |  44  |     |     |  56  |     |\n",
       "|  &nbsp;&nbsp;Restaurant relocations  |     |  (1  |  )  |     |    |     |     |  (1  |  )  |     |  (2  |  )  |     |    |     |\n",
       "|  &nbsp;&nbsp;Number of restaurants at end of period  |     |  1,783  |     |     |  1,724  |     |     |  1,681  |     |     |  1,637  |     |     |  1,595  |     |\n",
       "|  &nbsp;&nbsp;Average restaurant sales  |  $  |  2,472  |     |  $  |  2,403  |     |  $  |  2,307  |     |  $  |  2,226  |     |  $  |  2,169  |     |\n",
       "|  &nbsp;&nbsp;Comparable restaurant sales increases  |     |  16.1  |  %  |     |  19.8  |  %  |     |  17.3  |  %  |     |  13.4  |  %  |     |  9.3  |  %  |"
      ],
      "text/plain": [
       "<IPython.core.display.Markdown object>"
      ]
     },
     "metadata": {},
     "output_type": "display_data"
    },
    {
     "data": {
      "text/markdown": [
       "Number of restaurants opened\n",
       "60\n",
       "2014 Q4"
      ],
      "text/plain": [
       "<IPython.core.display.Markdown object>"
      ]
     },
     "metadata": {},
     "output_type": "display_data"
    },
    {
     "data": {
      "text/markdown": [
       "Number of restaurants opened\n",
       "43\n",
       "2014 Q3"
      ],
      "text/plain": [
       "<IPython.core.display.Markdown object>"
      ]
     },
     "metadata": {},
     "output_type": "display_data"
    },
    {
     "data": {
      "text/markdown": [
       "Number of restaurants opened\n",
       "45\n",
       "2014 Q2"
      ],
      "text/plain": [
       "<IPython.core.display.Markdown object>"
      ]
     },
     "metadata": {},
     "output_type": "display_data"
    },
    {
     "data": {
      "text/markdown": [
       "Number of restaurants opened\n",
       "44\n",
       "2014 Q1"
      ],
      "text/plain": [
       "<IPython.core.display.Markdown object>"
      ]
     },
     "metadata": {},
     "output_type": "display_data"
    },
    {
     "data": {
      "text/markdown": [
       "Number of restaurants opened\n",
       "56\n",
       "2013 Q4"
      ],
      "text/plain": [
       "<IPython.core.display.Markdown object>"
      ]
     },
     "metadata": {},
     "output_type": "display_data"
    },
    {
     "data": {
      "text/markdown": [
       "Restaurant relocations\n",
       "-1\n",
       "2014 Q4"
      ],
      "text/plain": [
       "<IPython.core.display.Markdown object>"
      ]
     },
     "metadata": {},
     "output_type": "display_data"
    },
    {
     "data": {
      "text/markdown": [
       "Restaurant relocations\n",
       "0\n",
       "2014 Q3"
      ],
      "text/plain": [
       "<IPython.core.display.Markdown object>"
      ]
     },
     "metadata": {},
     "output_type": "display_data"
    },
    {
     "data": {
      "text/markdown": [
       "Restaurant relocations\n",
       "-1\n",
       "2014 Q2"
      ],
      "text/plain": [
       "<IPython.core.display.Markdown object>"
      ]
     },
     "metadata": {},
     "output_type": "display_data"
    },
    {
     "data": {
      "text/markdown": [
       "Restaurant relocations\n",
       "-2\n",
       "2014 Q1"
      ],
      "text/plain": [
       "<IPython.core.display.Markdown object>"
      ]
     },
     "metadata": {},
     "output_type": "display_data"
    },
    {
     "data": {
      "text/markdown": [
       "Restaurant relocations\n",
       "0\n",
       "2013 Q4"
      ],
      "text/plain": [
       "<IPython.core.display.Markdown object>"
      ]
     },
     "metadata": {},
     "output_type": "display_data"
    },
    {
     "data": {
      "text/markdown": [
       "Number of restaurants at end of period\n",
       "1783\n",
       "2014 Q4"
      ],
      "text/plain": [
       "<IPython.core.display.Markdown object>"
      ]
     },
     "metadata": {},
     "output_type": "display_data"
    },
    {
     "data": {
      "text/markdown": [
       "Number of restaurants at end of period\n",
       "1724\n",
       "2014 Q3"
      ],
      "text/plain": [
       "<IPython.core.display.Markdown object>"
      ]
     },
     "metadata": {},
     "output_type": "display_data"
    },
    {
     "data": {
      "text/markdown": [
       "Number of restaurants at end of period\n",
       "1681\n",
       "2014 Q2"
      ],
      "text/plain": [
       "<IPython.core.display.Markdown object>"
      ]
     },
     "metadata": {},
     "output_type": "display_data"
    },
    {
     "data": {
      "text/markdown": [
       "Number of restaurants at end of period\n",
       "1637\n",
       "2014 Q1"
      ],
      "text/plain": [
       "<IPython.core.display.Markdown object>"
      ]
     },
     "metadata": {},
     "output_type": "display_data"
    },
    {
     "data": {
      "text/markdown": [
       "Number of restaurants at end of period\n",
       "1595\n",
       "2013 Q4"
      ],
      "text/plain": [
       "<IPython.core.display.Markdown object>"
      ]
     },
     "metadata": {},
     "output_type": "display_data"
    },
    {
     "data": {
      "text/markdown": [
       "Average restaurant sales\n",
       "2472\n",
       "2014 Q4"
      ],
      "text/plain": [
       "<IPython.core.display.Markdown object>"
      ]
     },
     "metadata": {},
     "output_type": "display_data"
    },
    {
     "data": {
      "text/markdown": [
       "Average restaurant sales\n",
       "2403\n",
       "2014 Q3"
      ],
      "text/plain": [
       "<IPython.core.display.Markdown object>"
      ]
     },
     "metadata": {},
     "output_type": "display_data"
    },
    {
     "data": {
      "text/markdown": [
       "Average restaurant sales\n",
       "2307\n",
       "2014 Q2"
      ],
      "text/plain": [
       "<IPython.core.display.Markdown object>"
      ]
     },
     "metadata": {},
     "output_type": "display_data"
    },
    {
     "data": {
      "text/markdown": [
       "Average restaurant sales\n",
       "2226\n",
       "2014 Q1"
      ],
      "text/plain": [
       "<IPython.core.display.Markdown object>"
      ]
     },
     "metadata": {},
     "output_type": "display_data"
    },
    {
     "data": {
      "text/markdown": [
       "Average restaurant sales\n",
       "2169\n",
       "2013 Q4"
      ],
      "text/plain": [
       "<IPython.core.display.Markdown object>"
      ]
     },
     "metadata": {},
     "output_type": "display_data"
    },
    {
     "data": {
      "text/markdown": [
       "Comparable restaurant sales increases\n",
       "16.1\n",
       "2014 Q4"
      ],
      "text/plain": [
       "<IPython.core.display.Markdown object>"
      ]
     },
     "metadata": {},
     "output_type": "display_data"
    },
    {
     "data": {
      "text/markdown": [
       "Comparable restaurant sales increases\n",
       "19.8\n",
       "2014 Q3"
      ],
      "text/plain": [
       "<IPython.core.display.Markdown object>"
      ]
     },
     "metadata": {},
     "output_type": "display_data"
    },
    {
     "data": {
      "text/markdown": [
       "Comparable restaurant sales increases\n",
       "17.3\n",
       "2014 Q2"
      ],
      "text/plain": [
       "<IPython.core.display.Markdown object>"
      ]
     },
     "metadata": {},
     "output_type": "display_data"
    },
    {
     "data": {
      "text/markdown": [
       "Comparable restaurant sales increases\n",
       "13.4\n",
       "2014 Q1"
      ],
      "text/plain": [
       "<IPython.core.display.Markdown object>"
      ]
     },
     "metadata": {},
     "output_type": "display_data"
    },
    {
     "data": {
      "text/markdown": [
       "Comparable restaurant sales increases\n",
       "9.3\n",
       "2013 Q4"
      ],
      "text/plain": [
       "<IPython.core.display.Markdown object>"
      ]
     },
     "metadata": {},
     "output_type": "display_data"
    }
   ],
   "source": [
    "import json\n",
    "\n",
    "with open(\"result/2014Q4_improved_results_classification.jsonl\", \"r\") as f:\n",
    "    data = f.readlines()\n",
    "\n",
    "prev_data = None\n",
    "for row in data:\n",
    "    row = json.loads(row)\n",
    "    if row['reference'] != prev_data:\n",
    "        prev_data = row['reference']\n",
    "        display_markdown_table(prev_data)\n",
    "        display_markdown_table(row['title'] + \"\\n\" + row['value'] + \"\\n\" + row['period'])\n",
    "    else:\n",
    "        display_markdown_table(row['title'] + \"\\n\" + row['value'] + \"\\n\" + row['period'])"
   ]
  }
 ],
 "metadata": {
  "kernelspec": {
   "display_name": "extract_agent",
   "language": "python",
   "name": "python3"
  },
  "language_info": {
   "codemirror_mode": {
    "name": "ipython",
    "version": 3
   },
   "file_extension": ".py",
   "mimetype": "text/x-python",
   "name": "python",
   "nbconvert_exporter": "python",
   "pygments_lexer": "ipython3",
   "version": "3.11.11"
  }
 },
 "nbformat": 4,
 "nbformat_minor": 2
}

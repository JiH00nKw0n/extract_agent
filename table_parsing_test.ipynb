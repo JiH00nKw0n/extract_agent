{
 "cells": [
  {
   "cell_type": "markdown",
   "metadata": {},
   "source": [
    "## Table Parsing test code"
   ]
  },
  {
   "cell_type": "code",
   "execution_count": 4,
   "metadata": {},
   "outputs": [
    {
     "name": "stdout",
     "output_type": "stream",
     "text": [
      "Table 1:\n",
      "﻿\n",
      "\n",
      "Exhibit 99.1\n",
      "\n",
      "﻿EARNINGS RELEASEPR Contact: Laurie Schalow(949) 524-4035MediaRelations@chipotle.comIR Contact:Cindy Olsen, CFA(949) 524-4205Cindy.Olsen@chipotle.com\n"
     ]
    },
    {
     "data": {
      "text/markdown": [
       "| &nbsp;&nbsp;﻿ |   |\n",
       "| --- | --- |\n",
       "| &nbsp;&nbsp;&nbsp; | EARNINGS RELEASE |\n",
       "| &nbsp;&nbsp;PR Contact: Laurie Schalow |\n",
       "| &nbsp;&nbsp;(949) 524-4035 |\n",
       "| &nbsp;&nbsp;MediaRelations@chipotle.com\n",
       "\n",
       "\t\t\t\t\t\t \n",
       "\n",
       "IR Contact: Cindy Olsen, CFA\n",
       "\n",
       "(949) 524-4205\n",
       "\n",
       "Cindy.Olsen@chipotle.com |"
      ],
      "text/plain": [
       "<IPython.core.display.Markdown object>"
      ]
     },
     "metadata": {},
     "output_type": "display_data"
    },
    {
     "name": "stdout",
     "output_type": "stream",
     "text": [
      "\n",
      "\n",
      "Table 2:\n",
      "IR Contact:Cindy Olsen, CFA\n",
      "\n",
      "(949) 524-4205\n",
      "\n",
      "Cindy.Olsen@chipotle.com\n",
      "\n",
      "﻿\n",
      "\n",
      "Chipotle ANNOUNCES FOURTH QUARTERAND FULL YEAR2023RESULTS\n",
      "\n",
      "FY23EPS Increasesover 38% and comparable sales increase7.9% as margins expand\n",
      "\n",
      "﻿\n",
      "\n",
      "NEWPORT BEACH, Calif. – February6, 2024– Chipotle Mexican Grill, Inc. (NYSE: CMG) today reported financial results for its fourth quarter and fiscal year ended December 31, 2023.\n",
      "\n",
      "Fourth quarter highlights, year over year:\n",
      "\n",
      "·Total revenue increased15.4%to$2.5billion\n"
     ]
    },
    {
     "data": {
      "text/markdown": [
       "|  ·  |  Total revenue increased 15.4% to $2.5 billion  |\n",
       "|  ---  |  ---  |"
      ],
      "text/plain": [
       "<IPython.core.display.Markdown object>"
      ]
     },
     "metadata": {},
     "output_type": "display_data"
    },
    {
     "name": "stdout",
     "output_type": "stream",
     "text": [
      "\n",
      "\n",
      "Table 3:\n",
      "Total revenue increased15.4%to$2.5billion\n",
      "\n",
      "·Comparable restaurant sales increased8.4%\n"
     ]
    },
    {
     "data": {
      "text/markdown": [
       "|  ·  |  Comparable restaurant sales increased 8.4%  |\n",
       "|  ---  |  ---  |"
      ],
      "text/plain": [
       "<IPython.core.display.Markdown object>"
      ]
     },
     "metadata": {},
     "output_type": "display_data"
    },
    {
     "name": "stdout",
     "output_type": "stream",
     "text": [
      "\n",
      "\n",
      "Table 4:\n",
      "Comparable restaurant sales increased8.4%\n",
      "\n",
      "·Operatingmargin was14.4%, an increase from13.6%\n"
     ]
    },
    {
     "data": {
      "text/markdown": [
       "|  ·  |  Operating margin was 14.4%, an increase from 13.6%  |\n",
       "|  ---  |  ---  |"
      ],
      "text/plain": [
       "<IPython.core.display.Markdown object>"
      ]
     },
     "metadata": {},
     "output_type": "display_data"
    },
    {
     "name": "stdout",
     "output_type": "stream",
     "text": [
      "\n",
      "\n",
      "Table 5:\n",
      "Operatingmargin was14.4%, an increase from13.6%\n",
      "\n",
      "·Restaurant level operating margin was25.4%1,an increase of140basis points\n"
     ]
    },
    {
     "data": {
      "text/markdown": [
       "|  ·  |  Restaurant level operating margin was 25.4%1, an increase of 140  basis points  |\n",
       "|  ---  |  ---  |"
      ],
      "text/plain": [
       "<IPython.core.display.Markdown object>"
      ]
     },
     "metadata": {},
     "output_type": "display_data"
    },
    {
     "name": "stdout",
     "output_type": "stream",
     "text": [
      "\n",
      "\n",
      "Table 6:\n",
      "Restaurant level operating margin was25.4%1,an increase of140basis points\n",
      "\n",
      "·Diluted earnings per share was$10.21,a 27.3% increase from$8.02.Adjusted diluted earnings per share, which excludeda$0.15after-tax impact from expenses related toaccelerateddepreciation, partially offset bya reductionincontingencies related tocertainlegal proceedings,was$10.361,a25.0% increase from$8.29.1\n"
     ]
    },
    {
     "data": {
      "text/markdown": [
       "|  ·  |  Diluted earnings per share was $10.21,  a 27.3% increase from  $8.02.  Adjusted diluted earnings per share, which excluded  a $0.15 after-tax impact from expenses related to accelerated depreciation, partially offset by a reduction in contingencies related to certain legal proceedings, was $10.361,  a  25.0% increase from $8.29.1  |\n",
       "|  ---  |  ---  |"
      ],
      "text/plain": [
       "<IPython.core.display.Markdown object>"
      ]
     },
     "metadata": {},
     "output_type": "display_data"
    },
    {
     "name": "stdout",
     "output_type": "stream",
     "text": [
      "\n",
      "\n",
      "Table 7:\n",
      "Diluted earnings per share was$10.21,a 27.3% increase from$8.02.Adjusted diluted earnings per share, which excludeda$0.15after-tax impact from expenses related toaccelerateddepreciation, partially offset bya reductionincontingencies related tocertainlegal proceedings,was$10.361,a25.0% increase from$8.29.1\n",
      "\n",
      "·Opened121newrestaurants with110locations including a Chipotlane\n"
     ]
    },
    {
     "data": {
      "text/markdown": [
       "|  ·  |  Opened 121 new restaurants with 110 locations including a Chipotlane  |\n",
       "|  ---  |  ---  |"
      ],
      "text/plain": [
       "<IPython.core.display.Markdown object>"
      ]
     },
     "metadata": {},
     "output_type": "display_data"
    },
    {
     "name": "stdout",
     "output_type": "stream",
     "text": [
      "\n",
      "\n",
      "Table 8:\n",
      "Opened121newrestaurants with110locations including a Chipotlane\n",
      "\n",
      "Full year 2023highlights, year over year:\n",
      "\n",
      "·Total revenue increased14.3%to$9.9billion\n"
     ]
    },
    {
     "data": {
      "text/markdown": [
       "|  ·  |  Total revenue increased 14.3% to $9.9 billion  |\n",
       "|  ---  |  ---  |"
      ],
      "text/plain": [
       "<IPython.core.display.Markdown object>"
      ]
     },
     "metadata": {},
     "output_type": "display_data"
    },
    {
     "name": "stdout",
     "output_type": "stream",
     "text": [
      "\n",
      "\n",
      "Table 9:\n",
      "Total revenue increased14.3%to$9.9billion\n",
      "\n",
      "·Comparable restaurant sales increased7.9%\n"
     ]
    },
    {
     "data": {
      "text/markdown": [
       "|  ·  |  Comparable restaurant sales increased 7.9%  |\n",
       "|  ---  |  ---  |"
      ],
      "text/plain": [
       "<IPython.core.display.Markdown object>"
      ]
     },
     "metadata": {},
     "output_type": "display_data"
    },
    {
     "name": "stdout",
     "output_type": "stream",
     "text": [
      "\n",
      "\n",
      "Table 10:\n",
      "Comparable restaurant sales increased7.9%\n",
      "\n",
      "·Operatingmargin was15.8%, an increase from13.4%\n"
     ]
    },
    {
     "data": {
      "text/markdown": [
       "|  ·  |  Operating margin was 15.8%, an increase from 13.4%  |\n",
       "|  ---  |  ---  |"
      ],
      "text/plain": [
       "<IPython.core.display.Markdown object>"
      ]
     },
     "metadata": {},
     "output_type": "display_data"
    },
    {
     "name": "stdout",
     "output_type": "stream",
     "text": [
      "\n",
      "\n",
      "Table 11:\n",
      "Operatingmargin was15.8%, an increase from13.4%\n",
      "\n",
      "·Restaurant level operating margin was26.2%1,an increaseof230basis points\n"
     ]
    },
    {
     "data": {
      "text/markdown": [
       "|  ·  |  Restaurant level operating margin was 26.2%1,  an increase of 230  basis points  |\n",
       "|  ---  |  ---  |"
      ],
      "text/plain": [
       "<IPython.core.display.Markdown object>"
      ]
     },
     "metadata": {},
     "output_type": "display_data"
    },
    {
     "name": "stdout",
     "output_type": "stream",
     "text": [
      "\n",
      "\n",
      "Table 12:\n",
      "Restaurant level operating margin was26.2%1,an increaseof230basis points\n",
      "\n",
      "·Diluted earnings per share was$44.34,a38.4%increase from $32.04.Adjusted diluted earnings per share, which excludeda $0.52after-tax impact from expenses related torestaurant and corporate level impairment and closure costs,accelerateddepreciationandcorporate restructuring,partially offset bya reduction incontingencies related tocertain legal proceedings,was$44.861,a36.9%increase from$32.78.1\n"
     ]
    },
    {
     "data": {
      "text/markdown": [
       "|  ·  |  Diluted earnings per share was $44.34, a 38.4%  increase from $32.04.  Adjusted diluted earnings per share, which excluded a $0.52 after-tax impact from expenses related to restaurant and corporate level impairment and closure costs,  accelerated depreciation and corporate restructuring, partially offset by a reduction in contingencies related to certain legal proceedings, was $44.861,  a  36.9%  increase from $32.78.1  |\n",
       "|  ---  |  ---  |"
      ],
      "text/plain": [
       "<IPython.core.display.Markdown object>"
      ]
     },
     "metadata": {},
     "output_type": "display_data"
    },
    {
     "name": "stdout",
     "output_type": "stream",
     "text": [
      "\n",
      "\n",
      "Table 13:\n",
      "Diluted earnings per share was$44.34,a38.4%increase from $32.04.Adjusted diluted earnings per share, which excludeda $0.52after-tax impact from expenses related torestaurant and corporate level impairment and closure costs,accelerateddepreciationandcorporate restructuring,partially offset bya reduction incontingencies related tocertain legal proceedings,was$44.861,a36.9%increase from$32.78.1\n",
      "\n",
      "·Opened271new restaurantswith 238locations including a Chipotlane\n"
     ]
    },
    {
     "data": {
      "text/markdown": [
       "|  ·  |  Opened 271 new restaurants with 238 locations including a Chipotlane  |\n",
       "|  ---  |  ---  |"
      ],
      "text/plain": [
       "<IPython.core.display.Markdown object>"
      ]
     },
     "metadata": {},
     "output_type": "display_data"
    },
    {
     "name": "stdout",
     "output_type": "stream",
     "text": [
      "\n",
      "\n",
      "Table 14:\n",
      "General and administrative expensesfor2023were $633.6million on a GAAP basis, or $629.6million1on a non-GAAP basis,excluding$4.8million of corporate restructuring costsand a $0.8millionreduction incontingenciesrelated to certain legal proceedings.GAAP and non-GAAPGeneraland administrative expenses forfull year2023also include $478.9million of underlying general and administrative expenses, $118.5million of non-cash stock compensation,$25.3million of higherbonusaccruals and payroll taxes on equity vesting and exercises and $6.9million of other costs, primarily related to our upcoming All Managers Conference scheduled for the first quarter of 2024.\n",
      "\n",
      "The effective income tax ratefor 2023was24.2% compared to23.9% in 2022.The increase in the tax rate was primarily due to fewer tax benefits related to option exercises and equity vesting.\n",
      "\n",
      "Net income for 2023was$1.23billion, or$44.34per diluted share, compared to net income of$899.1million, or$32.04per diluted share for 2022.Excludinga $0.52after-tax impact from expensesrelated to restaurant and corporate level impairment and closure costs,accelerateddepreciation, corporate restructuring,partially offset byareductionin contingenciesrelatedtocertain legal proceedings, adjusted net incomefor 2023was $1.24billion1and adjusted diluted earnings per share was $44.861.\n",
      "\n",
      "During2023 werepurchaseda total of$589.8million of stock at an average price per share of $1,827.46.\n",
      "\n",
      "More information will be available in our Annual Report on Form 10-K, whichwill be filed withthe SECin early February 2024.\n",
      "\n",
      "Outlook\n",
      "\n",
      "For 2024, management is anticipating the following:\n",
      "\n",
      "·Full year comparable restaurant sales growth in the mid-single digit range\n"
     ]
    },
    {
     "data": {
      "text/markdown": [
       "|  ·  |  Full year comparable restaurant sales growth in the mid-single digit range  |\n",
       "|  ---  |  ---  |"
      ],
      "text/plain": [
       "<IPython.core.display.Markdown object>"
      ]
     },
     "metadata": {},
     "output_type": "display_data"
    },
    {
     "name": "stdout",
     "output_type": "stream",
     "text": [
      "\n",
      "\n",
      "Table 15:\n",
      "Full year comparable restaurant sales growth in the mid-single digit range\n",
      "\n",
      "·285to315new restaurant openings,which assumes developer, permit, inspection,and utility delays do not worsen\n"
     ]
    },
    {
     "data": {
      "text/markdown": [
       "|  ·  |  285 to 315 new restaurant openings,  which assumes developer, permit, inspection, and utility delays do not worsen  |\n",
       "|  ---  |  ---  |"
      ],
      "text/plain": [
       "<IPython.core.display.Markdown object>"
      ]
     },
     "metadata": {},
     "output_type": "display_data"
    },
    {
     "name": "stdout",
     "output_type": "stream",
     "text": [
      "\n",
      "\n",
      "Table 16:\n",
      "285to315new restaurant openings,which assumes developer, permit, inspection,and utility delays do not worsen\n",
      "\n",
      "·An estimated underlying effective full year tax rate between 25% and 27% before discrete items\n"
     ]
    },
    {
     "data": {
      "text/markdown": [
       "|  ·  |  An estimated underlying effective full year tax rate between 25% and 27% before discrete items  |\n",
       "|  ---  |  ---  |"
      ],
      "text/plain": [
       "<IPython.core.display.Markdown object>"
      ]
     },
     "metadata": {},
     "output_type": "display_data"
    },
    {
     "name": "stdout",
     "output_type": "stream",
     "text": [
      "\n",
      "\n",
      "Table 17:\n",
      "An estimated underlying effective full year tax rate between 25% and 27% before discrete items\n",
      "\n",
      "Definitions\n",
      "\n",
      "Thefollowing definitions apply to these terms as used throughout this release:\n",
      "\n",
      "·Comparable restaurant sales, or sales comps, and comparable restaurant transactions,represent the change in period-over-period total revenue or transactions for restaurants in operation for at least 13 full calendar months.\n"
     ]
    },
    {
     "data": {
      "text/markdown": [
       "|  ·  |  Comparable restaurant sales, or sales comps, and comparable restaurant transactions, represent the change in period-over-period total revenue or transactions for restaurants in operation for at least 13 full calendar months.  |\n",
       "|  ---  |  ---  |"
      ],
      "text/plain": [
       "<IPython.core.display.Markdown object>"
      ]
     },
     "metadata": {},
     "output_type": "display_data"
    },
    {
     "name": "stdout",
     "output_type": "stream",
     "text": [
      "\n",
      "\n",
      "Table 18:\n",
      "Comparable restaurant sales, or sales comps, and comparable restaurant transactions,represent the change in period-over-period total revenue or transactions for restaurants in operation for at least 13 full calendar months.\n",
      "\n",
      "·Average restaurant salesrefer to the average trailing 12-month food and beverage revenue for restaurants in operation for at least 12 full calendar months.\n"
     ]
    },
    {
     "data": {
      "text/markdown": [
       "|  ·  |  Average restaurant sales refer to the average trailing 12-month food and beverage revenue for restaurants in operation for at least 12 full calendar months.  |\n",
       "|  ---  |  ---  |"
      ],
      "text/plain": [
       "<IPython.core.display.Markdown object>"
      ]
     },
     "metadata": {},
     "output_type": "display_data"
    },
    {
     "name": "stdout",
     "output_type": "stream",
     "text": [
      "\n",
      "\n",
      "Table 19:\n",
      "Average restaurant salesrefer to the average trailing 12-month food and beverage revenue for restaurants in operation for at least 12 full calendar months.\n",
      "\n",
      "·Restaurant level operating marginrepresents total revenue less direct restaurant operating costs, expressed as a percent of total revenue.\n"
     ]
    },
    {
     "data": {
      "text/markdown": [
       "|  ·  |  Restaurant level operating margin represents total revenue less direct restaurant operating costs, expressed as a percent of total revenue.  |\n",
       "|  ---  |  ---  |"
      ],
      "text/plain": [
       "<IPython.core.display.Markdown object>"
      ]
     },
     "metadata": {},
     "output_type": "display_data"
    },
    {
     "name": "stdout",
     "output_type": "stream",
     "text": [
      "\n",
      "\n",
      "Table 20:\n",
      "Restaurant level operating marginrepresents total revenue less direct restaurant operating costs, expressed as a percent of total revenue.\n",
      "\n",
      "·Digital salesrepresent food and beverage revenue generated through the Chipotle website, Chipotle app or third-party delivery aggregators. Digital salesinclude revenue deferrals associated with Chipotle Rewards.\n"
     ]
    },
    {
     "data": {
      "text/markdown": [
       "|  ·  |  Digital sales represent food and beverage revenue generated through the Chipotle website, Chipotle app or third-party delivery aggregators. Digital sales include revenue deferrals associated with Chipotle Rewards.  |\n",
       "|  ---  |  ---  |"
      ],
      "text/plain": [
       "<IPython.core.display.Markdown object>"
      ]
     },
     "metadata": {},
     "output_type": "display_data"
    },
    {
     "name": "stdout",
     "output_type": "stream",
     "text": [
      "\n",
      "\n",
      "Table 21:\n",
      "﻿\n",
      "\n",
      "﻿\n",
      "\n",
      "﻿\n",
      "\n",
      "﻿\n",
      "\n",
      "CHIPOTLE MEXICAN GRILL, INC.\n",
      "\n",
      "CONSOLIDATED STATEMENTS OF INCOME\n",
      "\n",
      "(in thousands, except per share data)\n",
      "\n",
      "(unaudited)\n",
      "\n",
      "﻿\n",
      "\n",
      "﻿\n",
      "\n",
      "﻿﻿Three months ended December 31,﻿20232022Food and beverage revenue$2,499,56799.3%$2,163,90799.2%Delivery service revenue16,7530.716,6920.8Total revenue2,516,320100.02,180,599100.0Restaurant operating costs (exclusive of depreciation and amortization shown separately below):Food, beverage and packaging747,15529.7638,85129.3Labor629,22825.0558,91425.6Occupancy131,1675.2118,6485.4Other operating costs370,46614.7341,64415.7General and administrative expenses169,2476.7135,0736.2Depreciation and amortization85,4923.474,0123.4Pre-opening costs13,5900.511,3410.5Impairment, closure costs, and asset disposals6,5280.35,7850.3Total operating expenses2,152,87385.61,884,26886.4Income from operations363,44714.4296,33113.6Interest and other income, net18,9060.87,0570.3Income before income taxes382,35315.2303,38813.9Provision for income taxes(100,267)(4.0)(79,661)(3.7)Net income$282,08611.2%$223,72710.3%Earnings per share:Basic$10.28$8.08Diluted$10.21$8.02Weighted-average common shares outstanding:Basic27,44027,684Diluted27,62127,899\n"
     ]
    },
    {
     "data": {
      "text/markdown": [
       "|  &nbsp;&nbsp;﻿  |     |     |     |     |     |     |     |     |\n",
       "|  ---  |  ---  |  ---  |  ---  |  ---  |  ---  |  ---  |  ---  |  ---  |\n",
       "|  &nbsp;&nbsp;﻿  |  Three months ended December 31,  |     |     |     |     |     |     |     |\n",
       "|  &nbsp;&nbsp;﻿  |  2023  |     |     |     |  2022  |     |     |     |\n",
       "|  &nbsp;&nbsp;Food and beverage revenue  |  $  |  2,499,567  |  99.3  |  %  |  $  |  2,163,907  |  99.2  |  %  |\n",
       "|  &nbsp;&nbsp;Delivery service revenue  |     |  16,753  |  0.7  |     |     |  16,692  |  0.8  |     |\n",
       "|  &nbsp;&nbsp;Total revenue  |     |  2,516,320  |  100.0  |     |     |  2,180,599  |  100.0  |     |\n",
       "|  &nbsp;&nbsp;Restaurant operating costs (exclusive of depreciation and amortization shown separately below):  |     |     |     |     |     |     |     |     |\n",
       "|  &nbsp;&nbsp;Food, beverage and packaging  |     |  747,155  |  29.7  |     |     |  638,851  |  29.3  |     |\n",
       "|  &nbsp;&nbsp;Labor  |     |  629,228  |  25.0  |     |     |  558,914  |  25.6  |     |\n",
       "|  &nbsp;&nbsp;Occupancy  |     |  131,167  |  5.2  |     |     |  118,648  |  5.4  |     |\n",
       "|  &nbsp;&nbsp;Other operating costs  |     |  370,466  |  14.7  |     |     |  341,644  |  15.7  |     |\n",
       "|  &nbsp;&nbsp;General and administrative expenses  |     |  169,247  |  6.7  |     |     |  135,073  |  6.2  |     |\n",
       "|  &nbsp;&nbsp;Depreciation and amortization  |     |  85,492  |  3.4  |     |     |  74,012  |  3.4  |     |\n",
       "|  &nbsp;&nbsp;Pre-opening costs  |     |  13,590  |  0.5  |     |     |  11,341  |  0.5  |     |\n",
       "|  &nbsp;&nbsp;Impairment, closure costs, and asset disposals  |     |  6,528  |  0.3  |     |     |  5,785  |  0.3  |     |\n",
       "|  &nbsp;&nbsp;Total operating expenses  |     |  2,152,873  |  85.6  |     |     |  1,884,268  |  86.4  |     |\n",
       "|  &nbsp;&nbsp;Income from operations  |     |  363,447  |  14.4  |     |     |  296,331  |  13.6  |     |\n",
       "|  &nbsp;&nbsp;Interest and other income, net  |     |  18,906  |  0.8  |     |     |  7,057  |  0.3  |     |\n",
       "|  &nbsp;&nbsp;Income before income taxes  |     |  382,353  |  15.2  |     |     |  303,388  |  13.9  |     |\n",
       "|  &nbsp;&nbsp;Provision for income taxes  |     |  (100,267)  |  (4.0)  |     |     |  (79,661)  |  (3.7)  |     |\n",
       "|  &nbsp;&nbsp;Net income  |  $  |  282,086  |  11.2  |  %  |  $  |  223,727  |  10.3  |  %  |\n",
       "|  &nbsp;&nbsp;Earnings per share:  |     |     |     |     |     |     |     |     |\n",
       "|  &nbsp;&nbsp;Basic  |  $  |  10.28  |     |     |  $  |  8.08  |     |     |\n",
       "|  &nbsp;&nbsp;Diluted  |  $  |  10.21  |     |     |  $  |  8.02  |     |     |\n",
       "|  &nbsp;&nbsp;Weighted-average common shares outstanding:  |     |     |     |     |     |     |     |     |\n",
       "|  &nbsp;&nbsp;Basic  |     |  27,440  |     |     |     |  27,684  |     |     |\n",
       "|  &nbsp;&nbsp;Diluted  |     |  27,621  |     |     |     |  27,899  |     |     |"
      ],
      "text/plain": [
       "<IPython.core.display.Markdown object>"
      ]
     },
     "metadata": {},
     "output_type": "display_data"
    },
    {
     "name": "stdout",
     "output_type": "stream",
     "text": [
      "\n",
      "\n",
      "Table 22:\n",
      "CHIPOTLE MEXICAN GRILL, INC.\n",
      "\n",
      "CONSOLIDATED STATEMENTS OF INCOME\n",
      "\n",
      "(in thousands, except per share data)\n",
      "\n",
      "﻿\n",
      "\n",
      "﻿\n",
      "\n",
      "﻿﻿﻿Year ended December 31,﻿20232022﻿(unaudited)Food and beverage revenue$9,804,12499.3%$8,558,00199.1%Delivery service revenue67,5250.776,6510.9Total revenue9,871,649100.08,634,652100.0Restaurant operating costs (exclusive of depreciation and amortization shown separately below):Food, beverage and packaging2,912,56429.52,602,24530.1Labor2,440,98224.72,197,95825.5Occupancy503,2645.1460,4255.3Other operating costs1,428,74714.51,311,90515.2General and administrative expenses633,5846.4564,1916.5Depreciation and amortization319,3943.2286,8263.3Pre-opening costs36,9310.429,5600.3Impairment, closure costs, and asset disposals38,3700.421,1390.2Total operating expenses8,313,83684.27,474,24986.6Income from operations1,557,81315.81,160,40313.4Interest and other income, net62,6930.621,1280.2Income before income taxes1,620,50616.41,181,53113.7Provision for income taxes(391,769)(4.0)(282,430)(3.3)Net income$1,228,73712.4%$899,10110.4%Earnings per share:Basic$44.59$32.28Diluted$44.34$32.04Weighted-average common shares outstanding:Basic27,55527,851Diluted27,71028,062\n"
     ]
    },
    {
     "data": {
      "text/markdown": [
       "|  &nbsp;&nbsp;﻿  |     |     |     |     |     |     |     |     |\n",
       "|  ---  |  ---  |  ---  |  ---  |  ---  |  ---  |  ---  |  ---  |  ---  |\n",
       "|  &nbsp;&nbsp;﻿  |     |     |     |     |     |     |     |     |\n",
       "|  &nbsp;&nbsp;﻿  |  Year ended December 31,  |     |     |     |     |     |     |     |\n",
       "|  &nbsp;&nbsp;﻿  |  2023  |     |     |     |  2022  |     |     |     |\n",
       "|  &nbsp;&nbsp;﻿  |  (unaudited)  |     |     |     |     |     |     |     |\n",
       "|  &nbsp;&nbsp;Food and beverage revenue  |  $  |  9,804,124  |  99.3  |  %  |  $  |  8,558,001  |  99.1  |  %  |\n",
       "|  &nbsp;&nbsp;Delivery service revenue  |     |  67,525  |  0.7  |     |     |  76,651  |  0.9  |     |\n",
       "|  &nbsp;&nbsp;Total revenue  |     |  9,871,649  |  100.0  |     |     |  8,634,652  |  100.0  |     |\n",
       "|  &nbsp;&nbsp;Restaurant operating costs (exclusive of depreciation and amortization shown separately below):  |     |     |     |     |     |     |     |     |\n",
       "|  &nbsp;&nbsp;Food, beverage and packaging  |     |  2,912,564  |  29.5  |     |     |  2,602,245  |  30.1  |     |\n",
       "|  &nbsp;&nbsp;Labor  |     |  2,440,982  |  24.7  |     |     |  2,197,958  |  25.5  |     |\n",
       "|  &nbsp;&nbsp;Occupancy  |     |  503,264  |  5.1  |     |     |  460,425  |  5.3  |     |\n",
       "|  &nbsp;&nbsp;Other operating costs  |     |  1,428,747  |  14.5  |     |     |  1,311,905  |  15.2  |     |\n",
       "|  &nbsp;&nbsp;General and administrative expenses  |     |  633,584  |  6.4  |     |     |  564,191  |  6.5  |     |\n",
       "|  &nbsp;&nbsp;Depreciation and amortization  |     |  319,394  |  3.2  |     |     |  286,826  |  3.3  |     |\n",
       "|  &nbsp;&nbsp;Pre-opening costs  |     |  36,931  |  0.4  |     |     |  29,560  |  0.3  |     |\n",
       "|  &nbsp;&nbsp;Impairment, closure costs, and asset disposals  |     |  38,370  |  0.4  |     |     |  21,139  |  0.2  |     |\n",
       "|  &nbsp;&nbsp;Total operating expenses  |     |  8,313,836  |  84.2  |     |     |  7,474,249  |  86.6  |     |\n",
       "|  &nbsp;&nbsp;Income from operations  |     |  1,557,813  |  15.8  |     |     |  1,160,403  |  13.4  |     |\n",
       "|  &nbsp;&nbsp;Interest and other income, net  |     |  62,693  |  0.6  |     |     |  21,128  |  0.2  |     |\n",
       "|  &nbsp;&nbsp;Income before income taxes  |     |  1,620,506  |  16.4  |     |     |  1,181,531  |  13.7  |     |\n",
       "|  &nbsp;&nbsp;Provision for income taxes  |     |  (391,769)  |  (4.0)  |     |     |  (282,430)  |  (3.3)  |     |\n",
       "|  &nbsp;&nbsp;Net income  |  $  |  1,228,737  |  12.4  |  %  |  $  |  899,101  |  10.4  |  %  |\n",
       "|  &nbsp;&nbsp;Earnings per share:  |     |     |     |     |     |     |     |     |\n",
       "|  &nbsp;&nbsp;Basic  |  $  |  44.59  |     |     |  $  |  32.28  |     |     |\n",
       "|  &nbsp;&nbsp;Diluted  |  $  |  44.34  |     |     |  $  |  32.04  |     |     |\n",
       "|  &nbsp;&nbsp;Weighted-average common shares outstanding:  |     |     |     |     |     |     |     |     |\n",
       "|  &nbsp;&nbsp;Basic  |     |  27,555  |     |     |     |  27,851  |     |     |\n",
       "|  &nbsp;&nbsp;Diluted  |     |  27,710  |     |     |     |  28,062  |     |     |"
      ],
      "text/plain": [
       "<IPython.core.display.Markdown object>"
      ]
     },
     "metadata": {},
     "output_type": "display_data"
    },
    {
     "name": "stdout",
     "output_type": "stream",
     "text": [
      "\n",
      "\n",
      "Table 23:\n",
      "CHIPOTLE MEXICAN GRILL, INC.\n",
      "\n",
      "CONSOLIDATED BALANCE SHEETS\n",
      "\n",
      "(in thousands, except per share data)\n",
      "\n",
      "﻿\n",
      "\n",
      "﻿\n",
      "\n",
      "﻿\n",
      "\n",
      "﻿﻿﻿December 31,﻿20232022﻿(unaudited)AssetsCurrent assets:Cash and cash equivalents$560,609$384,000Accounts receivable, net115,535106,880Inventory39,30935,668Prepaid expenses and other current assets117,46286,412Income tax receivable52,96047,741Investments734,838515,136Total current assets1,620,7131,175,837Leasehold improvements, property and equipment, net2,170,0381,951,147Long-term investments564,488388,055Restricted cash25,55424,966Operating lease assets3,578,5483,302,402Other assets63,08263,158Goodwill21,93921,939Total assets$8,044,362$6,927,504Liabilities and shareholders' equityCurrent liabilities:Accounts payable$197,646$184,566Accrued payroll and benefits227,537170,456Accrued liabilities147,688147,539Unearned revenue209,680183,071Current operating lease liabilities248,074236,248Total current liabilities1,030,625921,880Long-term operating lease liabilities3,803,5513,495,162Deferred income tax liabilities89,10998,623Other liabilities58,87043,816Total liabilities4,982,1554,559,481Shareholders' equity:Preferred stock, $0.01 par value, 600,000 shares authorized, no shares issued as of December 31, 2023 and December 31, 2022, respectively--Common stock, $0.01 par value, 230,000 shares authorized, 37,483 and 37,320 shares issued as of December 31, 2023 and December 31, 2022, respectively375373Additional paid-in capital1,956,1601,829,304Treasury stock, at cost, 10,057 and 9,693 common shares as of December 31, 2023 and December 31, 2022, respectively(4,944,656)(4,282,014)Accumulated other comprehensive loss(6,657)(7,888)Retained earnings6,056,9854,828,248Total shareholders' equity3,062,2072,368,023Total liabilities and shareholders' equity$8,044,362$6,927,504\n"
     ]
    },
    {
     "data": {
      "text/markdown": [
       "|  &nbsp;&nbsp;﻿  |     |     |     |     |\n",
       "|  ---  |  ---  |  ---  |  ---  |  ---  |\n",
       "|  &nbsp;&nbsp;﻿  |     |     |     |     |\n",
       "|  &nbsp;&nbsp;﻿  |  December 31,  |     |     |     |\n",
       "|  &nbsp;&nbsp;﻿  |  2023  |     |  2022  |     |\n",
       "|  &nbsp;&nbsp;﻿  |  (unaudited)  |     |     |     |\n",
       "|  &nbsp;&nbsp;Assets  |     |     |     |     |\n",
       "|  &nbsp;&nbsp;Current assets:  |     |     |     |     |\n",
       "|  &nbsp;&nbsp;Cash and cash equivalents  |  $  |  560,609  |  $  |  384,000  |\n",
       "|  &nbsp;&nbsp;Accounts receivable, net  |     |  115,535  |     |  106,880  |\n",
       "|  &nbsp;&nbsp;Inventory  |     |  39,309  |     |  35,668  |\n",
       "|  &nbsp;&nbsp;Prepaid expenses and other current assets  |     |  117,462  |     |  86,412  |\n",
       "|  &nbsp;&nbsp;Income tax receivable  |     |  52,960  |     |  47,741  |\n",
       "|  &nbsp;&nbsp;Investments  |     |  734,838  |     |  515,136  |\n",
       "|  &nbsp;&nbsp;Total current assets  |     |  1,620,713  |     |  1,175,837  |\n",
       "|  &nbsp;&nbsp;Leasehold improvements, property and equipment, net  |     |  2,170,038  |     |  1,951,147  |\n",
       "|  &nbsp;&nbsp;Long-term investments  |     |  564,488  |     |  388,055  |\n",
       "|  &nbsp;&nbsp;Restricted cash  |     |  25,554  |     |  24,966  |\n",
       "|  &nbsp;&nbsp;Operating lease assets  |     |  3,578,548  |     |  3,302,402  |\n",
       "|  &nbsp;&nbsp;Other assets  |     |  63,082  |     |  63,158  |\n",
       "|  &nbsp;&nbsp;Goodwill  |     |  21,939  |     |  21,939  |\n",
       "|  &nbsp;&nbsp;Total assets  |  $  |  8,044,362  |  $  |  6,927,504  |\n",
       "|  &nbsp;&nbsp;Liabilities and shareholders' equity  |     |     |     |     |\n",
       "|  &nbsp;&nbsp;Current liabilities:  |     |     |     |     |\n",
       "|  &nbsp;&nbsp;Accounts payable  |  $  |  197,646  |  $  |  184,566  |\n",
       "|  &nbsp;&nbsp;Accrued payroll and benefits  |     |  227,537  |     |  170,456  |\n",
       "|  &nbsp;&nbsp;Accrued liabilities  |     |  147,688  |     |  147,539  |\n",
       "|  &nbsp;&nbsp;Unearned revenue  |     |  209,680  |     |  183,071  |\n",
       "|  &nbsp;&nbsp;Current operating lease liabilities  |     |  248,074  |     |  236,248  |\n",
       "|  &nbsp;&nbsp;Total current liabilities  |     |  1,030,625  |     |  921,880  |\n",
       "|  &nbsp;&nbsp;Long-term operating lease liabilities  |     |  3,803,551  |     |  3,495,162  |\n",
       "|  &nbsp;&nbsp;Deferred income tax liabilities  |     |  89,109  |     |  98,623  |\n",
       "|  &nbsp;&nbsp;Other liabilities  |     |  58,870  |     |  43,816  |\n",
       "|  &nbsp;&nbsp;Total liabilities  |     |  4,982,155  |     |  4,559,481  |\n",
       "|  &nbsp;&nbsp;Shareholders' equity:  |     |     |     |     |\n",
       "|  &nbsp;&nbsp;Preferred stock, $0.01 par value, 600,000 shares authorized, no shares issued as of December 31, 2023 and December 31, 2022, respectively  |     |  -  |     |  -  |\n",
       "|  &nbsp;&nbsp;Common stock, $0.01 par value, 230,000 shares authorized, 37,483 and 37,320 shares issued as of December 31, 2023 and December 31, 2022, respectively  |     |  375  |     |  373  |\n",
       "|  &nbsp;&nbsp;Additional paid-in capital  |     |  1,956,160  |     |  1,829,304  |\n",
       "|  &nbsp;&nbsp;Treasury stock, at cost, 10,057 and 9,693 common shares as of December 31, 2023 and December 31, 2022, respectively  |     |  (4,944,656)  |     |  (4,282,014)  |\n",
       "|  &nbsp;&nbsp;Accumulated other comprehensive loss  |     |  (6,657)  |     |  (7,888)  |\n",
       "|  &nbsp;&nbsp;Retained earnings  |     |  6,056,985  |     |  4,828,248  |\n",
       "|  &nbsp;&nbsp;Total shareholders' equity  |     |  3,062,207  |     |  2,368,023  |\n",
       "|  &nbsp;&nbsp;Total liabilities and shareholders' equity  |  $  |  8,044,362  |  $  |  6,927,504  |"
      ],
      "text/plain": [
       "<IPython.core.display.Markdown object>"
      ]
     },
     "metadata": {},
     "output_type": "display_data"
    },
    {
     "name": "stdout",
     "output_type": "stream",
     "text": [
      "\n",
      "\n",
      "Table 24:\n",
      "CHIPOTLE MEXICAN GRILL, INC.\n",
      "\n",
      "CONSOLIDATED STATEMENTS OF CASH FLOWS\n",
      "\n",
      "(in thousands)\n",
      "\n",
      "﻿\n",
      "\n",
      "﻿\n",
      "\n",
      "﻿\n",
      "\n",
      "﻿﻿﻿Year ended December 31,﻿20232022﻿(unaudited)Operating activitiesNet income$1,228,737$899,101Adjustments to reconcile net income to net cash provided by operating activities:Depreciation and amortization319,394286,826Deferred income tax provision(9,505)(43,195)Impairment, closure costs, and asset disposals37,02520,738Provision for credit losses1,570(760)Stock-based compensation expense124,01698,030Other(13,080)(16,202)Changes in operating assets and liabilities:Accounts receivable(11,216)(14,026)Inventory(3,649)(3,011)Prepaid expenses and other current assets(39,211)(14,660)Operating lease assets254,241234,273Other assets4,204(346)Accounts payable5,31318,208Accrued payroll and benefits57,0489,864Accrued liabilities3,188(27,964)Unearned revenue35,68533,374Income tax payable/receivable(5,237)46,262Operating lease liabilities(214,477)(207,186)Other long-term liabilities9,4313,853Net cash provided by operating activities1,783,4771,323,179Investing activitiesPurchases of leasehold improvements, property and equipment(560,731)(479,164)Purchases of investments(1,115,131)(614,416)Maturities of investments729,853263,548Net cash used in investing activities(946,009)(830,032)Financing activitiesAcquisition of treasury stock(592,349)(830,140)Tax withholding on stock-based compensation awards(69,146)(98,970)Other financing activities843(294)Net cash used in financing activities(660,652)(929,404)Effect of exchange rate changes on cash, cash equivalents and restricted cash381(1,007)Net change in cash, cash equivalents, and restricted cash177,197(437,264)Cash, cash equivalents, and restricted cash at beginning of year408,966846,230Cash, cash equivalents, and restricted cash at end of year$586,163$408,966Supplemental disclosures of cash flow informationIncome taxes paid$400,229$275,796Purchases of leasehold improvements, property and equipment accrued in accounts payable and accrued liabilities$76,415$72,021Acquisition of treasury stock accrued in accounts payable and accrued liabilities$5,643$4,497\n"
     ]
    },
    {
     "data": {
      "text/markdown": [
       "|  &nbsp;&nbsp;﻿  |     |     |     |     |\n",
       "|  ---  |  ---  |  ---  |  ---  |  ---  |\n",
       "|  &nbsp;&nbsp;﻿  |     |     |     |     |\n",
       "|  &nbsp;&nbsp;﻿  |  Year ended December 31,  |     |     |     |\n",
       "|  &nbsp;&nbsp;﻿  |  2023  |     |  2022  |     |\n",
       "|  &nbsp;&nbsp;﻿  |  (unaudited)  |     |     |     |\n",
       "|  &nbsp;&nbsp;Operating activities  |     |     |     |     |\n",
       "|  &nbsp;&nbsp;Net income  |  $  |  1,228,737  |  $  |  899,101  |\n",
       "|  &nbsp;&nbsp;Adjustments to reconcile net income to net cash provided by operating activities:  |     |     |     |     |\n",
       "|  &nbsp;&nbsp;Depreciation and amortization  |     |  319,394  |     |  286,826  |\n",
       "|  &nbsp;&nbsp;Deferred income tax provision  |     |  (9,505)  |     |  (43,195)  |\n",
       "|  &nbsp;&nbsp;Impairment, closure costs, and asset disposals  |     |  37,025  |     |  20,738  |\n",
       "|  &nbsp;&nbsp;Provision for credit losses  |     |  1,570  |     |  (760)  |\n",
       "|  &nbsp;&nbsp;Stock-based compensation expense  |     |  124,016  |     |  98,030  |\n",
       "|  &nbsp;&nbsp;Other  |     |  (13,080)  |     |  (16,202)  |\n",
       "|  &nbsp;&nbsp;Changes in operating assets and liabilities:  |     |     |     |     |\n",
       "|  &nbsp;&nbsp;Accounts receivable  |     |  (11,216)  |     |  (14,026)  |\n",
       "|  &nbsp;&nbsp;Inventory  |     |  (3,649)  |     |  (3,011)  |\n",
       "|  &nbsp;&nbsp;Prepaid expenses and other current assets  |     |  (39,211)  |     |  (14,660)  |\n",
       "|  &nbsp;&nbsp;Operating lease assets  |     |  254,241  |     |  234,273  |\n",
       "|  &nbsp;&nbsp;Other assets  |     |  4,204  |     |  (346)  |\n",
       "|  &nbsp;&nbsp;Accounts payable  |     |  5,313  |     |  18,208  |\n",
       "|  &nbsp;&nbsp;Accrued payroll and benefits  |     |  57,048  |     |  9,864  |\n",
       "|  &nbsp;&nbsp;Accrued liabilities  |     |  3,188  |     |  (27,964)  |\n",
       "|  &nbsp;&nbsp;Unearned revenue  |     |  35,685  |     |  33,374  |\n",
       "|  &nbsp;&nbsp;Income tax payable/receivable  |     |  (5,237)  |     |  46,262  |\n",
       "|  &nbsp;&nbsp;Operating lease liabilities  |     |  (214,477)  |     |  (207,186)  |\n",
       "|  &nbsp;&nbsp;Other long-term liabilities  |     |  9,431  |     |  3,853  |\n",
       "|  &nbsp;&nbsp;Net cash provided by operating activities  |     |  1,783,477  |     |  1,323,179  |\n",
       "|  &nbsp;&nbsp;Investing activities  |     |     |     |     |\n",
       "|  &nbsp;&nbsp;Purchases of leasehold improvements, property and equipment  |     |  (560,731)  |     |  (479,164)  |\n",
       "|  &nbsp;&nbsp;Purchases of investments  |     |  (1,115,131)  |     |  (614,416)  |\n",
       "|  &nbsp;&nbsp;Maturities of investments  |     |  729,853  |     |  263,548  |\n",
       "|  &nbsp;&nbsp;Net cash used in investing activities  |     |  (946,009)  |     |  (830,032)  |\n",
       "|  &nbsp;&nbsp;Financing activities  |     |     |     |     |\n",
       "|  &nbsp;&nbsp;Acquisition of treasury stock  |     |  (592,349)  |     |  (830,140)  |\n",
       "|  &nbsp;&nbsp;Tax withholding on stock-based compensation awards  |     |  (69,146)  |     |  (98,970)  |\n",
       "|  &nbsp;&nbsp;Other financing activities  |     |  843  |     |  (294)  |\n",
       "|  &nbsp;&nbsp;Net cash used in financing activities  |     |  (660,652)  |     |  (929,404)  |\n",
       "|  &nbsp;&nbsp;Effect of exchange rate changes on cash, cash equivalents and restricted cash  |     |  381  |     |  (1,007)  |\n",
       "|  &nbsp;&nbsp;Net change in cash, cash equivalents, and restricted cash  |     |  177,197  |     |  (437,264)  |\n",
       "|  &nbsp;&nbsp;Cash, cash equivalents, and restricted cash at beginning of year  |     |  408,966  |     |  846,230  |\n",
       "|  &nbsp;&nbsp;Cash, cash equivalents, and restricted cash at end of year  |  $  |  586,163  |  $  |  408,966  |\n",
       "|  &nbsp;&nbsp;Supplemental disclosures of cash flow information  |     |     |     |     |\n",
       "|  &nbsp;&nbsp;Income taxes paid  |  $  |  400,229  |  $  |  275,796  |\n",
       "|  &nbsp;&nbsp;Purchases of leasehold improvements, property and equipment accrued in accounts payable and accrued liabilities  |  $  |  76,415  |  $  |  72,021  |\n",
       "|  &nbsp;&nbsp;Acquisition of treasury stock accrued in accounts payable and accrued liabilities  |  $  |  5,643  |  $  |  4,497  |"
      ],
      "text/plain": [
       "<IPython.core.display.Markdown object>"
      ]
     },
     "metadata": {},
     "output_type": "display_data"
    },
    {
     "name": "stdout",
     "output_type": "stream",
     "text": [
      "\n",
      "\n",
      "Table 25:\n",
      "﻿\n",
      "\n",
      "CHIPOTLE MEXICAN GRILL, INC.\n",
      "\n",
      "SUPPLEMENTAL FINANCIAL AND OTHER DATA\n",
      "\n",
      "(dollars in thousands)\n",
      "\n",
      "(unaudited)\n",
      "\n",
      "﻿\n",
      "\n",
      "﻿﻿For the three months ended﻿Dec. 31,Sep. 30,Jun. 30,Mar. 31,Dec. 31,﻿20232023202320232022Number of restaurants opened121624741100Chipotle permanent closures(2)(1)---Chipotle relocations(3)(2)(3)(4)(3)Non-Chipotle permanent closures-(6)---Number of restaurants at end of period3,4373,3213,2683,2243,187Average restaurant sales$3,018$2,972$2,941$2,892$2,824Comparable restaurant sales increase8.4%5.0%7.4%10.9%5.6%\n"
     ]
    },
    {
     "data": {
      "text/markdown": [
       "|  &nbsp;&nbsp;﻿  |     |     |     |     |     |     |     |     |     |     |\n",
       "|  ---  |  ---  |  ---  |  ---  |  ---  |  ---  |  ---  |  ---  |  ---  |  ---  |  ---  |\n",
       "|  &nbsp;&nbsp;﻿  |  For the three months ended  |     |     |     |     |     |     |     |     |     |\n",
       "|  &nbsp;&nbsp;﻿  |  Dec. 31,  |     |  Sep. 30,  |     |  Jun. 30,  |     |  Mar. 31,  |     |  Dec. 31,  |     |\n",
       "|  &nbsp;&nbsp;﻿  |  2023  |     |  2023  |     |  2023  |     |  2023  |     |  2022  |     |\n",
       "|  &nbsp;&nbsp;Number of restaurants opened  |     |  121  |     |  62  |     |  47  |     |  41  |     |  100  |\n",
       "|  &nbsp;&nbsp;Chipotle permanent closures  |     |  (2)  |     |  (1)  |     |  -  |     |  -  |     |  -  |\n",
       "|  &nbsp;&nbsp;Chipotle relocations  |     |  (3)  |     |  (2)  |     |  (3)  |     |  (4)  |     |  (3)  |\n",
       "|  &nbsp;&nbsp;Non-Chipotle permanent closures  |     |  -  |     |  (6)  |     |  -  |     |  -  |     |  -  |\n",
       "|  &nbsp;&nbsp;Number of restaurants at end of period  |     |  3,437  |     |  3,321  |     |  3,268  |     |  3,224  |     |  3,187  |\n",
       "|  &nbsp;&nbsp;Average restaurant sales  |  $  |  3,018  |  $  |  2,972  |  $  |  2,941  |  $  |  2,892  |  $  |  2,824  |\n",
       "|  &nbsp;&nbsp;Comparable restaurant sales increase  |     |  8.4%  |     |  5.0%  |     |  7.4%  |     |  10.9%  |     |  5.6%  |"
      ],
      "text/plain": [
       "<IPython.core.display.Markdown object>"
      ]
     },
     "metadata": {},
     "output_type": "display_data"
    },
    {
     "name": "stdout",
     "output_type": "stream",
     "text": [
      "\n",
      "\n",
      "Table 26:\n",
      "CHIPOTLE MEXICAN GRILL, INC.\n",
      "\n",
      "RECONCILIATION OF NON-GAAP FINANCIAL MEASURES\n",
      "\n",
      "Adjusted Net Income and Adjusted Diluted Earningsper Share\n",
      "\n",
      "(in thousands, except per share amounts)\n",
      "\n",
      "(unaudited)\n",
      "\n",
      "﻿\n",
      "\n",
      "﻿\n",
      "\n",
      "﻿﻿﻿Three months endedYear ended﻿December 31,December 31,﻿2023202220232022Net income$282,086$223,727$1,228,737$899,101Non-GAAP adjustments:Impairment and exit costs:Restaurant asset impairment and other restaurant exit costs(1)--4,7651,738Corporate asset impairment(2)--3,735961Corporate Restructuring:Duplicate rent expense(3)-881-3,937Employee related and other restructuring costs(4)--4,829-Legal proceedings(5)(797)3,718(797)9,516Stock-based compensation modification expense(6)-1,117-7,411Unrealized gain on equity investments(7)---(10,410)Separation costs(8)---3,538Accelerated depreciation(9)6,388-6,388-Total non-GAAP adjustments$5,591$5,716$18,920$16,691Tax effect of non-GAAP adjustments above(10)(1,495)1,951(4,607)4,003After tax impact of non-GAAP adjustments$4,096$7,667$14,313$20,694Adjusted net income$286,182$231,394$1,243,050$919,795﻿Diluted weighted-average number of common shares outstanding27,62127,89927,71028,062Diluted earnings per share$10.21$8.02$44.34$32.04Adjusted diluted earnings per share$10.36$8.29$44.86$32.78﻿(1) Operating lease asset and leasehold improvements, property, plant and equipment impairment charges and other expenses for restaurants due to closures, relocations, or underperformance.(2) Operating lease asset and leasehold improvements, property, plant and equipment impairment charges and other expenses for offices or other corporate assets.(3) Duplicate rent expense for the corporate headquarter relocation and office consolidation announced in May 2018.(4) Charges for third-party vendors, stock-based compensation, and employee severance related to the May 2023 optimization of our organizational structure.(5) Charges/(reduction) for estimated settlements for distinct legal matters that exceeded or are expected to exceed typical costs for these types of legal proceedings.(6) Charges for a COVID-19 related modification made in December 2020 to our 2018 performance shares.(7) Unrealized gain on equity investments based on a subsequent investment by an unrelated party in one of our investees, which subsequent investment represents an observable price change in an orderly transaction for a similar investment of the same issuer.(8) Expenses related to an employee separation, which consist of incremental compensation costs net of forfeitures of stock-based compensation.(9) Accelerated depreciation due to a reduction of the estimated useful lives for certain leasehold improvements.(10) Adjustments relate to the tax effect of non-GAAP adjustments, which were determined based on the nature of the underlying non-GAAP adjustments and their relevant jurisdictional tax rates.\n"
     ]
    },
    {
     "data": {
      "text/markdown": [
       "|  &nbsp;&nbsp;﻿  |     |     |     |     |     |     |     |     |\n",
       "|  ---  |  ---  |  ---  |  ---  |  ---  |  ---  |  ---  |  ---  |  ---  |\n",
       "|  &nbsp;&nbsp;﻿  |     |     |     |     |     |     |     |     |\n",
       "|  &nbsp;&nbsp;﻿  |  Three months ended  |     |     |     |  Year ended  |     |     |     |\n",
       "|  &nbsp;&nbsp;﻿  |  December 31,  |     |     |     |  December 31,  |     |     |     |\n",
       "|  &nbsp;&nbsp;﻿  |  2023  |     |  2022  |     |  2023  |     |  2022  |     |\n",
       "|  &nbsp;&nbsp;Net income  |  $  |  282,086  |  $  |  223,727  |  $  |  1,228,737  |  $  |  899,101  |\n",
       "|  &nbsp;&nbsp;Non-GAAP adjustments:  |     |     |     |     |     |     |     |     |\n",
       "|  &nbsp;&nbsp;Impairment and exit costs:  |     |     |     |     |     |     |     |     |\n",
       "|  &nbsp;&nbsp;Restaurant asset impairment and other restaurant exit costs(1)  |     |  -  |     |  -  |     |  4,765  |     |  1,738  |\n",
       "|  &nbsp;&nbsp;Corporate asset impairment(2)  |     |  -  |     |  -  |     |  3,735  |     |  961  |\n",
       "|  &nbsp;&nbsp;Corporate Restructuring:  |     |     |     |     |     |     |     |     |\n",
       "|  &nbsp;&nbsp;Duplicate rent expense(3)  |     |  -  |     |  881  |     |  -  |     |  3,937  |\n",
       "|  &nbsp;&nbsp;Employee related and other restructuring costs(4)  |     |  -  |     |  -  |     |  4,829  |     |  -  |\n",
       "|  &nbsp;&nbsp;Legal proceedings(5)  |     |  (797)  |     |  3,718  |     |  (797)  |     |  9,516  |\n",
       "|  &nbsp;&nbsp;Stock-based compensation modification expense(6)  |     |  -  |     |  1,117  |     |  -  |     |  7,411  |\n",
       "|  &nbsp;&nbsp;Unrealized gain on equity investments(7)  |     |  -  |     |  -  |     |  -  |     |  (10,410)  |\n",
       "|  &nbsp;&nbsp;Separation costs(8)  |     |  -  |     |  -  |     |  -  |     |  3,538  |\n",
       "|  &nbsp;&nbsp;Accelerated depreciation(9)  |     |  6,388  |     |  -  |     |  6,388  |     |  -  |\n",
       "|  &nbsp;&nbsp;Total non-GAAP adjustments  |  $  |  5,591  |  $  |  5,716  |  $  |  18,920  |  $  |  16,691  |\n",
       "|  &nbsp;&nbsp;Tax effect of non-GAAP adjustments above(10)  |     |  (1,495)  |     |  1,951  |     |  (4,607)  |     |  4,003  |\n",
       "|  &nbsp;&nbsp;After tax impact of non-GAAP adjustments  |  $  |  4,096  |  $  |  7,667  |  $  |  14,313  |  $  |  20,694  |\n",
       "|  &nbsp;&nbsp;Adjusted net income  |  $  |  286,182  |  $  |  231,394  |  $  |  1,243,050  |  $  |  919,795  |\n",
       "|  &nbsp;&nbsp;﻿  |     |     |     |     |     |     |     |     |\n",
       "|  &nbsp;&nbsp;Diluted weighted-average number of common shares outstanding  |     |  27,621  |     |  27,899  |     |  27,710  |     |  28,062  |\n",
       "|  &nbsp;&nbsp;Diluted earnings per share  |  $  |  10.21  |  $  |  8.02  |  $  |  44.34  |  $  |  32.04  |\n",
       "|  &nbsp;&nbsp;Adjusted diluted earnings per share  |  $  |  10.36  |  $  |  8.29  |  $  |  44.86  |  $  |  32.78  |\n",
       "|  &nbsp;&nbsp;﻿  |     |     |     |     |     |     |     |     |\n",
       "|  &nbsp;&nbsp;(1) Operating lease asset and leasehold improvements, property, plant and equipment impairment charges and other expenses for restaurants due to closures, relocations, or underperformance.  |     |     |     |     |     |     |     |     |\n",
       "|  &nbsp;&nbsp;(2) Operating lease asset and leasehold improvements, property, plant and equipment impairment charges and other expenses for offices or other corporate assets.  |     |     |     |     |     |     |     |     |\n",
       "|  &nbsp;&nbsp;(3) Duplicate rent expense for the corporate headquarter relocation and office consolidation announced in May 2018.  |     |     |     |     |     |     |     |     |\n",
       "|  &nbsp;&nbsp;(4) Charges for third-party vendors, stock-based compensation, and employee severance related to the May 2023 optimization of our organizational structure.  |     |     |     |     |     |     |     |     |\n",
       "|  &nbsp;&nbsp;(5) Charges/(reduction) for estimated settlements for distinct legal matters that exceeded or are expected to exceed typical costs for these types of legal proceedings.  |     |     |     |     |     |     |     |     |\n",
       "|  &nbsp;&nbsp;(6) Charges for a COVID-19 related modification made in December 2020 to our 2018 performance shares.  |     |     |     |     |     |     |     |     |\n",
       "|  &nbsp;&nbsp;(7) Unrealized gain on equity investments based on a subsequent investment by an unrelated party in one of our investees, which subsequent investment represents an observable price change in an orderly transaction for a similar investment of the same issuer.  |     |     |     |     |     |     |     |     |\n",
       "|  &nbsp;&nbsp;(8) Expenses related to an employee separation, which consist of incremental compensation costs net of forfeitures of stock-based compensation.  |     |     |     |     |     |     |     |     |\n",
       "|  &nbsp;&nbsp;(9) Accelerated depreciation due to a reduction of the estimated useful lives for certain leasehold improvements.  |     |     |     |     |     |     |     |     |\n",
       "|  &nbsp;&nbsp;(10) Adjustments relate to the tax effect of non-GAAP adjustments, which were determined based on the nature of the underlying non-GAAP adjustments and their relevant jurisdictional tax rates.  |     |     |     |     |     |     |     |     |"
      ],
      "text/plain": [
       "<IPython.core.display.Markdown object>"
      ]
     },
     "metadata": {},
     "output_type": "display_data"
    },
    {
     "name": "stdout",
     "output_type": "stream",
     "text": [
      "\n",
      "\n",
      "Table 27:\n",
      "CHIPOTLE MEXICAN GRILL, INC.\n",
      "\n",
      "RECONCILIATION OF NON-GAAP FINANCIAL MEASURES\n",
      "\n",
      "Adjusted General and Administrative Expenses\n",
      "\n",
      "(in thousands)\n",
      "\n",
      "(unaudited)\n",
      "\n",
      "﻿\n",
      "\n",
      "﻿\n",
      "\n",
      "﻿﻿﻿Three months endedYear ended﻿December 31,December 31,﻿2023202220232022General and administrative expenses$169,247$135,073$633,584$564,191Non-GAAP adjustments:Restructuring expense(1)-(881)(4,829)(3,937)Legal proceedings(2)797(3,718)797(9,516)Stock-based compensation modification expense(3)-(1,117)-(7,411)Separation costs(4)---(3,538)Total non-GAAP adjustments$797$(5,716)$(4,032)$(24,402)Adjusted general and administrative expenses$170,044$129,357$629,552$539,789﻿(1) For the year ended December 31, 2023, third-party vendor expense, stock-based compensation, and employee severance related to the May 2023 optimization of our organizational structure. For the three months and year ended December 31, 2022, charges relate to duplicate rent expense for office and restaurant closures announced in June 2018 due to the corporate restructuring and underperformance of $881 and $3,937, respectively.(2) Charges/(reduction) for estimated settlements for distinct legal matters that exceeded or are expected to exceed typical costs for these types of legal proceedings.(3) Charges for a COVID-19 related modification made in December 2020 to our 2018 performance shares.(4) Expenses related to an employee separation, which consisted of incremental compensation costs net of forfeitures of stock-based compensation.\n"
     ]
    },
    {
     "data": {
      "text/markdown": [
       "|  &nbsp;&nbsp;﻿  |     |     |     |     |     |     |     |     |\n",
       "|  ---  |  ---  |  ---  |  ---  |  ---  |  ---  |  ---  |  ---  |  ---  |\n",
       "|  &nbsp;&nbsp;﻿  |     |     |     |     |     |     |     |     |\n",
       "|  &nbsp;&nbsp;﻿  |  Three months ended  |     |     |     |  Year ended  |     |     |     |\n",
       "|  &nbsp;&nbsp;﻿  |  December 31,  |     |     |     |  December 31,  |     |     |     |\n",
       "|  &nbsp;&nbsp;﻿  |  2023  |     |  2022  |     |  2023  |     |  2022  |     |\n",
       "|  &nbsp;&nbsp;General and administrative expenses  |  $  |  169,247  |  $  |  135,073  |  $  |  633,584  |  $  |  564,191  |\n",
       "|  &nbsp;&nbsp;Non-GAAP adjustments:  |     |     |     |     |     |     |     |     |\n",
       "|  &nbsp;&nbsp;Restructuring expense(1)  |     |  -  |     |  (881)  |     |  (4,829)  |     |  (3,937)  |\n",
       "|  &nbsp;&nbsp;Legal proceedings(2)  |     |  797  |     |  (3,718)  |     |  797  |     |  (9,516)  |\n",
       "|  &nbsp;&nbsp;Stock-based compensation modification expense(3)  |     |  -  |     |  (1,117)  |     |  -  |     |  (7,411)  |\n",
       "|  &nbsp;&nbsp;Separation costs(4)  |     |  -  |     |  -  |     |  -  |     |  (3,538)  |\n",
       "|  &nbsp;&nbsp;Total non-GAAP adjustments  |  $  |  797  |  $  |  (5,716)  |  $  |  (4,032)  |  $  |  (24,402)  |\n",
       "|  &nbsp;&nbsp;Adjusted general and administrative expenses  |  $  |  170,044  |  $  |  129,357  |  $  |  629,552  |  $  |  539,789  |\n",
       "|  &nbsp;&nbsp;﻿  |     |     |     |     |     |     |     |     |\n",
       "|  &nbsp;&nbsp;(1) For the year ended December 31, 2023, third-party vendor expense, stock-based compensation, and employee severance related to the May 2023 optimization of our organizational structure. For the three months and year ended December 31, 2022, charges relate to duplicate rent expense for office and restaurant closures announced in June 2018 due to the corporate restructuring and underperformance of $881 and $3,937, respectively.  |     |     |     |     |     |     |     |     |\n",
       "|  &nbsp;&nbsp;(2) Charges/(reduction) for estimated settlements for distinct legal matters that exceeded or are expected to exceed typical costs for these types of legal proceedings.  |     |     |     |     |     |     |     |     |\n",
       "|  &nbsp;&nbsp;(3) Charges for a COVID-19 related modification made in December 2020 to our 2018 performance shares.  |     |     |     |     |     |     |     |     |\n",
       "|  &nbsp;&nbsp;(4) Expenses related to an employee separation, which consisted of incremental compensation costs net of forfeitures of stock-based compensation.  |     |     |     |     |     |     |     |     |"
      ],
      "text/plain": [
       "<IPython.core.display.Markdown object>"
      ]
     },
     "metadata": {},
     "output_type": "display_data"
    },
    {
     "name": "stdout",
     "output_type": "stream",
     "text": [
      "\n",
      "\n",
      "Table 28:\n",
      "CHIPOTLE MEXICAN GRILL, INC.\n",
      "\n",
      "RECONCILIATION OF NON-GAAP FINANCIAL MEASURES\n",
      "\n",
      "Adjusted Depreciation and Amortization\n",
      "\n",
      "(in thousands)\n",
      "\n",
      "(unaudited)\n",
      "\n",
      "﻿\n",
      "\n",
      "﻿\n",
      "\n",
      "﻿﻿﻿Three months endedYear ended﻿December 31,December 31,﻿2023202220232022Depreciation and amortization$85,492$74,012$319,394$286,826Non-GAAP adjustments:Accelerated depreciation(1)(6,388)-(6,388)-Total non-GAAP adjustments$(6,388)$-$(6,388)$-Adjusted depreciation and amortization$79,104$74,012$313,006$286,826Adjusted depreciation and amortization as a percent of total revenue3.1%3.4%3.2%3.3%﻿(1) Accelerated depreciation due to a reduction of the estimated useful lives for certain leasehold improvements.\n"
     ]
    },
    {
     "data": {
      "text/markdown": [
       "|  &nbsp;&nbsp;﻿  |     |     |     |     |     |     |     |     |\n",
       "|  ---  |  ---  |  ---  |  ---  |  ---  |  ---  |  ---  |  ---  |  ---  |\n",
       "|  &nbsp;&nbsp;﻿  |     |     |     |     |     |     |     |     |\n",
       "|  &nbsp;&nbsp;﻿  |  Three months ended  |     |     |     |  Year ended  |     |     |     |\n",
       "|  &nbsp;&nbsp;﻿  |  December 31,  |     |     |     |  December 31,  |     |     |     |\n",
       "|  &nbsp;&nbsp;﻿  |  2023  |     |  2022  |     |  2023  |     |  2022  |     |\n",
       "|  &nbsp;&nbsp;Depreciation and amortization  |  $  |  85,492  |  $  |  74,012  |  $  |  319,394  |  $  |  286,826  |\n",
       "|  &nbsp;&nbsp;Non-GAAP adjustments:  |     |     |     |     |     |     |     |     |\n",
       "|  &nbsp;&nbsp;Accelerated depreciation(1)  |     |  (6,388)  |     |  -  |     |  (6,388)  |     |  -  |\n",
       "|  &nbsp;&nbsp;Total non-GAAP adjustments  |  $  |  (6,388)  |  $  |  -  |  $  |  (6,388)  |  $  |  -  |\n",
       "|  &nbsp;&nbsp;Adjusted depreciation and amortization  |  $  |  79,104  |  $  |  74,012  |  $  |  313,006  |  $  |  286,826  |\n",
       "|  &nbsp;&nbsp;Adjusted depreciation and amortization as a percent of total revenue  |     |  3.1%  |     |  3.4%  |     |  3.2%  |     |  3.3%  |\n",
       "|  &nbsp;&nbsp;﻿  |     |     |     |     |     |     |     |     |\n",
       "|  &nbsp;&nbsp;(1) Accelerated depreciation due to a reduction of the estimated useful lives for certain leasehold improvements.  |     |     |     |     |     |     |     |     |"
      ],
      "text/plain": [
       "<IPython.core.display.Markdown object>"
      ]
     },
     "metadata": {},
     "output_type": "display_data"
    },
    {
     "name": "stdout",
     "output_type": "stream",
     "text": [
      "\n",
      "\n",
      "Table 29:\n",
      "﻿\n",
      "\n",
      "CHIPOTLE MEXICAN GRILL, INC.\n",
      "\n",
      "RECONCILIATION OF NON-GAAP FINANCIAL MEASURES\n",
      "\n",
      "Adjusted Effective Income Tax Rate\n",
      "\n",
      "(unaudited)\n",
      "\n",
      "﻿﻿﻿Three months endedYear ended﻿December 31,December 31,﻿2023202220232022Effective income tax rate26.2%26.3%24.2%23.9%Tax impact of non-GAAP adjustments(1)-(1.2)-(0.7)Adjusted effective income tax rate26.2%25.1%24.2%23.2%﻿(1) Adjustments related to the tax effect of non-GAAP adjustments, which were determined based on the nature of the underlying non-GAAP adjustments and their relevant jurisdictional tax rates.\n"
     ]
    },
    {
     "data": {
      "text/markdown": [
       "|  &nbsp;&nbsp;﻿  |     |     |     |     |     |     |     |     |\n",
       "|  ---  |  ---  |  ---  |  ---  |  ---  |  ---  |  ---  |  ---  |  ---  |\n",
       "|  &nbsp;&nbsp;﻿  |     |     |     |     |     |     |     |     |\n",
       "|  &nbsp;&nbsp;﻿  |  Three months ended  |     |     |     |  Year ended  |     |     |     |\n",
       "|  &nbsp;&nbsp;﻿  |  December 31,  |     |     |     |  December 31,  |     |     |     |\n",
       "|  &nbsp;&nbsp;﻿  |  2023  |     |  2022  |     |  2023  |     |  2022  |     |\n",
       "|  &nbsp;&nbsp;Effective income tax rate  |  26.2  |  %  |  26.3  |  %  |  24.2  |  %  |  23.9  |  %  |\n",
       "|  &nbsp;&nbsp;Tax impact of non-GAAP adjustments(1)  |  -  |     |  (1.2)  |     |  -  |     |  (0.7)  |     |\n",
       "|  &nbsp;&nbsp;Adjusted effective income tax rate  |  26.2  |  %  |  25.1  |  %  |  24.2  |  %  |  23.2  |  %  |\n",
       "|  &nbsp;&nbsp;﻿  |     |     |     |     |     |     |     |     |\n",
       "|  &nbsp;&nbsp;(1) Adjustments related to the tax effect of non-GAAP adjustments, which were determined based on the nature of the underlying non-GAAP adjustments and their relevant jurisdictional tax rates.  |     |     |     |     |     |     |     |     |"
      ],
      "text/plain": [
       "<IPython.core.display.Markdown object>"
      ]
     },
     "metadata": {},
     "output_type": "display_data"
    },
    {
     "name": "stdout",
     "output_type": "stream",
     "text": [
      "\n",
      "\n",
      "Table 30:\n",
      "CHIPOTLE MEXICAN GRILL, INC.\n",
      "\n",
      "RECONCILIATION OF NON-GAAP FINANCIAL MEASURES\n",
      "\n",
      "Restaurant Level Operating Margin\n",
      "\n",
      "(in thousands)\n",
      "\n",
      "(unaudited)\n",
      "\n",
      "﻿﻿﻿Three months ended December 31,﻿2023Percent of total revenue2022Percent of total revenueIncome from operations$363,44714.4%$296,33113.6%Non-GAAP Adjustments:General and administrative expenses169,2476.7135,0736.2Depreciation and amortization85,4923.474,0123.4Pre-opening costs13,5900.511,3410.5Impairment, closure costs, and asset disposals6,5280.35,7850.3Total non-GAAP Adjustments$274,85710.9%$226,21110.4%Restaurant level operating margin$638,30425.4%$522,54224.0%\n"
     ]
    },
    {
     "data": {
      "text/markdown": [
       "|  &nbsp;&nbsp;﻿  |     |     |     |     |     |     |     |     |\n",
       "|  ---  |  ---  |  ---  |  ---  |  ---  |  ---  |  ---  |  ---  |  ---  |\n",
       "|  &nbsp;&nbsp;﻿  |     |     |     |     |     |     |     |     |\n",
       "|  &nbsp;&nbsp;﻿  |  Three months ended December 31,  |     |     |     |     |     |     |     |\n",
       "|  &nbsp;&nbsp;﻿  |  2023  |     |  Percent of total revenue  |     |  2022  |     |  Percent of total revenue  |     |\n",
       "|  &nbsp;&nbsp;Income from operations  |  $  |  363,447  |  14.4  |  %  |  $  |  296,331  |  13.6  |  %  |\n",
       "|  &nbsp;&nbsp;Non-GAAP Adjustments:  |     |     |     |     |     |     |     |     |\n",
       "|  &nbsp;&nbsp;General and administrative expenses  |     |  169,247  |  6.7  |     |     |  135,073  |  6.2  |     |\n",
       "|  &nbsp;&nbsp;Depreciation and amortization  |     |  85,492  |  3.4  |     |     |  74,012  |  3.4  |     |\n",
       "|  &nbsp;&nbsp;Pre-opening costs  |     |  13,590  |  0.5  |     |     |  11,341  |  0.5  |     |\n",
       "|  &nbsp;&nbsp;Impairment, closure costs, and asset disposals  |     |  6,528  |  0.3  |     |     |  5,785  |  0.3  |     |\n",
       "|  &nbsp;&nbsp;Total non-GAAP Adjustments  |  $  |  274,857  |  10.9  |  %  |  $  |  226,211  |  10.4  |  %  |\n",
       "|  &nbsp;&nbsp;Restaurant level operating margin  |  $  |  638,304  |  25.4  |  %  |  $  |  522,542  |  24.0  |  %  |"
      ],
      "text/plain": [
       "<IPython.core.display.Markdown object>"
      ]
     },
     "metadata": {},
     "output_type": "display_data"
    },
    {
     "name": "stdout",
     "output_type": "stream",
     "text": [
      "\n",
      "\n",
      "Table 31:\n",
      "%\n",
      "\n",
      "﻿\n",
      "\n",
      "﻿\n",
      "\n",
      "﻿\n",
      "\n",
      "﻿\n",
      "\n",
      "﻿﻿\n"
     ]
    },
    {
     "data": {
      "text/markdown": [
       "|  &nbsp;&nbsp;﻿  |\n",
       "|  ---  |\n",
       "|  &nbsp;&nbsp;﻿  |"
      ],
      "text/plain": [
       "<IPython.core.display.Markdown object>"
      ]
     },
     "metadata": {},
     "output_type": "display_data"
    },
    {
     "name": "stdout",
     "output_type": "stream",
     "text": [
      "\n",
      "\n"
     ]
    }
   ],
   "source": [
    "from utils import extract_table_with_preceding_text\n",
    "from IPython.display import Markdown, display\n",
    "\n",
    "with open(\"8-k_sample/chipole.html\", \"r\") as f:\n",
    "    html_content = f.read()\n",
    "\n",
    "table_chunks_with_text = extract_table_with_preceding_text(html_content)\n",
    "\n",
    "# 테이블 청크 출력\n",
    "for i, chunk_info in enumerate(table_chunks_with_text):\n",
    "    print(f\"Table {i+1}:\")\n",
    "    print(chunk_info['preceding_text'])\n",
    "    display(Markdown(chunk_info['table_only']))\n",
    "    print(\"\\n\")\n"
   ]
  },
  {
   "cell_type": "code",
   "execution_count": 1,
   "metadata": {},
   "outputs": [
    {
     "data": {
      "text/markdown": [
       "|  &nbsp;  |  Three months ended December 31  |     |     |     |     |     |     |     |     |     |\n",
       "|  ---  |  ---  |  ---  |  ---  |  ---  |  ---  |  ---  |  ---  |  ---  |  ---  |  ---  |\n",
       "|  &nbsp;  |  2014  |     |     |     |     |  2013  |     |     |     |     |\n",
       "|  &nbsp;&nbsp;Revenue  |  $  |  1,069,811  |     |  100.0  |  %  |  $  |  844,147  |     |  100.0  |  %  |\n",
       "|  &nbsp;&nbsp;Restaurant operating costs  |     |     |     |     |     |     |     |     |     |     |\n",
       "|  &nbsp;&nbsp;(Exclusive of depreciation and amortization shown separately below):  |     |     |     |     |     |     |     |     |     |     |\n",
       "|  &nbsp;&nbsp;&nbsp;&nbsp;&nbsp;&nbsp;&nbsp;&nbsp;&nbsp;&nbsp;Food, beverage and packaging  |     |  373,991  |     |  35.0  |     |     |  285,912  |     |  33.9  |     |\n",
       "|  &nbsp;&nbsp;&nbsp;&nbsp;&nbsp;&nbsp;&nbsp;&nbsp;&nbsp;&nbsp;Labor  |     |  237,310  |     |  22.2  |     |     |  193,818  |     |  23.0  |     |\n",
       "|  &nbsp;&nbsp;&nbsp;&nbsp;&nbsp;&nbsp;&nbsp;&nbsp;&nbsp;&nbsp;Occupancy  |     |  60,930  |     |  5.7  |     |     |  52,795  |     |  6.3  |     |\n",
       "|  &nbsp;&nbsp;&nbsp;&nbsp;&nbsp;&nbsp;&nbsp;&nbsp;&nbsp;&nbsp;Other operating costs  |     |  112,732  |     |  10.5  |     |     |  95,389  |     |  11.3  |     |\n",
       "|  &nbsp;&nbsp;General and administrative expenses  |     |  60,929  |     |  5.7  |     |     |  55,844  |     |  6.6  |     |\n",
       "|  &nbsp;&nbsp;Depreciation and amortization  |     |  29,750  |     |  2.8  |     |     |  24,903  |     |  3.0  |     |\n",
       "|  &nbsp;&nbsp;Pre-opening costs  |     |  4,088  |     |  0.4  |     |     |  4,775  |     |  0.6  |     |\n",
       "|  &nbsp;&nbsp;Loss on disposal of assets  |     |  2,209  |     |  0.2  |     |     |  1,607  |     |  0.2  |     |\n",
       "|  &nbsp;&nbsp;&nbsp;&nbsp;&nbsp;&nbsp;Total operating expenses  |     |  881,939  |     |  82.4  |     |     |  715,043  |     |  84.7  |     |\n",
       "|  &nbsp;&nbsp;Income from operations  |     |  187,872  |     |  17.6  |     |     |  129,104  |     |  15.3  |     |\n",
       "|  &nbsp;&nbsp;Interest and other income (expense), net  |     |  885  |     |  0.1  |     |     |  390  |     |    |     |\n",
       "|  &nbsp;&nbsp;Income before income taxes  |     |  188,757  |     |  17.6  |     |     |  129,494  |     |  15.3  |     |\n",
       "|  &nbsp;&nbsp;Provision for income taxes  |     |  (67,523  |  )  |  (6.3  |  )  |     |  (49,872  |  )  |  (5.9  |  )  |\n",
       "|  &nbsp;&nbsp;Net income  |  $  |  121,234  |     |  11.3  |  %  |  $  |  79,622  |     |  9.4  |  %  |\n",
       "|  &nbsp;&nbsp;Other comprehensive income:  |     |     |     |     |     |     |     |     |     |     |\n",
       "|  &nbsp;&nbsp;Foreign currency translation adjustments  |     |  (1,008  |  )  |     |     |     |  222  |     |     |     |\n",
       "|  &nbsp;&nbsp;Comprehensive income  |  $  |  120,226  |     |     |     |  $  |  79,844  |     |     |     |\n",
       "|  &nbsp;&nbsp;Earnings per share:  |     |     |     |     |     |     |     |     |     |     |\n",
       "|  &nbsp;&nbsp;Basic  |  $  |  3.91  |     |     |     |  $  |  2.57  |     |     |     |\n",
       "|  &nbsp;&nbsp;Diluted  |  $  |  3.84  |     |     |     |  $  |  2.53  |     |     |     |\n",
       "|  &nbsp;&nbsp;Weighted average common shares outstanding:  |     |     |     |     |     |     |     |     |     |     |\n",
       "|  &nbsp;&nbsp;Basic  |     |  31,024  |     |     |     |     |  31,019  |     |     |     |\n",
       "|  &nbsp;&nbsp;Diluted  |     |  31,542  |     |     |     |     |  31,425  |     |     |     |"
      ],
      "text/plain": [
       "<IPython.core.display.Markdown object>"
      ]
     },
     "metadata": {},
     "output_type": "display_data"
    }
   ],
   "source": [
    "# markdown_table = \"|  ﻿  |  For the three months ended  |     |     |     |     |     |     |     |     |     |\\n|  ---  |  ---  |  ---  |  ---  |  ---  |  ---  |  ---  |  ---  |  ---  |  ---  |  ---  |\\n|  ﻿  |  Dec. 31,  |     |  Sep. 30,  |     |  Jun. 30,  |     |  Mar. 31,  |     |  Dec. 31,  |     |\\n|  ﻿  |  2023  |     |  2023  |     |  2023  |     |  2023  |     |  2022  |     |\\n|  Number of restaurants opened  |     |  121  |     |  62  |     |  47  |     |  41  |     |  100  |\\n|  Chipotle permanent closures  |     |  (2)  |     |  (1)  |     |  -  |     |  -  |     |  -  |\\n|  Chipotle relocations  |     |  (3)  |     |  (2)  |     |  (3)  |     |  (4)  |     |  (3)  |\\n|  Non-Chipotle permanent closures  |     |  -  |     |  (6)  |     |  -  |     |  -  |     |  -  |\\n|  Number of restaurants at end of period  |     |  3,437  |     |  3,321  |     |  3,268  |     |  3,224  |     |  3,187  |\\n|  Average restaurant sales  |  $  |  3,018  |  $  |  2,972  |  $  |  2,941  |  $  |  2,892  |  $  |  2,824  |\\n|  Comparable restaurant sales increase  |     |  8.4%  |     |  5.0%  |     |  7.4%  |     |  10.9%  |     |  5.6%  |\"\n",
    "# html_table = \"<table>\\n<tr>\\n<td></td>\\n<td></td>\\n<td></td>\\n<td></td>\\n<td></td>\\n<td></td>\\n<td></td>\\n<td></td>\\n<td></td>\\n<td></td>\\n<td></td>\\n<td></td>\\n</tr>\\n<tr>\\n<td>﻿</td>\\n<td colspan=\\\"11\\\">Three months ended December 31,</td>\\n</tr>\\n<tr>\\n<td>﻿</td>\\n<td colspan=\\\"5\\\">2023</td>\\n<td></td>\\n<td colspan=\\\"5\\\">2022</td>\\n</tr>\\n<tr>\\n<td>Food and beverage revenue</td>\\n<td>$</td>\\n<td>2,499,567</td>\\n<td></td>\\n<td>99.3</td>\\n<td>%</td>\\n<td></td>\\n<td>$</td>\\n<td>2,163,907</td>\\n<td></td>\\n<td>99.2</td>\\n<td>%</td>\\n</tr>\\n<tr>\\n<td>Delivery service revenue</td>\\n<td></td>\\n<td>16,753</td>\\n<td></td>\\n<td>0.7</td>\\n<td></td>\\n<td></td>\\n<td></td>\\n<td>16,692</td>\\n<td></td>\\n<td>0.8</td>\\n<td></td>\\n</tr>\\n<tr>\\n<td>Total revenue</td>\\n<td></td>\\n<td>2,516,320</td>\\n<td></td>\\n<td>100.0</td>\\n<td></td>\\n<td></td>\\n<td></td>\\n<td>2,180,599</td>\\n<td></td>\\n<td>100.0</td>\\n<td></td>\\n</tr>\\n<tr>\\n<td>Restaurant operating costs (exclusive of depreciation and amortization shown separately below):</td>\\n<td></td>\\n<td></td>\\n<td></td>\\n<td></td>\\n<td></td>\\n<td></td>\\n<td></td>\\n<td></td>\\n<td></td>\\n<td></td>\\n<td></td>\\n</tr>\\n<tr>\\n<td>Food, beverage and packaging</td>\\n<td></td>\\n<td>747,155</td>\\n<td></td>\\n<td>29.7</td>\\n<td></td>\\n<td></td>\\n<td></td>\\n<td>638,851</td>\\n<td></td>\\n<td>29.3</td>\\n<td></td>\\n</tr>\\n<tr>\\n<td>Labor</td>\\n<td></td>\\n<td>629,228</td>\\n<td></td>\\n<td>25.0</td>\\n<td></td>\\n<td></td>\\n<td></td>\\n<td>558,914</td>\\n<td></td>\\n<td>25.6</td>\\n<td></td>\\n</tr>\\n<tr>\\n<td>Occupancy</td>\\n<td></td>\\n<td>131,167</td>\\n<td></td>\\n<td>5.2</td>\\n<td></td>\\n<td></td>\\n<td></td>\\n<td>118,648</td>\\n<td></td>\\n<td>5.4</td>\\n<td></td>\\n</tr>\\n<tr>\\n<td>Other operating costs</td>\\n<td></td>\\n<td>370,466</td>\\n<td></td>\\n<td>14.7</td>\\n<td></td>\\n<td></td>\\n<td></td>\\n<td>341,644</td>\\n<td></td>\\n<td>15.7</td>\\n<td></td>\\n</tr>\\n<tr>\\n<td>General and administrative expenses</td>\\n<td></td>\\n<td>169,247</td>\\n<td></td>\\n<td>6.7</td>\\n<td></td>\\n<td></td>\\n<td></td>\\n<td>135,073</td>\\n<td></td>\\n<td>6.2</td>\\n<td></td>\\n</tr>\\n<tr>\\n<td>Depreciation and amortization</td>\\n<td></td>\\n<td>85,492</td>\\n<td></td>\\n<td>3.4</td>\\n<td></td>\\n<td></td>\\n<td></td>\\n<td>74,012</td>\\n<td></td>\\n<td>3.4</td>\\n<td></td>\\n</tr>\\n<tr>\\n<td>Pre-opening costs</td>\\n<td></td>\\n<td>13,590</td>\\n<td></td>\\n<td>0.5</td>\\n<td></td>\\n<td></td>\\n<td></td>\\n<td>11,341</td>\\n<td></td>\\n<td>0.5</td>\\n<td></td>\\n</tr>\\n<tr>\\n<td>Impairment, closure costs, and asset disposals</td>\\n<td></td>\\n<td>6,528</td>\\n<td></td>\\n<td>0.3</td>\\n<td></td>\\n<td></td>\\n<td></td>\\n<td>5,785</td>\\n<td></td>\\n<td>0.3</td>\\n<td></td>\\n</tr>\\n<tr>\\n<td>Total operating expenses</td>\\n<td></td>\\n<td>2,152,873</td>\\n<td></td>\\n<td>85.6</td>\\n<td></td>\\n<td></td>\\n<td></td>\\n<td>1,884,268</td>\\n<td></td>\\n<td>86.4</td>\\n<td></td>\\n</tr>\\n<tr>\\n<td>Income from operations</td>\\n<td></td>\\n<td>363,447</td>\\n<td></td>\\n<td>14.4</td>\\n<td></td>\\n<td></td>\\n<td></td>\\n<td>296,331</td>\\n<td></td>\\n<td>13.6</td>\\n<td></td>\\n</tr>\\n<tr>\\n<td>Interest and other income, net</td>\\n<td></td>\\n<td>18,906</td>\\n<td></td>\\n<td>0.8</td>\\n<td></td>\\n<td></td>\\n<td></td>\\n<td>7,057</td>\\n<td></td>\\n<td>0.3</td>\\n<td></td>\\n</tr>\\n<tr>\\n<td>Income before income taxes</td>\\n<td></td>\\n<td>382,353</td>\\n<td></td>\\n<td>15.2</td>\\n<td></td>\\n<td></td>\\n<td></td>\\n<td>303,388</td>\\n<td></td>\\n<td>13.9</td>\\n<td></td>\\n</tr>\\n<tr>\\n<td>Provision for income taxes</td>\\n<td></td>\\n<td>(100,267)</td>\\n<td></td>\\n<td>(4.0)</td>\\n<td></td>\\n<td></td>\\n<td></td>\\n<td>(79,661)</td>\\n<td></td>\\n<td>(3.7)</td>\\n<td></td>\\n</tr>\\n<tr>\\n<td>Net income</td>\\n<td>$</td>\\n<td>282,086</td>\\n<td></td>\\n<td>11.2</td>\\n<td>%</td>\\n<td></td>\\n<td>$</td>\\n<td>223,727</td>\\n<td></td>\\n<td>10.3</td>\\n<td>%</td>\\n</tr>\\n<tr>\\n<td>Earnings per share:</td>\\n<td></td>\\n<td></td>\\n<td></td>\\n<td></td>\\n<td></td>\\n<td></td>\\n<td></td>\\n<td></td>\\n<td></td>\\n<td></td>\\n<td></td>\\n</tr>\\n<tr>\\n<td>Basic</td>\\n<td>$</td>\\n<td>10.28</td>\\n<td></td>\\n<td></td>\\n<td></td>\\n<td></td>\\n<td>$</td>\\n<td>8.08</td>\\n<td></td>\\n<td></td>\\n<td></td>\\n</tr>\\n<tr>\\n<td>Diluted</td>\\n<td>$</td>\\n<td>10.21</td>\\n<td></td>\\n<td></td>\\n<td></td>\\n<td></td>\\n<td>$</td>\\n<td>8.02</td>\\n<td></td>\\n<td></td>\\n<td></td>\\n</tr>\\n<tr>\\n<td>Weighted-average common shares outstanding:</td>\\n<td></td>\\n<td></td>\\n<td></td>\\n<td></td>\\n<td></td>\\n<td></td>\\n<td></td>\\n<td></td>\\n<td></td>\\n<td></td>\\n<td></td>\\n</tr>\\n<tr>\\n<td>Basic</td>\\n<td></td>\\n<td>27,440</td>\\n<td></td>\\n<td></td>\\n<td></td>\\n<td></td>\\n<td></td>\\n<td>27,684</td>\\n<td></td>\\n<td></td>\\n<td></td>\\n</tr>\\n<tr>\\n<td>Diluted</td>\\n<td></td>\\n<td>27,621</td>\\n<td></td>\\n<td></td>\\n<td></td>\\n<td></td>\\n<td></td>\\n<td>27,899</td>\\n<td></td>\\n<td></td>\\n<td></td>\\n</tr>\\n</table>\"\n",
    "from utils import parse_html_table_to_csv\n",
    "from IPython.display import Markdown, display\n",
    "\n",
    "def display_markdown_table(markdown_table):\n",
    "    \"\"\"\n",
    "    Render a markdown table as HTML for better visualization.\n",
    "    \n",
    "    Args:\n",
    "        markdown_table (str): A string containing a markdown table.\n",
    "    \"\"\"\n",
    "    # Display the HTML only in output\n",
    "    display(Markdown(markdown_table))\n",
    "\n",
    "# Display the markdown table\n",
    "with open(\"8-k_sample/table.html\", \"r\") as f:\n",
    "    html_table = f.read()\n",
    "display_markdown_table(parse_html_table_to_csv(html_table))\n",
    "# display_markdown_table(markdown_table)"
   ]
  },
  {
   "cell_type": "code",
   "execution_count": 2,
   "metadata": {},
   "outputs": [
    {
     "data": {
      "text/markdown": [
       "  Revenue increased 26.7% to $1.07 billion"
      ],
      "text/plain": [
       "<IPython.core.display.Markdown object>"
      ]
     },
     "metadata": {},
     "output_type": "display_data"
    },
    {
     "data": {
      "text/markdown": [
       "Revenue increase\n",
       "26.7\n",
       "2014 4Q"
      ],
      "text/plain": [
       "<IPython.core.display.Markdown object>"
      ]
     },
     "metadata": {},
     "output_type": "display_data"
    },
    {
     "data": {
      "text/markdown": [
       "  Comparable restaurant sales increased 16.1%"
      ],
      "text/plain": [
       "<IPython.core.display.Markdown object>"
      ]
     },
     "metadata": {},
     "output_type": "display_data"
    },
    {
     "data": {
      "text/markdown": [
       "Comparable restaurant sales increase\n",
       "16.1\n",
       "2014 4Q"
      ],
      "text/plain": [
       "<IPython.core.display.Markdown object>"
      ]
     },
     "metadata": {},
     "output_type": "display_data"
    },
    {
     "data": {
      "text/markdown": [
       "  Restaurant level operating margin was 26.6%, an increase of 100 basis points"
      ],
      "text/plain": [
       "<IPython.core.display.Markdown object>"
      ]
     },
     "metadata": {},
     "output_type": "display_data"
    },
    {
     "data": {
      "text/markdown": [
       "Restaurant level operating margin\n",
       "26.6\n",
       "2014 Q4"
      ],
      "text/plain": [
       "<IPython.core.display.Markdown object>"
      ]
     },
     "metadata": {},
     "output_type": "display_data"
    },
    {
     "data": {
      "text/markdown": [
       "Increase in operating margin\n",
       "100\n",
       "2014 4Q"
      ],
      "text/plain": [
       "<IPython.core.display.Markdown object>"
      ]
     },
     "metadata": {},
     "output_type": "display_data"
    },
    {
     "data": {
      "text/markdown": [
       "  Net income was $121.2 million, an increase of 52.3%"
      ],
      "text/plain": [
       "<IPython.core.display.Markdown object>"
      ]
     },
     "metadata": {},
     "output_type": "display_data"
    },
    {
     "data": {
      "text/markdown": [
       "Net income\n",
       "121.2\n",
       "2014 4Q"
      ],
      "text/plain": [
       "<IPython.core.display.Markdown object>"
      ]
     },
     "metadata": {},
     "output_type": "display_data"
    },
    {
     "data": {
      "text/markdown": [
       "Increase in net income\n",
       "52.3\n",
       "2014 Q4"
      ],
      "text/plain": [
       "<IPython.core.display.Markdown object>"
      ]
     },
     "metadata": {},
     "output_type": "display_data"
    },
    {
     "data": {
      "text/markdown": [
       "  Diluted earnings per share was $3.84, an increase of 51.8%"
      ],
      "text/plain": [
       "<IPython.core.display.Markdown object>"
      ]
     },
     "metadata": {},
     "output_type": "display_data"
    },
    {
     "data": {
      "text/markdown": [
       "Diluted earnings per share\n",
       "3.84\n",
       "2014 4Q"
      ],
      "text/plain": [
       "<IPython.core.display.Markdown object>"
      ]
     },
     "metadata": {},
     "output_type": "display_data"
    },
    {
     "data": {
      "text/markdown": [
       "Increase in diluted earnings per share\n",
       "51.8\n",
       "2014 4Q"
      ],
      "text/plain": [
       "<IPython.core.display.Markdown object>"
      ]
     },
     "metadata": {},
     "output_type": "display_data"
    },
    {
     "data": {
      "text/markdown": [
       "  Opened 60 new restaurants"
      ],
      "text/plain": [
       "<IPython.core.display.Markdown object>"
      ]
     },
     "metadata": {},
     "output_type": "display_data"
    },
    {
     "data": {
      "text/markdown": [
       "Number of new restaurants opened\n",
       "60\n",
       "2014 4Q"
      ],
      "text/plain": [
       "<IPython.core.display.Markdown object>"
      ]
     },
     "metadata": {},
     "output_type": "display_data"
    },
    {
     "data": {
      "text/markdown": [
       "  Revenue increased 27.8% to $4.11 billion"
      ],
      "text/plain": [
       "<IPython.core.display.Markdown object>"
      ]
     },
     "metadata": {},
     "output_type": "display_data"
    },
    {
     "data": {
      "text/markdown": [
       "Revenue increase\n",
       "27.8\n",
       "2014 Full Year"
      ],
      "text/plain": [
       "<IPython.core.display.Markdown object>"
      ]
     },
     "metadata": {},
     "output_type": "display_data"
    },
    {
     "data": {
      "text/markdown": [
       "Revenue\n",
       "4.11\n",
       "2014 Full Year"
      ],
      "text/plain": [
       "<IPython.core.display.Markdown object>"
      ]
     },
     "metadata": {},
     "output_type": "display_data"
    },
    {
     "data": {
      "text/markdown": [
       "  Comparable restaurant sales increased 16.8%"
      ],
      "text/plain": [
       "<IPython.core.display.Markdown object>"
      ]
     },
     "metadata": {},
     "output_type": "display_data"
    },
    {
     "data": {
      "text/markdown": [
       "Comparable restaurant sales increase\n",
       "16.8\n",
       "2014 Full Year"
      ],
      "text/plain": [
       "<IPython.core.display.Markdown object>"
      ]
     },
     "metadata": {},
     "output_type": "display_data"
    },
    {
     "data": {
      "text/markdown": [
       "  Restaurant level operating margin was 27.2%, an increase of 60 basis points"
      ],
      "text/plain": [
       "<IPython.core.display.Markdown object>"
      ]
     },
     "metadata": {},
     "output_type": "display_data"
    },
    {
     "data": {
      "text/markdown": [
       "Restaurant level operating margin\n",
       "27.2\n",
       "2014 Full Year"
      ],
      "text/plain": [
       "<IPython.core.display.Markdown object>"
      ]
     },
     "metadata": {},
     "output_type": "display_data"
    },
    {
     "data": {
      "text/markdown": [
       "Increase in operating margin\n",
       "60\n",
       "2014 Full Year"
      ],
      "text/plain": [
       "<IPython.core.display.Markdown object>"
      ]
     },
     "metadata": {},
     "output_type": "display_data"
    },
    {
     "data": {
      "text/markdown": [
       "  Net income was $445.4 million, an increase of 36.0%"
      ],
      "text/plain": [
       "<IPython.core.display.Markdown object>"
      ]
     },
     "metadata": {},
     "output_type": "display_data"
    },
    {
     "data": {
      "text/markdown": [
       "Net income\n",
       "445.4\n",
       "2014 Full Year"
      ],
      "text/plain": [
       "<IPython.core.display.Markdown object>"
      ]
     },
     "metadata": {},
     "output_type": "display_data"
    },
    {
     "data": {
      "text/markdown": [
       "Increase in net income\n",
       "36.0\n",
       "2014 Full Year"
      ],
      "text/plain": [
       "<IPython.core.display.Markdown object>"
      ]
     },
     "metadata": {},
     "output_type": "display_data"
    },
    {
     "data": {
      "text/markdown": [
       "  Diluted earnings per share was $14.13, an increase of 35.0%"
      ],
      "text/plain": [
       "<IPython.core.display.Markdown object>"
      ]
     },
     "metadata": {},
     "output_type": "display_data"
    },
    {
     "data": {
      "text/markdown": [
       "Diluted earnings per share\n",
       "14.13\n",
       "2014 Full Year"
      ],
      "text/plain": [
       "<IPython.core.display.Markdown object>"
      ]
     },
     "metadata": {},
     "output_type": "display_data"
    },
    {
     "data": {
      "text/markdown": [
       "Increase in diluted earnings per share\n",
       "35.0\n",
       "2014 Full Year"
      ],
      "text/plain": [
       "<IPython.core.display.Markdown object>"
      ]
     },
     "metadata": {},
     "output_type": "display_data"
    },
    {
     "data": {
      "text/markdown": [
       "  Opened 192 new restaurants"
      ],
      "text/plain": [
       "<IPython.core.display.Markdown object>"
      ]
     },
     "metadata": {},
     "output_type": "display_data"
    },
    {
     "data": {
      "text/markdown": [
       "Number of new restaurants opened\n",
       "192\n",
       "2014 Full Year"
      ],
      "text/plain": [
       "<IPython.core.display.Markdown object>"
      ]
     },
     "metadata": {},
     "output_type": "display_data"
    },
    {
     "data": {
      "text/markdown": [
       "Revenue for the quarter was $1.07 billion, up 26.7% from the prior year period."
      ],
      "text/plain": [
       "<IPython.core.display.Markdown object>"
      ]
     },
     "metadata": {},
     "output_type": "display_data"
    },
    {
     "data": {
      "text/markdown": [
       "Revenue\n",
       "1.07\n",
       "2014 Q4"
      ],
      "text/plain": [
       "<IPython.core.display.Markdown object>"
      ]
     },
     "metadata": {},
     "output_type": "display_data"
    },
    {
     "data": {
      "text/markdown": [
       "Revenue growth rate\n",
       "26.7\n",
       "2014 4Q"
      ],
      "text/plain": [
       "<IPython.core.display.Markdown object>"
      ]
     },
     "metadata": {},
     "output_type": "display_data"
    },
    {
     "data": {
      "text/markdown": [
       "The growth in revenue was the result of a 16.1% increase in comparable restaurant sales and new restaurant openings."
      ],
      "text/plain": [
       "<IPython.core.display.Markdown object>"
      ]
     },
     "metadata": {},
     "output_type": "display_data"
    },
    {
     "data": {
      "text/markdown": [
       "Increase in comparable restaurant sales\n",
       "16.1\n",
       "2014 4Q"
      ],
      "text/plain": [
       "<IPython.core.display.Markdown object>"
      ]
     },
     "metadata": {},
     "output_type": "display_data"
    },
    {
     "data": {
      "text/markdown": [
       "During the quarter we opened 60 new restaurants, bringing the total restaurant count to 1,783."
      ],
      "text/plain": [
       "<IPython.core.display.Markdown object>"
      ]
     },
     "metadata": {},
     "output_type": "display_data"
    },
    {
     "data": {
      "text/markdown": [
       "Number of new restaurants opened\n",
       "60\n",
       "2014 Q4"
      ],
      "text/plain": [
       "<IPython.core.display.Markdown object>"
      ]
     },
     "metadata": {},
     "output_type": "display_data"
    },
    {
     "data": {
      "text/markdown": [
       "Total restaurant count\n",
       "1783\n",
       "2014 4Q"
      ],
      "text/plain": [
       "<IPython.core.display.Markdown object>"
      ]
     },
     "metadata": {},
     "output_type": "display_data"
    },
    {
     "data": {
      "text/markdown": [
       "Food costs were 35.0% of revenue, an increase of 110 basis points due primarily to higher dairy and beef costs, partially offset by the benefit from the menu price increase."
      ],
      "text/plain": [
       "<IPython.core.display.Markdown object>"
      ]
     },
     "metadata": {},
     "output_type": "display_data"
    },
    {
     "data": {
      "text/markdown": [
       "Food costs as a percentage of revenue\n",
       "35.0\n",
       "2014 4Q"
      ],
      "text/plain": [
       "<IPython.core.display.Markdown object>"
      ]
     },
     "metadata": {},
     "output_type": "display_data"
    },
    {
     "data": {
      "text/markdown": [
       "Increase in food costs\n",
       "110\n",
       "2014 4Q"
      ],
      "text/plain": [
       "<IPython.core.display.Markdown object>"
      ]
     },
     "metadata": {},
     "output_type": "display_data"
    },
    {
     "data": {
      "text/markdown": [
       "Restaurant level operating margin was 26.6% in the quarter, an increase of 100 basis points from the prior year period."
      ],
      "text/plain": [
       "<IPython.core.display.Markdown object>"
      ]
     },
     "metadata": {},
     "output_type": "display_data"
    },
    {
     "data": {
      "text/markdown": [
       "Restaurant level operating margin\n",
       "26.6\n",
       "2014 4Q"
      ],
      "text/plain": [
       "<IPython.core.display.Markdown object>"
      ]
     },
     "metadata": {},
     "output_type": "display_data"
    },
    {
     "data": {
      "text/markdown": [
       "Increase in restaurant level operating margin\n",
       "100\n",
       "2014 4Q"
      ],
      "text/plain": [
       "<IPython.core.display.Markdown object>"
      ]
     },
     "metadata": {},
     "output_type": "display_data"
    },
    {
     "data": {
      "text/markdown": [
       "General and administrative expenses were 5.7% of revenue, down 90 basis points from the prior year primarily due to the timing of our accrual for annual bonus and increased acceleration of stock compensation expense into the first three quarters of the year as another officer achieved retiree status during 2014.<hr /><hr />Net income for the fourth quarter of 2014 was $121.2 million, or $3.84 per diluted share, compared to $79.6 million, or $2.53 per diluted share, in the fourth quarter of 2013."
      ],
      "text/plain": [
       "<IPython.core.display.Markdown object>"
      ]
     },
     "metadata": {},
     "output_type": "display_data"
    },
    {
     "data": {
      "text/markdown": [
       "General and administrative expenses as a percentage of revenue\n",
       "5.7\n",
       "2014 Q4"
      ],
      "text/plain": [
       "<IPython.core.display.Markdown object>"
      ]
     },
     "metadata": {},
     "output_type": "display_data"
    },
    {
     "data": {
      "text/markdown": [
       "Decrease in general and administrative expenses\n",
       "90\n",
       "2014 4Q"
      ],
      "text/plain": [
       "<IPython.core.display.Markdown object>"
      ]
     },
     "metadata": {},
     "output_type": "display_data"
    },
    {
     "data": {
      "text/markdown": [
       "Net income for the fourth quarter of 2014\n",
       "121.2\n",
       "2014 Q4"
      ],
      "text/plain": [
       "<IPython.core.display.Markdown object>"
      ]
     },
     "metadata": {},
     "output_type": "display_data"
    },
    {
     "data": {
      "text/markdown": [
       "Diluted earnings per share for the fourth quarter of 2014\n",
       "3.84\n",
       "2014 Q4"
      ],
      "text/plain": [
       "<IPython.core.display.Markdown object>"
      ]
     },
     "metadata": {},
     "output_type": "display_data"
    },
    {
     "data": {
      "text/markdown": [
       "Net income for the fourth quarter of 2013\n",
       "79.6\n",
       "2013 4Q"
      ],
      "text/plain": [
       "<IPython.core.display.Markdown object>"
      ]
     },
     "metadata": {},
     "output_type": "display_data"
    },
    {
     "data": {
      "text/markdown": [
       "Diluted earnings per share for the fourth quarter of 2013\n",
       "2.53\n",
       "2013 4Q"
      ],
      "text/plain": [
       "<IPython.core.display.Markdown object>"
      ]
     },
     "metadata": {},
     "output_type": "display_data"
    },
    {
     "data": {
      "text/markdown": [
       "Revenue for the full year of 2014 was $4.11 billion, up 27.8% from the prior year."
      ],
      "text/plain": [
       "<IPython.core.display.Markdown object>"
      ]
     },
     "metadata": {},
     "output_type": "display_data"
    },
    {
     "data": {
      "text/markdown": [
       "Revenue\n",
       "4.11\n",
       "2014 Full Year"
      ],
      "text/plain": [
       "<IPython.core.display.Markdown object>"
      ]
     },
     "metadata": {},
     "output_type": "display_data"
    },
    {
     "data": {
      "text/markdown": [
       "Revenue growth rate\n",
       "27.8\n",
       "2014 Full Year"
      ],
      "text/plain": [
       "<IPython.core.display.Markdown object>"
      ]
     },
     "metadata": {},
     "output_type": "display_data"
    },
    {
     "data": {
      "text/markdown": [
       "The growth in revenue was the result of a 16.8% increase in comparable restaurant sales and new restaurant openings."
      ],
      "text/plain": [
       "<IPython.core.display.Markdown object>"
      ]
     },
     "metadata": {},
     "output_type": "display_data"
    },
    {
     "data": {
      "text/markdown": [
       "Increase in comparable restaurant sales\n",
       "16.8\n",
       "2014 Full Year"
      ],
      "text/plain": [
       "<IPython.core.display.Markdown object>"
      ]
     },
     "metadata": {},
     "output_type": "display_data"
    },
    {
     "data": {
      "text/markdown": [
       "During the full year, we opened 192 new restaurants."
      ],
      "text/plain": [
       "<IPython.core.display.Markdown object>"
      ]
     },
     "metadata": {},
     "output_type": "display_data"
    },
    {
     "data": {
      "text/markdown": [
       "Number of new restaurants opened\n",
       "192\n",
       "2014 Full Year"
      ],
      "text/plain": [
       "<IPython.core.display.Markdown object>"
      ]
     },
     "metadata": {},
     "output_type": "display_data"
    },
    {
     "data": {
      "text/markdown": [
       "Food costs were 34.6% of revenue, an increase of 120 basis points basis points due primarily to higher beef, avocado and dairy costs, partially offset by the menu price increase."
      ],
      "text/plain": [
       "<IPython.core.display.Markdown object>"
      ]
     },
     "metadata": {},
     "output_type": "display_data"
    },
    {
     "data": {
      "text/markdown": [
       "Food costs as a percentage of revenue\n",
       "34.6\n",
       "2014 Full Year"
      ],
      "text/plain": [
       "<IPython.core.display.Markdown object>"
      ]
     },
     "metadata": {},
     "output_type": "display_data"
    },
    {
     "data": {
      "text/markdown": [
       "Increase in food costs\n",
       "120\n",
       "2014 Full Year"
      ],
      "text/plain": [
       "<IPython.core.display.Markdown object>"
      ]
     },
     "metadata": {},
     "output_type": "display_data"
    },
    {
     "data": {
      "text/markdown": [
       "Restaurant level operating margin was 27.2% for the full year 2014, an increase of 60 basis points from the prior year."
      ],
      "text/plain": [
       "<IPython.core.display.Markdown object>"
      ]
     },
     "metadata": {},
     "output_type": "display_data"
    },
    {
     "data": {
      "text/markdown": [
       "Restaurant level operating margin\n",
       "27.2\n",
       "2014 Full Year"
      ],
      "text/plain": [
       "<IPython.core.display.Markdown object>"
      ]
     },
     "metadata": {},
     "output_type": "display_data"
    },
    {
     "data": {
      "text/markdown": [
       "Increase in restaurant level operating margin\n",
       "60\n",
       "2014 Full Year"
      ],
      "text/plain": [
       "<IPython.core.display.Markdown object>"
      ]
     },
     "metadata": {},
     "output_type": "display_data"
    },
    {
     "data": {
      "text/markdown": [
       "General and administrative expenses for the full year 2014 were 6.7% of revenue, 40 basis points higher than the prior year."
      ],
      "text/plain": [
       "<IPython.core.display.Markdown object>"
      ]
     },
     "metadata": {},
     "output_type": "display_data"
    },
    {
     "data": {
      "text/markdown": [
       "General and administrative expenses as a percentage of revenue\n",
       "6.7\n",
       "2014 Full Year"
      ],
      "text/plain": [
       "<IPython.core.display.Markdown object>"
      ]
     },
     "metadata": {},
     "output_type": "display_data"
    },
    {
     "data": {
      "text/markdown": [
       "Increase in general and administrative expenses\n",
       "40\n",
       "2014 Full Year"
      ],
      "text/plain": [
       "<IPython.core.display.Markdown object>"
      ]
     },
     "metadata": {},
     "output_type": "display_data"
    },
    {
     "data": {
      "text/markdown": [
       "Net income for the full year 2014 was $445.4 million, or $14.13 per diluted share, compared to $327.4 million, or $10.47 per diluted share for 2013."
      ],
      "text/plain": [
       "<IPython.core.display.Markdown object>"
      ]
     },
     "metadata": {},
     "output_type": "display_data"
    },
    {
     "data": {
      "text/markdown": [
       "Net income for the full year 2014\n",
       "445.4\n",
       "2014 Full Year"
      ],
      "text/plain": [
       "<IPython.core.display.Markdown object>"
      ]
     },
     "metadata": {},
     "output_type": "display_data"
    },
    {
     "data": {
      "text/markdown": [
       "Diluted earnings per share for the full year 2014\n",
       "14.13\n",
       "2014 Full Year"
      ],
      "text/plain": [
       "<IPython.core.display.Markdown object>"
      ]
     },
     "metadata": {},
     "output_type": "display_data"
    },
    {
     "data": {
      "text/markdown": [
       "Net income for the full year 2013\n",
       "327.4\n",
       "2013 Full Year"
      ],
      "text/plain": [
       "<IPython.core.display.Markdown object>"
      ]
     },
     "metadata": {},
     "output_type": "display_data"
    },
    {
     "data": {
      "text/markdown": [
       "Diluted earnings per share for the full year 2013\n",
       "10.47\n",
       "2013 Full Year"
      ],
      "text/plain": [
       "<IPython.core.display.Markdown object>"
      ]
     },
     "metadata": {},
     "output_type": "display_data"
    },
    {
     "data": {
      "text/markdown": [
       "  190  205 new restaurant openings"
      ],
      "text/plain": [
       "<IPython.core.display.Markdown object>"
      ]
     },
     "metadata": {},
     "output_type": "display_data"
    },
    {
     "data": {
      "text/markdown": [
       "New restaurant openings\n",
       "190-205\n",
       "(Expected) 2015 Full Year"
      ],
      "text/plain": [
       "<IPython.core.display.Markdown object>"
      ]
     },
     "metadata": {},
     "output_type": "display_data"
    },
    {
     "data": {
      "text/markdown": [
       "  Low to mid-single digit comparable restaurant sales increases"
      ],
      "text/plain": [
       "<IPython.core.display.Markdown object>"
      ]
     },
     "metadata": {},
     "output_type": "display_data"
    },
    {
     "data": {
      "text/markdown": [
       "Comparable restaurant sales increase\n",
       "low to mid-single digit\n",
       "(Expected) 2015 Full Year"
      ],
      "text/plain": [
       "<IPython.core.display.Markdown object>"
      ]
     },
     "metadata": {},
     "output_type": "display_data"
    },
    {
     "data": {
      "text/markdown": [
       "  An estimated effective tax rate of 39.0%, which excludes federal work opportunity and R&D credits, which have not been renewed for 2015."
      ],
      "text/plain": [
       "<IPython.core.display.Markdown object>"
      ]
     },
     "metadata": {},
     "output_type": "display_data"
    },
    {
     "data": {
      "text/markdown": [
       "Estimated effective tax rate\n",
       "39.0\n",
       "(Expected) 2015 Full Year"
      ],
      "text/plain": [
       "<IPython.core.display.Markdown object>"
      ]
     },
     "metadata": {},
     "output_type": "display_data"
    },
    {
     "data": {
      "text/markdown": [
       "|  &nbsp;  |    |  Revenue increased 26.7% to $1.07 billion  |\n",
       "|  ---  |  ---  |  ---  |"
      ],
      "text/plain": [
       "<IPython.core.display.Markdown object>"
      ]
     },
     "metadata": {},
     "output_type": "display_data"
    },
    {
     "data": {
      "text/markdown": [
       "Revenue\n",
       "1.07 billion\n",
       "None"
      ],
      "text/plain": [
       "<IPython.core.display.Markdown object>"
      ]
     },
     "metadata": {},
     "output_type": "display_data"
    },
    {
     "data": {
      "text/markdown": [
       "|  &nbsp;  |    |  Comparable restaurant sales increased 16.1%  |\n",
       "|  ---  |  ---  |  ---  |"
      ],
      "text/plain": [
       "<IPython.core.display.Markdown object>"
      ]
     },
     "metadata": {},
     "output_type": "display_data"
    },
    {
     "data": {
      "text/markdown": [
       "Comparable restaurant sales increase\n",
       "16.1\n",
       "None"
      ],
      "text/plain": [
       "<IPython.core.display.Markdown object>"
      ]
     },
     "metadata": {},
     "output_type": "display_data"
    },
    {
     "data": {
      "text/markdown": [
       "|  &nbsp;  |    |  Restaurant level operating margin was 26.6%, an increase of 100 basis points  |\n",
       "|  ---  |  ---  |  ---  |"
      ],
      "text/plain": [
       "<IPython.core.display.Markdown object>"
      ]
     },
     "metadata": {},
     "output_type": "display_data"
    },
    {
     "data": {
      "text/markdown": [
       "Restaurant level operating margin\n",
       "2660\n",
       "None"
      ],
      "text/plain": [
       "<IPython.core.display.Markdown object>"
      ]
     },
     "metadata": {},
     "output_type": "display_data"
    },
    {
     "data": {
      "text/markdown": [
       "|  &nbsp;  |    |  Net income was $121.2 million, an increase of 52.3%  |\n",
       "|  ---  |  ---  |  ---  |"
      ],
      "text/plain": [
       "<IPython.core.display.Markdown object>"
      ]
     },
     "metadata": {},
     "output_type": "display_data"
    },
    {
     "data": {
      "text/markdown": [
       "Net income\n",
       "121.2\n",
       "None"
      ],
      "text/plain": [
       "<IPython.core.display.Markdown object>"
      ]
     },
     "metadata": {},
     "output_type": "display_data"
    },
    {
     "data": {
      "text/markdown": [
       "|  &nbsp;  |    |  Diluted earnings per share was $3.84, an increase of 51.8%  |\n",
       "|  ---  |  ---  |  ---  |"
      ],
      "text/plain": [
       "<IPython.core.display.Markdown object>"
      ]
     },
     "metadata": {},
     "output_type": "display_data"
    },
    {
     "data": {
      "text/markdown": [
       "Diluted earnings per share\n",
       "3.84\n",
       "None"
      ],
      "text/plain": [
       "<IPython.core.display.Markdown object>"
      ]
     },
     "metadata": {},
     "output_type": "display_data"
    },
    {
     "data": {
      "text/markdown": [
       "|  &nbsp;  |    |  Revenue increased 27.8% to $4.11 billion  |\n",
       "|  ---  |  ---  |  ---  |"
      ],
      "text/plain": [
       "<IPython.core.display.Markdown object>"
      ]
     },
     "metadata": {},
     "output_type": "display_data"
    },
    {
     "data": {
      "text/markdown": [
       "Revenue\n",
       "4.11\n",
       "None"
      ],
      "text/plain": [
       "<IPython.core.display.Markdown object>"
      ]
     },
     "metadata": {},
     "output_type": "display_data"
    },
    {
     "data": {
      "text/markdown": [
       "|  &nbsp;  |    |  Comparable restaurant sales increased 16.8%  |\n",
       "|  ---  |  ---  |  ---  |"
      ],
      "text/plain": [
       "<IPython.core.display.Markdown object>"
      ]
     },
     "metadata": {},
     "output_type": "display_data"
    },
    {
     "data": {
      "text/markdown": [
       "Comparable restaurant sales increase\n",
       "16.8\n",
       "None"
      ],
      "text/plain": [
       "<IPython.core.display.Markdown object>"
      ]
     },
     "metadata": {},
     "output_type": "display_data"
    },
    {
     "data": {
      "text/markdown": [
       "|  &nbsp;  |    |  Restaurant level operating margin was 27.2%, an increase of 60 basis points  |\n",
       "|  ---  |  ---  |  ---  |"
      ],
      "text/plain": [
       "<IPython.core.display.Markdown object>"
      ]
     },
     "metadata": {},
     "output_type": "display_data"
    },
    {
     "data": {
      "text/markdown": [
       "Restaurant level operating margin\n",
       "2720\n",
       "None"
      ],
      "text/plain": [
       "<IPython.core.display.Markdown object>"
      ]
     },
     "metadata": {},
     "output_type": "display_data"
    },
    {
     "data": {
      "text/markdown": [
       "|  &nbsp;  |    |  Net income was $445.4 million, an increase of 36.0%  |\n",
       "|  ---  |  ---  |  ---  |"
      ],
      "text/plain": [
       "<IPython.core.display.Markdown object>"
      ]
     },
     "metadata": {},
     "output_type": "display_data"
    },
    {
     "data": {
      "text/markdown": [
       "Net income\n",
       "445.4\n",
       "None"
      ],
      "text/plain": [
       "<IPython.core.display.Markdown object>"
      ]
     },
     "metadata": {},
     "output_type": "display_data"
    },
    {
     "data": {
      "text/markdown": [
       "|  &nbsp;  |    |  Diluted earnings per share was $14.13, an increase of 35.0%  |\n",
       "|  ---  |  ---  |  ---  |"
      ],
      "text/plain": [
       "<IPython.core.display.Markdown object>"
      ]
     },
     "metadata": {},
     "output_type": "display_data"
    },
    {
     "data": {
      "text/markdown": [
       "Diluted earnings per share\n",
       "14.13\n",
       "None"
      ],
      "text/plain": [
       "<IPython.core.display.Markdown object>"
      ]
     },
     "metadata": {},
     "output_type": "display_data"
    },
    {
     "data": {
      "text/markdown": [
       "|  &nbsp;  |    |  Opened 192 new restaurants  |\n",
       "|  ---  |  ---  |  ---  |"
      ],
      "text/plain": [
       "<IPython.core.display.Markdown object>"
      ]
     },
     "metadata": {},
     "output_type": "display_data"
    },
    {
     "data": {
      "text/markdown": [
       "Number of new restaurants opened\n",
       "192\n",
       "None"
      ],
      "text/plain": [
       "<IPython.core.display.Markdown object>"
      ]
     },
     "metadata": {},
     "output_type": "display_data"
    },
    {
     "data": {
      "text/markdown": [
       "|  &nbsp;  |    |  190  205 new restaurant openings  |\n",
       "|  ---  |  ---  |  ---  |"
      ],
      "text/plain": [
       "<IPython.core.display.Markdown object>"
      ]
     },
     "metadata": {},
     "output_type": "display_data"
    },
    {
     "data": {
      "text/markdown": [
       "New restaurant openings\n",
       "190-205\n",
       "(Expected) 2014 Full Year"
      ],
      "text/plain": [
       "<IPython.core.display.Markdown object>"
      ]
     },
     "metadata": {},
     "output_type": "display_data"
    },
    {
     "data": {
      "text/markdown": [
       "|  &nbsp;  |    |  An estimated effective tax rate of 39.0%, which excludes federal work opportunity and R&D credits, which have not been renewed for 2015.  |\n",
       "|  ---  |  ---  |  ---  |"
      ],
      "text/plain": [
       "<IPython.core.display.Markdown object>"
      ]
     },
     "metadata": {},
     "output_type": "display_data"
    },
    {
     "data": {
      "text/markdown": [
       "Estimated Effective Tax Rate\n",
       "39.0\n",
       "(Expected) 2015 Full Year"
      ],
      "text/plain": [
       "<IPython.core.display.Markdown object>"
      ]
     },
     "metadata": {},
     "output_type": "display_data"
    },
    {
     "data": {
      "text/markdown": [
       "|  &nbsp;  |  Three months ended December 31  |     |     |     |     |     |     |     |     |     |\n",
       "|  ---  |  ---  |  ---  |  ---  |  ---  |  ---  |  ---  |  ---  |  ---  |  ---  |  ---  |\n",
       "|  &nbsp;  |  2014  |     |     |     |     |  2013  |     |     |     |     |\n",
       "|  &nbsp;&nbsp;Revenue  |  $  |  1,069,811  |     |  100.0  |  %  |  $  |  844,147  |     |  100.0  |  %  |\n",
       "|  &nbsp;&nbsp;Restaurant operating costs  |     |     |     |     |     |     |     |     |     |     |\n",
       "|  &nbsp;&nbsp;(Exclusive of depreciation and amortization shown separately below):  |     |     |     |     |     |     |     |     |     |     |\n",
       "|  &nbsp;&nbsp;&nbsp;&nbsp;&nbsp;&nbsp;&nbsp;&nbsp;&nbsp;&nbsp;Food, beverage and packaging  |     |  373,991  |     |  35.0  |     |     |  285,912  |     |  33.9  |     |\n",
       "|  &nbsp;&nbsp;&nbsp;&nbsp;&nbsp;&nbsp;&nbsp;&nbsp;&nbsp;&nbsp;Labor  |     |  237,310  |     |  22.2  |     |     |  193,818  |     |  23.0  |     |\n",
       "|  &nbsp;&nbsp;&nbsp;&nbsp;&nbsp;&nbsp;&nbsp;&nbsp;&nbsp;&nbsp;Occupancy  |     |  60,930  |     |  5.7  |     |     |  52,795  |     |  6.3  |     |\n",
       "|  &nbsp;&nbsp;&nbsp;&nbsp;&nbsp;&nbsp;&nbsp;&nbsp;&nbsp;&nbsp;Other operating costs  |     |  112,732  |     |  10.5  |     |     |  95,389  |     |  11.3  |     |\n",
       "|  &nbsp;&nbsp;General and administrative expenses  |     |  60,929  |     |  5.7  |     |     |  55,844  |     |  6.6  |     |\n",
       "|  &nbsp;&nbsp;Depreciation and amortization  |     |  29,750  |     |  2.8  |     |     |  24,903  |     |  3.0  |     |\n",
       "|  &nbsp;&nbsp;Pre-opening costs  |     |  4,088  |     |  0.4  |     |     |  4,775  |     |  0.6  |     |\n",
       "|  &nbsp;&nbsp;Loss on disposal of assets  |     |  2,209  |     |  0.2  |     |     |  1,607  |     |  0.2  |     |\n",
       "|  &nbsp;&nbsp;&nbsp;&nbsp;&nbsp;&nbsp;Total operating expenses  |     |  881,939  |     |  82.4  |     |     |  715,043  |     |  84.7  |     |\n",
       "|  &nbsp;&nbsp;Income from operations  |     |  187,872  |     |  17.6  |     |     |  129,104  |     |  15.3  |     |\n",
       "|  &nbsp;&nbsp;Interest and other income (expense), net  |     |  885  |     |  0.1  |     |     |  390  |     |    |     |\n",
       "|  &nbsp;&nbsp;Income before income taxes  |     |  188,757  |     |  17.6  |     |     |  129,494  |     |  15.3  |     |\n",
       "|  &nbsp;&nbsp;Provision for income taxes  |     |  (67,523  |  )  |  (6.3  |  )  |     |  (49,872  |  )  |  (5.9  |  )  |\n",
       "|  &nbsp;&nbsp;Net income  |  $  |  121,234  |     |  11.3  |  %  |  $  |  79,622  |     |  9.4  |  %  |\n",
       "|  &nbsp;&nbsp;Other comprehensive income:  |     |     |     |     |     |     |     |     |     |     |\n",
       "|  &nbsp;&nbsp;Foreign currency translation adjustments  |     |  (1,008  |  )  |     |     |     |  222  |     |     |     |\n",
       "|  &nbsp;&nbsp;Comprehensive income  |  $  |  120,226  |     |     |     |  $  |  79,844  |     |     |     |\n",
       "|  &nbsp;&nbsp;Earnings per share:  |     |     |     |     |     |     |     |     |     |     |\n",
       "|  &nbsp;&nbsp;Basic  |  $  |  3.91  |     |     |     |  $  |  2.57  |     |     |     |\n",
       "|  &nbsp;&nbsp;Diluted  |  $  |  3.84  |     |     |     |  $  |  2.53  |     |     |     |\n",
       "|  &nbsp;&nbsp;Weighted average common shares outstanding:  |     |     |     |     |     |     |     |     |     |     |\n",
       "|  &nbsp;&nbsp;Basic  |     |  31,024  |     |     |     |     |  31,019  |     |     |     |\n",
       "|  &nbsp;&nbsp;Diluted  |     |  31,542  |     |     |     |     |  31,425  |     |     |     |"
      ],
      "text/plain": [
       "<IPython.core.display.Markdown object>"
      ]
     },
     "metadata": {},
     "output_type": "display_data"
    },
    {
     "data": {
      "text/markdown": [
       "Revenue\n",
       "1069811\n",
       "2014 Q4"
      ],
      "text/plain": [
       "<IPython.core.display.Markdown object>"
      ]
     },
     "metadata": {},
     "output_type": "display_data"
    },
    {
     "data": {
      "text/markdown": [
       "Revenue\n",
       "844147\n",
       "2013 Q4"
      ],
      "text/plain": [
       "<IPython.core.display.Markdown object>"
      ]
     },
     "metadata": {},
     "output_type": "display_data"
    },
    {
     "data": {
      "text/markdown": [
       "Revenue (percentage)\n",
       "100.0\n",
       "2014 Q4"
      ],
      "text/plain": [
       "<IPython.core.display.Markdown object>"
      ]
     },
     "metadata": {},
     "output_type": "display_data"
    },
    {
     "data": {
      "text/markdown": [
       "Revenue (percentage)\n",
       "100.0\n",
       "2013 Q4"
      ],
      "text/plain": [
       "<IPython.core.display.Markdown object>"
      ]
     },
     "metadata": {},
     "output_type": "display_data"
    },
    {
     "data": {
      "text/markdown": [
       "Food, beverage and packaging Restaurant operating costs\n",
       "373,991\n",
       "2014 Q4"
      ],
      "text/plain": [
       "<IPython.core.display.Markdown object>"
      ]
     },
     "metadata": {},
     "output_type": "display_data"
    },
    {
     "data": {
      "text/markdown": [
       "Food, beverage and packaging Restaurant operating costs\n",
       "285,912\n",
       "2013 Q4"
      ],
      "text/plain": [
       "<IPython.core.display.Markdown object>"
      ]
     },
     "metadata": {},
     "output_type": "display_data"
    },
    {
     "data": {
      "text/markdown": [
       "Food, beverage and packaging Restaurant operating costs (percentage)\n",
       "35.0\n",
       "2014 Q4"
      ],
      "text/plain": [
       "<IPython.core.display.Markdown object>"
      ]
     },
     "metadata": {},
     "output_type": "display_data"
    },
    {
     "data": {
      "text/markdown": [
       "Food, beverage and packaging Restaurant operating costs (percentage)\n",
       "33.9\n",
       "2013 Q4"
      ],
      "text/plain": [
       "<IPython.core.display.Markdown object>"
      ]
     },
     "metadata": {},
     "output_type": "display_data"
    },
    {
     "data": {
      "text/markdown": [
       "Labor Restaurant operating costs\n",
       "237,310\n",
       "2014 Q4"
      ],
      "text/plain": [
       "<IPython.core.display.Markdown object>"
      ]
     },
     "metadata": {},
     "output_type": "display_data"
    },
    {
     "data": {
      "text/markdown": [
       "Labor Restaurant operating costs\n",
       "193,818\n",
       "2013 Q4"
      ],
      "text/plain": [
       "<IPython.core.display.Markdown object>"
      ]
     },
     "metadata": {},
     "output_type": "display_data"
    },
    {
     "data": {
      "text/markdown": [
       "Labor Restaurant operating costs (percentage)\n",
       "22.2\n",
       "2014 Q4"
      ],
      "text/plain": [
       "<IPython.core.display.Markdown object>"
      ]
     },
     "metadata": {},
     "output_type": "display_data"
    },
    {
     "data": {
      "text/markdown": [
       "Labor Restaurant operating costs (percentage)\n",
       "23.0\n",
       "2013 Q4"
      ],
      "text/plain": [
       "<IPython.core.display.Markdown object>"
      ]
     },
     "metadata": {},
     "output_type": "display_data"
    },
    {
     "data": {
      "text/markdown": [
       "Occupancy Restaurant operating costs\n",
       "60930\n",
       "2014 Q4"
      ],
      "text/plain": [
       "<IPython.core.display.Markdown object>"
      ]
     },
     "metadata": {},
     "output_type": "display_data"
    },
    {
     "data": {
      "text/markdown": [
       "Occupancy Restaurant operating costs\n",
       "52795\n",
       "2013 Q4"
      ],
      "text/plain": [
       "<IPython.core.display.Markdown object>"
      ]
     },
     "metadata": {},
     "output_type": "display_data"
    },
    {
     "data": {
      "text/markdown": [
       "Occupancy Restaurant operating costs (percentage)\n",
       "5.7\n",
       "2014 Q4"
      ],
      "text/plain": [
       "<IPython.core.display.Markdown object>"
      ]
     },
     "metadata": {},
     "output_type": "display_data"
    },
    {
     "data": {
      "text/markdown": [
       "Occupancy Restaurant operating costs (percentage)\n",
       "6.3\n",
       "2013 Q4"
      ],
      "text/plain": [
       "<IPython.core.display.Markdown object>"
      ]
     },
     "metadata": {},
     "output_type": "display_data"
    },
    {
     "data": {
      "text/markdown": [
       "Other operating costs Restaurant operating costs\n",
       "112732\n",
       "2014 Q4"
      ],
      "text/plain": [
       "<IPython.core.display.Markdown object>"
      ]
     },
     "metadata": {},
     "output_type": "display_data"
    },
    {
     "data": {
      "text/markdown": [
       "Other operating costs Restaurant operating costs\n",
       "95389\n",
       "2013 Q4"
      ],
      "text/plain": [
       "<IPython.core.display.Markdown object>"
      ]
     },
     "metadata": {},
     "output_type": "display_data"
    },
    {
     "data": {
      "text/markdown": [
       "Other operating costs Restaurant operating costs (percentage)\n",
       "10.5\n",
       "2014 Q4"
      ],
      "text/plain": [
       "<IPython.core.display.Markdown object>"
      ]
     },
     "metadata": {},
     "output_type": "display_data"
    },
    {
     "data": {
      "text/markdown": [
       "Other operating costs Restaurant operating costs (percentage)\n",
       "11.3\n",
       "2013 Q4"
      ],
      "text/plain": [
       "<IPython.core.display.Markdown object>"
      ]
     },
     "metadata": {},
     "output_type": "display_data"
    },
    {
     "data": {
      "text/markdown": [
       "General and administrative expenses\n",
       "60929\n",
       "2014 Q4"
      ],
      "text/plain": [
       "<IPython.core.display.Markdown object>"
      ]
     },
     "metadata": {},
     "output_type": "display_data"
    },
    {
     "data": {
      "text/markdown": [
       "General and administrative expenses\n",
       "55844\n",
       "2013 Q4"
      ],
      "text/plain": [
       "<IPython.core.display.Markdown object>"
      ]
     },
     "metadata": {},
     "output_type": "display_data"
    },
    {
     "data": {
      "text/markdown": [
       "General and administrative expenses (percentage)\n",
       "5.7\n",
       "2014 Q4"
      ],
      "text/plain": [
       "<IPython.core.display.Markdown object>"
      ]
     },
     "metadata": {},
     "output_type": "display_data"
    },
    {
     "data": {
      "text/markdown": [
       "General and administrative expenses (percentage)\n",
       "6.6\n",
       "2013 Q4"
      ],
      "text/plain": [
       "<IPython.core.display.Markdown object>"
      ]
     },
     "metadata": {},
     "output_type": "display_data"
    },
    {
     "data": {
      "text/markdown": [
       "Depreciation and amortization\n",
       "29750\n",
       "2014 Q4"
      ],
      "text/plain": [
       "<IPython.core.display.Markdown object>"
      ]
     },
     "metadata": {},
     "output_type": "display_data"
    },
    {
     "data": {
      "text/markdown": [
       "Depreciation and amortization\n",
       "24903\n",
       "2013 Q4"
      ],
      "text/plain": [
       "<IPython.core.display.Markdown object>"
      ]
     },
     "metadata": {},
     "output_type": "display_data"
    },
    {
     "data": {
      "text/markdown": [
       "Depreciation and amortization (percentage)\n",
       "2.8\n",
       "2014 Q4"
      ],
      "text/plain": [
       "<IPython.core.display.Markdown object>"
      ]
     },
     "metadata": {},
     "output_type": "display_data"
    },
    {
     "data": {
      "text/markdown": [
       "Depreciation and amortization (percentage)\n",
       "3.0\n",
       "2013 Q4"
      ],
      "text/plain": [
       "<IPython.core.display.Markdown object>"
      ]
     },
     "metadata": {},
     "output_type": "display_data"
    },
    {
     "data": {
      "text/markdown": [
       "Pre-opening costs\n",
       "4088\n",
       "2014 Q4"
      ],
      "text/plain": [
       "<IPython.core.display.Markdown object>"
      ]
     },
     "metadata": {},
     "output_type": "display_data"
    },
    {
     "data": {
      "text/markdown": [
       "Pre-opening costs\n",
       "4775\n",
       "2013 Q4"
      ],
      "text/plain": [
       "<IPython.core.display.Markdown object>"
      ]
     },
     "metadata": {},
     "output_type": "display_data"
    },
    {
     "data": {
      "text/markdown": [
       "Pre-opening costs (percentage)\n",
       "0.4\n",
       "2014 Q4"
      ],
      "text/plain": [
       "<IPython.core.display.Markdown object>"
      ]
     },
     "metadata": {},
     "output_type": "display_data"
    },
    {
     "data": {
      "text/markdown": [
       "Pre-opening costs (percentage)\n",
       "0.6\n",
       "2013 Q4"
      ],
      "text/plain": [
       "<IPython.core.display.Markdown object>"
      ]
     },
     "metadata": {},
     "output_type": "display_data"
    },
    {
     "data": {
      "text/markdown": [
       "Loss on disposal of assets\n",
       "2209\n",
       "2014 Q4"
      ],
      "text/plain": [
       "<IPython.core.display.Markdown object>"
      ]
     },
     "metadata": {},
     "output_type": "display_data"
    },
    {
     "data": {
      "text/markdown": [
       "Loss on disposal of assets\n",
       "1607\n",
       "2013 Q4"
      ],
      "text/plain": [
       "<IPython.core.display.Markdown object>"
      ]
     },
     "metadata": {},
     "output_type": "display_data"
    },
    {
     "data": {
      "text/markdown": [
       "Loss on disposal of assets (percentage)\n",
       "0.2\n",
       "2014 Q4"
      ],
      "text/plain": [
       "<IPython.core.display.Markdown object>"
      ]
     },
     "metadata": {},
     "output_type": "display_data"
    },
    {
     "data": {
      "text/markdown": [
       "Loss on disposal of assets (percentage)\n",
       "0.2\n",
       "2013 Q4"
      ],
      "text/plain": [
       "<IPython.core.display.Markdown object>"
      ]
     },
     "metadata": {},
     "output_type": "display_data"
    },
    {
     "data": {
      "text/markdown": [
       "Total operating expenses\n",
       "881,939\n",
       "2014 Q4"
      ],
      "text/plain": [
       "<IPython.core.display.Markdown object>"
      ]
     },
     "metadata": {},
     "output_type": "display_data"
    },
    {
     "data": {
      "text/markdown": [
       "Total operating expenses\n",
       "715,043\n",
       "2013 Q4"
      ],
      "text/plain": [
       "<IPython.core.display.Markdown object>"
      ]
     },
     "metadata": {},
     "output_type": "display_data"
    },
    {
     "data": {
      "text/markdown": [
       "Total operating expenses (percentage)\n",
       "82.4\n",
       "2014 Q4"
      ],
      "text/plain": [
       "<IPython.core.display.Markdown object>"
      ]
     },
     "metadata": {},
     "output_type": "display_data"
    },
    {
     "data": {
      "text/markdown": [
       "Total operating expenses (percentage)\n",
       "84.7\n",
       "2013 Q4"
      ],
      "text/plain": [
       "<IPython.core.display.Markdown object>"
      ]
     },
     "metadata": {},
     "output_type": "display_data"
    },
    {
     "data": {
      "text/markdown": [
       "Income from operations\n",
       "187,872\n",
       "2014 Q4"
      ],
      "text/plain": [
       "<IPython.core.display.Markdown object>"
      ]
     },
     "metadata": {},
     "output_type": "display_data"
    },
    {
     "data": {
      "text/markdown": [
       "Income from operations\n",
       "129,104\n",
       "2013 Q4"
      ],
      "text/plain": [
       "<IPython.core.display.Markdown object>"
      ]
     },
     "metadata": {},
     "output_type": "display_data"
    },
    {
     "data": {
      "text/markdown": [
       "Income from operations (percentage)\n",
       "17.6\n",
       "2014 Q4"
      ],
      "text/plain": [
       "<IPython.core.display.Markdown object>"
      ]
     },
     "metadata": {},
     "output_type": "display_data"
    },
    {
     "data": {
      "text/markdown": [
       "Income from operations (percentage)\n",
       "15.3\n",
       "2013 Q4"
      ],
      "text/plain": [
       "<IPython.core.display.Markdown object>"
      ]
     },
     "metadata": {},
     "output_type": "display_data"
    },
    {
     "data": {
      "text/markdown": [
       "Interest and other income (expense), net\n",
       "885\n",
       "2014 Q4"
      ],
      "text/plain": [
       "<IPython.core.display.Markdown object>"
      ]
     },
     "metadata": {},
     "output_type": "display_data"
    },
    {
     "data": {
      "text/markdown": [
       "Interest and other income (expense), net\n",
       "390\n",
       "2013 Q4"
      ],
      "text/plain": [
       "<IPython.core.display.Markdown object>"
      ]
     },
     "metadata": {},
     "output_type": "display_data"
    },
    {
     "data": {
      "text/markdown": [
       "Interest and other income (expense), net (percentage)\n",
       "0.1\n",
       "2014 Q4"
      ],
      "text/plain": [
       "<IPython.core.display.Markdown object>"
      ]
     },
     "metadata": {},
     "output_type": "display_data"
    },
    {
     "data": {
      "text/markdown": [
       "Interest and other income (expense), net (percentage)\n",
       "0.1\n",
       "2013 Q4"
      ],
      "text/plain": [
       "<IPython.core.display.Markdown object>"
      ]
     },
     "metadata": {},
     "output_type": "display_data"
    },
    {
     "data": {
      "text/markdown": [
       "Income before income taxes\n",
       "188757\n",
       "2014 Q4"
      ],
      "text/plain": [
       "<IPython.core.display.Markdown object>"
      ]
     },
     "metadata": {},
     "output_type": "display_data"
    },
    {
     "data": {
      "text/markdown": [
       "Income before income taxes\n",
       "129494\n",
       "2013 Q4"
      ],
      "text/plain": [
       "<IPython.core.display.Markdown object>"
      ]
     },
     "metadata": {},
     "output_type": "display_data"
    },
    {
     "data": {
      "text/markdown": [
       "Income before income taxes (percentage)\n",
       "17.6\n",
       "2014 Q4"
      ],
      "text/plain": [
       "<IPython.core.display.Markdown object>"
      ]
     },
     "metadata": {},
     "output_type": "display_data"
    },
    {
     "data": {
      "text/markdown": [
       "Income before income taxes (percentage)\n",
       "15.3\n",
       "2013 Q4"
      ],
      "text/plain": [
       "<IPython.core.display.Markdown object>"
      ]
     },
     "metadata": {},
     "output_type": "display_data"
    },
    {
     "data": {
      "text/markdown": [
       "Provision for income taxes\n",
       "-67523\n",
       "2014 Q4"
      ],
      "text/plain": [
       "<IPython.core.display.Markdown object>"
      ]
     },
     "metadata": {},
     "output_type": "display_data"
    },
    {
     "data": {
      "text/markdown": [
       "Provision for income taxes\n",
       "-49872\n",
       "2013 Q4"
      ],
      "text/plain": [
       "<IPython.core.display.Markdown object>"
      ]
     },
     "metadata": {},
     "output_type": "display_data"
    },
    {
     "data": {
      "text/markdown": [
       "Provision for income taxes (percentage)\n",
       "-6.3\n",
       "2014 Q4"
      ],
      "text/plain": [
       "<IPython.core.display.Markdown object>"
      ]
     },
     "metadata": {},
     "output_type": "display_data"
    },
    {
     "data": {
      "text/markdown": [
       "Provision for income taxes (percentage)\n",
       "-5.9\n",
       "2013 Q4"
      ],
      "text/plain": [
       "<IPython.core.display.Markdown object>"
      ]
     },
     "metadata": {},
     "output_type": "display_data"
    },
    {
     "data": {
      "text/markdown": [
       "Net income\n",
       "121234\n",
       "2014 Q4"
      ],
      "text/plain": [
       "<IPython.core.display.Markdown object>"
      ]
     },
     "metadata": {},
     "output_type": "display_data"
    },
    {
     "data": {
      "text/markdown": [
       "Net income\n",
       "79622\n",
       "2013 Q4"
      ],
      "text/plain": [
       "<IPython.core.display.Markdown object>"
      ]
     },
     "metadata": {},
     "output_type": "display_data"
    },
    {
     "data": {
      "text/markdown": [
       "Net income (percentage)\n",
       "11.3\n",
       "2014 Q4"
      ],
      "text/plain": [
       "<IPython.core.display.Markdown object>"
      ]
     },
     "metadata": {},
     "output_type": "display_data"
    },
    {
     "data": {
      "text/markdown": [
       "Net income (percentage)\n",
       "9.4\n",
       "2013 Q4"
      ],
      "text/plain": [
       "<IPython.core.display.Markdown object>"
      ]
     },
     "metadata": {},
     "output_type": "display_data"
    },
    {
     "data": {
      "text/markdown": [
       "Foreign currency translation adjustments\n",
       "-1008\n",
       "2014 Q4"
      ],
      "text/plain": [
       "<IPython.core.display.Markdown object>"
      ]
     },
     "metadata": {},
     "output_type": "display_data"
    },
    {
     "data": {
      "text/markdown": [
       "Foreign currency translation adjustments\n",
       "222\n",
       "2013 Q4"
      ],
      "text/plain": [
       "<IPython.core.display.Markdown object>"
      ]
     },
     "metadata": {},
     "output_type": "display_data"
    },
    {
     "data": {
      "text/markdown": [
       "Comprehensive income\n",
       "120,226\n",
       "2014 Q4"
      ],
      "text/plain": [
       "<IPython.core.display.Markdown object>"
      ]
     },
     "metadata": {},
     "output_type": "display_data"
    },
    {
     "data": {
      "text/markdown": [
       "Comprehensive income\n",
       "79,844\n",
       "2013 Q4"
      ],
      "text/plain": [
       "<IPython.core.display.Markdown object>"
      ]
     },
     "metadata": {},
     "output_type": "display_data"
    },
    {
     "data": {
      "text/markdown": [
       "Earnings per share Basic\n",
       "3.91\n",
       "2014 Q4"
      ],
      "text/plain": [
       "<IPython.core.display.Markdown object>"
      ]
     },
     "metadata": {},
     "output_type": "display_data"
    },
    {
     "data": {
      "text/markdown": [
       "Earnings per share Basic\n",
       "2.57\n",
       "2013 Q4"
      ],
      "text/plain": [
       "<IPython.core.display.Markdown object>"
      ]
     },
     "metadata": {},
     "output_type": "display_data"
    },
    {
     "data": {
      "text/markdown": [
       "Earnings per share Diluted\n",
       "3.84\n",
       "2014 Q4"
      ],
      "text/plain": [
       "<IPython.core.display.Markdown object>"
      ]
     },
     "metadata": {},
     "output_type": "display_data"
    },
    {
     "data": {
      "text/markdown": [
       "Earnings per share Diluted\n",
       "2.53\n",
       "2013 Q4"
      ],
      "text/plain": [
       "<IPython.core.display.Markdown object>"
      ]
     },
     "metadata": {},
     "output_type": "display_data"
    },
    {
     "data": {
      "text/markdown": [
       "Weighted average common shares outstanding Basic\n",
       "31024\n",
       "2014 Q4"
      ],
      "text/plain": [
       "<IPython.core.display.Markdown object>"
      ]
     },
     "metadata": {},
     "output_type": "display_data"
    },
    {
     "data": {
      "text/markdown": [
       "Weighted average common shares outstanding Basic\n",
       "31019\n",
       "2013 Q4"
      ],
      "text/plain": [
       "<IPython.core.display.Markdown object>"
      ]
     },
     "metadata": {},
     "output_type": "display_data"
    },
    {
     "data": {
      "text/markdown": [
       "Weighted average common shares outstanding Diluted\n",
       "31542\n",
       "2014 Q4"
      ],
      "text/plain": [
       "<IPython.core.display.Markdown object>"
      ]
     },
     "metadata": {},
     "output_type": "display_data"
    },
    {
     "data": {
      "text/markdown": [
       "Weighted average common shares outstanding Diluted\n",
       "31425\n",
       "2013 Q4"
      ],
      "text/plain": [
       "<IPython.core.display.Markdown object>"
      ]
     },
     "metadata": {},
     "output_type": "display_data"
    },
    {
     "data": {
      "text/markdown": [
       "|  &nbsp;  |  Years ended December 31  |     |     |     |     |     |     |     |     |     |\n",
       "|  ---  |  ---  |  ---  |  ---  |  ---  |  ---  |  ---  |  ---  |  ---  |  ---  |  ---  |\n",
       "|  &nbsp;  |  2014  |     |     |     |     |  2013  |     |     |     |     |\n",
       "|  &nbsp;&nbsp;Revenue  |  $  |  4,108,269  |     |  100.0  |  %  |  $  |  3,214,591  |     |  100.0  |  %  |\n",
       "|  &nbsp;&nbsp;Restaurant operating costs  |     |     |     |     |     |     |     |     |     |     |\n",
       "|  &nbsp;&nbsp;(Exclusive of depreciation and amortization shown separately below):  |     |     |     |     |     |     |     |     |     |     |\n",
       "|  &nbsp;&nbsp;&nbsp;&nbsp;&nbsp;&nbsp;&nbsp;&nbsp;&nbsp;&nbsp;Food, beverage and packaging  |     |  1,420,994  |     |  34.6  |     |     |  1,073,514  |     |  33.4  |     |\n",
       "|  &nbsp;&nbsp;&nbsp;&nbsp;&nbsp;&nbsp;&nbsp;&nbsp;&nbsp;&nbsp;Labor  |     |  904,407  |     |  22.0  |     |     |  739,800  |     |  23.0  |     |\n",
       "|  &nbsp;&nbsp;&nbsp;&nbsp;&nbsp;&nbsp;&nbsp;&nbsp;&nbsp;&nbsp;Occupancy  |     |  230,868  |     |  5.6  |     |     |  199,107  |     |  6.2  |     |\n",
       "|  &nbsp;&nbsp;&nbsp;&nbsp;&nbsp;&nbsp;&nbsp;&nbsp;&nbsp;&nbsp;Other operating costs  |     |  434,244  |     |  10.6  |     |     |  347,401  |     |  10.8  |     |\n",
       "|  &nbsp;&nbsp;General and administrative expenses  |     |  273,897  |     |  6.7  |     |     |  203,733  |     |  6.3  |     |\n",
       "|  &nbsp;&nbsp;Depreciation and amortization  |     |  110,474  |     |  2.7  |     |     |  96,054  |     |  3.0  |     |\n",
       "|  &nbsp;&nbsp;Pre-opening costs  |     |  15,609  |     |  0.4  |     |     |  15,511  |     |  0.5  |     |\n",
       "|  &nbsp;&nbsp;Loss on disposal of assets  |     |  6,976  |     |  0.2  |     |     |  6,751  |     |  0.2  |     |\n",
       "|  &nbsp;&nbsp;&nbsp;&nbsp;&nbsp;&nbsp;Total operating expenses  |     |  3,397,469  |     |  82.7  |     |     |  2,681,871  |     |  83.4  |     |\n",
       "|  &nbsp;&nbsp;Income from operations  |     |  710,800  |     |  17.3  |     |     |  532,720  |     |  16.6  |     |\n",
       "|  &nbsp;&nbsp;Interest and other income (expense), net  |     |  3,503  |     |  0.1  |     |     |  1,751  |     |  0.1  |     |\n",
       "|  &nbsp;&nbsp;Income before income taxes  |     |  714,303  |     |  17.4  |     |     |  534,471  |     |  16.6  |     |\n",
       "|  &nbsp;&nbsp;Provision for income taxes  |     |  (268,929  |  )  |  (6.5  |  )  |     |  (207,033  |  )  |  (6.4  |  )  |\n",
       "|  &nbsp;&nbsp;Net income  |  $  |  445,374  |     |  10.8  |  %  |  $  |  327,438  |     |  10.2  |  %  |\n",
       "|  &nbsp;&nbsp;Other comprehensive income:  |     |     |     |     |     |     |     |     |     |     |\n",
       "|  &nbsp;&nbsp;Foreign currency translation adjustments  |     |  (2,049  |  )  |     |     |     |  596  |     |     |     |\n",
       "|  &nbsp;&nbsp;Comprehensive income  |  $  |  443,325  |     |     |     |  $  |  328,034  |     |     |     |\n",
       "|  &nbsp;&nbsp;Earnings per share:  |     |     |     |     |     |     |     |     |     |     |\n",
       "|  &nbsp;&nbsp;Basic  |  $  |  14.35  |     |     |     |  $  |  10.58  |     |     |     |\n",
       "|  &nbsp;&nbsp;Diluted  |  $  |  14.13  |     |     |     |  $  |  10.47  |     |     |     |\n",
       "|  &nbsp;&nbsp;Weighted average common shares outstanding:  |     |     |     |     |     |     |     |     |     |     |\n",
       "|  &nbsp;&nbsp;Basic  |     |  31,038  |     |     |     |     |  30,957  |     |     |     |\n",
       "|  &nbsp;&nbsp;Diluted  |     |  31,512  |     |     |     |     |  31,281  |     |     |     |"
      ],
      "text/plain": [
       "<IPython.core.display.Markdown object>"
      ]
     },
     "metadata": {},
     "output_type": "display_data"
    },
    {
     "data": {
      "text/markdown": [
       "Revenue\n",
       "4108269\n",
       "2014 Full Year"
      ],
      "text/plain": [
       "<IPython.core.display.Markdown object>"
      ]
     },
     "metadata": {},
     "output_type": "display_data"
    },
    {
     "data": {
      "text/markdown": [
       "Revenue\n",
       "3214591\n",
       "2013 Full Year"
      ],
      "text/plain": [
       "<IPython.core.display.Markdown object>"
      ]
     },
     "metadata": {},
     "output_type": "display_data"
    },
    {
     "data": {
      "text/markdown": [
       "Revenue (percentage)\n",
       "100.0\n",
       "2014 Full Year"
      ],
      "text/plain": [
       "<IPython.core.display.Markdown object>"
      ]
     },
     "metadata": {},
     "output_type": "display_data"
    },
    {
     "data": {
      "text/markdown": [
       "Revenue (percentage)\n",
       "100.0\n",
       "2013 Full Year"
      ],
      "text/plain": [
       "<IPython.core.display.Markdown object>"
      ]
     },
     "metadata": {},
     "output_type": "display_data"
    },
    {
     "data": {
      "text/markdown": [
       "Food, beverage and packaging Restaurant operating costs\n",
       "1420994\n",
       "2014 Full Year"
      ],
      "text/plain": [
       "<IPython.core.display.Markdown object>"
      ]
     },
     "metadata": {},
     "output_type": "display_data"
    },
    {
     "data": {
      "text/markdown": [
       "Food, beverage and packaging Restaurant operating costs\n",
       "1073514\n",
       "2013 Full Year"
      ],
      "text/plain": [
       "<IPython.core.display.Markdown object>"
      ]
     },
     "metadata": {},
     "output_type": "display_data"
    },
    {
     "data": {
      "text/markdown": [
       "Food, beverage and packaging Restaurant operating costs (percentage)\n",
       "34.6\n",
       "2014 Full Year"
      ],
      "text/plain": [
       "<IPython.core.display.Markdown object>"
      ]
     },
     "metadata": {},
     "output_type": "display_data"
    },
    {
     "data": {
      "text/markdown": [
       "Food, beverage and packaging Restaurant operating costs (percentage)\n",
       "33.4\n",
       "2013 Full Year"
      ],
      "text/plain": [
       "<IPython.core.display.Markdown object>"
      ]
     },
     "metadata": {},
     "output_type": "display_data"
    },
    {
     "data": {
      "text/markdown": [
       "Labor Restaurant operating costs\n",
       "904,407\n",
       "2014 Full Year"
      ],
      "text/plain": [
       "<IPython.core.display.Markdown object>"
      ]
     },
     "metadata": {},
     "output_type": "display_data"
    },
    {
     "data": {
      "text/markdown": [
       "Labor Restaurant operating costs\n",
       "739,800\n",
       "2013 Full Year"
      ],
      "text/plain": [
       "<IPython.core.display.Markdown object>"
      ]
     },
     "metadata": {},
     "output_type": "display_data"
    },
    {
     "data": {
      "text/markdown": [
       "Labor Restaurant operating costs (percentage)\n",
       "22.0\n",
       "2014 Full Year"
      ],
      "text/plain": [
       "<IPython.core.display.Markdown object>"
      ]
     },
     "metadata": {},
     "output_type": "display_data"
    },
    {
     "data": {
      "text/markdown": [
       "Labor Restaurant operating costs (percentage)\n",
       "23.0\n",
       "2013 Full Year"
      ],
      "text/plain": [
       "<IPython.core.display.Markdown object>"
      ]
     },
     "metadata": {},
     "output_type": "display_data"
    },
    {
     "data": {
      "text/markdown": [
       "Occupancy Restaurant operating costs\n",
       "230868\n",
       "2014 Full Year"
      ],
      "text/plain": [
       "<IPython.core.display.Markdown object>"
      ]
     },
     "metadata": {},
     "output_type": "display_data"
    },
    {
     "data": {
      "text/markdown": [
       "Occupancy Restaurant operating costs\n",
       "199107\n",
       "2013 Full Year"
      ],
      "text/plain": [
       "<IPython.core.display.Markdown object>"
      ]
     },
     "metadata": {},
     "output_type": "display_data"
    },
    {
     "data": {
      "text/markdown": [
       "Occupancy Restaurant operating costs (percentage)\n",
       "5.6\n",
       "2014 Full Year"
      ],
      "text/plain": [
       "<IPython.core.display.Markdown object>"
      ]
     },
     "metadata": {},
     "output_type": "display_data"
    },
    {
     "data": {
      "text/markdown": [
       "Occupancy Restaurant operating costs (percentage)\n",
       "6.2\n",
       "2013 Full Year"
      ],
      "text/plain": [
       "<IPython.core.display.Markdown object>"
      ]
     },
     "metadata": {},
     "output_type": "display_data"
    },
    {
     "data": {
      "text/markdown": [
       "Other operating costs Restaurant operating costs\n",
       "434,244\n",
       "2014 Full Year"
      ],
      "text/plain": [
       "<IPython.core.display.Markdown object>"
      ]
     },
     "metadata": {},
     "output_type": "display_data"
    },
    {
     "data": {
      "text/markdown": [
       "Other operating costs Restaurant operating costs\n",
       "347,401\n",
       "2013 Full Year"
      ],
      "text/plain": [
       "<IPython.core.display.Markdown object>"
      ]
     },
     "metadata": {},
     "output_type": "display_data"
    },
    {
     "data": {
      "text/markdown": [
       "Other operating costs Restaurant operating costs (percentage)\n",
       "10.6\n",
       "2014 Full Year"
      ],
      "text/plain": [
       "<IPython.core.display.Markdown object>"
      ]
     },
     "metadata": {},
     "output_type": "display_data"
    },
    {
     "data": {
      "text/markdown": [
       "Other operating costs Restaurant operating costs (percentage)\n",
       "10.8\n",
       "2013 Full Year"
      ],
      "text/plain": [
       "<IPython.core.display.Markdown object>"
      ]
     },
     "metadata": {},
     "output_type": "display_data"
    },
    {
     "data": {
      "text/markdown": [
       "General and administrative expenses\n",
       "273,897\n",
       "2014 Full Year"
      ],
      "text/plain": [
       "<IPython.core.display.Markdown object>"
      ]
     },
     "metadata": {},
     "output_type": "display_data"
    },
    {
     "data": {
      "text/markdown": [
       "General and administrative expenses\n",
       "203,733\n",
       "2013 Full Year"
      ],
      "text/plain": [
       "<IPython.core.display.Markdown object>"
      ]
     },
     "metadata": {},
     "output_type": "display_data"
    },
    {
     "data": {
      "text/markdown": [
       "General and administrative expenses (percentage)\n",
       "6.7\n",
       "2014 Full Year"
      ],
      "text/plain": [
       "<IPython.core.display.Markdown object>"
      ]
     },
     "metadata": {},
     "output_type": "display_data"
    },
    {
     "data": {
      "text/markdown": [
       "General and administrative expenses (percentage)\n",
       "6.3\n",
       "2013 Full Year"
      ],
      "text/plain": [
       "<IPython.core.display.Markdown object>"
      ]
     },
     "metadata": {},
     "output_type": "display_data"
    },
    {
     "data": {
      "text/markdown": [
       "Depreciation and amortization\n",
       "110,474\n",
       "2014 Full Year"
      ],
      "text/plain": [
       "<IPython.core.display.Markdown object>"
      ]
     },
     "metadata": {},
     "output_type": "display_data"
    },
    {
     "data": {
      "text/markdown": [
       "Depreciation and amortization\n",
       "96,054\n",
       "2013 Full Year"
      ],
      "text/plain": [
       "<IPython.core.display.Markdown object>"
      ]
     },
     "metadata": {},
     "output_type": "display_data"
    },
    {
     "data": {
      "text/markdown": [
       "Depreciation and amortization (percentage)\n",
       "2.7\n",
       "2014 Full Year"
      ],
      "text/plain": [
       "<IPython.core.display.Markdown object>"
      ]
     },
     "metadata": {},
     "output_type": "display_data"
    },
    {
     "data": {
      "text/markdown": [
       "Depreciation and amortization (percentage)\n",
       "3.0\n",
       "2013 Full Year"
      ],
      "text/plain": [
       "<IPython.core.display.Markdown object>"
      ]
     },
     "metadata": {},
     "output_type": "display_data"
    },
    {
     "data": {
      "text/markdown": [
       "Pre-opening costs\n",
       "15609\n",
       "2014 Full Year"
      ],
      "text/plain": [
       "<IPython.core.display.Markdown object>"
      ]
     },
     "metadata": {},
     "output_type": "display_data"
    },
    {
     "data": {
      "text/markdown": [
       "Pre-opening costs\n",
       "15511\n",
       "2013 Full Year"
      ],
      "text/plain": [
       "<IPython.core.display.Markdown object>"
      ]
     },
     "metadata": {},
     "output_type": "display_data"
    },
    {
     "data": {
      "text/markdown": [
       "Pre-opening costs (percentage)\n",
       "0.4\n",
       "2014 Full Year"
      ],
      "text/plain": [
       "<IPython.core.display.Markdown object>"
      ]
     },
     "metadata": {},
     "output_type": "display_data"
    },
    {
     "data": {
      "text/markdown": [
       "Pre-opening costs (percentage)\n",
       "0.5\n",
       "2013 Full Year"
      ],
      "text/plain": [
       "<IPython.core.display.Markdown object>"
      ]
     },
     "metadata": {},
     "output_type": "display_data"
    },
    {
     "data": {
      "text/markdown": [
       "Loss on disposal of assets\n",
       "6976\n",
       "2014 Full Year"
      ],
      "text/plain": [
       "<IPython.core.display.Markdown object>"
      ]
     },
     "metadata": {},
     "output_type": "display_data"
    },
    {
     "data": {
      "text/markdown": [
       "Loss on disposal of assets\n",
       "6751\n",
       "2013 Full Year"
      ],
      "text/plain": [
       "<IPython.core.display.Markdown object>"
      ]
     },
     "metadata": {},
     "output_type": "display_data"
    },
    {
     "data": {
      "text/markdown": [
       "Loss on disposal of assets (percentage)\n",
       "0.2\n",
       "2014 Full Year"
      ],
      "text/plain": [
       "<IPython.core.display.Markdown object>"
      ]
     },
     "metadata": {},
     "output_type": "display_data"
    },
    {
     "data": {
      "text/markdown": [
       "Loss on disposal of assets (percentage)\n",
       "0.2\n",
       "2013 Full Year"
      ],
      "text/plain": [
       "<IPython.core.display.Markdown object>"
      ]
     },
     "metadata": {},
     "output_type": "display_data"
    },
    {
     "data": {
      "text/markdown": [
       "Total operating expenses\n",
       "3397469\n",
       "2014 Full Year"
      ],
      "text/plain": [
       "<IPython.core.display.Markdown object>"
      ]
     },
     "metadata": {},
     "output_type": "display_data"
    },
    {
     "data": {
      "text/markdown": [
       "Total operating expenses\n",
       "2681871\n",
       "2013 Full Year"
      ],
      "text/plain": [
       "<IPython.core.display.Markdown object>"
      ]
     },
     "metadata": {},
     "output_type": "display_data"
    },
    {
     "data": {
      "text/markdown": [
       "Total operating expenses (percentage)\n",
       "82.7\n",
       "2014 Full Year"
      ],
      "text/plain": [
       "<IPython.core.display.Markdown object>"
      ]
     },
     "metadata": {},
     "output_type": "display_data"
    },
    {
     "data": {
      "text/markdown": [
       "Total operating expenses (percentage)\n",
       "83.4\n",
       "2013 Full Year"
      ],
      "text/plain": [
       "<IPython.core.display.Markdown object>"
      ]
     },
     "metadata": {},
     "output_type": "display_data"
    },
    {
     "data": {
      "text/markdown": [
       "Income from operations\n",
       "710,800\n",
       "2014 Full Year"
      ],
      "text/plain": [
       "<IPython.core.display.Markdown object>"
      ]
     },
     "metadata": {},
     "output_type": "display_data"
    },
    {
     "data": {
      "text/markdown": [
       "Income from operations\n",
       "532,720\n",
       "2013 Full Year"
      ],
      "text/plain": [
       "<IPython.core.display.Markdown object>"
      ]
     },
     "metadata": {},
     "output_type": "display_data"
    },
    {
     "data": {
      "text/markdown": [
       "Income from operations (percentage)\n",
       "17.3\n",
       "2014 Full Year"
      ],
      "text/plain": [
       "<IPython.core.display.Markdown object>"
      ]
     },
     "metadata": {},
     "output_type": "display_data"
    },
    {
     "data": {
      "text/markdown": [
       "Income from operations (percentage)\n",
       "16.6\n",
       "2013 Full Year"
      ],
      "text/plain": [
       "<IPython.core.display.Markdown object>"
      ]
     },
     "metadata": {},
     "output_type": "display_data"
    },
    {
     "data": {
      "text/markdown": [
       "Interest and other income (expense), net\n",
       "3503\n",
       "2014 Full Year"
      ],
      "text/plain": [
       "<IPython.core.display.Markdown object>"
      ]
     },
     "metadata": {},
     "output_type": "display_data"
    },
    {
     "data": {
      "text/markdown": [
       "Interest and other income (expense), net\n",
       "1751\n",
       "2013 Full Year"
      ],
      "text/plain": [
       "<IPython.core.display.Markdown object>"
      ]
     },
     "metadata": {},
     "output_type": "display_data"
    },
    {
     "data": {
      "text/markdown": [
       "Interest and other income (expense), net (percentage)\n",
       "0.1\n",
       "2014 Full Year"
      ],
      "text/plain": [
       "<IPython.core.display.Markdown object>"
      ]
     },
     "metadata": {},
     "output_type": "display_data"
    },
    {
     "data": {
      "text/markdown": [
       "Interest and other income (expense), net (percentage)\n",
       "0.1\n",
       "2013 Full Year"
      ],
      "text/plain": [
       "<IPython.core.display.Markdown object>"
      ]
     },
     "metadata": {},
     "output_type": "display_data"
    },
    {
     "data": {
      "text/markdown": [
       "Income before income taxes\n",
       "714303\n",
       "2014 Full Year"
      ],
      "text/plain": [
       "<IPython.core.display.Markdown object>"
      ]
     },
     "metadata": {},
     "output_type": "display_data"
    },
    {
     "data": {
      "text/markdown": [
       "Income before income taxes\n",
       "534471\n",
       "2013 Full Year"
      ],
      "text/plain": [
       "<IPython.core.display.Markdown object>"
      ]
     },
     "metadata": {},
     "output_type": "display_data"
    },
    {
     "data": {
      "text/markdown": [
       "Income before income taxes (percentage)\n",
       "17.4\n",
       "2014 Full Year"
      ],
      "text/plain": [
       "<IPython.core.display.Markdown object>"
      ]
     },
     "metadata": {},
     "output_type": "display_data"
    },
    {
     "data": {
      "text/markdown": [
       "Income before income taxes (percentage)\n",
       "16.6\n",
       "2013 Full Year"
      ],
      "text/plain": [
       "<IPython.core.display.Markdown object>"
      ]
     },
     "metadata": {},
     "output_type": "display_data"
    },
    {
     "data": {
      "text/markdown": [
       "Provision for income taxes\n",
       "-268929\n",
       "2014 Full Year"
      ],
      "text/plain": [
       "<IPython.core.display.Markdown object>"
      ]
     },
     "metadata": {},
     "output_type": "display_data"
    },
    {
     "data": {
      "text/markdown": [
       "Provision for income taxes\n",
       "-207033\n",
       "2013 Full Year"
      ],
      "text/plain": [
       "<IPython.core.display.Markdown object>"
      ]
     },
     "metadata": {},
     "output_type": "display_data"
    },
    {
     "data": {
      "text/markdown": [
       "Provision for income taxes (percentage)\n",
       "-6.5\n",
       "2014 Full Year"
      ],
      "text/plain": [
       "<IPython.core.display.Markdown object>"
      ]
     },
     "metadata": {},
     "output_type": "display_data"
    },
    {
     "data": {
      "text/markdown": [
       "Provision for income taxes (percentage)\n",
       "-6.4\n",
       "2013 Full Year"
      ],
      "text/plain": [
       "<IPython.core.display.Markdown object>"
      ]
     },
     "metadata": {},
     "output_type": "display_data"
    },
    {
     "data": {
      "text/markdown": [
       "Net income\n",
       "445,374\n",
       "2014 Full Year"
      ],
      "text/plain": [
       "<IPython.core.display.Markdown object>"
      ]
     },
     "metadata": {},
     "output_type": "display_data"
    },
    {
     "data": {
      "text/markdown": [
       "Net income\n",
       "327,438\n",
       "2013 Full Year"
      ],
      "text/plain": [
       "<IPython.core.display.Markdown object>"
      ]
     },
     "metadata": {},
     "output_type": "display_data"
    },
    {
     "data": {
      "text/markdown": [
       "Net income (percentage)\n",
       "10.8\n",
       "2014 Full Year"
      ],
      "text/plain": [
       "<IPython.core.display.Markdown object>"
      ]
     },
     "metadata": {},
     "output_type": "display_data"
    },
    {
     "data": {
      "text/markdown": [
       "Net income (percentage)\n",
       "10.2\n",
       "2013 Full Year"
      ],
      "text/plain": [
       "<IPython.core.display.Markdown object>"
      ]
     },
     "metadata": {},
     "output_type": "display_data"
    },
    {
     "data": {
      "text/markdown": [
       "Foreign currency translation adjustments\n",
       "-2049\n",
       "2014 Full Year"
      ],
      "text/plain": [
       "<IPython.core.display.Markdown object>"
      ]
     },
     "metadata": {},
     "output_type": "display_data"
    },
    {
     "data": {
      "text/markdown": [
       "Foreign currency translation adjustments\n",
       "596\n",
       "2013 Full Year"
      ],
      "text/plain": [
       "<IPython.core.display.Markdown object>"
      ]
     },
     "metadata": {},
     "output_type": "display_data"
    },
    {
     "data": {
      "text/markdown": [
       "Comprehensive income\n",
       "443,325\n",
       "2014 Full Year"
      ],
      "text/plain": [
       "<IPython.core.display.Markdown object>"
      ]
     },
     "metadata": {},
     "output_type": "display_data"
    },
    {
     "data": {
      "text/markdown": [
       "Comprehensive income\n",
       "328,034\n",
       "2013 Full Year"
      ],
      "text/plain": [
       "<IPython.core.display.Markdown object>"
      ]
     },
     "metadata": {},
     "output_type": "display_data"
    },
    {
     "data": {
      "text/markdown": [
       "Basic earnings per share\n",
       "14.35\n",
       "2014 Full Year"
      ],
      "text/plain": [
       "<IPython.core.display.Markdown object>"
      ]
     },
     "metadata": {},
     "output_type": "display_data"
    },
    {
     "data": {
      "text/markdown": [
       "Basic earnings per share\n",
       "10.58\n",
       "2013 Full Year"
      ],
      "text/plain": [
       "<IPython.core.display.Markdown object>"
      ]
     },
     "metadata": {},
     "output_type": "display_data"
    },
    {
     "data": {
      "text/markdown": [
       "Diluted earnings per share\n",
       "14.13\n",
       "2014 Full Year"
      ],
      "text/plain": [
       "<IPython.core.display.Markdown object>"
      ]
     },
     "metadata": {},
     "output_type": "display_data"
    },
    {
     "data": {
      "text/markdown": [
       "Diluted earnings per share\n",
       "10.47\n",
       "2013 Full Year"
      ],
      "text/plain": [
       "<IPython.core.display.Markdown object>"
      ]
     },
     "metadata": {},
     "output_type": "display_data"
    },
    {
     "data": {
      "text/markdown": [
       "Basic weighted average common shares outstanding\n",
       "31038\n",
       "2014 Full Year"
      ],
      "text/plain": [
       "<IPython.core.display.Markdown object>"
      ]
     },
     "metadata": {},
     "output_type": "display_data"
    },
    {
     "data": {
      "text/markdown": [
       "Basic weighted average common shares outstanding\n",
       "30957\n",
       "2013 Full Year"
      ],
      "text/plain": [
       "<IPython.core.display.Markdown object>"
      ]
     },
     "metadata": {},
     "output_type": "display_data"
    },
    {
     "data": {
      "text/markdown": [
       "Diluted weighted average common shares outstanding\n",
       "31512\n",
       "2014 Full Year"
      ],
      "text/plain": [
       "<IPython.core.display.Markdown object>"
      ]
     },
     "metadata": {},
     "output_type": "display_data"
    },
    {
     "data": {
      "text/markdown": [
       "Diluted weighted average common shares outstanding\n",
       "31281\n",
       "2013 Full Year"
      ],
      "text/plain": [
       "<IPython.core.display.Markdown object>"
      ]
     },
     "metadata": {},
     "output_type": "display_data"
    },
    {
     "data": {
      "text/markdown": [
       "|  &nbsp;  |  December 31  |     |     |     |     |     |\n",
       "|  ---  |  ---  |  ---  |  ---  |  ---  |  ---  |  ---  |\n",
       "|  &nbsp;  |  2014  |     |     |  2013  |     |     |\n",
       "|  &nbsp;&nbsp;Assets  |     |     |     |     |     |     |\n",
       "|  &nbsp;&nbsp;Current assets:  |     |     |     |     |     |     |\n",
       "|  &nbsp;&nbsp;&nbsp;&nbsp;&nbsp;&nbsp;Cash and cash equivalents  |  $  |  419,465  |     |  $  |  323,203  |     |\n",
       "|  &nbsp;&nbsp;&nbsp;&nbsp;&nbsp;&nbsp;Accounts receivable, net of allowance for doubtful accounts of $1,199 and $1,190 as of December 31, 2014 and December 31,\n",
       "2013, respectively  |     |  34,839  |     |     |  24,016  |     |\n",
       "|  &nbsp;&nbsp;&nbsp;&nbsp;&nbsp;&nbsp;Inventory  |     |  15,332  |     |     |  13,044  |     |\n",
       "|  &nbsp;&nbsp;&nbsp;&nbsp;&nbsp;&nbsp;Current deferred tax asset  |     |  18,968  |     |     |  13,212  |     |\n",
       "|  &nbsp;&nbsp;&nbsp;&nbsp;&nbsp;&nbsp;Prepaid expenses and other current assets  |     |  34,795  |     |     |  34,204  |     |\n",
       "|  &nbsp;&nbsp;&nbsp;&nbsp;&nbsp;&nbsp;Income tax receivable  |     |  16,488  |     |     |  3,657  |     |\n",
       "|  &nbsp;&nbsp;&nbsp;&nbsp;&nbsp;&nbsp;Investments  |     |  338,592  |     |     |  254,971  |     |\n",
       "|  &nbsp;&nbsp;Total current assets  |     |  878,479  |     |     |  666,307  |     |\n",
       "|  &nbsp;&nbsp;Leasehold improvements, property and equipment, net  |     |  1,106,984  |     |     |  963,238  |     |\n",
       "|  &nbsp;&nbsp;Long term investments  |     |  496,106  |     |     |  313,863  |     |\n",
       "|  &nbsp;&nbsp;Other assets  |     |  42,777  |     |     |  43,933  |     |\n",
       "|  &nbsp;&nbsp;Goodwill  |     |  21,939  |     |     |  21,939  |     |\n",
       "|  &nbsp;&nbsp;Total assets  |  $  |  2,546,285  |     |  $  |  2,009,280  |     |\n",
       "|  &nbsp;&nbsp;Liabilities and shareholders equity  |     |     |     |     |     |     |\n",
       "|  &nbsp;&nbsp;Current liabilities:  |     |     |     |     |     |     |\n",
       "|  &nbsp;&nbsp;&nbsp;&nbsp;&nbsp;&nbsp;Accounts payable  |  $  |  69,613  |     |  $  |  59,022  |     |\n",
       "|  &nbsp;&nbsp;&nbsp;&nbsp;&nbsp;&nbsp;Accrued payroll and benefits  |     |  73,894  |     |     |  67,195  |     |\n",
       "|  &nbsp;&nbsp;&nbsp;&nbsp;&nbsp;&nbsp;Accrued liabilities  |     |  102,203  |     |     |  73,011  |     |\n",
       "|  &nbsp;&nbsp;Total current liabilities  |     |  245,710  |     |     |  199,228  |     |\n",
       "|  &nbsp;&nbsp;Deferred rent  |     |  219,414  |     |     |  192,739  |     |\n",
       "|  &nbsp;&nbsp;Deferred income tax liability  |     |  40,529  |     |     |  55,434  |     |\n",
       "|  &nbsp;&nbsp;Other liabilities  |     |  28,263  |     |     |  23,591  |     |\n",
       "|  &nbsp;&nbsp;Total liabilities  |     |  533,916  |     |     |  470,992  |     |\n",
       "|  &nbsp;&nbsp;Shareholders equity:  |     |     |     |     |     |     |\n",
       "|  &nbsp;&nbsp;&nbsp;&nbsp;&nbsp;&nbsp;Preferred stock, $0.01 par value, 600,000 shares authorized, no shares issued as of December 31, 2014 and December 31, 2013,\n",
       "respectively  |     |    |     |     |    |     |\n",
       "|  &nbsp;&nbsp;&nbsp;&nbsp;&nbsp;&nbsp;Common stock $0.01 par value, 230,000 shares authorized, and 35,394 and 35,245 shares issued as of December 31, 2014 and\n",
       "December 31, 2013, respectively  |     |  354  |     |     |  352  |     |\n",
       "|  &nbsp;&nbsp;&nbsp;&nbsp;&nbsp;&nbsp;Additional paid-in capital  |     |  1,038,932  |     |     |  919,840  |     |\n",
       "|  &nbsp;&nbsp;&nbsp;&nbsp;&nbsp;&nbsp;Treasury stock, at cost, 4,367 and 4,212 common shares at December 31, 2014 and December 31, 2013, respectively  |     |  (748,759  |  )  |     |  (660,421  |  )  |\n",
       "|  &nbsp;&nbsp;&nbsp;&nbsp;&nbsp;&nbsp;Accumulated other comprehensive income  |     |  (429  |  )  |     |  1,620  |     |\n",
       "|  &nbsp;&nbsp;&nbsp;&nbsp;&nbsp;&nbsp;Retained earnings  |     |  1,722,271  |     |     |  1,276,897  |     |\n",
       "|  &nbsp;&nbsp;Total shareholders equity  |     |  2,012,369  |     |     |  1,538,288  |     |\n",
       "|  &nbsp;&nbsp;Total liabilities and shareholders equity  |  $  |  2,546,285  |     |  $  |  2,009,280  |     |"
      ],
      "text/plain": [
       "<IPython.core.display.Markdown object>"
      ]
     },
     "metadata": {},
     "output_type": "display_data"
    },
    {
     "data": {
      "text/markdown": [
       "Cash and cash equivalents\n",
       "419465\n",
       "2014 Q4"
      ],
      "text/plain": [
       "<IPython.core.display.Markdown object>"
      ]
     },
     "metadata": {},
     "output_type": "display_data"
    },
    {
     "data": {
      "text/markdown": [
       "Cash and cash equivalents\n",
       "323203\n",
       "2013 Q4"
      ],
      "text/plain": [
       "<IPython.core.display.Markdown object>"
      ]
     },
     "metadata": {},
     "output_type": "display_data"
    },
    {
     "data": {
      "text/markdown": [
       "Accounts receivable, net\n",
       "34839\n",
       "2014 Q4"
      ],
      "text/plain": [
       "<IPython.core.display.Markdown object>"
      ]
     },
     "metadata": {},
     "output_type": "display_data"
    },
    {
     "data": {
      "text/markdown": [
       "Accounts receivable, net\n",
       "24016\n",
       "2013 Q4"
      ],
      "text/plain": [
       "<IPython.core.display.Markdown object>"
      ]
     },
     "metadata": {},
     "output_type": "display_data"
    },
    {
     "data": {
      "text/markdown": [
       "Inventory\n",
       "15332\n",
       "2014 Q4"
      ],
      "text/plain": [
       "<IPython.core.display.Markdown object>"
      ]
     },
     "metadata": {},
     "output_type": "display_data"
    },
    {
     "data": {
      "text/markdown": [
       "Inventory\n",
       "13044\n",
       "2013 Q4"
      ],
      "text/plain": [
       "<IPython.core.display.Markdown object>"
      ]
     },
     "metadata": {},
     "output_type": "display_data"
    },
    {
     "data": {
      "text/markdown": [
       "Current deferred tax asset\n",
       "18968\n",
       "2014 Q4"
      ],
      "text/plain": [
       "<IPython.core.display.Markdown object>"
      ]
     },
     "metadata": {},
     "output_type": "display_data"
    },
    {
     "data": {
      "text/markdown": [
       "Current deferred tax asset\n",
       "13212\n",
       "2013 Q4"
      ],
      "text/plain": [
       "<IPython.core.display.Markdown object>"
      ]
     },
     "metadata": {},
     "output_type": "display_data"
    },
    {
     "data": {
      "text/markdown": [
       "Prepaid expenses and other current assets\n",
       "34795\n",
       "2014 Q4"
      ],
      "text/plain": [
       "<IPython.core.display.Markdown object>"
      ]
     },
     "metadata": {},
     "output_type": "display_data"
    },
    {
     "data": {
      "text/markdown": [
       "Prepaid expenses and other current assets\n",
       "34204\n",
       "2013 Q4"
      ],
      "text/plain": [
       "<IPython.core.display.Markdown object>"
      ]
     },
     "metadata": {},
     "output_type": "display_data"
    },
    {
     "data": {
      "text/markdown": [
       "Income tax receivable\n",
       "16488\n",
       "2014 Q4"
      ],
      "text/plain": [
       "<IPython.core.display.Markdown object>"
      ]
     },
     "metadata": {},
     "output_type": "display_data"
    },
    {
     "data": {
      "text/markdown": [
       "Income tax receivable\n",
       "3657\n",
       "2013 Q4"
      ],
      "text/plain": [
       "<IPython.core.display.Markdown object>"
      ]
     },
     "metadata": {},
     "output_type": "display_data"
    },
    {
     "data": {
      "text/markdown": [
       "Investments\n",
       "338592\n",
       "2014 Full Year"
      ],
      "text/plain": [
       "<IPython.core.display.Markdown object>"
      ]
     },
     "metadata": {},
     "output_type": "display_data"
    },
    {
     "data": {
      "text/markdown": [
       "Investments\n",
       "254971\n",
       "2013 Full Year"
      ],
      "text/plain": [
       "<IPython.core.display.Markdown object>"
      ]
     },
     "metadata": {},
     "output_type": "display_data"
    },
    {
     "data": {
      "text/markdown": [
       "Total current assets\n",
       "878,479\n",
       "2014 Q4"
      ],
      "text/plain": [
       "<IPython.core.display.Markdown object>"
      ]
     },
     "metadata": {},
     "output_type": "display_data"
    },
    {
     "data": {
      "text/markdown": [
       "Total current assets\n",
       "666,307\n",
       "2013 Q4"
      ],
      "text/plain": [
       "<IPython.core.display.Markdown object>"
      ]
     },
     "metadata": {},
     "output_type": "display_data"
    },
    {
     "data": {
      "text/markdown": [
       "Leasehold improvements, property and equipment, net\n",
       "1106984\n",
       "2014 Full Year"
      ],
      "text/plain": [
       "<IPython.core.display.Markdown object>"
      ]
     },
     "metadata": {},
     "output_type": "display_data"
    },
    {
     "data": {
      "text/markdown": [
       "Leasehold improvements, property and equipment, net\n",
       "963238\n",
       "2013 Full Year"
      ],
      "text/plain": [
       "<IPython.core.display.Markdown object>"
      ]
     },
     "metadata": {},
     "output_type": "display_data"
    },
    {
     "data": {
      "text/markdown": [
       "Long term investments\n",
       "496106\n",
       "2014 Q4"
      ],
      "text/plain": [
       "<IPython.core.display.Markdown object>"
      ]
     },
     "metadata": {},
     "output_type": "display_data"
    },
    {
     "data": {
      "text/markdown": [
       "Long term investments\n",
       "313863\n",
       "2013 Q4"
      ],
      "text/plain": [
       "<IPython.core.display.Markdown object>"
      ]
     },
     "metadata": {},
     "output_type": "display_data"
    },
    {
     "data": {
      "text/markdown": [
       "Other assets\n",
       "42777\n",
       "2014 Q4"
      ],
      "text/plain": [
       "<IPython.core.display.Markdown object>"
      ]
     },
     "metadata": {},
     "output_type": "display_data"
    },
    {
     "data": {
      "text/markdown": [
       "Other assets\n",
       "43933\n",
       "2013 Q4"
      ],
      "text/plain": [
       "<IPython.core.display.Markdown object>"
      ]
     },
     "metadata": {},
     "output_type": "display_data"
    },
    {
     "data": {
      "text/markdown": [
       "Goodwill\n",
       "21939\n",
       "2014 Q4"
      ],
      "text/plain": [
       "<IPython.core.display.Markdown object>"
      ]
     },
     "metadata": {},
     "output_type": "display_data"
    },
    {
     "data": {
      "text/markdown": [
       "Goodwill\n",
       "21939\n",
       "2013 Q4"
      ],
      "text/plain": [
       "<IPython.core.display.Markdown object>"
      ]
     },
     "metadata": {},
     "output_type": "display_data"
    },
    {
     "data": {
      "text/markdown": [
       "Total assets\n",
       "2546285\n",
       "2014 Q4"
      ],
      "text/plain": [
       "<IPython.core.display.Markdown object>"
      ]
     },
     "metadata": {},
     "output_type": "display_data"
    },
    {
     "data": {
      "text/markdown": [
       "Total assets\n",
       "2009280\n",
       "2013 Q4"
      ],
      "text/plain": [
       "<IPython.core.display.Markdown object>"
      ]
     },
     "metadata": {},
     "output_type": "display_data"
    },
    {
     "data": {
      "text/markdown": [
       "Accounts payable\n",
       "69613\n",
       "2014 Q4"
      ],
      "text/plain": [
       "<IPython.core.display.Markdown object>"
      ]
     },
     "metadata": {},
     "output_type": "display_data"
    },
    {
     "data": {
      "text/markdown": [
       "Accounts payable\n",
       "59022\n",
       "2013 Q4"
      ],
      "text/plain": [
       "<IPython.core.display.Markdown object>"
      ]
     },
     "metadata": {},
     "output_type": "display_data"
    },
    {
     "data": {
      "text/markdown": [
       "Accrued payroll and benefits\n",
       "73894\n",
       "2014 Q4"
      ],
      "text/plain": [
       "<IPython.core.display.Markdown object>"
      ]
     },
     "metadata": {},
     "output_type": "display_data"
    },
    {
     "data": {
      "text/markdown": [
       "Accrued payroll and benefits\n",
       "67195\n",
       "2013 Q4"
      ],
      "text/plain": [
       "<IPython.core.display.Markdown object>"
      ]
     },
     "metadata": {},
     "output_type": "display_data"
    },
    {
     "data": {
      "text/markdown": [
       "Accrued liabilities\n",
       "102,203\n",
       "2014 Q4"
      ],
      "text/plain": [
       "<IPython.core.display.Markdown object>"
      ]
     },
     "metadata": {},
     "output_type": "display_data"
    },
    {
     "data": {
      "text/markdown": [
       "Accrued liabilities\n",
       "73,011\n",
       "2013 Q4"
      ],
      "text/plain": [
       "<IPython.core.display.Markdown object>"
      ]
     },
     "metadata": {},
     "output_type": "display_data"
    },
    {
     "data": {
      "text/markdown": [
       "Total current liabilities\n",
       "245,710\n",
       "2014 Q4"
      ],
      "text/plain": [
       "<IPython.core.display.Markdown object>"
      ]
     },
     "metadata": {},
     "output_type": "display_data"
    },
    {
     "data": {
      "text/markdown": [
       "Total current liabilities\n",
       "199,228\n",
       "2013 Q4"
      ],
      "text/plain": [
       "<IPython.core.display.Markdown object>"
      ]
     },
     "metadata": {},
     "output_type": "display_data"
    },
    {
     "data": {
      "text/markdown": [
       "Deferred rent\n",
       "219414\n",
       "2014 Q4"
      ],
      "text/plain": [
       "<IPython.core.display.Markdown object>"
      ]
     },
     "metadata": {},
     "output_type": "display_data"
    },
    {
     "data": {
      "text/markdown": [
       "Deferred rent\n",
       "192739\n",
       "2013 Q4"
      ],
      "text/plain": [
       "<IPython.core.display.Markdown object>"
      ]
     },
     "metadata": {},
     "output_type": "display_data"
    },
    {
     "data": {
      "text/markdown": [
       "Deferred income tax liability\n",
       "40529\n",
       "2014 Q4"
      ],
      "text/plain": [
       "<IPython.core.display.Markdown object>"
      ]
     },
     "metadata": {},
     "output_type": "display_data"
    },
    {
     "data": {
      "text/markdown": [
       "Deferred income tax liability\n",
       "55434\n",
       "2013 Q4"
      ],
      "text/plain": [
       "<IPython.core.display.Markdown object>"
      ]
     },
     "metadata": {},
     "output_type": "display_data"
    },
    {
     "data": {
      "text/markdown": [
       "Other liabilities\n",
       "28263\n",
       "2014 Q4"
      ],
      "text/plain": [
       "<IPython.core.display.Markdown object>"
      ]
     },
     "metadata": {},
     "output_type": "display_data"
    },
    {
     "data": {
      "text/markdown": [
       "Other liabilities\n",
       "23591\n",
       "2013 Q4"
      ],
      "text/plain": [
       "<IPython.core.display.Markdown object>"
      ]
     },
     "metadata": {},
     "output_type": "display_data"
    },
    {
     "data": {
      "text/markdown": [
       "Total liabilities\n",
       "533916\n",
       "2014 Q4"
      ],
      "text/plain": [
       "<IPython.core.display.Markdown object>"
      ]
     },
     "metadata": {},
     "output_type": "display_data"
    },
    {
     "data": {
      "text/markdown": [
       "Total liabilities\n",
       "470992\n",
       "2013 Q4"
      ],
      "text/plain": [
       "<IPython.core.display.Markdown object>"
      ]
     },
     "metadata": {},
     "output_type": "display_data"
    },
    {
     "data": {
      "text/markdown": [
       "Preferred stock\n",
       "0\n",
       "2014 Full Year"
      ],
      "text/plain": [
       "<IPython.core.display.Markdown object>"
      ]
     },
     "metadata": {},
     "output_type": "display_data"
    },
    {
     "data": {
      "text/markdown": [
       "Preferred stock\n",
       "0\n",
       "2013 Full Year"
      ],
      "text/plain": [
       "<IPython.core.display.Markdown object>"
      ]
     },
     "metadata": {},
     "output_type": "display_data"
    },
    {
     "data": {
      "text/markdown": [
       "Common stock\n",
       "354\n",
       "2014 Q4"
      ],
      "text/plain": [
       "<IPython.core.display.Markdown object>"
      ]
     },
     "metadata": {},
     "output_type": "display_data"
    },
    {
     "data": {
      "text/markdown": [
       "Common stock\n",
       "352\n",
       "2013 Q4"
      ],
      "text/plain": [
       "<IPython.core.display.Markdown object>"
      ]
     },
     "metadata": {},
     "output_type": "display_data"
    },
    {
     "data": {
      "text/markdown": [
       "Additional paid-in capital\n",
       "1038932\n",
       "2014 Q4"
      ],
      "text/plain": [
       "<IPython.core.display.Markdown object>"
      ]
     },
     "metadata": {},
     "output_type": "display_data"
    },
    {
     "data": {
      "text/markdown": [
       "Additional paid-in capital\n",
       "919840\n",
       "2013 Q4"
      ],
      "text/plain": [
       "<IPython.core.display.Markdown object>"
      ]
     },
     "metadata": {},
     "output_type": "display_data"
    },
    {
     "data": {
      "text/markdown": [
       "Treasury stock, at cost\n",
       "-748759\n",
       "2014 Q4"
      ],
      "text/plain": [
       "<IPython.core.display.Markdown object>"
      ]
     },
     "metadata": {},
     "output_type": "display_data"
    },
    {
     "data": {
      "text/markdown": [
       "Treasury stock, at cost\n",
       "-660421\n",
       "2013 Q4"
      ],
      "text/plain": [
       "<IPython.core.display.Markdown object>"
      ]
     },
     "metadata": {},
     "output_type": "display_data"
    },
    {
     "data": {
      "text/markdown": [
       "Accumulated other comprehensive income\n",
       "-429\n",
       "2014 Q4"
      ],
      "text/plain": [
       "<IPython.core.display.Markdown object>"
      ]
     },
     "metadata": {},
     "output_type": "display_data"
    },
    {
     "data": {
      "text/markdown": [
       "Accumulated other comprehensive income\n",
       "1620\n",
       "2013 Q4"
      ],
      "text/plain": [
       "<IPython.core.display.Markdown object>"
      ]
     },
     "metadata": {},
     "output_type": "display_data"
    },
    {
     "data": {
      "text/markdown": [
       "Retained earnings\n",
       "1722271\n",
       "2014 Q4"
      ],
      "text/plain": [
       "<IPython.core.display.Markdown object>"
      ]
     },
     "metadata": {},
     "output_type": "display_data"
    },
    {
     "data": {
      "text/markdown": [
       "Retained earnings\n",
       "1276897\n",
       "2013 Q4"
      ],
      "text/plain": [
       "<IPython.core.display.Markdown object>"
      ]
     },
     "metadata": {},
     "output_type": "display_data"
    },
    {
     "data": {
      "text/markdown": [
       "Total shareholders’ equity\n",
       "2012369\n",
       "2014 Q4"
      ],
      "text/plain": [
       "<IPython.core.display.Markdown object>"
      ]
     },
     "metadata": {},
     "output_type": "display_data"
    },
    {
     "data": {
      "text/markdown": [
       "Total shareholders’ equity\n",
       "1538288\n",
       "2013 Q4"
      ],
      "text/plain": [
       "<IPython.core.display.Markdown object>"
      ]
     },
     "metadata": {},
     "output_type": "display_data"
    },
    {
     "data": {
      "text/markdown": [
       "Total liabilities and shareholders’ equity\n",
       "2546285\n",
       "2014 Q4"
      ],
      "text/plain": [
       "<IPython.core.display.Markdown object>"
      ]
     },
     "metadata": {},
     "output_type": "display_data"
    },
    {
     "data": {
      "text/markdown": [
       "Total liabilities and shareholders’ equity\n",
       "2009280\n",
       "2013 Q4"
      ],
      "text/plain": [
       "<IPython.core.display.Markdown object>"
      ]
     },
     "metadata": {},
     "output_type": "display_data"
    },
    {
     "data": {
      "text/markdown": [
       "|  &nbsp;  |  Years ended December 31  |     |     |     |     |     |\n",
       "|  ---  |  ---  |  ---  |  ---  |  ---  |  ---  |  ---  |\n",
       "|  &nbsp;  |  2014  |     |     |  2013  |     |     |\n",
       "|  &nbsp;&nbsp;Operating activities  |     |     |     |     |     |     |\n",
       "|  &nbsp;&nbsp;Net income  |  $  |  445,374  |     |  $  |  327,438  |     |\n",
       "|  &nbsp;&nbsp;Adjustments to reconcile net income to net cash provided by operating activities:  |     |     |     |     |     |     |\n",
       "|  &nbsp;&nbsp;&nbsp;&nbsp;&nbsp;&nbsp;Depreciation and amortization  |     |  110,474  |     |     |  96,054  |     |\n",
       "|  &nbsp;&nbsp;&nbsp;&nbsp;&nbsp;&nbsp;Deferred income tax (benefit) provision  |     |  (20,671  |  )  |     |  2,103  |     |\n",
       "|  &nbsp;&nbsp;&nbsp;&nbsp;&nbsp;&nbsp;Loss on disposal of assets  |     |  6,976  |     |     |  6,751  |     |\n",
       "|  &nbsp;&nbsp;&nbsp;&nbsp;&nbsp;&nbsp;Bad debt allowance  |     |  9  |     |     |  19  |     |\n",
       "|  &nbsp;&nbsp;&nbsp;&nbsp;&nbsp;&nbsp;Stock-based compensation expense  |     |  96,440  |     |     |  63,657  |     |\n",
       "|  &nbsp;&nbsp;&nbsp;&nbsp;&nbsp;&nbsp;Excess tax benefit on stock-based compensation  |     |  (21,667  |  )  |     |  (38,379  |  )  |\n",
       "|  &nbsp;&nbsp;&nbsp;&nbsp;&nbsp;&nbsp;Other  |     |  104  |     |     |  507  |     |\n",
       "|  &nbsp;&nbsp;Changes in operating assets and liabilities:  |     |     |     |     |     |     |\n",
       "|  &nbsp;&nbsp;&nbsp;&nbsp;&nbsp;&nbsp;Accounts receivable  |     |  (10,966  |  )  |     |  (7,238  |  )  |\n",
       "|  &nbsp;&nbsp;&nbsp;&nbsp;&nbsp;&nbsp;Inventory  |     |  (2,307  |  )  |     |  (1,950  |  )  |\n",
       "|  &nbsp;&nbsp;&nbsp;&nbsp;&nbsp;&nbsp;Prepaid expenses and other current assets  |     |  (658  |  )  |     |  (6,806  |  )  |\n",
       "|  &nbsp;&nbsp;&nbsp;&nbsp;&nbsp;&nbsp;Other assets  |     |  1,071  |     |     |  (1,354  |  )  |\n",
       "|  &nbsp;&nbsp;&nbsp;&nbsp;&nbsp;&nbsp;Accounts payable  |     |  2,168  |     |     |  2,052  |     |\n",
       "|  &nbsp;&nbsp;&nbsp;&nbsp;&nbsp;&nbsp;Accrued liabilities  |     |  35,019  |     |     |  12,020  |     |\n",
       "|  &nbsp;&nbsp;&nbsp;&nbsp;&nbsp;&nbsp;Income tax payable/receivable  |     |  8,831  |     |     |  44,334  |     |\n",
       "|  &nbsp;&nbsp;&nbsp;&nbsp;&nbsp;&nbsp;Deferred rent  |     |  27,025  |     |     |  25,715  |     |\n",
       "|  &nbsp;&nbsp;&nbsp;&nbsp;&nbsp;&nbsp;Other long-term liabilities  |     |  4,845  |     |     |  3,857  |     |\n",
       "|  &nbsp;&nbsp;Net cash provided by operating activities  |     |  682,067  |     |     |  528,780  |     |\n",
       "|  &nbsp;&nbsp;Investing activities  |     |     |     |     |     |     |\n",
       "|  &nbsp;&nbsp;Purchases of leasehold improvements, property and equipment  |     |  (252,590  |  )  |     |  (199,926  |  )  |\n",
       "|  &nbsp;&nbsp;Purchases of investments  |     |  (521,004  |  )  |     |  (387,639  |  )  |\n",
       "|  &nbsp;&nbsp;Maturities of investments  |     |  254,750  |     |     |  159,250  |     |\n",
       "|  &nbsp;&nbsp;Net cash used in investing activities  |     |  (518,844  |  )  |     |  (428,315  |  )  |\n",
       "|  &nbsp;&nbsp;Financing activities  |     |     |     |     |     |     |\n",
       "|  &nbsp;&nbsp;Acquisition of treasury stock  |     |  (88,338  |  )  |     |  (138,903  |  )  |\n",
       "|  &nbsp;&nbsp;Excess tax benefit on stock-based compensation  |     |  21,667  |     |     |  38,379  |     |\n",
       "|  &nbsp;&nbsp;Stock plan transactions and other financing activities  |     |  (66  |  )  |     |  173  |     |\n",
       "|  &nbsp;&nbsp;Net cash used in financing activities  |     |  (66,737  |  )  |     |  (100,351  |  )  |\n",
       "|  &nbsp;&nbsp;Effect of exchange rate changes on cash and cash equivalents  |     |  (224  |  )  |     |  536  |     |\n",
       "|  &nbsp;&nbsp;Net change in cash and cash equivalents  |     |  96,262  |     |     |  650  |     |\n",
       "|  &nbsp;&nbsp;Cash and cash equivalents at beginning of year  |     |  323,203  |     |     |  322,553  |     |\n",
       "|  &nbsp;&nbsp;Cash and cash equivalents at end of year  |  $  |  419,465  |     |  $  |  323,203  |     |\n",
       "|  &nbsp;&nbsp;Supplemental disclosures of cash flow information  |     |     |     |     |     |     |\n",
       "|  &nbsp;&nbsp;Income taxes paid  |  $  |  280,687  |     |  $  |  160,973  |     |\n",
       "|  &nbsp;&nbsp;Increase in purchases of leasehold improvements, property and equipment accrued in accounts payable and accrued liabilities  |  $  |  9,424  |     |  $  |  (1,736  |  )  |"
      ],
      "text/plain": [
       "<IPython.core.display.Markdown object>"
      ]
     },
     "metadata": {},
     "output_type": "display_data"
    },
    {
     "data": {
      "text/markdown": [
       "Net income\n",
       "445374\n",
       "2014 Full Year"
      ],
      "text/plain": [
       "<IPython.core.display.Markdown object>"
      ]
     },
     "metadata": {},
     "output_type": "display_data"
    },
    {
     "data": {
      "text/markdown": [
       "Net income\n",
       "327438\n",
       "2013 Full Year"
      ],
      "text/plain": [
       "<IPython.core.display.Markdown object>"
      ]
     },
     "metadata": {},
     "output_type": "display_data"
    },
    {
     "data": {
      "text/markdown": [
       "Depreciation and amortization\n",
       "110,474\n",
       "2014 Full Year"
      ],
      "text/plain": [
       "<IPython.core.display.Markdown object>"
      ]
     },
     "metadata": {},
     "output_type": "display_data"
    },
    {
     "data": {
      "text/markdown": [
       "Depreciation and amortization\n",
       "96,054\n",
       "2013 Full Year"
      ],
      "text/plain": [
       "<IPython.core.display.Markdown object>"
      ]
     },
     "metadata": {},
     "output_type": "display_data"
    },
    {
     "data": {
      "text/markdown": [
       "Deferred income tax (benefit) provision\n",
       "-20671\n",
       "2014 Full Year"
      ],
      "text/plain": [
       "<IPython.core.display.Markdown object>"
      ]
     },
     "metadata": {},
     "output_type": "display_data"
    },
    {
     "data": {
      "text/markdown": [
       "Deferred income tax (benefit) provision\n",
       "2103\n",
       "2013 Full Year"
      ],
      "text/plain": [
       "<IPython.core.display.Markdown object>"
      ]
     },
     "metadata": {},
     "output_type": "display_data"
    },
    {
     "data": {
      "text/markdown": [
       "Loss on disposal of assets\n",
       "6,976\n",
       "2014 Full Year"
      ],
      "text/plain": [
       "<IPython.core.display.Markdown object>"
      ]
     },
     "metadata": {},
     "output_type": "display_data"
    },
    {
     "data": {
      "text/markdown": [
       "Loss on disposal of assets\n",
       "6,751\n",
       "2013 Full Year"
      ],
      "text/plain": [
       "<IPython.core.display.Markdown object>"
      ]
     },
     "metadata": {},
     "output_type": "display_data"
    },
    {
     "data": {
      "text/markdown": [
       "Bad debt allowance\n",
       "9\n",
       "2014 Full Year"
      ],
      "text/plain": [
       "<IPython.core.display.Markdown object>"
      ]
     },
     "metadata": {},
     "output_type": "display_data"
    },
    {
     "data": {
      "text/markdown": [
       "Bad debt allowance\n",
       "19\n",
       "2013 Full Year"
      ],
      "text/plain": [
       "<IPython.core.display.Markdown object>"
      ]
     },
     "metadata": {},
     "output_type": "display_data"
    },
    {
     "data": {
      "text/markdown": [
       "Stock-based compensation expense\n",
       "96440\n",
       "2014 Full Year"
      ],
      "text/plain": [
       "<IPython.core.display.Markdown object>"
      ]
     },
     "metadata": {},
     "output_type": "display_data"
    },
    {
     "data": {
      "text/markdown": [
       "Stock-based compensation expense\n",
       "63657\n",
       "2013 Full Year"
      ],
      "text/plain": [
       "<IPython.core.display.Markdown object>"
      ]
     },
     "metadata": {},
     "output_type": "display_data"
    },
    {
     "data": {
      "text/markdown": [
       "Excess tax benefit on stock-based compensation\n",
       "-21667\n",
       "2014 Full Year"
      ],
      "text/plain": [
       "<IPython.core.display.Markdown object>"
      ]
     },
     "metadata": {},
     "output_type": "display_data"
    },
    {
     "data": {
      "text/markdown": [
       "Excess tax benefit on stock-based compensation\n",
       "-38379\n",
       "2013 Full Year"
      ],
      "text/plain": [
       "<IPython.core.display.Markdown object>"
      ]
     },
     "metadata": {},
     "output_type": "display_data"
    },
    {
     "data": {
      "text/markdown": [
       "Excess tax benefit on stock-based compensation\n",
       "21667\n",
       "2014 Full Year"
      ],
      "text/plain": [
       "<IPython.core.display.Markdown object>"
      ]
     },
     "metadata": {},
     "output_type": "display_data"
    },
    {
     "data": {
      "text/markdown": [
       "Excess tax benefit on stock-based compensation\n",
       "38379\n",
       "2013 Full Year"
      ],
      "text/plain": [
       "<IPython.core.display.Markdown object>"
      ]
     },
     "metadata": {},
     "output_type": "display_data"
    },
    {
     "data": {
      "text/markdown": [
       "Other adjustments\n",
       "104\n",
       "2014 Full Year"
      ],
      "text/plain": [
       "<IPython.core.display.Markdown object>"
      ]
     },
     "metadata": {},
     "output_type": "display_data"
    },
    {
     "data": {
      "text/markdown": [
       "Other adjustments\n",
       "507\n",
       "2013 Full Year"
      ],
      "text/plain": [
       "<IPython.core.display.Markdown object>"
      ]
     },
     "metadata": {},
     "output_type": "display_data"
    },
    {
     "data": {
      "text/markdown": [
       "Accounts receivable change\n",
       "-10966\n",
       "2014 Full Year"
      ],
      "text/plain": [
       "<IPython.core.display.Markdown object>"
      ]
     },
     "metadata": {},
     "output_type": "display_data"
    },
    {
     "data": {
      "text/markdown": [
       "Accounts receivable change\n",
       "-7238\n",
       "2013 Full Year"
      ],
      "text/plain": [
       "<IPython.core.display.Markdown object>"
      ]
     },
     "metadata": {},
     "output_type": "display_data"
    },
    {
     "data": {
      "text/markdown": [
       "Inventory change\n",
       "-2307\n",
       "2014 Full Year"
      ],
      "text/plain": [
       "<IPython.core.display.Markdown object>"
      ]
     },
     "metadata": {},
     "output_type": "display_data"
    },
    {
     "data": {
      "text/markdown": [
       "Inventory change\n",
       "-1950\n",
       "2013 Full Year"
      ],
      "text/plain": [
       "<IPython.core.display.Markdown object>"
      ]
     },
     "metadata": {},
     "output_type": "display_data"
    },
    {
     "data": {
      "text/markdown": [
       "Prepaid expenses and other current assets change\n",
       "-658\n",
       "2014 Full Year"
      ],
      "text/plain": [
       "<IPython.core.display.Markdown object>"
      ]
     },
     "metadata": {},
     "output_type": "display_data"
    },
    {
     "data": {
      "text/markdown": [
       "Prepaid expenses and other current assets change\n",
       "-6806\n",
       "2013 Full Year"
      ],
      "text/plain": [
       "<IPython.core.display.Markdown object>"
      ]
     },
     "metadata": {},
     "output_type": "display_data"
    },
    {
     "data": {
      "text/markdown": [
       "Other assets change\n",
       "1071\n",
       "2014 Q4"
      ],
      "text/plain": [
       "<IPython.core.display.Markdown object>"
      ]
     },
     "metadata": {},
     "output_type": "display_data"
    },
    {
     "data": {
      "text/markdown": [
       "Other assets change\n",
       "-1354\n",
       "2013 Q4"
      ],
      "text/plain": [
       "<IPython.core.display.Markdown object>"
      ]
     },
     "metadata": {},
     "output_type": "display_data"
    },
    {
     "data": {
      "text/markdown": [
       "Accounts payable change\n",
       "2168\n",
       "2014 Full Year"
      ],
      "text/plain": [
       "<IPython.core.display.Markdown object>"
      ]
     },
     "metadata": {},
     "output_type": "display_data"
    },
    {
     "data": {
      "text/markdown": [
       "Accounts payable change\n",
       "2052\n",
       "2013 Full Year"
      ],
      "text/plain": [
       "<IPython.core.display.Markdown object>"
      ]
     },
     "metadata": {},
     "output_type": "display_data"
    },
    {
     "data": {
      "text/markdown": [
       "Accrued liabilities change\n",
       "35019\n",
       "2014 Full Year"
      ],
      "text/plain": [
       "<IPython.core.display.Markdown object>"
      ]
     },
     "metadata": {},
     "output_type": "display_data"
    },
    {
     "data": {
      "text/markdown": [
       "Accrued liabilities change\n",
       "12020\n",
       "2013 Full Year"
      ],
      "text/plain": [
       "<IPython.core.display.Markdown object>"
      ]
     },
     "metadata": {},
     "output_type": "display_data"
    },
    {
     "data": {
      "text/markdown": [
       "Income tax payable/receivable change\n",
       "8831\n",
       "2014 Full Year"
      ],
      "text/plain": [
       "<IPython.core.display.Markdown object>"
      ]
     },
     "metadata": {},
     "output_type": "display_data"
    },
    {
     "data": {
      "text/markdown": [
       "Income tax payable/receivable change\n",
       "44334\n",
       "2013 Full Year"
      ],
      "text/plain": [
       "<IPython.core.display.Markdown object>"
      ]
     },
     "metadata": {},
     "output_type": "display_data"
    },
    {
     "data": {
      "text/markdown": [
       "Deferred rent change\n",
       "27025\n",
       "2014 Full Year"
      ],
      "text/plain": [
       "<IPython.core.display.Markdown object>"
      ]
     },
     "metadata": {},
     "output_type": "display_data"
    },
    {
     "data": {
      "text/markdown": [
       "Deferred rent change\n",
       "25715\n",
       "2013 Full Year"
      ],
      "text/plain": [
       "<IPython.core.display.Markdown object>"
      ]
     },
     "metadata": {},
     "output_type": "display_data"
    },
    {
     "data": {
      "text/markdown": [
       "Other long-term liabilities change\n",
       "4845\n",
       "2014 Full Year"
      ],
      "text/plain": [
       "<IPython.core.display.Markdown object>"
      ]
     },
     "metadata": {},
     "output_type": "display_data"
    },
    {
     "data": {
      "text/markdown": [
       "Other long-term liabilities change\n",
       "3857\n",
       "2013 Full Year"
      ],
      "text/plain": [
       "<IPython.core.display.Markdown object>"
      ]
     },
     "metadata": {},
     "output_type": "display_data"
    },
    {
     "data": {
      "text/markdown": [
       "Net cash provided by operating activities\n",
       "682,067\n",
       "2014 Full Year"
      ],
      "text/plain": [
       "<IPython.core.display.Markdown object>"
      ]
     },
     "metadata": {},
     "output_type": "display_data"
    },
    {
     "data": {
      "text/markdown": [
       "Net cash provided by operating activities\n",
       "528,780\n",
       "2013 Full Year"
      ],
      "text/plain": [
       "<IPython.core.display.Markdown object>"
      ]
     },
     "metadata": {},
     "output_type": "display_data"
    },
    {
     "data": {
      "text/markdown": [
       "Purchases of leasehold improvements, property and equipment\n",
       "-252,590\n",
       "2014 Full Year"
      ],
      "text/plain": [
       "<IPython.core.display.Markdown object>"
      ]
     },
     "metadata": {},
     "output_type": "display_data"
    },
    {
     "data": {
      "text/markdown": [
       "Purchases of leasehold improvements, property and equipment\n",
       "-199,926\n",
       "2013 Full Year"
      ],
      "text/plain": [
       "<IPython.core.display.Markdown object>"
      ]
     },
     "metadata": {},
     "output_type": "display_data"
    },
    {
     "data": {
      "text/markdown": [
       "Purchases of investments\n",
       "-521004\n",
       "2014 Full Year"
      ],
      "text/plain": [
       "<IPython.core.display.Markdown object>"
      ]
     },
     "metadata": {},
     "output_type": "display_data"
    },
    {
     "data": {
      "text/markdown": [
       "Purchases of investments\n",
       "-387639\n",
       "2013 Full Year"
      ],
      "text/plain": [
       "<IPython.core.display.Markdown object>"
      ]
     },
     "metadata": {},
     "output_type": "display_data"
    },
    {
     "data": {
      "text/markdown": [
       "Maturities of investments\n",
       "254,750\n",
       "2014 Full Year"
      ],
      "text/plain": [
       "<IPython.core.display.Markdown object>"
      ]
     },
     "metadata": {},
     "output_type": "display_data"
    },
    {
     "data": {
      "text/markdown": [
       "Maturities of investments\n",
       "159,250\n",
       "2013 Full Year"
      ],
      "text/plain": [
       "<IPython.core.display.Markdown object>"
      ]
     },
     "metadata": {},
     "output_type": "display_data"
    },
    {
     "data": {
      "text/markdown": [
       "Net cash used in investing activities\n",
       "-518,844\n",
       "2014 Full Year"
      ],
      "text/plain": [
       "<IPython.core.display.Markdown object>"
      ]
     },
     "metadata": {},
     "output_type": "display_data"
    },
    {
     "data": {
      "text/markdown": [
       "Net cash used in investing activities\n",
       "-428,315\n",
       "2013 Full Year"
      ],
      "text/plain": [
       "<IPython.core.display.Markdown object>"
      ]
     },
     "metadata": {},
     "output_type": "display_data"
    },
    {
     "data": {
      "text/markdown": [
       "Acquisition of treasury stock\n",
       "-88338\n",
       "2014 Full Year"
      ],
      "text/plain": [
       "<IPython.core.display.Markdown object>"
      ]
     },
     "metadata": {},
     "output_type": "display_data"
    },
    {
     "data": {
      "text/markdown": [
       "Acquisition of treasury stock\n",
       "-138903\n",
       "2013 Full Year"
      ],
      "text/plain": [
       "<IPython.core.display.Markdown object>"
      ]
     },
     "metadata": {},
     "output_type": "display_data"
    },
    {
     "data": {
      "text/markdown": [
       "Excess tax benefit on stock-based compensation (financing activities)\n",
       "21667\n",
       "2014 Full Year"
      ],
      "text/plain": [
       "<IPython.core.display.Markdown object>"
      ]
     },
     "metadata": {},
     "output_type": "display_data"
    },
    {
     "data": {
      "text/markdown": [
       "Excess tax benefit on stock-based compensation (financing activities)\n",
       "38379\n",
       "2013 Full Year"
      ],
      "text/plain": [
       "<IPython.core.display.Markdown object>"
      ]
     },
     "metadata": {},
     "output_type": "display_data"
    },
    {
     "data": {
      "text/markdown": [
       "Stock plan transactions and other financing activities\n",
       "-66\n",
       "2014 Full Year"
      ],
      "text/plain": [
       "<IPython.core.display.Markdown object>"
      ]
     },
     "metadata": {},
     "output_type": "display_data"
    },
    {
     "data": {
      "text/markdown": [
       "Stock plan transactions and other financing activities\n",
       "173\n",
       "2013 Full Year"
      ],
      "text/plain": [
       "<IPython.core.display.Markdown object>"
      ]
     },
     "metadata": {},
     "output_type": "display_data"
    },
    {
     "data": {
      "text/markdown": [
       "Net cash used in financing activities\n",
       "-66737\n",
       "2014 Full Year"
      ],
      "text/plain": [
       "<IPython.core.display.Markdown object>"
      ]
     },
     "metadata": {},
     "output_type": "display_data"
    },
    {
     "data": {
      "text/markdown": [
       "Net cash used in financing activities\n",
       "-100351\n",
       "2013 Full Year"
      ],
      "text/plain": [
       "<IPython.core.display.Markdown object>"
      ]
     },
     "metadata": {},
     "output_type": "display_data"
    },
    {
     "data": {
      "text/markdown": [
       "Effect of exchange rate changes on cash and cash equivalents\n",
       "-224\n",
       "2014 Full Year"
      ],
      "text/plain": [
       "<IPython.core.display.Markdown object>"
      ]
     },
     "metadata": {},
     "output_type": "display_data"
    },
    {
     "data": {
      "text/markdown": [
       "Effect of exchange rate changes on cash and cash equivalents\n",
       "536\n",
       "2013 Full Year"
      ],
      "text/plain": [
       "<IPython.core.display.Markdown object>"
      ]
     },
     "metadata": {},
     "output_type": "display_data"
    },
    {
     "data": {
      "text/markdown": [
       "Net change in cash and cash equivalents\n",
       "96262\n",
       "2014 Full Year"
      ],
      "text/plain": [
       "<IPython.core.display.Markdown object>"
      ]
     },
     "metadata": {},
     "output_type": "display_data"
    },
    {
     "data": {
      "text/markdown": [
       "Net change in cash and cash equivalents\n",
       "650\n",
       "2013 Full Year"
      ],
      "text/plain": [
       "<IPython.core.display.Markdown object>"
      ]
     },
     "metadata": {},
     "output_type": "display_data"
    },
    {
     "data": {
      "text/markdown": [
       "Cash and cash equivalents at beginning of year\n",
       "323,203\n",
       "2014 Full Year"
      ],
      "text/plain": [
       "<IPython.core.display.Markdown object>"
      ]
     },
     "metadata": {},
     "output_type": "display_data"
    },
    {
     "data": {
      "text/markdown": [
       "Cash and cash equivalents at beginning of year\n",
       "322,553\n",
       "2013 Full Year"
      ],
      "text/plain": [
       "<IPython.core.display.Markdown object>"
      ]
     },
     "metadata": {},
     "output_type": "display_data"
    },
    {
     "data": {
      "text/markdown": [
       "Cash and cash equivalents at end of year\n",
       "419,465\n",
       "2014 Full Year"
      ],
      "text/plain": [
       "<IPython.core.display.Markdown object>"
      ]
     },
     "metadata": {},
     "output_type": "display_data"
    },
    {
     "data": {
      "text/markdown": [
       "Cash and cash equivalents at end of year\n",
       "323,203\n",
       "2013 Full Year"
      ],
      "text/plain": [
       "<IPython.core.display.Markdown object>"
      ]
     },
     "metadata": {},
     "output_type": "display_data"
    },
    {
     "data": {
      "text/markdown": [
       "Income taxes paid\n",
       "280687\n",
       "2014 Full Year"
      ],
      "text/plain": [
       "<IPython.core.display.Markdown object>"
      ]
     },
     "metadata": {},
     "output_type": "display_data"
    },
    {
     "data": {
      "text/markdown": [
       "Income taxes paid\n",
       "160973\n",
       "2013 Full Year"
      ],
      "text/plain": [
       "<IPython.core.display.Markdown object>"
      ]
     },
     "metadata": {},
     "output_type": "display_data"
    },
    {
     "data": {
      "text/markdown": [
       "Increase in purchases of leasehold improvements, property and equipment accrued in accounts payable and accrued liabilities\n",
       "9424\n",
       "2014 Full Year"
      ],
      "text/plain": [
       "<IPython.core.display.Markdown object>"
      ]
     },
     "metadata": {},
     "output_type": "display_data"
    },
    {
     "data": {
      "text/markdown": [
       "Increase in purchases of leasehold improvements, property and equipment accrued in accounts payable and accrued liabilities\n",
       "-1736\n",
       "2013 Full Year"
      ],
      "text/plain": [
       "<IPython.core.display.Markdown object>"
      ]
     },
     "metadata": {},
     "output_type": "display_data"
    },
    {
     "data": {
      "text/markdown": [
       "|  &nbsp;  |  For the three months ended  |     |     |     |     |     |     |     |     |     |     |     |     |     |     |\n",
       "|  ---  |  ---  |  ---  |  ---  |  ---  |  ---  |  ---  |  ---  |  ---  |  ---  |  ---  |  ---  |  ---  |  ---  |  ---  |  ---  |\n",
       "|  &nbsp;  |  Dec. 31,2014  |     |     |  Sep. 30,2014  |     |     |  Jun. 30,2014  |     |     |  Mar.31,2014  |     |     |  Dec.31,2013  |     |     |\n",
       "|  &nbsp;&nbsp;Number of restaurants opened  |     |  60  |     |     |  43  |     |     |  45  |     |     |  44  |     |     |  56  |     |\n",
       "|  &nbsp;&nbsp;Restaurant relocations  |     |  (1  |  )  |     |    |     |     |  (1  |  )  |     |  (2  |  )  |     |    |     |\n",
       "|  &nbsp;&nbsp;Number of restaurants at end of period  |     |  1,783  |     |     |  1,724  |     |     |  1,681  |     |     |  1,637  |     |     |  1,595  |     |\n",
       "|  &nbsp;&nbsp;Average restaurant sales  |  $  |  2,472  |     |  $  |  2,403  |     |  $  |  2,307  |     |  $  |  2,226  |     |  $  |  2,169  |     |\n",
       "|  &nbsp;&nbsp;Comparable restaurant sales increases  |     |  16.1  |  %  |     |  19.8  |  %  |     |  17.3  |  %  |     |  13.4  |  %  |     |  9.3  |  %  |"
      ],
      "text/plain": [
       "<IPython.core.display.Markdown object>"
      ]
     },
     "metadata": {},
     "output_type": "display_data"
    },
    {
     "data": {
      "text/markdown": [
       "Number of restaurants opened\n",
       "60\n",
       "2014 Q4"
      ],
      "text/plain": [
       "<IPython.core.display.Markdown object>"
      ]
     },
     "metadata": {},
     "output_type": "display_data"
    },
    {
     "data": {
      "text/markdown": [
       "Number of restaurants opened\n",
       "43\n",
       "2014 Q3"
      ],
      "text/plain": [
       "<IPython.core.display.Markdown object>"
      ]
     },
     "metadata": {},
     "output_type": "display_data"
    },
    {
     "data": {
      "text/markdown": [
       "Number of restaurants opened\n",
       "45\n",
       "2014 Q2"
      ],
      "text/plain": [
       "<IPython.core.display.Markdown object>"
      ]
     },
     "metadata": {},
     "output_type": "display_data"
    },
    {
     "data": {
      "text/markdown": [
       "Number of restaurants opened\n",
       "44\n",
       "2014 Q1"
      ],
      "text/plain": [
       "<IPython.core.display.Markdown object>"
      ]
     },
     "metadata": {},
     "output_type": "display_data"
    },
    {
     "data": {
      "text/markdown": [
       "Number of restaurants opened\n",
       "56\n",
       "2013 Q4"
      ],
      "text/plain": [
       "<IPython.core.display.Markdown object>"
      ]
     },
     "metadata": {},
     "output_type": "display_data"
    },
    {
     "data": {
      "text/markdown": [
       "Restaurant relocations\n",
       "-1\n",
       "2014 Q4"
      ],
      "text/plain": [
       "<IPython.core.display.Markdown object>"
      ]
     },
     "metadata": {},
     "output_type": "display_data"
    },
    {
     "data": {
      "text/markdown": [
       "Restaurant relocations\n",
       "0\n",
       "2014 Q3"
      ],
      "text/plain": [
       "<IPython.core.display.Markdown object>"
      ]
     },
     "metadata": {},
     "output_type": "display_data"
    },
    {
     "data": {
      "text/markdown": [
       "Restaurant relocations\n",
       "-1\n",
       "2014 Q2"
      ],
      "text/plain": [
       "<IPython.core.display.Markdown object>"
      ]
     },
     "metadata": {},
     "output_type": "display_data"
    },
    {
     "data": {
      "text/markdown": [
       "Restaurant relocations\n",
       "-2\n",
       "2014 Q1"
      ],
      "text/plain": [
       "<IPython.core.display.Markdown object>"
      ]
     },
     "metadata": {},
     "output_type": "display_data"
    },
    {
     "data": {
      "text/markdown": [
       "Restaurant relocations\n",
       "0\n",
       "2013 Q4"
      ],
      "text/plain": [
       "<IPython.core.display.Markdown object>"
      ]
     },
     "metadata": {},
     "output_type": "display_data"
    },
    {
     "data": {
      "text/markdown": [
       "Number of restaurants at end of period\n",
       "1783\n",
       "2014 Q4"
      ],
      "text/plain": [
       "<IPython.core.display.Markdown object>"
      ]
     },
     "metadata": {},
     "output_type": "display_data"
    },
    {
     "data": {
      "text/markdown": [
       "Number of restaurants at end of period\n",
       "1724\n",
       "2014 Q3"
      ],
      "text/plain": [
       "<IPython.core.display.Markdown object>"
      ]
     },
     "metadata": {},
     "output_type": "display_data"
    },
    {
     "data": {
      "text/markdown": [
       "Number of restaurants at end of period\n",
       "1681\n",
       "2014 Q2"
      ],
      "text/plain": [
       "<IPython.core.display.Markdown object>"
      ]
     },
     "metadata": {},
     "output_type": "display_data"
    },
    {
     "data": {
      "text/markdown": [
       "Number of restaurants at end of period\n",
       "1637\n",
       "2014 Q1"
      ],
      "text/plain": [
       "<IPython.core.display.Markdown object>"
      ]
     },
     "metadata": {},
     "output_type": "display_data"
    },
    {
     "data": {
      "text/markdown": [
       "Number of restaurants at end of period\n",
       "1595\n",
       "2013 Q4"
      ],
      "text/plain": [
       "<IPython.core.display.Markdown object>"
      ]
     },
     "metadata": {},
     "output_type": "display_data"
    },
    {
     "data": {
      "text/markdown": [
       "Average restaurant sales\n",
       "2472\n",
       "2014 Q4"
      ],
      "text/plain": [
       "<IPython.core.display.Markdown object>"
      ]
     },
     "metadata": {},
     "output_type": "display_data"
    },
    {
     "data": {
      "text/markdown": [
       "Average restaurant sales\n",
       "2403\n",
       "2014 Q3"
      ],
      "text/plain": [
       "<IPython.core.display.Markdown object>"
      ]
     },
     "metadata": {},
     "output_type": "display_data"
    },
    {
     "data": {
      "text/markdown": [
       "Average restaurant sales\n",
       "2307\n",
       "2014 Q2"
      ],
      "text/plain": [
       "<IPython.core.display.Markdown object>"
      ]
     },
     "metadata": {},
     "output_type": "display_data"
    },
    {
     "data": {
      "text/markdown": [
       "Average restaurant sales\n",
       "2226\n",
       "2014 Q1"
      ],
      "text/plain": [
       "<IPython.core.display.Markdown object>"
      ]
     },
     "metadata": {},
     "output_type": "display_data"
    },
    {
     "data": {
      "text/markdown": [
       "Average restaurant sales\n",
       "2169\n",
       "2013 Q4"
      ],
      "text/plain": [
       "<IPython.core.display.Markdown object>"
      ]
     },
     "metadata": {},
     "output_type": "display_data"
    },
    {
     "data": {
      "text/markdown": [
       "Comparable restaurant sales increases\n",
       "16.1\n",
       "2014 Q4"
      ],
      "text/plain": [
       "<IPython.core.display.Markdown object>"
      ]
     },
     "metadata": {},
     "output_type": "display_data"
    },
    {
     "data": {
      "text/markdown": [
       "Comparable restaurant sales increases\n",
       "19.8\n",
       "2014 Q3"
      ],
      "text/plain": [
       "<IPython.core.display.Markdown object>"
      ]
     },
     "metadata": {},
     "output_type": "display_data"
    },
    {
     "data": {
      "text/markdown": [
       "Comparable restaurant sales increases\n",
       "17.3\n",
       "2014 Q2"
      ],
      "text/plain": [
       "<IPython.core.display.Markdown object>"
      ]
     },
     "metadata": {},
     "output_type": "display_data"
    },
    {
     "data": {
      "text/markdown": [
       "Comparable restaurant sales increases\n",
       "13.4\n",
       "2014 Q1"
      ],
      "text/plain": [
       "<IPython.core.display.Markdown object>"
      ]
     },
     "metadata": {},
     "output_type": "display_data"
    },
    {
     "data": {
      "text/markdown": [
       "Comparable restaurant sales increases\n",
       "9.3\n",
       "2013 Q4"
      ],
      "text/plain": [
       "<IPython.core.display.Markdown object>"
      ]
     },
     "metadata": {},
     "output_type": "display_data"
    }
   ],
   "source": [
    "import json\n",
    "\n",
    "with open(\"result/2014Q4_improved_results_classification.jsonl\", \"r\") as f:\n",
    "    data = f.readlines()\n",
    "\n",
    "prev_data = None\n",
    "for row in data:\n",
    "    row = json.loads(row)\n",
    "    if row['reference'] != prev_data:\n",
    "        prev_data = row['reference']\n",
    "        display_markdown_table(prev_data)\n",
    "        display_markdown_table(row['title'] + \"\\n\" + row['value'] + \"\\n\" + row['period'])\n",
    "    else:\n",
    "        display_markdown_table(row['title'] + \"\\n\" + row['value'] + \"\\n\" + row['period'])"
   ]
  }
 ],
 "metadata": {
  "kernelspec": {
   "display_name": "extract_agent",
   "language": "python",
   "name": "python3"
  },
  "language_info": {
   "codemirror_mode": {
    "name": "ipython",
    "version": 3
   },
   "file_extension": ".py",
   "mimetype": "text/x-python",
   "name": "python",
   "nbconvert_exporter": "python",
   "pygments_lexer": "ipython3",
   "version": "3.11.11"
  }
 },
 "nbformat": 4,
 "nbformat_minor": 2
}

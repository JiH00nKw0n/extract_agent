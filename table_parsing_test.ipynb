{
 "cells": [
  {
   "cell_type": "markdown",
   "metadata": {},
   "source": [
    "## Table Parsing test code"
   ]
  },
  {
   "cell_type": "code",
   "execution_count": 2,
   "metadata": {},
   "outputs": [
    {
     "data": {
      "text/markdown": [
       "|  Products  |  Sales (tons)  |\n",
       "|  ---  |  ---  |\n",
       "|  Agriculture:  |     |\n",
       "|  UAN  |  95,000 – 115,000  |\n",
       "|  AN  |  25,000 – 30,000  |\n",
       "|  Anhydrous ammonia  |  25,000 – 30,000  |\n",
       "|  Industrial, Mining and Other:  |     |\n",
       "|  Nitric acid  |  145,000 – 150,000  |\n",
       "|  AN and AN solution  |  30,000 – 35,000  |\n",
       "|  Anhydrous ammonia  |  6,000 – 8,000  |     |     |     |\n",
       "|  IoT & Mobile Solutions  |  $72,098  |  $37,325  |  $261,169  |  $160,873  |\n",
       "|  Enterprise SaaS Solutions  |  13,965  |  15,008  |  52,663  |  58,623  |\n",
       "|  Total net revenues  |  86,063  |  52,333  |  313,832  |  219,496  |\n",
       "|  Cost of net revenues:  |     |     |     |     |\n",
       "|  IoT & Mobile Solutions  |  54,007  |  31,373  |  202,421  |  132,980  |\n",
       "|  Enterprise SaaS Solutions  |  5,610  |  5,929  |  20,568  |  22,545  |\n",
       "|  Total cost of net revenues  |  59,617  |  37,302  |  222,989  |  155,525  |\n",
       "|  Gross profit  |  26,446  |  15,031  |  90,843  |  63,971  |\n",
       "|  Operating costs and expenses:  |     |     |     |     |\n",
       "|  Research and development  |  15,505  |  8,525  |  44,953  |  23,853  |\n",
       "|  Sales and marketing  |  9,901  |  8,145  |  35,750  |  28,914  |\n",
       "|  General and administrative  |  7,432  |  6,241  |  30,689  |  27,327  |\n",
       "|  Amortization of purchased intangible assets  |  817  |  846  |  3,175  |  3,421  |\n",
       "|  Impairment of capitalized software  |  1,410  |  —  |  1,410  |  —  |\n",
       "|  Total operating costs and expenses  |  35,065  |  23,757  |  115,977  |  83,515  |\n",
       "|  Operating loss  |  (8,619)  |  (8,726)  |  (25,134)  |  (19,544)  |\n",
       "|  Other income (expense):  |     |     |     |     |\n",
       "|  Loss on debt conversion and extinguishment, net  |  —  |  —  |  (76,354)  |  —  |\n",
       "|  Interest expense, net  |  (1,745)  |  (5,045)  |  (9,942)  |  (20,381)  |\n",
       "|  Other income (expense), net  |  (1,826)  |  417  |  992  |  351  |\n",
       "|  Loss before income taxes  |  (12,190)  |  (13,354)  |  (110,438)  |  (39,574)  |\n",
       "|  Income tax provision (benefit)  |  555  |  (257)  |  748  |  536  |\n",
       "|  Net loss  |  (12,745)  |  (13,097)  |  (111,186)  |  (40,110)  |\n",
       "|  Less: Net loss (income) attributable to noncontrolling interests  |  —  |  42  |  (29)  |  (15)  |\n",
       "|  Net loss attributable to Inseego Corp.  |  (12,745)  |  (13,055)  |  (111,215)  |  (40,125)  |\n",
       "|  Series E preferred stock dividends  |  (848)  |  (230)  |  (2,904)  |  (361)  |\n",
       "|  Net loss attributable to common shareholders  |  $(13,593)  |  $(13,285)  |  $(114,119)  |  $(40,486)  |\n",
       "|  Per share data:  |     |     |     |     |\n",
       "|  Net loss per common share:  |     |     |     |     |\n",
       "|  Basic and diluted  |  $(0.14)  |  $(0.17)  |  $(1.19)  |  $(0.52)  |\n",
       "|  Weighted-average shares used in computation of net loss per common share:  |     |     |     |     |\n",
       "|  Basic and diluted  |  99,014,857  |  80,447,679  |  96,111,547  |  78,322,496  |"
      ],
      "text/plain": [
       "<IPython.core.display.Markdown object>"
      ]
     },
     "metadata": {},
     "output_type": "display_data"
    }
   ],
   "source": [
    "markdown_table = \"|  Products  |  Sales (tons)  |\\n|  ---  |  ---  |\\n|  Agriculture:  |     |\\n|  UAN  |  95,000 – 115,000  |\\n|  AN  |  25,000 – 30,000  |\\n|  Anhydrous ammonia  |  25,000 – 30,000  |\\n|  Industrial, Mining and Other:  |     |\\n|  Nitric acid  |  145,000 – 150,000  |\\n|  AN and AN solution  |  30,000 – 35,000  |\\n|  Anhydrous ammonia  |  6,000 – 8,000  |     |     |     |\\n|  IoT & Mobile Solutions  |  $72,098  |  $37,325  |  $261,169  |  $160,873  |\\n|  Enterprise SaaS Solutions  |  13,965  |  15,008  |  52,663  |  58,623  |\\n|  Total net revenues  |  86,063  |  52,333  |  313,832  |  219,496  |\\n|  Cost of net revenues:  |     |     |     |     |\\n|  IoT & Mobile Solutions  |  54,007  |  31,373  |  202,421  |  132,980  |\\n|  Enterprise SaaS Solutions  |  5,610  |  5,929  |  20,568  |  22,545  |\\n|  Total cost of net revenues  |  59,617  |  37,302  |  222,989  |  155,525  |\\n|  Gross profit  |  26,446  |  15,031  |  90,843  |  63,971  |\\n|  Operating costs and expenses:  |     |     |     |     |\\n|  Research and development  |  15,505  |  8,525  |  44,953  |  23,853  |\\n|  Sales and marketing  |  9,901  |  8,145  |  35,750  |  28,914  |\\n|  General and administrative  |  7,432  |  6,241  |  30,689  |  27,327  |\\n|  Amortization of purchased intangible assets  |  817  |  846  |  3,175  |  3,421  |\\n|  Impairment of capitalized software  |  1,410  |  —  |  1,410  |  —  |\\n|  Total operating costs and expenses  |  35,065  |  23,757  |  115,977  |  83,515  |\\n|  Operating loss  |  (8,619)  |  (8,726)  |  (25,134)  |  (19,544)  |\\n|  Other income (expense):  |     |     |     |     |\\n|  Loss on debt conversion and extinguishment, net  |  —  |  —  |  (76,354)  |  —  |\\n|  Interest expense, net  |  (1,745)  |  (5,045)  |  (9,942)  |  (20,381)  |\\n|  Other income (expense), net  |  (1,826)  |  417  |  992  |  351  |\\n|  Loss before income taxes  |  (12,190)  |  (13,354)  |  (110,438)  |  (39,574)  |\\n|  Income tax provision (benefit)  |  555  |  (257)  |  748  |  536  |\\n|  Net loss  |  (12,745)  |  (13,097)  |  (111,186)  |  (40,110)  |\\n|  Less: Net loss (income) attributable to noncontrolling interests  |  —  |  42  |  (29)  |  (15)  |\\n|  Net loss attributable to Inseego Corp.  |  (12,745)  |  (13,055)  |  (111,215)  |  (40,125)  |\\n|  Series E preferred stock dividends  |  (848)  |  (230)  |  (2,904)  |  (361)  |\\n|  Net loss attributable to common shareholders  |  $(13,593)  |  $(13,285)  |  $(114,119)  |  $(40,486)  |\\n|  Per share data:  |     |     |     |     |\\n|  Net loss per common share:  |     |     |     |     |\\n|  Basic and diluted  |  $(0.14)  |  $(0.17)  |  $(1.19)  |  $(0.52)  |\\n|  Weighted-average shares used in computation of net loss per common share:  |     |     |     |     |\\n|  Basic and diluted  |  99,014,857  |  80,447,679  |  96,111,547  |  78,322,496  |\"\n",
    "\n",
    "from IPython.display import display, Markdown\n",
    "\n",
    "def display_markdown_table(markdown_table):\n",
    "    \"\"\"\n",
    "    Render a markdown table as HTML for better visualization.\n",
    "    \n",
    "    Args:\n",
    "        markdown_table (str): A string containing a markdown table.\n",
    "    \"\"\"\n",
    "    # Display the HTML only in output\n",
    "    display(Markdown(markdown_table))\n",
    "\n",
    "# Display the markdown table\n",
    "display_markdown_table(markdown_table)"
   ]
  },
  {
   "cell_type": "code",
   "execution_count": 5,
   "metadata": {},
   "outputs": [
    {
     "data": {
      "text/markdown": [
       "|  ﻿  |  Three months ended December 31,  |     |     |     |     |     |     |     |\n",
       "|  ---  |  ---  |  ---  |  ---  |  ---  |  ---  |  ---  |  ---  |  ---  |\n",
       "|  ﻿  |  2023  |     |     |     |  2022  |     |     |     |\n",
       "|  Food and beverage revenue  |  $  |  2,499,567  |  99.3  |  %  |  $  |  2,163,907  |  99.2  |  %  |\n",
       "|  Delivery service revenue  |     |  16,753  |  0.7  |     |     |  16,692  |  0.8  |     |\n",
       "|  Total revenue  |     |  2,516,320  |  100.0  |     |     |  2,180,599  |  100.0  |     |\n",
       "|  Restaurant operating costs (exclusive of depreciation and amortization shown separately below):  |     |     |     |     |     |     |     |     |\n",
       "|  Food, beverage and packaging  |     |  747,155  |  29.7  |     |     |  638,851  |  29.3  |     |\n",
       "|  Labor  |     |  629,228  |  25.0  |     |     |  558,914  |  25.6  |     |\n",
       "|  Occupancy  |     |  131,167  |  5.2  |     |     |  118,648  |  5.4  |     |\n",
       "|  Other operating costs  |     |  370,466  |  14.7  |     |     |  341,644  |  15.7  |     |\n",
       "|  General and administrative expenses  |     |  169,247  |  6.7  |     |     |  135,073  |  6.2  |     |\n",
       "|  Depreciation and amortization  |     |  85,492  |  3.4  |     |     |  74,012  |  3.4  |     |\n",
       "|  Pre-opening costs  |     |  13,590  |  0.5  |     |     |  11,341  |  0.5  |     |\n",
       "|  Impairment, closure costs, and asset disposals  |     |  6,528  |  0.3  |     |     |  5,785  |  0.3  |     |\n",
       "|  Total operating expenses  |     |  2,152,873  |  85.6  |     |     |  1,884,268  |  86.4  |     |\n",
       "|  Income from operations  |     |  363,447  |  14.4  |     |     |  296,331  |  13.6  |     |\n",
       "|  Interest and other income, net  |     |  18,906  |  0.8  |     |     |  7,057  |  0.3  |     |\n",
       "|  Income before income taxes  |     |  382,353  |  15.2  |     |     |  303,388  |  13.9  |     |\n",
       "|  Provision for income taxes  |     |  (100,267)  |  (4.0)  |     |     |  (79,661)  |  (3.7)  |     |\n",
       "|  Net income  |  $  |  282,086  |  11.2  |  %  |  $  |  223,727  |  10.3  |  %  |\n",
       "|  Earnings per share:  |     |     |     |     |     |     |     |     |\n",
       "|  Basic  |  $  |  10.28  |     |     |  $  |  8.08  |     |     |\n",
       "|  Diluted  |  $  |  10.21  |     |     |  $  |  8.02  |     |     |\n",
       "|  Weighted-average common shares outstanding:  |     |     |     |     |     |     |     |     |\n",
       "|  Basic  |     |  27,440  |     |     |     |  27,684  |     |     |\n",
       "|  Diluted  |     |  27,621  |     |     |     |  27,899  |     |     |"
      ],
      "text/plain": [
       "<IPython.core.display.Markdown object>"
      ]
     },
     "metadata": {},
     "output_type": "display_data"
    },
    {
     "data": {
      "text/markdown": [
       "Food and beverage revenue\n",
       "2499567\n",
       "2023 Q4"
      ],
      "text/plain": [
       "<IPython.core.display.Markdown object>"
      ]
     },
     "metadata": {},
     "output_type": "display_data"
    },
    {
     "data": {
      "text/markdown": [
       "Delivery service revenue\n",
       "16573\n",
       "2023 Q4"
      ],
      "text/plain": [
       "<IPython.core.display.Markdown object>"
      ]
     },
     "metadata": {},
     "output_type": "display_data"
    },
    {
     "data": {
      "text/markdown": [
       "Delivery service revenue\n",
       "16692\n",
       "2022 Q4"
      ],
      "text/plain": [
       "<IPython.core.display.Markdown object>"
      ]
     },
     "metadata": {},
     "output_type": "display_data"
    },
    {
     "data": {
      "text/markdown": [
       "Total revenue\n",
       "2,516,320\n",
       "2023 4Q"
      ],
      "text/plain": [
       "<IPython.core.display.Markdown object>"
      ]
     },
     "metadata": {},
     "output_type": "display_data"
    },
    {
     "data": {
      "text/markdown": [
       "Restaurant operating costs (exclusive of depreciation and amortization shown separately below): Food, beverage and packaging\n",
       "747155\n",
       "2023 4Q"
      ],
      "text/plain": [
       "<IPython.core.display.Markdown object>"
      ]
     },
     "metadata": {},
     "output_type": "display_data"
    },
    {
     "data": {
      "text/markdown": [
       "Labor\n",
       "629228\n",
       "2023 Q4"
      ],
      "text/plain": [
       "<IPython.core.display.Markdown object>"
      ]
     },
     "metadata": {},
     "output_type": "display_data"
    },
    {
     "data": {
      "text/markdown": [
       "Occupancy\n",
       "131,167\n",
       "2023 Q4"
      ],
      "text/plain": [
       "<IPython.core.display.Markdown object>"
      ]
     },
     "metadata": {},
     "output_type": "display_data"
    },
    {
     "data": {
      "text/markdown": [
       "Other operating costs\n",
       "370,466\n",
       "2023 4Q"
      ],
      "text/plain": [
       "<IPython.core.display.Markdown object>"
      ]
     },
     "metadata": {},
     "output_type": "display_data"
    },
    {
     "data": {
      "text/markdown": [
       "General and administrative expenses\n",
       "169247\n",
       "2023 4Q"
      ],
      "text/plain": [
       "<IPython.core.display.Markdown object>"
      ]
     },
     "metadata": {},
     "output_type": "display_data"
    },
    {
     "data": {
      "text/markdown": [
       "Depreciation and amortization\n",
       "85,492\n",
       "2023 Q4"
      ],
      "text/plain": [
       "<IPython.core.display.Markdown object>"
      ]
     },
     "metadata": {},
     "output_type": "display_data"
    },
    {
     "data": {
      "text/markdown": [
       "Pre-opening costs\n",
       "13,590\n",
       "2023 Q4"
      ],
      "text/plain": [
       "<IPython.core.display.Markdown object>"
      ]
     },
     "metadata": {},
     "output_type": "display_data"
    },
    {
     "data": {
      "text/markdown": [
       "Impairment, closure costs, and asset disposals\n",
       "6528\n",
       "2023 Q4"
      ],
      "text/plain": [
       "<IPython.core.display.Markdown object>"
      ]
     },
     "metadata": {},
     "output_type": "display_data"
    },
    {
     "data": {
      "text/markdown": [
       "Total operating expenses\n",
       "2152873\n",
       "2023 4Q"
      ],
      "text/plain": [
       "<IPython.core.display.Markdown object>"
      ]
     },
     "metadata": {},
     "output_type": "display_data"
    },
    {
     "data": {
      "text/markdown": [
       "Income from operations\n",
       "363447\n",
       "2023 Q4"
      ],
      "text/plain": [
       "<IPython.core.display.Markdown object>"
      ]
     },
     "metadata": {},
     "output_type": "display_data"
    },
    {
     "data": {
      "text/markdown": [
       "Interest and other income, net\n",
       "18906\n",
       "2023 4Q"
      ],
      "text/plain": [
       "<IPython.core.display.Markdown object>"
      ]
     },
     "metadata": {},
     "output_type": "display_data"
    },
    {
     "data": {
      "text/markdown": [
       "Income before income taxes\n",
       "382353\n",
       "2023 Q4"
      ],
      "text/plain": [
       "<IPython.core.display.Markdown object>"
      ]
     },
     "metadata": {},
     "output_type": "display_data"
    },
    {
     "data": {
      "text/markdown": [
       "Provision for income taxes\n",
       "(100267)\n",
       "2023 4Q"
      ],
      "text/plain": [
       "<IPython.core.display.Markdown object>"
      ]
     },
     "metadata": {},
     "output_type": "display_data"
    },
    {
     "data": {
      "text/markdown": [
       "Net income\n",
       "282086\n",
       "2023 Q4"
      ],
      "text/plain": [
       "<IPython.core.display.Markdown object>"
      ]
     },
     "metadata": {},
     "output_type": "display_data"
    },
    {
     "data": {
      "text/markdown": [
       "Earnings per share: Basic\n",
       "10.28\n",
       "2023 Q4"
      ],
      "text/plain": [
       "<IPython.core.display.Markdown object>"
      ]
     },
     "metadata": {},
     "output_type": "display_data"
    },
    {
     "data": {
      "text/markdown": [
       "Earnings per share: Diluted\n",
       "10.21\n",
       "2023 Q4"
      ],
      "text/plain": [
       "<IPython.core.display.Markdown object>"
      ]
     },
     "metadata": {},
     "output_type": "display_data"
    },
    {
     "data": {
      "text/markdown": [
       "Weighted-average common shares outstanding: Basic\n",
       "27440\n",
       "2023 Q4"
      ],
      "text/plain": [
       "<IPython.core.display.Markdown object>"
      ]
     },
     "metadata": {},
     "output_type": "display_data"
    },
    {
     "data": {
      "text/markdown": [
       "Weighted-average common shares outstanding: Diluted\n",
       "27621\n",
       "2023 Q4"
      ],
      "text/plain": [
       "<IPython.core.display.Markdown object>"
      ]
     },
     "metadata": {},
     "output_type": "display_data"
    },
    {
     "data": {
      "text/markdown": [
       "|  ﻿  |     |     |     |     |     |     |     |     |\n",
       "|  ---  |  ---  |  ---  |  ---  |  ---  |  ---  |  ---  |  ---  |  ---  |\n",
       "|  ﻿  |  Year ended December 31,  |     |     |     |     |     |     |     |\n",
       "|  ﻿  |  2023  |     |     |     |  2022  |     |     |     |\n",
       "|  ﻿  |  (unaudited)  |     |     |     |     |     |     |     |\n",
       "|  Food and beverage revenue  |  $  |  9,804,124  |  99.3  |  %  |  $  |  8,558,001  |  99.1  |  %  |\n",
       "|  Delivery service revenue  |     |  67,525  |  0.7  |     |     |  76,651  |  0.9  |     |\n",
       "|  Total revenue  |     |  9,871,649  |  100.0  |     |     |  8,634,652  |  100.0  |     |\n",
       "|  Restaurant operating costs (exclusive of depreciation and amortization shown separately below):  |     |     |     |     |     |     |     |     |\n",
       "|  Food, beverage and packaging  |     |  2,912,564  |  29.5  |     |     |  2,602,245  |  30.1  |     |\n",
       "|  Labor  |     |  2,440,982  |  24.7  |     |     |  2,197,958  |  25.5  |     |\n",
       "|  Occupancy  |     |  503,264  |  5.1  |     |     |  460,425  |  5.3  |     |\n",
       "|  Other operating costs  |     |  1,428,747  |  14.5  |     |     |  1,311,905  |  15.2  |     |\n",
       "|  General and administrative expenses  |     |  633,584  |  6.4  |     |     |  564,191  |  6.5  |     |\n",
       "|  Depreciation and amortization  |     |  319,394  |  3.2  |     |     |  286,826  |  3.3  |     |\n",
       "|  Pre-opening costs  |     |  36,931  |  0.4  |     |     |  29,560  |  0.3  |     |\n",
       "|  Impairment, closure costs, and asset disposals  |     |  38,370  |  0.4  |     |     |  21,139  |  0.2  |     |\n",
       "|  Total operating expenses  |     |  8,313,836  |  84.2  |     |     |  7,474,249  |  86.6  |     |\n",
       "|  Income from operations  |     |  1,557,813  |  15.8  |     |     |  1,160,403  |  13.4  |     |\n",
       "|  Interest and other income, net  |     |  62,693  |  0.6  |     |     |  21,128  |  0.2  |     |\n",
       "|  Income before income taxes  |     |  1,620,506  |  16.4  |     |     |  1,181,531  |  13.7  |     |\n",
       "|  Provision for income taxes  |     |  (391,769)  |  (4.0)  |     |     |  (282,430)  |  (3.3)  |     |\n",
       "|  Net income  |  $  |  1,228,737  |  12.4  |  %  |  $  |  899,101  |  10.4  |  %  |\n",
       "|  Earnings per share:  |     |     |     |     |     |     |     |     |\n",
       "|  Basic  |  $  |  44.59  |     |     |  $  |  32.28  |     |     |\n",
       "|  Diluted  |  $  |  44.34  |     |     |  $  |  32.04  |     |     |\n",
       "|  Weighted-average common shares outstanding:  |     |     |     |     |     |     |     |     |\n",
       "|  Basic  |     |  27,555  |     |     |     |  27,851  |     |     |\n",
       "|  Diluted  |     |  27,710  |     |     |     |  28,062  |     |     |"
      ],
      "text/plain": [
       "<IPython.core.display.Markdown object>"
      ]
     },
     "metadata": {},
     "output_type": "display_data"
    },
    {
     "data": {
      "text/markdown": [
       "Food and beverage revenue\n",
       "9984124\n",
       "2023 Q4"
      ],
      "text/plain": [
       "<IPython.core.display.Markdown object>"
      ]
     },
     "metadata": {},
     "output_type": "display_data"
    },
    {
     "data": {
      "text/markdown": [
       "Delivery service revenue\n",
       "67525\n",
       "2023 Q4"
      ],
      "text/plain": [
       "<IPython.core.display.Markdown object>"
      ]
     },
     "metadata": {},
     "output_type": "display_data"
    },
    {
     "data": {
      "text/markdown": [
       "Delivery service revenue\n",
       "76651\n",
       "2022 Q4"
      ],
      "text/plain": [
       "<IPython.core.display.Markdown object>"
      ]
     },
     "metadata": {},
     "output_type": "display_data"
    },
    {
     "data": {
      "text/markdown": [
       "Total revenue\n",
       "9871649\n",
       "2023 Q4"
      ],
      "text/plain": [
       "<IPython.core.display.Markdown object>"
      ]
     },
     "metadata": {},
     "output_type": "display_data"
    },
    {
     "data": {
      "text/markdown": [
       "Food, beverage and packaging\n",
       "9294564\n",
       "2023 Q4"
      ],
      "text/plain": [
       "<IPython.core.display.Markdown object>"
      ]
     },
     "metadata": {},
     "output_type": "display_data"
    },
    {
     "data": {
      "text/markdown": [
       "Labor\n",
       "2440982\n",
       "2023 Q4"
      ],
      "text/plain": [
       "<IPython.core.display.Markdown object>"
      ]
     },
     "metadata": {},
     "output_type": "display_data"
    },
    {
     "data": {
      "text/markdown": [
       "Occupancy\n",
       "503264\n",
       "2023 Q4"
      ],
      "text/plain": [
       "<IPython.core.display.Markdown object>"
      ]
     },
     "metadata": {},
     "output_type": "display_data"
    },
    {
     "data": {
      "text/markdown": [
       "Other operating costs\n",
       "1,428,747\n",
       "2023 Q4"
      ],
      "text/plain": [
       "<IPython.core.display.Markdown object>"
      ]
     },
     "metadata": {},
     "output_type": "display_data"
    },
    {
     "data": {
      "text/markdown": [
       "Other operating costs\n",
       "1,311,905\n",
       "2022 Q4"
      ],
      "text/plain": [
       "<IPython.core.display.Markdown object>"
      ]
     },
     "metadata": {},
     "output_type": "display_data"
    },
    {
     "data": {
      "text/markdown": [
       "General and administrative expenses\n",
       "633584\n",
       "2023 Q4"
      ],
      "text/plain": [
       "<IPython.core.display.Markdown object>"
      ]
     },
     "metadata": {},
     "output_type": "display_data"
    },
    {
     "data": {
      "text/markdown": [
       "Depreciation and amortization\n",
       "319394\n",
       "2023 Q4"
      ],
      "text/plain": [
       "<IPython.core.display.Markdown object>"
      ]
     },
     "metadata": {},
     "output_type": "display_data"
    },
    {
     "data": {
      "text/markdown": [
       "Pre-opening costs\n",
       "36,931\n",
       "2023 Q4"
      ],
      "text/plain": [
       "<IPython.core.display.Markdown object>"
      ]
     },
     "metadata": {},
     "output_type": "display_data"
    },
    {
     "data": {
      "text/markdown": [
       "Impairment, closure costs, and asset disposals\n",
       "38370\n",
       "2023 Q4"
      ],
      "text/plain": [
       "<IPython.core.display.Markdown object>"
      ]
     },
     "metadata": {},
     "output_type": "display_data"
    },
    {
     "data": {
      "text/markdown": [
       "Total operating expenses\n",
       "8313836\n",
       "2023 Q4"
      ],
      "text/plain": [
       "<IPython.core.display.Markdown object>"
      ]
     },
     "metadata": {},
     "output_type": "display_data"
    },
    {
     "data": {
      "text/markdown": [
       "Income from operations\n",
       "1557813\n",
       "2023 Q4"
      ],
      "text/plain": [
       "<IPython.core.display.Markdown object>"
      ]
     },
     "metadata": {},
     "output_type": "display_data"
    },
    {
     "data": {
      "text/markdown": [
       "Interest and other income, net\n",
       "62,693\n",
       "2023 Q4"
      ],
      "text/plain": [
       "<IPython.core.display.Markdown object>"
      ]
     },
     "metadata": {},
     "output_type": "display_data"
    },
    {
     "data": {
      "text/markdown": [
       "Income before income taxes\n",
       "1620506\n",
       "2023 Q4"
      ],
      "text/plain": [
       "<IPython.core.display.Markdown object>"
      ]
     },
     "metadata": {},
     "output_type": "display_data"
    },
    {
     "data": {
      "text/markdown": [
       "Provision for income taxes\n",
       "(391769)\n",
       "2023 Q4"
      ],
      "text/plain": [
       "<IPython.core.display.Markdown object>"
      ]
     },
     "metadata": {},
     "output_type": "display_data"
    },
    {
     "data": {
      "text/markdown": [
       "Net income\n",
       "1228737\n",
       "2023 Q4"
      ],
      "text/plain": [
       "<IPython.core.display.Markdown object>"
      ]
     },
     "metadata": {},
     "output_type": "display_data"
    },
    {
     "data": {
      "text/markdown": [
       "Earnings per share: Basic\n",
       "44.59\n",
       "2023 Q4"
      ],
      "text/plain": [
       "<IPython.core.display.Markdown object>"
      ]
     },
     "metadata": {},
     "output_type": "display_data"
    },
    {
     "data": {
      "text/markdown": [
       "Earnings per share: Diluted\n",
       "44.34\n",
       "2023 Q4"
      ],
      "text/plain": [
       "<IPython.core.display.Markdown object>"
      ]
     },
     "metadata": {},
     "output_type": "display_data"
    },
    {
     "data": {
      "text/markdown": [
       "Weighted-average common shares outstanding: Basic\n",
       "27555\n",
       "2023 Q4"
      ],
      "text/plain": [
       "<IPython.core.display.Markdown object>"
      ]
     },
     "metadata": {},
     "output_type": "display_data"
    },
    {
     "data": {
      "text/markdown": [
       "Weighted-average common shares outstanding: Diluted\n",
       "27,710\n",
       "2023 Q4"
      ],
      "text/plain": [
       "<IPython.core.display.Markdown object>"
      ]
     },
     "metadata": {},
     "output_type": "display_data"
    },
    {
     "data": {
      "text/markdown": [
       "|  ﻿  |     |     |     |     |\n",
       "|  ---  |  ---  |  ---  |  ---  |  ---  |\n",
       "|  ﻿  |  December 31,  |     |     |     |\n",
       "|  ﻿  |  2023  |     |  2022  |     |\n",
       "|  ﻿  |  (unaudited)  |     |     |     |\n",
       "|  Assets  |     |     |     |     |\n",
       "|  Current assets:  |     |     |     |     |\n",
       "|  Cash and cash equivalents  |  $  |  560,609  |  $  |  384,000  |\n",
       "|  Accounts receivable, net  |     |  115,535  |     |  106,880  |\n",
       "|  Inventory  |     |  39,309  |     |  35,668  |\n",
       "|  Prepaid expenses and other current assets  |     |  117,462  |     |  86,412  |\n",
       "|  Income tax receivable  |     |  52,960  |     |  47,741  |\n",
       "|  Investments  |     |  734,838  |     |  515,136  |\n",
       "|  Total current assets  |     |  1,620,713  |     |  1,175,837  |\n",
       "|  Leasehold improvements, property and equipment, net  |     |  2,170,038  |     |  1,951,147  |\n",
       "|  Long-term investments  |     |  564,488  |     |  388,055  |\n",
       "|  Restricted cash  |     |  25,554  |     |  24,966  |\n",
       "|  Operating lease assets  |     |  3,578,548  |     |  3,302,402  |\n",
       "|  Other assets  |     |  63,082  |     |  63,158  |\n",
       "|  Goodwill  |     |  21,939  |     |  21,939  |\n",
       "|  Total assets  |  $  |  8,044,362  |  $  |  6,927,504  |\n",
       "|  Liabilities and shareholders' equity  |     |     |     |     |\n",
       "|  Current liabilities:  |     |     |     |     |\n",
       "|  Accounts payable  |  $  |  197,646  |  $  |  184,566  |\n",
       "|  Accrued payroll and benefits  |     |  227,537  |     |  170,456  |\n",
       "|  Accrued liabilities  |     |  147,688  |     |  147,539  |\n",
       "|  Unearned revenue  |     |  209,680  |     |  183,071  |\n",
       "|  Current operating lease liabilities  |     |  248,074  |     |  236,248  |\n",
       "|  Total current liabilities  |     |  1,030,625  |     |  921,880  |\n",
       "|  Long-term operating lease liabilities  |     |  3,803,551  |     |  3,495,162  |\n",
       "|  Deferred income tax liabilities  |     |  89,109  |     |  98,623  |\n",
       "|  Other liabilities  |     |  58,870  |     |  43,816  |\n",
       "|  Total liabilities  |     |  4,982,155  |     |  4,559,481  |\n",
       "|  Shareholders' equity:  |     |     |     |     |\n",
       "|  Preferred stock, $0.01 par value, 600,000 shares authorized, no shares issued as of December 31, 2023 and December 31, 2022, respectively  |     |  -  |     |  -  |\n",
       "|  Common stock, $0.01 par value, 230,000 shares authorized, 37,483 and 37,320 shares issued as of December 31, 2023 and December 31, 2022, respectively  |     |  375  |     |  373  |\n",
       "|  Additional paid-in capital  |     |  1,956,160  |     |  1,829,304  |\n",
       "|  Treasury stock, at cost, 10,057 and 9,693 common shares as of December 31, 2023 and December 31, 2022, respectively  |     |  (4,944,656)  |     |  (4,282,014)  |\n",
       "|  Accumulated other comprehensive loss  |     |  (6,657)  |     |  (7,888)  |\n",
       "|  Retained earnings  |     |  6,056,985  |     |  4,828,248  |\n",
       "|  Total shareholders' equity  |     |  3,062,207  |     |  2,368,023  |\n",
       "|  Total liabilities and shareholders' equity  |  $  |  8,044,362  |  $  |  6,927,504  |"
      ],
      "text/plain": [
       "<IPython.core.display.Markdown object>"
      ]
     },
     "metadata": {},
     "output_type": "display_data"
    },
    {
     "data": {
      "text/markdown": [
       "Total assets\n",
       "560,609\n",
       "2023 Q4"
      ],
      "text/plain": [
       "<IPython.core.display.Markdown object>"
      ]
     },
     "metadata": {},
     "output_type": "display_data"
    },
    {
     "data": {
      "text/markdown": [
       "Total assets\n",
       "384,000\n",
       "2022 Q4"
      ],
      "text/plain": [
       "<IPython.core.display.Markdown object>"
      ]
     },
     "metadata": {},
     "output_type": "display_data"
    },
    {
     "data": {
      "text/markdown": [
       "Cash and cash equivalents\n",
       "560,609\n",
       "2023 Q4"
      ],
      "text/plain": [
       "<IPython.core.display.Markdown object>"
      ]
     },
     "metadata": {},
     "output_type": "display_data"
    },
    {
     "data": {
      "text/markdown": [
       "Cash and cash equivalents\n",
       "384,000\n",
       "2022 Q4"
      ],
      "text/plain": [
       "<IPython.core.display.Markdown object>"
      ]
     },
     "metadata": {},
     "output_type": "display_data"
    },
    {
     "data": {
      "text/markdown": [
       "Accounts receivable, net\n",
       "115,535\n",
       "2023 Q4"
      ],
      "text/plain": [
       "<IPython.core.display.Markdown object>"
      ]
     },
     "metadata": {},
     "output_type": "display_data"
    },
    {
     "data": {
      "text/markdown": [
       "Accounts receivable, net\n",
       "106,880\n",
       "2022 Q4"
      ],
      "text/plain": [
       "<IPython.core.display.Markdown object>"
      ]
     },
     "metadata": {},
     "output_type": "display_data"
    },
    {
     "data": {
      "text/markdown": [
       "Inventory\n",
       "39309\n",
       "2023 Q4"
      ],
      "text/plain": [
       "<IPython.core.display.Markdown object>"
      ]
     },
     "metadata": {},
     "output_type": "display_data"
    },
    {
     "data": {
      "text/markdown": [
       "Inventory\n",
       "35668\n",
       "2022 Q4"
      ],
      "text/plain": [
       "<IPython.core.display.Markdown object>"
      ]
     },
     "metadata": {},
     "output_type": "display_data"
    },
    {
     "data": {
      "text/markdown": [
       "Prepaid expenses and other current assets\n",
       "117462\n",
       "2023 Q4"
      ],
      "text/plain": [
       "<IPython.core.display.Markdown object>"
      ]
     },
     "metadata": {},
     "output_type": "display_data"
    },
    {
     "data": {
      "text/markdown": [
       "Income tax receivable\n",
       "52,960\n",
       "2023 Q4"
      ],
      "text/plain": [
       "<IPython.core.display.Markdown object>"
      ]
     },
     "metadata": {},
     "output_type": "display_data"
    },
    {
     "data": {
      "text/markdown": [
       "Income tax receivable\n",
       "47,741\n",
       "2022 Q4"
      ],
      "text/plain": [
       "<IPython.core.display.Markdown object>"
      ]
     },
     "metadata": {},
     "output_type": "display_data"
    },
    {
     "data": {
      "text/markdown": [
       "Investments\n",
       "734838\n",
       "2023 Q4"
      ],
      "text/plain": [
       "<IPython.core.display.Markdown object>"
      ]
     },
     "metadata": {},
     "output_type": "display_data"
    },
    {
     "data": {
      "text/markdown": [
       "Investments\n",
       "515136\n",
       "2022 Q4"
      ],
      "text/plain": [
       "<IPython.core.display.Markdown object>"
      ]
     },
     "metadata": {},
     "output_type": "display_data"
    },
    {
     "data": {
      "text/markdown": [
       "Total current assets\n",
       "560,609\n",
       "2023 Q4"
      ],
      "text/plain": [
       "<IPython.core.display.Markdown object>"
      ]
     },
     "metadata": {},
     "output_type": "display_data"
    },
    {
     "data": {
      "text/markdown": [
       "Total current assets\n",
       "384,000\n",
       "2022 Q4"
      ],
      "text/plain": [
       "<IPython.core.display.Markdown object>"
      ]
     },
     "metadata": {},
     "output_type": "display_data"
    },
    {
     "data": {
      "text/markdown": [
       "Leasehold improvements, property and equipment, net\n",
       "2,170,038\n",
       "2023 Q4"
      ],
      "text/plain": [
       "<IPython.core.display.Markdown object>"
      ]
     },
     "metadata": {},
     "output_type": "display_data"
    },
    {
     "data": {
      "text/markdown": [
       "Long-term investments\n",
       "564488\n",
       "2023 Q4"
      ],
      "text/plain": [
       "<IPython.core.display.Markdown object>"
      ]
     },
     "metadata": {},
     "output_type": "display_data"
    },
    {
     "data": {
      "text/markdown": [
       "Restricted cash\n",
       "25,554\n",
       "2023 Q4"
      ],
      "text/plain": [
       "<IPython.core.display.Markdown object>"
      ]
     },
     "metadata": {},
     "output_type": "display_data"
    },
    {
     "data": {
      "text/markdown": [
       "Restricted cash\n",
       "24,966\n",
       "2022 Q4"
      ],
      "text/plain": [
       "<IPython.core.display.Markdown object>"
      ]
     },
     "metadata": {},
     "output_type": "display_data"
    },
    {
     "data": {
      "text/markdown": [
       "Operating lease assets\n",
       "3,578,548\n",
       "2023 Q4"
      ],
      "text/plain": [
       "<IPython.core.display.Markdown object>"
      ]
     },
     "metadata": {},
     "output_type": "display_data"
    },
    {
     "data": {
      "text/markdown": [
       "Other assets\n",
       "560,609\n",
       "2023 Q4"
      ],
      "text/plain": [
       "<IPython.core.display.Markdown object>"
      ]
     },
     "metadata": {},
     "output_type": "display_data"
    },
    {
     "data": {
      "text/markdown": [
       "Other assets\n",
       "384,000\n",
       "2022 Q4"
      ],
      "text/plain": [
       "<IPython.core.display.Markdown object>"
      ]
     },
     "metadata": {},
     "output_type": "display_data"
    },
    {
     "data": {
      "text/markdown": [
       "Goodwill\n",
       "21939\n",
       "2023 Q4"
      ],
      "text/plain": [
       "<IPython.core.display.Markdown object>"
      ]
     },
     "metadata": {},
     "output_type": "display_data"
    },
    {
     "data": {
      "text/markdown": [
       "Current liabilities:\n",
       "1,030,625\n",
       "2023 Q4"
      ],
      "text/plain": [
       "<IPython.core.display.Markdown object>"
      ]
     },
     "metadata": {},
     "output_type": "display_data"
    },
    {
     "data": {
      "text/markdown": [
       "Current liabilities:\n",
       "921,880\n",
       "2022 Q4"
      ],
      "text/plain": [
       "<IPython.core.display.Markdown object>"
      ]
     },
     "metadata": {},
     "output_type": "display_data"
    },
    {
     "data": {
      "text/markdown": [
       "Accounts payable\n",
       "197,646\n",
       "2023 Q4"
      ],
      "text/plain": [
       "<IPython.core.display.Markdown object>"
      ]
     },
     "metadata": {},
     "output_type": "display_data"
    },
    {
     "data": {
      "text/markdown": [
       "Accrued payroll and benefits\n",
       "227,537\n",
       "2023 Q4"
      ],
      "text/plain": [
       "<IPython.core.display.Markdown object>"
      ]
     },
     "metadata": {},
     "output_type": "display_data"
    },
    {
     "data": {
      "text/markdown": [
       "Accrued payroll and benefits\n",
       "170,456\n",
       "2022 Q4"
      ],
      "text/plain": [
       "<IPython.core.display.Markdown object>"
      ]
     },
     "metadata": {},
     "output_type": "display_data"
    },
    {
     "data": {
      "text/markdown": [
       "Accrued liabilities\n",
       "147,688\n",
       "2023 Q4"
      ],
      "text/plain": [
       "<IPython.core.display.Markdown object>"
      ]
     },
     "metadata": {},
     "output_type": "display_data"
    },
    {
     "data": {
      "text/markdown": [
       "Accrued liabilities\n",
       "147,539\n",
       "2022 Q4"
      ],
      "text/plain": [
       "<IPython.core.display.Markdown object>"
      ]
     },
     "metadata": {},
     "output_type": "display_data"
    },
    {
     "data": {
      "text/markdown": [
       "Unearned revenue\n",
       "209,680\n",
       "2023 Q4"
      ],
      "text/plain": [
       "<IPython.core.display.Markdown object>"
      ]
     },
     "metadata": {},
     "output_type": "display_data"
    },
    {
     "data": {
      "text/markdown": [
       "Current operating lease liabilities\n",
       "248,074\n",
       "2023 Q4"
      ],
      "text/plain": [
       "<IPython.core.display.Markdown object>"
      ]
     },
     "metadata": {},
     "output_type": "display_data"
    },
    {
     "data": {
      "text/markdown": [
       "Long-term operating lease liabilities\n",
       "3803551\n",
       "2023 Q4"
      ],
      "text/plain": [
       "<IPython.core.display.Markdown object>"
      ]
     },
     "metadata": {},
     "output_type": "display_data"
    },
    {
     "data": {
      "text/markdown": [
       "Deferred income tax liabilities\n",
       "89,109\n",
       "2023 Q4"
      ],
      "text/plain": [
       "<IPython.core.display.Markdown object>"
      ]
     },
     "metadata": {},
     "output_type": "display_data"
    },
    {
     "data": {
      "text/markdown": [
       "Other liabilities\n",
       "58,870\n",
       "2023 Q4"
      ],
      "text/plain": [
       "<IPython.core.display.Markdown object>"
      ]
     },
     "metadata": {},
     "output_type": "display_data"
    },
    {
     "data": {
      "text/markdown": [
       "Other liabilities\n",
       "43,816\n",
       "2022 Q4"
      ],
      "text/plain": [
       "<IPython.core.display.Markdown object>"
      ]
     },
     "metadata": {},
     "output_type": "display_data"
    },
    {
     "data": {
      "text/markdown": [
       "Shareholders' equity:\n",
       "3,062,207\n",
       "2023 Q4"
      ],
      "text/plain": [
       "<IPython.core.display.Markdown object>"
      ]
     },
     "metadata": {},
     "output_type": "display_data"
    },
    {
     "data": {
      "text/markdown": [
       "Preferred stock, $0.01 par value, 600,000 shares authorized, no shares issued as of December 31, 2023 and December 31, 2022, respectively\n",
       "-\n",
       "2023 4Q"
      ],
      "text/plain": [
       "<IPython.core.display.Markdown object>"
      ]
     },
     "metadata": {},
     "output_type": "display_data"
    },
    {
     "data": {
      "text/markdown": [
       "Common stock, $0.01 par value, 230,000 shares authorized, 37,483 and 37,320 shares issued as of December 31, 2023 and December 31, 2022, respectively\n",
       "375\n",
       "2023 Q4"
      ],
      "text/plain": [
       "<IPython.core.display.Markdown object>"
      ]
     },
     "metadata": {},
     "output_type": "display_data"
    },
    {
     "data": {
      "text/markdown": [
       "Additional paid-in capital\n",
       "1956160\n",
       "2023 4Q"
      ],
      "text/plain": [
       "<IPython.core.display.Markdown object>"
      ]
     },
     "metadata": {},
     "output_type": "display_data"
    },
    {
     "data": {
      "text/markdown": [
       "Treasury stock, at cost, 10,057 and 9,693 common shares as of December 31, 2023 and December 2022, respectively\n",
       "(4,944,656)\n",
       "2023 Q4"
      ],
      "text/plain": [
       "<IPython.core.display.Markdown object>"
      ]
     },
     "metadata": {},
     "output_type": "display_data"
    },
    {
     "data": {
      "text/markdown": [
       "Treasury stock, at cost, 10,057 and 9,693 common shares as of December 31, 2023 and December 2022, respectively\n",
       "(4,282,014)\n",
       "2022 Q4"
      ],
      "text/plain": [
       "<IPython.core.display.Markdown object>"
      ]
     },
     "metadata": {},
     "output_type": "display_data"
    },
    {
     "data": {
      "text/markdown": [
       "Accumulated other comprehensive loss\n",
       "(6,657)\n",
       "2023 Q4"
      ],
      "text/plain": [
       "<IPython.core.display.Markdown object>"
      ]
     },
     "metadata": {},
     "output_type": "display_data"
    },
    {
     "data": {
      "text/markdown": [
       "Retained earnings\n",
       "6056985\n",
       "2023 Q4"
      ],
      "text/plain": [
       "<IPython.core.display.Markdown object>"
      ]
     },
     "metadata": {},
     "output_type": "display_data"
    },
    {
     "data": {
      "text/markdown": [
       "Total shareholders' equity\n",
       "3,062,207\n",
       "2023 Q4"
      ],
      "text/plain": [
       "<IPython.core.display.Markdown object>"
      ]
     },
     "metadata": {},
     "output_type": "display_data"
    },
    {
     "data": {
      "text/markdown": [
       "|  ﻿  |  Year ended December 31,  |     |     |     |\n",
       "|  ---  |  ---  |  ---  |  ---  |  ---  |\n",
       "|  ﻿  |  2023  |     |  2022  |     |\n",
       "|  ﻿  |  (unaudited)  |     |     |     |\n",
       "|  Operating activities  |     |     |     |     |\n",
       "|  Net income  |  $  |  1,228,737  |  $  |  899,101  |\n",
       "|  Adjustments to reconcile net income to net cash provided by operating activities:  |     |     |     |     |\n",
       "|  Depreciation and amortization  |     |  319,394  |     |  286,826  |\n",
       "|  Deferred income tax provision  |     |  (9,505)  |     |  (43,195)  |\n",
       "|  Impairment, closure costs, and asset disposals  |     |  37,025  |     |  20,738  |\n",
       "|  Provision for credit losses  |     |  1,570  |     |  (760)  |\n",
       "|  Stock-based compensation expense  |     |  124,016  |     |  98,030  |\n",
       "|  Other  |     |  (13,080)  |     |  (16,202)  |\n",
       "|  Changes in operating assets and liabilities:  |     |     |     |     |\n",
       "|  Accounts receivable  |     |  (11,216)  |     |  (14,026)  |\n",
       "|  Inventory  |     |  (3,649)  |     |  (3,011)  |\n",
       "|  Prepaid expenses and other current assets  |     |  (39,211)  |     |  (14,660)  |\n",
       "|  Operating lease assets  |     |  254,241  |     |  234,273  |\n",
       "|  Other assets  |     |  4,204  |     |  (346)  |\n",
       "|  Accounts payable  |     |  5,313  |     |  18,208  |\n",
       "|  Accrued payroll and benefits  |     |  57,048  |     |  9,864  |\n",
       "|  Accrued liabilities  |     |  3,188  |     |  (27,964)  |\n",
       "|  Unearned revenue  |     |  35,685  |     |  33,374  |\n",
       "|  Income tax payable/receivable  |     |  (5,237)  |     |  46,262  |\n",
       "|  Operating lease liabilities  |     |  (214,477)  |     |  (207,186)  |\n",
       "|  Other long-term liabilities  |     |  9,431  |     |  3,853  |\n",
       "|  Net cash provided by operating activities  |     |  1,783,477  |     |  1,323,179  |\n",
       "|  Investing activities  |     |     |     |     |\n",
       "|  Purchases of leasehold improvements, property and equipment  |     |  (560,731)  |     |  (479,164)  |\n",
       "|  Purchases of investments  |     |  (1,115,131)  |     |  (614,416)  |\n",
       "|  Maturities of investments  |     |  729,853  |     |  263,548  |\n",
       "|  Net cash used in investing activities  |     |  (946,009)  |     |  (830,032)  |\n",
       "|  Financing activities  |     |     |     |     |\n",
       "|  Acquisition of treasury stock  |     |  (592,349)  |     |  (830,140)  |\n",
       "|  Tax withholding on stock-based compensation awards  |     |  (69,146)  |     |  (98,970)  |\n",
       "|  Other financing activities  |     |  843  |     |  (294)  |\n",
       "|  Net cash used in financing activities  |     |  (660,652)  |     |  (929,404)  |\n",
       "|  Effect of exchange rate changes on cash, cash equivalents and restricted cash  |     |  381  |     |  (1,007)  |\n",
       "|  Net change in cash, cash equivalents, and restricted cash  |     |  177,197  |     |  (437,264)  |\n",
       "|  Cash, cash equivalents, and restricted cash at beginning of year  |     |  408,966  |     |  846,230  |\n",
       "|  Cash, cash equivalents, and restricted cash at end of year  |  $  |  586,163  |  $  |  408,966  |\n",
       "|  Supplemental disclosures of cash flow information  |     |     |     |     |\n",
       "|  Income taxes paid  |  $  |  400,229  |  $  |  275,796  |\n",
       "|  Purchases of leasehold improvements, property and equipment accrued in accounts payable and accrued liabilities  |  $  |  76,415  |  $  |  72,021  |\n",
       "|  Acquisition of treasury stock accrued in accounts payable and accrued liabilities  |  $  |  5,643  |  $  |  4,497  |"
      ],
      "text/plain": [
       "<IPython.core.display.Markdown object>"
      ]
     },
     "metadata": {},
     "output_type": "display_data"
    },
    {
     "data": {
      "text/markdown": [
       "Net income\n",
       "1228737\n",
       "2023 Q4"
      ],
      "text/plain": [
       "<IPython.core.display.Markdown object>"
      ]
     },
     "metadata": {},
     "output_type": "display_data"
    },
    {
     "data": {
      "text/markdown": [
       "Depreciation and amortization\n",
       "319394\n",
       "2023 Q4"
      ],
      "text/plain": [
       "<IPython.core.display.Markdown object>"
      ]
     },
     "metadata": {},
     "output_type": "display_data"
    },
    {
     "data": {
      "text/markdown": [
       "Deferred income tax provision\n",
       "(9,505)\n",
       "2023 Q4"
      ],
      "text/plain": [
       "<IPython.core.display.Markdown object>"
      ]
     },
     "metadata": {},
     "output_type": "display_data"
    },
    {
     "data": {
      "text/markdown": [
       "Impairment, closure costs, and asset disposals\n",
       "37025\n",
       "2023 Q4"
      ],
      "text/plain": [
       "<IPython.core.display.Markdown object>"
      ]
     },
     "metadata": {},
     "output_type": "display_data"
    },
    {
     "data": {
      "text/markdown": [
       "Provision for credit losses\n",
       "1,570\n",
       "2023 Q4"
      ],
      "text/plain": [
       "<IPython.core.display.Markdown object>"
      ]
     },
     "metadata": {},
     "output_type": "display_data"
    },
    {
     "data": {
      "text/markdown": [
       "Stock-based compensation expense\n",
       "124016\n",
       "2023 Q4"
      ],
      "text/plain": [
       "<IPython.core.display.Markdown object>"
      ]
     },
     "metadata": {},
     "output_type": "display_data"
    },
    {
     "data": {
      "text/markdown": [
       "Other (Adjustments to reconcile net income to net cash provided by operating activities)\n",
       "319394\n",
       "2023 Q4"
      ],
      "text/plain": [
       "<IPython.core.display.Markdown object>"
      ]
     },
     "metadata": {},
     "output_type": "display_data"
    },
    {
     "data": {
      "text/markdown": [
       "Other (Adjustments to reconcile net income to net cash provided by operating activities)\n",
       "(9505)\n",
       "2023 Q4"
      ],
      "text/plain": [
       "<IPython.core.display.Markdown object>"
      ]
     },
     "metadata": {},
     "output_type": "display_data"
    },
    {
     "data": {
      "text/markdown": [
       "Other (Adjustments to reconcile net income to net cash provided by operating activities)\n",
       "37025\n",
       "2023 Q4"
      ],
      "text/plain": [
       "<IPython.core.display.Markdown object>"
      ]
     },
     "metadata": {},
     "output_type": "display_data"
    },
    {
     "data": {
      "text/markdown": [
       "Other (Adjustments to reconcile net income to net cash provided by operating activities)\n",
       "1570\n",
       "2023 Q4"
      ],
      "text/plain": [
       "<IPython.core.display.Markdown object>"
      ]
     },
     "metadata": {},
     "output_type": "display_data"
    },
    {
     "data": {
      "text/markdown": [
       "Other (Adjustments to reconcile net income to net cash provided by operating activities)\n",
       "124016\n",
       "2023 Q4"
      ],
      "text/plain": [
       "<IPython.core.display.Markdown object>"
      ]
     },
     "metadata": {},
     "output_type": "display_data"
    },
    {
     "data": {
      "text/markdown": [
       "Other (Adjustments to reconcile net income to net cash provided by operating activities)\n",
       "(13080)\n",
       "2023 Q4"
      ],
      "text/plain": [
       "<IPython.core.display.Markdown object>"
      ]
     },
     "metadata": {},
     "output_type": "display_data"
    },
    {
     "data": {
      "text/markdown": [
       "Other (Adjustments to reconcile net income to net cash provided by operating activities)\n",
       "(11216)\n",
       "2023 Q4"
      ],
      "text/plain": [
       "<IPython.core.display.Markdown object>"
      ]
     },
     "metadata": {},
     "output_type": "display_data"
    },
    {
     "data": {
      "text/markdown": [
       "Other (Adjustments to reconcile net income to net cash provided by operating activities)\n",
       "(3649)\n",
       "2023 Q4"
      ],
      "text/plain": [
       "<IPython.core.display.Markdown object>"
      ]
     },
     "metadata": {},
     "output_type": "display_data"
    },
    {
     "data": {
      "text/markdown": [
       "Other (Adjustments to reconcile net income to net cash provided by operating activities)\n",
       "(39211)\n",
       "2023 Q4"
      ],
      "text/plain": [
       "<IPython.core.display.Markdown object>"
      ]
     },
     "metadata": {},
     "output_type": "display_data"
    },
    {
     "data": {
      "text/markdown": [
       "Other (Adjustments to reconcile net income to net cash provided by operating activities)\n",
       "254241\n",
       "2023 Q4"
      ],
      "text/plain": [
       "<IPython.core.display.Markdown object>"
      ]
     },
     "metadata": {},
     "output_type": "display_data"
    },
    {
     "data": {
      "text/markdown": [
       "Other (Adjustments to reconcile net income to net cash provided by operating activities)\n",
       "4204\n",
       "2023 Q4"
      ],
      "text/plain": [
       "<IPython.core.display.Markdown object>"
      ]
     },
     "metadata": {},
     "output_type": "display_data"
    },
    {
     "data": {
      "text/markdown": [
       "Other (Adjustments to reconcile net income to net cash provided by operating activities)\n",
       "5313\n",
       "2023 Q4"
      ],
      "text/plain": [
       "<IPython.core.display.Markdown object>"
      ]
     },
     "metadata": {},
     "output_type": "display_data"
    },
    {
     "data": {
      "text/markdown": [
       "Other (Adjustments to reconcile net income to net cash provided by operating activities)\n",
       "57048\n",
       "2023 Q4"
      ],
      "text/plain": [
       "<IPython.core.display.Markdown object>"
      ]
     },
     "metadata": {},
     "output_type": "display_data"
    },
    {
     "data": {
      "text/markdown": [
       "Other (Adjustments to reconcile net income to net cash provided by operating activities)\n",
       "3188\n",
       "2023 Q4"
      ],
      "text/plain": [
       "<IPython.core.display.Markdown object>"
      ]
     },
     "metadata": {},
     "output_type": "display_data"
    },
    {
     "data": {
      "text/markdown": [
       "Other (Adjustments to reconcile net income to net cash provided by operating activities)\n",
       "35685\n",
       "2023 Q4"
      ],
      "text/plain": [
       "<IPython.core.display.Markdown object>"
      ]
     },
     "metadata": {},
     "output_type": "display_data"
    },
    {
     "data": {
      "text/markdown": [
       "Other (Adjustments to reconcile net income to net cash provided by operating activities)\n",
       "(5237)\n",
       "2023 Q4"
      ],
      "text/plain": [
       "<IPython.core.display.Markdown object>"
      ]
     },
     "metadata": {},
     "output_type": "display_data"
    },
    {
     "data": {
      "text/markdown": [
       "Other (Adjustments to reconcile net income to net cash provided by operating activities)\n",
       "(214477)\n",
       "2023 Q4"
      ],
      "text/plain": [
       "<IPython.core.display.Markdown object>"
      ]
     },
     "metadata": {},
     "output_type": "display_data"
    },
    {
     "data": {
      "text/markdown": [
       "Other (Adjustments to reconcile net income to net cash provided by operating activities)\n",
       "9431\n",
       "2023 Q4"
      ],
      "text/plain": [
       "<IPython.core.display.Markdown object>"
      ]
     },
     "metadata": {},
     "output_type": "display_data"
    },
    {
     "data": {
      "text/markdown": [
       "Other (Adjustments to reconcile net income to net cash provided by operating activities)\n",
       "1783477\n",
       "2023 Q4"
      ],
      "text/plain": [
       "<IPython.core.display.Markdown object>"
      ]
     },
     "metadata": {},
     "output_type": "display_data"
    },
    {
     "data": {
      "text/markdown": [
       "Accounts receivable\n",
       "-11,216\n",
       "2023 Q4"
      ],
      "text/plain": [
       "<IPython.core.display.Markdown object>"
      ]
     },
     "metadata": {},
     "output_type": "display_data"
    },
    {
     "data": {
      "text/markdown": [
       "Inventory\n",
       "(3,649)\n",
       "2023 Q4"
      ],
      "text/plain": [
       "<IPython.core.display.Markdown object>"
      ]
     },
     "metadata": {},
     "output_type": "display_data"
    },
    {
     "data": {
      "text/markdown": [
       "Prepaid expenses and other current assets\n",
       "-39211\n",
       "2023 Q4"
      ],
      "text/plain": [
       "<IPython.core.display.Markdown object>"
      ]
     },
     "metadata": {},
     "output_type": "display_data"
    },
    {
     "data": {
      "text/markdown": [
       "Operating lease assets\n",
       "254241\n",
       "2023 Q4"
      ],
      "text/plain": [
       "<IPython.core.display.Markdown object>"
      ]
     },
     "metadata": {},
     "output_type": "display_data"
    },
    {
     "data": {
      "text/markdown": [
       "Other assets\n",
       "4,204\n",
       "2023 Q4"
      ],
      "text/plain": [
       "<IPython.core.display.Markdown object>"
      ]
     },
     "metadata": {},
     "output_type": "display_data"
    },
    {
     "data": {
      "text/markdown": [
       "Accounts payable\n",
       "5,313\n",
       "2023 Q4"
      ],
      "text/plain": [
       "<IPython.core.display.Markdown object>"
      ]
     },
     "metadata": {},
     "output_type": "display_data"
    },
    {
     "data": {
      "text/markdown": [
       "Accrued payroll and benefits\n",
       "57048\n",
       "2023 Q4"
      ],
      "text/plain": [
       "<IPython.core.display.Markdown object>"
      ]
     },
     "metadata": {},
     "output_type": "display_data"
    },
    {
     "data": {
      "text/markdown": [
       "Accrued liabilities\n",
       "3,188\n",
       "2023 Q4"
      ],
      "text/plain": [
       "<IPython.core.display.Markdown object>"
      ]
     },
     "metadata": {},
     "output_type": "display_data"
    },
    {
     "data": {
      "text/markdown": [
       "Unearned revenue\n",
       "35685\n",
       "2023 Q4"
      ],
      "text/plain": [
       "<IPython.core.display.Markdown object>"
      ]
     },
     "metadata": {},
     "output_type": "display_data"
    },
    {
     "data": {
      "text/markdown": [
       "Income tax payable/receivable\n",
       "(5,237)\n",
       "2023 Q4"
      ],
      "text/plain": [
       "<IPython.core.display.Markdown object>"
      ]
     },
     "metadata": {},
     "output_type": "display_data"
    },
    {
     "data": {
      "text/markdown": [
       "Operating lease liabilities\n",
       "(214,477)\n",
       "2023 Q4"
      ],
      "text/plain": [
       "<IPython.core.display.Markdown object>"
      ]
     },
     "metadata": {},
     "output_type": "display_data"
    },
    {
     "data": {
      "text/markdown": [
       "Other long-term liabilities\n",
       "9,431\n",
       "2023 Q4"
      ],
      "text/plain": [
       "<IPython.core.display.Markdown object>"
      ]
     },
     "metadata": {},
     "output_type": "display_data"
    },
    {
     "data": {
      "text/markdown": [
       "Net cash provided by operating activities\n",
       "1783477\n",
       "2023 Q4"
      ],
      "text/plain": [
       "<IPython.core.display.Markdown object>"
      ]
     },
     "metadata": {},
     "output_type": "display_data"
    },
    {
     "data": {
      "text/markdown": [
       "Purchases of leasehold improvements, property and equipment\n",
       "560731\n",
       "2023 Q4"
      ],
      "text/plain": [
       "<IPython.core.display.Markdown object>"
      ]
     },
     "metadata": {},
     "output_type": "display_data"
    },
    {
     "data": {
      "text/markdown": [
       "Purchases of investments\n",
       "1,115,131\n",
       "2023 Q4"
      ],
      "text/plain": [
       "<IPython.core.display.Markdown object>"
      ]
     },
     "metadata": {},
     "output_type": "display_data"
    },
    {
     "data": {
      "text/markdown": [
       "Purchases of investments\n",
       "614,416\n",
       "2022 Q4"
      ],
      "text/plain": [
       "<IPython.core.display.Markdown object>"
      ]
     },
     "metadata": {},
     "output_type": "display_data"
    },
    {
     "data": {
      "text/markdown": [
       "Maturities of investments\n",
       "729,853\n",
       "2023 Q4"
      ],
      "text/plain": [
       "<IPython.core.display.Markdown object>"
      ]
     },
     "metadata": {},
     "output_type": "display_data"
    },
    {
     "data": {
      "text/markdown": [
       "Net cash used in investing activities\n",
       "-946009\n",
       "2023 Q4"
      ],
      "text/plain": [
       "<IPython.core.display.Markdown object>"
      ]
     },
     "metadata": {},
     "output_type": "display_data"
    },
    {
     "data": {
      "text/markdown": [
       "Acquisition of treasury stock\n",
       "(592,349)\n",
       "2023 Q4"
      ],
      "text/plain": [
       "<IPython.core.display.Markdown object>"
      ]
     },
     "metadata": {},
     "output_type": "display_data"
    },
    {
     "data": {
      "text/markdown": [
       "Tax withholding on stock-based compensation awards\n",
       "69046\n",
       "2023 Q4"
      ],
      "text/plain": [
       "<IPython.core.display.Markdown object>"
      ]
     },
     "metadata": {},
     "output_type": "display_data"
    },
    {
     "data": {
      "text/markdown": [
       "Other financing activities\n",
       "843\n",
       "2023 Q4"
      ],
      "text/plain": [
       "<IPython.core.display.Markdown object>"
      ]
     },
     "metadata": {},
     "output_type": "display_data"
    },
    {
     "data": {
      "text/markdown": [
       "Net cash used in financing activities\n",
       "-660652\n",
       "2023 Q4"
      ],
      "text/plain": [
       "<IPython.core.display.Markdown object>"
      ]
     },
     "metadata": {},
     "output_type": "display_data"
    },
    {
     "data": {
      "text/markdown": [
       "Effect of exchange rate changes on cash, cash equivalents and restricted cash\n",
       "381\n",
       "2023 Q4"
      ],
      "text/plain": [
       "<IPython.core.display.Markdown object>"
      ]
     },
     "metadata": {},
     "output_type": "display_data"
    },
    {
     "data": {
      "text/markdown": [
       "Net change in cash, cash equivalents, and restricted cash\n",
       "177197\n",
       "2023 Q4"
      ],
      "text/plain": [
       "<IPython.core.display.Markdown object>"
      ]
     },
     "metadata": {},
     "output_type": "display_data"
    },
    {
     "data": {
      "text/markdown": [
       "Cash, cash equivalents, and restricted cash at beginning of year\n",
       "408,966\n",
       "2023 Q4"
      ],
      "text/plain": [
       "<IPython.core.display.Markdown object>"
      ]
     },
     "metadata": {},
     "output_type": "display_data"
    },
    {
     "data": {
      "text/markdown": [
       "Cash, cash equivalents, and restricted cash at end of year\n",
       "586,163\n",
       "2023 Q4"
      ],
      "text/plain": [
       "<IPython.core.display.Markdown object>"
      ]
     },
     "metadata": {},
     "output_type": "display_data"
    },
    {
     "data": {
      "text/markdown": [
       "Income taxes paid\n",
       "400229\n",
       "2023 Q4"
      ],
      "text/plain": [
       "<IPython.core.display.Markdown object>"
      ]
     },
     "metadata": {},
     "output_type": "display_data"
    },
    {
     "data": {
      "text/markdown": [
       "Purchases of leasehold improvements, property and equipment accrued in accounts payable and accrued liabilities\n",
       "76415\n",
       "2023 Q4"
      ],
      "text/plain": [
       "<IPython.core.display.Markdown object>"
      ]
     },
     "metadata": {},
     "output_type": "display_data"
    },
    {
     "data": {
      "text/markdown": [
       "Acquisition of treasury stock accrued in accounts payable and accrued liabilities\n",
       "5643\n",
       "2023 Q4"
      ],
      "text/plain": [
       "<IPython.core.display.Markdown object>"
      ]
     },
     "metadata": {},
     "output_type": "display_data"
    },
    {
     "data": {
      "text/markdown": [
       "|  ﻿  |  For the three months ended  |     |     |     |     |     |     |     |     |     |\n",
       "|  ---  |  ---  |  ---  |  ---  |  ---  |  ---  |  ---  |  ---  |  ---  |  ---  |  ---  |\n",
       "|  ﻿  |  Dec. 31,  |     |  Sep. 30,  |     |  Jun. 30,  |     |  Mar. 31,  |     |  Dec. 31,  |     |\n",
       "|  ﻿  |  2023  |     |  2023  |     |  2023  |     |  2023  |     |  2022  |     |\n",
       "|  Number of restaurants opened  |     |  121  |     |  62  |     |  47  |     |  41  |     |  100  |\n",
       "|  Chipotle permanent closures  |     |  (2)  |     |  (1)  |     |  -  |     |  -  |     |  -  |\n",
       "|  Chipotle relocations  |     |  (3)  |     |  (2)  |     |  (3)  |     |  (4)  |     |  (3)  |\n",
       "|  Non-Chipotle permanent closures  |     |  -  |     |  (6)  |     |  -  |     |  -  |     |  -  |\n",
       "|  Number of restaurants at end of period  |     |  3,437  |     |  3,321  |     |  3,268  |     |  3,224  |     |  3,187  |\n",
       "|  Average restaurant sales  |  $  |  3,018  |  $  |  2,972  |  $  |  2,941  |  $  |  2,892  |  $  |  2,824  |\n",
       "|  Comparable restaurant sales increase  |     |  8.4%  |     |  5.0%  |     |  7.4%  |     |  10.9%  |     |  5.6%  |"
      ],
      "text/plain": [
       "<IPython.core.display.Markdown object>"
      ]
     },
     "metadata": {},
     "output_type": "display_data"
    },
    {
     "data": {
      "text/markdown": [
       "Number of restaurants opened\n",
       "121\n",
       "2023 Q4"
      ],
      "text/plain": [
       "<IPython.core.display.Markdown object>"
      ]
     },
     "metadata": {},
     "output_type": "display_data"
    },
    {
     "data": {
      "text/markdown": [
       "Number of restaurants opened\n",
       "62\n",
       "2023 Q3"
      ],
      "text/plain": [
       "<IPython.core.display.Markdown object>"
      ]
     },
     "metadata": {},
     "output_type": "display_data"
    },
    {
     "data": {
      "text/markdown": [
       "Number of restaurants opened\n",
       "47\n",
       "2023 Q2"
      ],
      "text/plain": [
       "<IPython.core.display.Markdown object>"
      ]
     },
     "metadata": {},
     "output_type": "display_data"
    },
    {
     "data": {
      "text/markdown": [
       "Number of restaurants opened\n",
       "41\n",
       "2023 Q1"
      ],
      "text/plain": [
       "<IPython.core.display.Markdown object>"
      ]
     },
     "metadata": {},
     "output_type": "display_data"
    },
    {
     "data": {
      "text/markdown": [
       "Chipotle permanent closures\n",
       "(2)\n",
       "2023 Q4"
      ],
      "text/plain": [
       "<IPython.core.display.Markdown object>"
      ]
     },
     "metadata": {},
     "output_type": "display_data"
    },
    {
     "data": {
      "text/markdown": [
       "Chipotle permanent closures\n",
       "(1)\n",
       "2023 Q3"
      ],
      "text/plain": [
       "<IPython.core.display.Markdown object>"
      ]
     },
     "metadata": {},
     "output_type": "display_data"
    },
    {
     "data": {
      "text/markdown": [
       "Chipotle relocations\n",
       "(3)\n",
       "2023 4Q"
      ],
      "text/plain": [
       "<IPython.core.display.Markdown object>"
      ]
     },
     "metadata": {},
     "output_type": "display_data"
    },
    {
     "data": {
      "text/markdown": [
       "Non-Chipotle permanent closures\n",
       "-\n",
       "2023 4Q"
      ],
      "text/plain": [
       "<IPython.core.display.Markdown object>"
      ]
     },
     "metadata": {},
     "output_type": "display_data"
    },
    {
     "data": {
      "text/markdown": [
       "Number of restaurants at end of period\n",
       "3,437\n",
       "2023 Q4"
      ],
      "text/plain": [
       "<IPython.core.display.Markdown object>"
      ]
     },
     "metadata": {},
     "output_type": "display_data"
    },
    {
     "data": {
      "text/markdown": [
       "Average restaurant sales\n",
       "3018\n",
       "2023 Q4"
      ],
      "text/plain": [
       "<IPython.core.display.Markdown object>"
      ]
     },
     "metadata": {},
     "output_type": "display_data"
    },
    {
     "data": {
      "text/markdown": [
       "Average restaurant sales\n",
       "2972\n",
       "2023 Q3"
      ],
      "text/plain": [
       "<IPython.core.display.Markdown object>"
      ]
     },
     "metadata": {},
     "output_type": "display_data"
    },
    {
     "data": {
      "text/markdown": [
       "Average restaurant sales\n",
       "2941\n",
       "2023 Q2"
      ],
      "text/plain": [
       "<IPython.core.display.Markdown object>"
      ]
     },
     "metadata": {},
     "output_type": "display_data"
    },
    {
     "data": {
      "text/markdown": [
       "Average restaurant sales\n",
       "2892\n",
       "2023 Q1"
      ],
      "text/plain": [
       "<IPython.core.display.Markdown object>"
      ]
     },
     "metadata": {},
     "output_type": "display_data"
    },
    {
     "data": {
      "text/markdown": [
       "Average restaurant sales\n",
       "2824\n",
       "2022 Q4"
      ],
      "text/plain": [
       "<IPython.core.display.Markdown object>"
      ]
     },
     "metadata": {},
     "output_type": "display_data"
    },
    {
     "data": {
      "text/markdown": [
       "Comparable restaurant sales increase\n",
       "8.4%\n",
       "2023 Q4"
      ],
      "text/plain": [
       "<IPython.core.display.Markdown object>"
      ]
     },
     "metadata": {},
     "output_type": "display_data"
    },
    {
     "data": {
      "text/markdown": [
       "Comparable restaurant sales increase\n",
       "5.0%\n",
       "2023 Q3"
      ],
      "text/plain": [
       "<IPython.core.display.Markdown object>"
      ]
     },
     "metadata": {},
     "output_type": "display_data"
    },
    {
     "data": {
      "text/markdown": [
       "Comparable restaurant sales increase\n",
       "7.4%\n",
       "2023 Q2"
      ],
      "text/plain": [
       "<IPython.core.display.Markdown object>"
      ]
     },
     "metadata": {},
     "output_type": "display_data"
    },
    {
     "data": {
      "text/markdown": [
       "Comparable restaurant sales increase\n",
       "10.9%\n",
       "2023 Q1"
      ],
      "text/plain": [
       "<IPython.core.display.Markdown object>"
      ]
     },
     "metadata": {},
     "output_type": "display_data"
    },
    {
     "data": {
      "text/markdown": [
       "|  ﻿  |     |     |     |     |     |     |     |     |\n",
       "|  ---  |  ---  |  ---  |  ---  |  ---  |  ---  |  ---  |  ---  |  ---  |\n",
       "|  ﻿  |  Three months ended  |     |     |     |  Year ended  |     |     |     |\n",
       "|  ﻿  |  December 31,  |     |     |     |  December 31,  |     |     |     |\n",
       "|  ﻿  |  2023  |     |  2022  |     |  2023  |     |  2022  |     |\n",
       "|  Net income  |  $  |  282,086  |  $  |  223,727  |  $  |  1,228,737  |  $  |  899,101  |\n",
       "|  Non-GAAP adjustments:  |     |     |     |     |     |     |     |     |\n",
       "|  Impairment and exit costs:  |     |     |     |     |     |     |     |     |\n",
       "|  Restaurant asset impairment and other restaurant exit costs(1)  |     |  -  |     |  -  |     |  4,765  |     |  1,738  |\n",
       "|  Corporate asset impairment(2)  |     |  -  |     |  -  |     |  3,735  |     |  961  |\n",
       "|  Corporate Restructuring:  |     |     |     |     |     |     |     |     |\n",
       "|  Duplicate rent expense(3)  |     |  -  |     |  881  |     |  -  |     |  3,937  |\n",
       "|  Employee related and other restructuring costs(4)  |     |  -  |     |  -  |     |  4,829  |     |  -  |\n",
       "|  Legal proceedings(5)  |     |  (797)  |     |  3,718  |     |  (797)  |     |  9,516  |\n",
       "|  Stock-based compensation modification expense(6)  |     |  -  |     |  1,117  |     |  -  |     |  7,411  |\n",
       "|  Unrealized gain on equity investments(7)  |     |  -  |     |  -  |     |  -  |     |  (10,410)  |\n",
       "|  Separation costs(8)  |     |  -  |     |  -  |     |  -  |     |  3,538  |\n",
       "|  Accelerated depreciation(9)  |     |  6,388  |     |  -  |     |  6,388  |     |  -  |\n",
       "|  Total non-GAAP adjustments  |  $  |  5,591  |  $  |  5,716  |  $  |  18,920  |  $  |  16,691  |\n",
       "|  Tax effect of non-GAAP adjustments above(10)  |     |  (1,495)  |     |  1,951  |     |  (4,607)  |     |  4,003  |\n",
       "|  After tax impact of non-GAAP adjustments  |  $  |  4,096  |  $  |  7,667  |  $  |  14,313  |  $  |  20,694  |\n",
       "|  Adjusted net income  |  $  |  286,182  |  $  |  231,394  |  $  |  1,243,050  |  $  |  919,795  |\n",
       "|  ﻿  |     |     |     |     |     |     |     |     |\n",
       "|  Diluted weighted-average number of common shares outstanding  |     |  27,621  |     |  27,899  |     |  27,710  |     |  28,062  |\n",
       "|  Diluted earnings per share  |  $  |  10.21  |  $  |  8.02  |  $  |  44.34  |  $  |  32.04  |\n",
       "|  Adjusted diluted earnings per share  |  $  |  10.36  |  $  |  8.29  |  $  |  44.86  |  $  |  32.78  |\n",
       "|  ﻿  |     |     |     |     |     |     |     |     |\n",
       "|  (1) Operating lease asset and leasehold improvements, property, plant and equipment impairment charges and other expenses for restaurants due to closures, relocations, or underperformance.  |     |     |     |     |     |     |     |     |\n",
       "|  (2) Operating lease asset and leasehold improvements, property, plant and equipment impairment charges and other expenses for offices or other corporate assets.  |     |     |     |     |     |     |     |     |\n",
       "|  (3) Duplicate rent expense for the corporate headquarter relocation and office consolidation announced in May 2018.  |     |     |     |     |     |     |     |     |\n",
       "|  (4) Charges for third-party vendors, stock-based compensation, and employee severance related to the May 2023 optimization of our organizational structure.  |     |     |     |     |     |     |     |     |\n",
       "|  (5) Charges/(reduction) for estimated settlements for distinct legal matters that exceeded or are expected to exceed typical costs for these types of legal proceedings.  |     |     |     |     |     |     |     |     |\n",
       "|  (6) Charges for a COVID-19 related modification made in December 2020 to our 2018 performance shares.  |     |     |     |     |     |     |     |     |\n",
       "|  (7) Unrealized gain on equity investments based on a subsequent investment by an unrelated party in one of our investees, which subsequent investment represents an observable price change in an orderly transaction for a similar investment of the same issuer.  |     |     |     |     |     |     |     |     |\n",
       "|  (8) Expenses related to an employee separation, which consist of incremental compensation costs net of forfeitures of stock-based compensation.  |     |     |     |     |     |     |     |     |\n",
       "|  (9) Accelerated depreciation due to a reduction of the estimated useful lives for certain leasehold improvements.  |     |     |     |     |     |     |     |     |\n",
       "|  (10) Adjustments relate to the tax effect of non-GAAP adjustments, which were determined based on the nature of the underlying non-GAAP adjustments and their relevant jurisdictional tax rates.  |     |     |     |     |     |     |     |     |"
      ],
      "text/plain": [
       "<IPython.core.display.Markdown object>"
      ]
     },
     "metadata": {},
     "output_type": "display_data"
    },
    {
     "data": {
      "text/markdown": [
       "Net income\n",
       "282,086\n",
       "2023 Q4"
      ],
      "text/plain": [
       "<IPython.core.display.Markdown object>"
      ]
     },
     "metadata": {},
     "output_type": "display_data"
    },
    {
     "data": {
      "text/markdown": [
       "Net income\n",
       "223,727\n",
       "2022 Q4"
      ],
      "text/plain": [
       "<IPython.core.display.Markdown object>"
      ]
     },
     "metadata": {},
     "output_type": "display_data"
    },
    {
     "data": {
      "text/markdown": [
       "Net income\n",
       "1,228,737\n",
       "2023 Full Year"
      ],
      "text/plain": [
       "<IPython.core.display.Markdown object>"
      ]
     },
     "metadata": {},
     "output_type": "display_data"
    },
    {
     "data": {
      "text/markdown": [
       "Net income\n",
       "899,101\n",
       "2022 Full Year"
      ],
      "text/plain": [
       "<IPython.core.display.Markdown object>"
      ]
     },
     "metadata": {},
     "output_type": "display_data"
    },
    {
     "data": {
      "text/markdown": [
       "Total non-GAAP adjustments\n",
       "5591\n",
       "2023 Q4"
      ],
      "text/plain": [
       "<IPython.core.display.Markdown object>"
      ]
     },
     "metadata": {},
     "output_type": "display_data"
    },
    {
     "data": {
      "text/markdown": [
       "Total non-GAAP adjustments\n",
       "5716\n",
       "2022 Q4"
      ],
      "text/plain": [
       "<IPython.core.display.Markdown object>"
      ]
     },
     "metadata": {},
     "output_type": "display_data"
    },
    {
     "data": {
      "text/markdown": [
       "Tax effect of non-GAAP adjustments above\n",
       "(1,495)\n",
       "2023 Q4"
      ],
      "text/plain": [
       "<IPython.core.display.Markdown object>"
      ]
     },
     "metadata": {},
     "output_type": "display_data"
    },
    {
     "data": {
      "text/markdown": [
       "Tax effect of non-GAAP adjustments above\n",
       "1,951\n",
       "2022 Q4"
      ],
      "text/plain": [
       "<IPython.core.display.Markdown object>"
      ]
     },
     "metadata": {},
     "output_type": "display_data"
    },
    {
     "data": {
      "text/markdown": [
       "Tax effect of non-GAAP adjustments above\n",
       "(4,607)\n",
       "2023 Full Year"
      ],
      "text/plain": [
       "<IPython.core.display.Markdown object>"
      ]
     },
     "metadata": {},
     "output_type": "display_data"
    },
    {
     "data": {
      "text/markdown": [
       "Tax effect of non-GAAP adjustments above\n",
       "4,003\n",
       "2022 Full Year"
      ],
      "text/plain": [
       "<IPython.core.display.Markdown object>"
      ]
     },
     "metadata": {},
     "output_type": "display_data"
    },
    {
     "data": {
      "text/markdown": [
       "After tax impact of non-GAAP adjustments\n",
       "4096\n",
       "2023 Q4"
      ],
      "text/plain": [
       "<IPython.core.display.Markdown object>"
      ]
     },
     "metadata": {},
     "output_type": "display_data"
    },
    {
     "data": {
      "text/markdown": [
       "Adjusted net income\n",
       "286,182\n",
       "2023 Q4"
      ],
      "text/plain": [
       "<IPython.core.display.Markdown object>"
      ]
     },
     "metadata": {},
     "output_type": "display_data"
    },
    {
     "data": {
      "text/markdown": [
       "Diluted weighted-average number of common shares outstanding\n",
       "27621\n",
       "2023 Q4"
      ],
      "text/plain": [
       "<IPython.core.display.Markdown object>"
      ]
     },
     "metadata": {},
     "output_type": "display_data"
    },
    {
     "data": {
      "text/markdown": [
       "Diluted earnings per share\n",
       "10.21\n",
       "2023 Q4"
      ],
      "text/plain": [
       "<IPython.core.display.Markdown object>"
      ]
     },
     "metadata": {},
     "output_type": "display_data"
    },
    {
     "data": {
      "text/markdown": [
       "Adjusted diluted earnings per share\n",
       "10.21\n",
       "2023 Q4"
      ],
      "text/plain": [
       "<IPython.core.display.Markdown object>"
      ]
     },
     "metadata": {},
     "output_type": "display_data"
    },
    {
     "data": {
      "text/markdown": [
       "Adjusted diluted earnings per share\n",
       "8.02\n",
       "2022 Q4"
      ],
      "text/plain": [
       "<IPython.core.display.Markdown object>"
      ]
     },
     "metadata": {},
     "output_type": "display_data"
    },
    {
     "data": {
      "text/markdown": [
       "|     |  Three months ended  |     |     |     |  Year ended  |     |     |     |\n",
       "|  ---  |  ---  |  ---  |  ---  |  ---  |  ---  |  ---  |  ---  |  ---  |\n",
       "|  ﻿  |  December 31,  |     |     |     |  December 31,  |     |     |     |\n",
       "|  ﻿  |  2023  |     |  2022  |     |  2023  |     |  2022  |     |\n",
       "|  General and administrative expenses  |  $  |  169,247  |  $  |  135,073  |  $  |  633,584  |  $  |  564,191  |\n",
       "|  Non-GAAP adjustments:  |     |     |     |     |     |     |     |     |\n",
       "|  Restructuring expense(1)  |     |  -  |     |  (881)  |     |  (4,829)  |     |  (3,937)  |\n",
       "|  Legal proceedings(2)  |     |  797  |     |  (3,718)  |     |  797  |     |  (9,516)  |\n",
       "|  Stock-based compensation modification expense(3)  |     |  -  |     |  (1,117)  |     |  -  |     |  (7,411)  |\n",
       "|  Separation costs(4)  |     |  -  |     |  -  |     |  -  |     |  (3,538)  |\n",
       "|  Total non-GAAP adjustments  |  $  |  797  |  $  |  (5,716)  |  $  |  (4,032)  |  $  |  (24,402)  |\n",
       "|  Adjusted general and administrative expenses  |  $  |  170,044  |  $  |  129,357  |  $  |  629,552  |  $  |  539,789  |\n",
       "|  ﻿  |     |     |     |     |     |     |     |     |\n",
       "|  (1) For the year ended December 31, 2023, third-party vendor expense, stock-based compensation, and employee severance related to the May 2023 optimization of our organizational structure. For the three months and year ended December 31, 2022, charges relate to duplicate rent expense for office and restaurant closures announced in June 2018 due to the corporate restructuring and underperformance of $881 and $3,937, respectively.  |     |     |     |     |     |     |     |     |\n",
       "|  (2) Charges/(reduction) for estimated settlements for distinct legal matters that exceeded or are expected to exceed typical costs for these types of legal proceedings.  |     |     |     |     |     |     |     |     |\n",
       "|  (3) Charges for a COVID-19 related modification made in December 2020 to our 2018 performance shares.  |     |     |     |     |     |     |     |     |\n",
       "|  (4) Expenses related to an employee separation, which consisted of incremental compensation costs net of forfeitures of stock-based compensation.  |     |     |     |     |     |     |     |     |"
      ],
      "text/plain": [
       "<IPython.core.display.Markdown object>"
      ]
     },
     "metadata": {},
     "output_type": "display_data"
    },
    {
     "data": {
      "text/markdown": [
       "General and administrative expenses\n",
       "169247\n",
       "2023 Q4"
      ],
      "text/plain": [
       "<IPython.core.display.Markdown object>"
      ]
     },
     "metadata": {},
     "output_type": "display_data"
    },
    {
     "data": {
      "text/markdown": [
       "General and administrative expenses\n",
       "135073\n",
       "2022 Q4"
      ],
      "text/plain": [
       "<IPython.core.display.Markdown object>"
      ]
     },
     "metadata": {},
     "output_type": "display_data"
    },
    {
     "data": {
      "text/markdown": [
       "General and administrative expenses\n",
       "633584\n",
       "2023 Full Year"
      ],
      "text/plain": [
       "<IPython.core.display.Markdown object>"
      ]
     },
     "metadata": {},
     "output_type": "display_data"
    },
    {
     "data": {
      "text/markdown": [
       "General and administrative expenses\n",
       "564191\n",
       "2022 Full Year"
      ],
      "text/plain": [
       "<IPython.core.display.Markdown object>"
      ]
     },
     "metadata": {},
     "output_type": "display_data"
    },
    {
     "data": {
      "text/markdown": [
       "Restructuring expense\n",
       "-\n",
       "2023 4Q"
      ],
      "text/plain": [
       "<IPython.core.display.Markdown object>"
      ]
     },
     "metadata": {},
     "output_type": "display_data"
    },
    {
     "data": {
      "text/markdown": [
       "Restructuring expense\n",
       "(881)\n",
       "2022 4Q"
      ],
      "text/plain": [
       "<IPython.core.display.Markdown object>"
      ]
     },
     "metadata": {},
     "output_type": "display_data"
    },
    {
     "data": {
      "text/markdown": [
       "Restructuring expense\n",
       "(4,829)\n",
       "2023 Full Year"
      ],
      "text/plain": [
       "<IPython.core.display.Markdown object>"
      ]
     },
     "metadata": {},
     "output_type": "display_data"
    },
    {
     "data": {
      "text/markdown": [
       "Restructuring expense\n",
       "(3,937)\n",
       "2022 Full Year"
      ],
      "text/plain": [
       "<IPython.core.display.Markdown object>"
      ]
     },
     "metadata": {},
     "output_type": "display_data"
    },
    {
     "data": {
      "text/markdown": [
       "Legal proceedings\n",
       "797\n",
       "2023 Q4"
      ],
      "text/plain": [
       "<IPython.core.display.Markdown object>"
      ]
     },
     "metadata": {},
     "output_type": "display_data"
    },
    {
     "data": {
      "text/markdown": [
       "Legal proceedings\n",
       "(3,718)\n",
       "2023 Q4"
      ],
      "text/plain": [
       "<IPython.core.display.Markdown object>"
      ]
     },
     "metadata": {},
     "output_type": "display_data"
    },
    {
     "data": {
      "text/markdown": [
       "Legal proceedings\n",
       "-\n",
       "2023 Q4"
      ],
      "text/plain": [
       "<IPython.core.display.Markdown object>"
      ]
     },
     "metadata": {},
     "output_type": "display_data"
    },
    {
     "data": {
      "text/markdown": [
       "Legal proceedings\n",
       "-\n",
       "2023 Q4"
      ],
      "text/plain": [
       "<IPython.core.display.Markdown object>"
      ]
     },
     "metadata": {},
     "output_type": "display_data"
    },
    {
     "data": {
      "text/markdown": [
       "Legal proceedings\n",
       "797\n",
       "2023 Full Year"
      ],
      "text/plain": [
       "<IPython.core.display.Markdown object>"
      ]
     },
     "metadata": {},
     "output_type": "display_data"
    },
    {
     "data": {
      "text/markdown": [
       "Legal proceedings\n",
       "(9,516)\n",
       "2023 Full Year"
      ],
      "text/plain": [
       "<IPython.core.display.Markdown object>"
      ]
     },
     "metadata": {},
     "output_type": "display_data"
    },
    {
     "data": {
      "text/markdown": [
       "Legal proceedings\n",
       "-\n",
       "2023 Full Year"
      ],
      "text/plain": [
       "<IPython.core.display.Markdown object>"
      ]
     },
     "metadata": {},
     "output_type": "display_data"
    },
    {
     "data": {
      "text/markdown": [
       "Legal proceedings\n",
       "(3,937)\n",
       "2023 Full Year"
      ],
      "text/plain": [
       "<IPython.core.display.Markdown object>"
      ]
     },
     "metadata": {},
     "output_type": "display_data"
    },
    {
     "data": {
      "text/markdown": [
       "Stock-based compensation modification expense\n",
       "-\n",
       "2023 4Q"
      ],
      "text/plain": [
       "<IPython.core.display.Markdown object>"
      ]
     },
     "metadata": {},
     "output_type": "display_data"
    },
    {
     "data": {
      "text/markdown": [
       "Stock-based compensation modification expense\n",
       "(1,117)\n",
       "2022 4Q"
      ],
      "text/plain": [
       "<IPython.core.display.Markdown object>"
      ]
     },
     "metadata": {},
     "output_type": "display_data"
    },
    {
     "data": {
      "text/markdown": [
       "Stock-based compensation modification expense\n",
       "-\n",
       "2023 4Q"
      ],
      "text/plain": [
       "<IPython.core.display.Markdown object>"
      ]
     },
     "metadata": {},
     "output_type": "display_data"
    },
    {
     "data": {
      "text/markdown": [
       "Stock-based compensation modification expense\n",
       "-\n",
       "2022 4Q"
      ],
      "text/plain": [
       "<IPython.core.display.Markdown object>"
      ]
     },
     "metadata": {},
     "output_type": "display_data"
    },
    {
     "data": {
      "text/markdown": [
       "Separation costs\n",
       "-\n",
       "2023 4Q"
      ],
      "text/plain": [
       "<IPython.core.display.Markdown object>"
      ]
     },
     "metadata": {},
     "output_type": "display_data"
    },
    {
     "data": {
      "text/markdown": [
       "Separation costs\n",
       "-\n",
       "2023 4Q"
      ],
      "text/plain": [
       "<IPython.core.display.Markdown object>"
      ]
     },
     "metadata": {},
     "output_type": "display_data"
    },
    {
     "data": {
      "text/markdown": [
       "Separation costs\n",
       "-\n",
       "2023 4Q"
      ],
      "text/plain": [
       "<IPython.core.display.Markdown object>"
      ]
     },
     "metadata": {},
     "output_type": "display_data"
    },
    {
     "data": {
      "text/markdown": [
       "Separation costs\n",
       "-\n",
       "2023 4Q"
      ],
      "text/plain": [
       "<IPython.core.display.Markdown object>"
      ]
     },
     "metadata": {},
     "output_type": "display_data"
    },
    {
     "data": {
      "text/markdown": [
       "Total non-GAAP adjustments\n",
       "797\n",
       "2023 Q4"
      ],
      "text/plain": [
       "<IPython.core.display.Markdown object>"
      ]
     },
     "metadata": {},
     "output_type": "display_data"
    },
    {
     "data": {
      "text/markdown": [
       "Total non-GAAP adjustments\n",
       "(5716)\n",
       "2023 Q4"
      ],
      "text/plain": [
       "<IPython.core.display.Markdown object>"
      ]
     },
     "metadata": {},
     "output_type": "display_data"
    },
    {
     "data": {
      "text/markdown": [
       "Total non-GAAP adjustments\n",
       "(4032)\n",
       "2023 Full Year"
      ],
      "text/plain": [
       "<IPython.core.display.Markdown object>"
      ]
     },
     "metadata": {},
     "output_type": "display_data"
    },
    {
     "data": {
      "text/markdown": [
       "Adjusted general and administrative expenses\n",
       "170044\n",
       "2023 Q4"
      ],
      "text/plain": [
       "<IPython.core.display.Markdown object>"
      ]
     },
     "metadata": {},
     "output_type": "display_data"
    },
    {
     "data": {
      "text/markdown": [
       "|  ﻿  |     |     |     |     |     |     |     |     |\n",
       "|  ---  |  ---  |  ---  |  ---  |  ---  |  ---  |  ---  |  ---  |  ---  |\n",
       "|  ﻿  |  Three months ended  |     |     |     |  Year ended  |     |     |     |\n",
       "|  ﻿  |  December 31,  |     |     |     |  December 31,  |     |     |     |\n",
       "|  ﻿  |  2023  |     |  2022  |     |  2023  |     |  2022  |     |\n",
       "|  Depreciation and amortization  |  $  |  85,492  |  $  |  74,012  |  $  |  319,394  |  $  |  286,826  |\n",
       "|  Non-GAAP adjustments:  |     |     |     |     |     |     |     |     |\n",
       "|  Accelerated depreciation(1)  |     |  (6,388)  |     |  -  |     |  (6,388)  |     |  -  |\n",
       "|  Total non-GAAP adjustments  |  $  |  (6,388)  |  $  |  -  |  $  |  (6,388)  |  $  |  -  |\n",
       "|  Adjusted depreciation and amortization  |  $  |  79,104  |  $  |  74,012  |  $  |  313,006  |  $  |  286,826  |\n",
       "|  Adjusted depreciation and amortization as a percent of total revenue  |     |  3.1%  |     |  3.4%  |     |  3.2%  |     |  3.3%  |\n",
       "|  ﻿  |     |     |     |     |     |     |     |     |\n",
       "|  (1) Accelerated depreciation due to a reduction of the estimated useful lives for certain leasehold improvements.  |     |     |     |     |     |     |     |     |"
      ],
      "text/plain": [
       "<IPython.core.display.Markdown object>"
      ]
     },
     "metadata": {},
     "output_type": "display_data"
    },
    {
     "data": {
      "text/markdown": [
       "Depreciation and amortization\n",
       "85,492\n",
       "2023 Q4"
      ],
      "text/plain": [
       "<IPython.core.display.Markdown object>"
      ]
     },
     "metadata": {},
     "output_type": "display_data"
    },
    {
     "data": {
      "text/markdown": [
       "Depreciation and amortization\n",
       "74,012\n",
       "2022 Q4"
      ],
      "text/plain": [
       "<IPython.core.display.Markdown object>"
      ]
     },
     "metadata": {},
     "output_type": "display_data"
    },
    {
     "data": {
      "text/markdown": [
       "Depreciation and amortization\n",
       "319,394\n",
       "2023 Full Year"
      ],
      "text/plain": [
       "<IPython.core.display.Markdown object>"
      ]
     },
     "metadata": {},
     "output_type": "display_data"
    },
    {
     "data": {
      "text/markdown": [
       "Depreciation and amortization\n",
       "286,826\n",
       "2022 Full Year"
      ],
      "text/plain": [
       "<IPython.core.display.Markdown object>"
      ]
     },
     "metadata": {},
     "output_type": "display_data"
    },
    {
     "data": {
      "text/markdown": [
       "Accelerated depreciation(1)\n",
       "(6,388)\n",
       "2023 Q4"
      ],
      "text/plain": [
       "<IPython.core.display.Markdown object>"
      ]
     },
     "metadata": {},
     "output_type": "display_data"
    },
    {
     "data": {
      "text/markdown": [
       "Total non-GAAP adjustments\n",
       "(6,388)\n",
       "2023 Q4"
      ],
      "text/plain": [
       "<IPython.core.display.Markdown object>"
      ]
     },
     "metadata": {},
     "output_type": "display_data"
    },
    {
     "data": {
      "text/markdown": [
       "Total non-GAAP adjustments\n",
       "-\n",
       "2023 Q4"
      ],
      "text/plain": [
       "<IPython.core.display.Markdown object>"
      ]
     },
     "metadata": {},
     "output_type": "display_data"
    },
    {
     "data": {
      "text/markdown": [
       "Total non-GAAP adjustments\n",
       "(6,388)\n",
       "2023 Full Year"
      ],
      "text/plain": [
       "<IPython.core.display.Markdown object>"
      ]
     },
     "metadata": {},
     "output_type": "display_data"
    },
    {
     "data": {
      "text/markdown": [
       "Total non-GAAP adjustments\n",
       "-\n",
       "2023 Full Year"
      ],
      "text/plain": [
       "<IPython.core.display.Markdown object>"
      ]
     },
     "metadata": {},
     "output_type": "display_data"
    },
    {
     "data": {
      "text/markdown": [
       "Adjusted depreciation and amortization\n",
       "85,492\n",
       "2023 Q4"
      ],
      "text/plain": [
       "<IPython.core.display.Markdown object>"
      ]
     },
     "metadata": {},
     "output_type": "display_data"
    },
    {
     "data": {
      "text/markdown": [
       "Adjusted depreciation and amortization\n",
       "74,012\n",
       "2022 Q4"
      ],
      "text/plain": [
       "<IPython.core.display.Markdown object>"
      ]
     },
     "metadata": {},
     "output_type": "display_data"
    },
    {
     "data": {
      "text/markdown": [
       "Adjusted depreciation and amortization\n",
       "319,394\n",
       "2023 Full Year"
      ],
      "text/plain": [
       "<IPython.core.display.Markdown object>"
      ]
     },
     "metadata": {},
     "output_type": "display_data"
    },
    {
     "data": {
      "text/markdown": [
       "Adjusted depreciation and amortization\n",
       "286,826\n",
       "2022 Full Year"
      ],
      "text/plain": [
       "<IPython.core.display.Markdown object>"
      ]
     },
     "metadata": {},
     "output_type": "display_data"
    },
    {
     "data": {
      "text/markdown": [
       "Adjusted depreciation and amortization as a percent of total revenue\n",
       "3.1%\n",
       "(Expected) 2023 Q4"
      ],
      "text/plain": [
       "<IPython.core.display.Markdown object>"
      ]
     },
     "metadata": {},
     "output_type": "display_data"
    },
    {
     "data": {
      "text/markdown": [
       "|  ﻿  |     |     |     |     |     |     |     |     |\n",
       "|  ---  |  ---  |  ---  |  ---  |  ---  |  ---  |  ---  |  ---  |  ---  |\n",
       "|  ﻿  |  Three months ended  |     |     |     |  Year ended  |     |     |     |\n",
       "|  ﻿  |  December 31,  |     |     |     |  December 31,  |     |     |     |\n",
       "|  ﻿  |  2023  |     |  2022  |     |  2023  |     |  2022  |     |\n",
       "|  Effective income tax rate  |  26.2  |  %  |  26.3  |  %  |  24.2  |  %  |  23.9  |  %  |\n",
       "|  Tax impact of non-GAAP adjustments(1)  |  -  |     |  (1.2)  |     |  -  |     |  (0.7)  |     |\n",
       "|  Adjusted effective income tax rate  |  26.2  |  %  |  25.1  |  %  |  24.2  |  %  |  23.2  |  %  |\n",
       "|  ﻿  |     |     |     |     |     |     |     |     |\n",
       "|  (1) Adjustments related to the tax effect of non-GAAP adjustments, which were determined based on the nature of the underlying non-GAAP adjustments and their relevant jurisdictional tax rates.  |     |     |     |     |     |     |     |     |"
      ],
      "text/plain": [
       "<IPython.core.display.Markdown object>"
      ]
     },
     "metadata": {},
     "output_type": "display_data"
    },
    {
     "data": {
      "text/markdown": [
       "Effective income tax rate\n",
       "26.2\n",
       "2023 Q4"
      ],
      "text/plain": [
       "<IPython.core.display.Markdown object>"
      ]
     },
     "metadata": {},
     "output_type": "display_data"
    },
    {
     "data": {
      "text/markdown": [
       "Effective income tax rate\n",
       "26.3\n",
       "2022 Q4"
      ],
      "text/plain": [
       "<IPython.core.display.Markdown object>"
      ]
     },
     "metadata": {},
     "output_type": "display_data"
    },
    {
     "data": {
      "text/markdown": [
       "Effective income tax rate\n",
       "24.2\n",
       "2023 Full Year"
      ],
      "text/plain": [
       "<IPython.core.display.Markdown object>"
      ]
     },
     "metadata": {},
     "output_type": "display_data"
    },
    {
     "data": {
      "text/markdown": [
       "Effective income tax rate\n",
       "23.9\n",
       "2022 Full Year"
      ],
      "text/plain": [
       "<IPython.core.display.Markdown object>"
      ]
     },
     "metadata": {},
     "output_type": "display_data"
    },
    {
     "data": {
      "text/markdown": [
       "Tax impact of non-GAAP adjustments\n",
       "-1.2\n",
       "2022 Q4"
      ],
      "text/plain": [
       "<IPython.core.display.Markdown object>"
      ]
     },
     "metadata": {},
     "output_type": "display_data"
    },
    {
     "data": {
      "text/markdown": [
       "Tax impact of non-GAAP adjustments\n",
       "-0.7\n",
       "2022 Full Year"
      ],
      "text/plain": [
       "<IPython.core.display.Markdown object>"
      ]
     },
     "metadata": {},
     "output_type": "display_data"
    },
    {
     "data": {
      "text/markdown": [
       "Adjusted effective income tax rate\n",
       "26.2\n",
       "2023 Q4"
      ],
      "text/plain": [
       "<IPython.core.display.Markdown object>"
      ]
     },
     "metadata": {},
     "output_type": "display_data"
    },
    {
     "data": {
      "text/markdown": [
       "Adjusted effective income tax rate\n",
       "25.1\n",
       "2023 Full Year"
      ],
      "text/plain": [
       "<IPython.core.display.Markdown object>"
      ]
     },
     "metadata": {},
     "output_type": "display_data"
    },
    {
     "data": {
      "text/markdown": [
       "|  ﻿  |     |     |     |     |     |     |     |     |\n",
       "|  ---  |  ---  |  ---  |  ---  |  ---  |  ---  |  ---  |  ---  |  ---  |\n",
       "|  ﻿  |  Three months ended December 31,  |     |     |     |     |     |     |     |\n",
       "|  ﻿  |  2023  |     |  Percent of total revenue  |     |  2022  |     |  Percent of total revenue  |     |\n",
       "|  Income from operations  |  $  |  363,447  |  14.4  |  %  |  $  |  296,331  |  13.6  |  %  |\n",
       "|  Non-GAAP Adjustments:  |     |     |     |     |     |     |     |     |\n",
       "|  General and administrative expenses  |     |  169,247  |  6.7  |     |     |  135,073  |  6.2  |     |\n",
       "|  Depreciation and amortization  |     |  85,492  |  3.4  |     |     |  74,012  |  3.4  |     |\n",
       "|  Pre-opening costs  |     |  13,590  |  0.5  |     |     |  11,341  |  0.5  |     |\n",
       "|  Impairment, closure costs, and asset disposals  |     |  6,528  |  0.3  |     |     |  5,785  |  0.3  |     |\n",
       "|  Total non-GAAP Adjustments  |  $  |  274,857  |  10.9  |  %  |  $  |  226,211  |  10.4  |  %  |\n",
       "|  Restaurant level operating margin  |  $  |  638,304  |  25.4  |  %  |  $  |  522,542  |  24.0  |  %  |"
      ],
      "text/plain": [
       "<IPython.core.display.Markdown object>"
      ]
     },
     "metadata": {},
     "output_type": "display_data"
    },
    {
     "data": {
      "text/markdown": [
       "Income from operations\n",
       "363447\n",
       "2023 Q4"
      ],
      "text/plain": [
       "<IPython.core.display.Markdown object>"
      ]
     },
     "metadata": {},
     "output_type": "display_data"
    },
    {
     "data": {
      "text/markdown": [
       "Percent of total revenue (Income from operations)\n",
       "14.4\n",
       "2023 Q4"
      ],
      "text/plain": [
       "<IPython.core.display.Markdown object>"
      ]
     },
     "metadata": {},
     "output_type": "display_data"
    },
    {
     "data": {
      "text/markdown": [
       "Percent of total revenue (Income from operations)\n",
       "13.6\n",
       "2022 Q4"
      ],
      "text/plain": [
       "<IPython.core.display.Markdown object>"
      ]
     },
     "metadata": {},
     "output_type": "display_data"
    },
    {
     "data": {
      "text/markdown": [
       "General and administrative expenses\n",
       "169247\n",
       "2023 Q4"
      ],
      "text/plain": [
       "<IPython.core.display.Markdown object>"
      ]
     },
     "metadata": {},
     "output_type": "display_data"
    },
    {
     "data": {
      "text/markdown": [
       "General and administrative expenses\n",
       "135073\n",
       "2022 Q4"
      ],
      "text/plain": [
       "<IPython.core.display.Markdown object>"
      ]
     },
     "metadata": {},
     "output_type": "display_data"
    },
    {
     "data": {
      "text/markdown": [
       "Depreciation and amortization\n",
       "85,492\n",
       "2023 Q4"
      ],
      "text/plain": [
       "<IPython.core.display.Markdown object>"
      ]
     },
     "metadata": {},
     "output_type": "display_data"
    },
    {
     "data": {
      "text/markdown": [
       "Depreciation and amortization\n",
       "74,012\n",
       "2022 Q4"
      ],
      "text/plain": [
       "<IPython.core.display.Markdown object>"
      ]
     },
     "metadata": {},
     "output_type": "display_data"
    },
    {
     "data": {
      "text/markdown": [
       "Pre-opening costs\n",
       "13590\n",
       "2023 4Q"
      ],
      "text/plain": [
       "<IPython.core.display.Markdown object>"
      ]
     },
     "metadata": {},
     "output_type": "display_data"
    },
    {
     "data": {
      "text/markdown": [
       "Impairment, closure costs, and asset disposals\n",
       "6528\n",
       "2023 4Q"
      ],
      "text/plain": [
       "<IPython.core.display.Markdown object>"
      ]
     },
     "metadata": {},
     "output_type": "display_data"
    },
    {
     "data": {
      "text/markdown": [
       "Total non-GAAP Adjustments\n",
       "274,857\n",
       "2023 4Q"
      ],
      "text/plain": [
       "<IPython.core.display.Markdown object>"
      ]
     },
     "metadata": {},
     "output_type": "display_data"
    },
    {
     "data": {
      "text/markdown": [
       "Restaurant level operating margin\n",
       "638,304\n",
       "2023 4Q"
      ],
      "text/plain": [
       "<IPython.core.display.Markdown object>"
      ]
     },
     "metadata": {},
     "output_type": "display_data"
    },
    {
     "data": {
      "text/markdown": [
       "Percent of total revenue (Restaurant level operating margin)\n",
       "14.4\n",
       "2023 4Q"
      ],
      "text/plain": [
       "<IPython.core.display.Markdown object>"
      ]
     },
     "metadata": {},
     "output_type": "display_data"
    },
    {
     "data": {
      "text/markdown": [
       "Percent of total revenue (Restaurant level operating margin)\n",
       "13.6\n",
       "2022 4Q"
      ],
      "text/plain": [
       "<IPython.core.display.Markdown object>"
      ]
     },
     "metadata": {},
     "output_type": "display_data"
    },
    {
     "data": {
      "text/markdown": [
       "|  ﻿  |     |     |     |     |     |     |     |     |\n",
       "|  ---  |  ---  |  ---  |  ---  |  ---  |  ---  |  ---  |  ---  |  ---  |\n",
       "|  ﻿  |  Year ended December 31,  |     |     |     |     |     |     |     |\n",
       "|  ﻿  |  2023  |     |  Percent of total revenue  |     |  2022  |     |  Percent of total revenue  |     |\n",
       "|  Income from operations  |  $  |  1,557,813  |  15.8  |  %  |  $  |  1,160,403  |  13.4  |  %  |\n",
       "|  Non-GAAP Adjustments:  |     |     |     |     |     |     |     |     |\n",
       "|  General and administrative expenses  |     |  633,584  |  6.4  |     |     |  564,191  |  6.5  |     |\n",
       "|  Depreciation and amortization  |     |  319,394  |  3.2  |     |     |  286,826  |  3.3  |     |\n",
       "|  Pre-opening costs  |     |  36,931  |  0.4  |     |     |  29,560  |  0.3  |     |\n",
       "|  Impairment, closure costs, and asset disposals  |     |  38,370  |  0.4  |     |     |  21,139  |  0.2  |     |\n",
       "|  Total non-GAAP Adjustments  |  $  |  1,028,279  |  10.4  |  %  |  $  |  901,716  |  10.4  |  %  |\n",
       "|  Restaurant level operating margin  |  $  |  2,586,092  |  26.2  |  %  |  $  |  2,062,119  |  23.9  |  %  |"
      ],
      "text/plain": [
       "<IPython.core.display.Markdown object>"
      ]
     },
     "metadata": {},
     "output_type": "display_data"
    },
    {
     "data": {
      "text/markdown": [
       "Income from operations\n",
       "1,557,813\n",
       "2023 Q4"
      ],
      "text/plain": [
       "<IPython.core.display.Markdown object>"
      ]
     },
     "metadata": {},
     "output_type": "display_data"
    },
    {
     "data": {
      "text/markdown": [
       "Percent of total revenue (Income from operations)\n",
       "15.8\n",
       "2023 4Q"
      ],
      "text/plain": [
       "<IPython.core.display.Markdown object>"
      ]
     },
     "metadata": {},
     "output_type": "display_data"
    },
    {
     "data": {
      "text/markdown": [
       "Percent of total revenue (Income from operations)\n",
       "13.4\n",
       "2022 4Q"
      ],
      "text/plain": [
       "<IPython.core.display.Markdown object>"
      ]
     },
     "metadata": {},
     "output_type": "display_data"
    },
    {
     "data": {
      "text/markdown": [
       "General and administrative expenses\n",
       "633584\n",
       "2023 Q4"
      ],
      "text/plain": [
       "<IPython.core.display.Markdown object>"
      ]
     },
     "metadata": {},
     "output_type": "display_data"
    },
    {
     "data": {
      "text/markdown": [
       "General and administrative expenses\n",
       "564191\n",
       "2022 Q4"
      ],
      "text/plain": [
       "<IPython.core.display.Markdown object>"
      ]
     },
     "metadata": {},
     "output_type": "display_data"
    },
    {
     "data": {
      "text/markdown": [
       "Depreciation and amortization\n",
       "319394\n",
       "2023 Q4"
      ],
      "text/plain": [
       "<IPython.core.display.Markdown object>"
      ]
     },
     "metadata": {},
     "output_type": "display_data"
    },
    {
     "data": {
      "text/markdown": [
       "Depreciation and amortization\n",
       "286826\n",
       "2022 Q4"
      ],
      "text/plain": [
       "<IPython.core.display.Markdown object>"
      ]
     },
     "metadata": {},
     "output_type": "display_data"
    },
    {
     "data": {
      "text/markdown": [
       "Pre-opening costs\n",
       "36,931\n",
       "2023 Q4"
      ],
      "text/plain": [
       "<IPython.core.display.Markdown object>"
      ]
     },
     "metadata": {},
     "output_type": "display_data"
    },
    {
     "data": {
      "text/markdown": [
       "Pre-opening costs\n",
       "29,560\n",
       "2022 Q4"
      ],
      "text/plain": [
       "<IPython.core.display.Markdown object>"
      ]
     },
     "metadata": {},
     "output_type": "display_data"
    },
    {
     "data": {
      "text/markdown": [
       "Impairment, closure costs, and asset disposals\n",
       "38370\n",
       "2023 Q4"
      ],
      "text/plain": [
       "<IPython.core.display.Markdown object>"
      ]
     },
     "metadata": {},
     "output_type": "display_data"
    },
    {
     "data": {
      "text/markdown": [
       "Total non-GAAP Adjustments\n",
       "1028279\n",
       "2023 4Q"
      ],
      "text/plain": [
       "<IPython.core.display.Markdown object>"
      ]
     },
     "metadata": {},
     "output_type": "display_data"
    },
    {
     "data": {
      "text/markdown": [
       "Restaurant level operating margin\n",
       "2586092\n",
       "2023 4Q"
      ],
      "text/plain": [
       "<IPython.core.display.Markdown object>"
      ]
     },
     "metadata": {},
     "output_type": "display_data"
    }
   ],
   "source": [
    "import json\n",
    "\n",
    "with open(\"result/chipole_improved_results_classification.jsonl\", \"r\") as f:\n",
    "    data = f.readlines()\n",
    "\n",
    "prev_data = None\n",
    "for row in data:\n",
    "    row = json.loads(row)\n",
    "    if row['reference'] != prev_data:\n",
    "        prev_data = row['reference']\n",
    "        display_markdown_table(prev_data)\n",
    "        display_markdown_table(row['title'] + \"\\n\" + row['value'] + \"\\n\" + row['period'])\n",
    "    else:\n",
    "        display_markdown_table(row['title'] + \"\\n\" + row['value'] + \"\\n\" + row['period'])"
   ]
  }
 ],
 "metadata": {
  "kernelspec": {
   "display_name": "extract_agent",
   "language": "python",
   "name": "python3"
  },
  "language_info": {
   "codemirror_mode": {
    "name": "ipython",
    "version": 3
   },
   "file_extension": ".py",
   "mimetype": "text/x-python",
   "name": "python",
   "nbconvert_exporter": "python",
   "pygments_lexer": "ipython3",
   "version": "3.11.11"
  }
 },
 "nbformat": 4,
 "nbformat_minor": 2
}
